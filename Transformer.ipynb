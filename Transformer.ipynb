{
 "cells": [
  {
   "cell_type": "code",
   "metadata": {
    "collapsed": true,
    "ExecuteTime": {
     "end_time": "2024-04-12T15:49:38.250450Z",
     "start_time": "2024-04-12T15:49:38.243637Z"
    }
   },
   "source": [
    "import tensorflow as tf\n",
    "import transformers\n",
    "import numpy as np\n",
    "import pandas as pd\n",
    "\n",
    "# for plotting\n",
    "import matplotlib.pyplot as plt\n",
    "\n",
    "# if you want, not required\n",
    "import seaborn as sns\n",
    "\n",
    "import pandas as pd\n",
    "from sklearn.model_selection import train_test_split\n",
    "import utils as utils\n",
    "\n",
    "import numpy as np\n",
    "import keras\n",
    "from keras import layers\n",
    "\n",
    "from keras.preprocessing.text import Tokenizer\n",
    "from tensorflow.keras.preprocessing.sequence import pad_sequences\n",
    "from keras.utils import to_categorical\n",
    "\n",
    "from keras.models import Sequential\n",
    "from keras.layers import LSTM, Dense\n",
    "\n",
    "from gensim.models import Word2Vec\n",
    "\n",
    "from tensorflow.keras.callbacks import Callback, ModelCheckpoint\n",
    "from sklearn.metrics import precision_score, recall_score, f1_score\n",
    "\n",
    "import matplotlib.pyplot as plt"
   ],
   "outputs": [],
   "execution_count": 110
  },
  {
   "metadata": {},
   "cell_type": "markdown",
   "source": []
  },
  {
   "metadata": {
    "ExecuteTime": {
     "end_time": "2024-04-12T15:49:38.319867Z",
     "start_time": "2024-04-12T15:49:38.306511Z"
    }
   },
   "cell_type": "code",
   "source": [
    "# Version Info\n",
    "print(\"Tensforflow Version : \" ,tf.__version__)\n",
    "print(\"Transformers Version : \" ,transformers.__version__)"
   ],
   "outputs": [
    {
     "name": "stdout",
     "output_type": "stream",
     "text": [
      "Tensforflow Version :  2.14.0\n",
      "Transformers Version :  4.35.0\n"
     ]
    }
   ],
   "execution_count": 111
  },
  {
   "metadata": {
    "ExecuteTime": {
     "end_time": "2024-04-12T15:49:38.361541Z",
     "start_time": "2024-04-12T15:49:38.319867Z"
    }
   },
   "cell_type": "code",
   "source": [
    "# make a data folder\n",
    "!mkdir -p data\n",
    "\n",
    "# download the data\n",
    "out_path = tf.keras.utils.get_file(origin=\"https://archive.ics.uci.edu/static/public/331/sentiment+labelled+sentences.zip\",extract=True,cache_dir=\"data\")\n",
    "print(\"\\n\",out_path)"
   ],
   "outputs": [
    {
     "name": "stdout",
     "output_type": "stream",
     "text": [
      "\n",
      " data\\datasets\\sentiment+labelled+sentences.zip\n"
     ]
    },
    {
     "name": "stderr",
     "output_type": "stream",
     "text": [
      "A subdirectory or file -p already exists.\n",
      "Error occurred while processing: -p.\n",
      "A subdirectory or file data already exists.\n",
      "Error occurred while processing: data.\n"
     ]
    }
   ],
   "execution_count": 112
  },
  {
   "metadata": {
    "ExecuteTime": {
     "end_time": "2024-04-12T15:49:41.052617Z",
     "start_time": "2024-04-12T15:49:38.361541Z"
    }
   },
   "cell_type": "code",
   "source": [
    "# Read the CSV file into a DataFrame\n",
    "df = pd.read_csv('text_entailment_dataset/train.csv')\n",
    "\n",
    "# Shuffle the DataFrame\n",
    "df = df.sample(frac=1, random_state=42)  # Shuffle with fixed seed for reproducibility\n",
    "\n",
    "# Split the data into training and validation sets\n",
    "train_df, validation_df = train_test_split(df, test_size=0.1, random_state=42)\n",
    "\n",
    "# Write the training and validation DataFrames to separate CSV files\n",
    "train_df.to_csv('text_entailment_dataset/train_data.csv', index=False)\n",
    "validation_df.to_csv('text_entailment_dataset/validation_data.csv', index=False)\n",
    "\n",
    "train_dataset = df = pd.read_csv('text_entailment_dataset/train_data.csv')\n",
    "validation_dataset = df = pd.read_csv('text_entailment_dataset/validation_data.csv')\n",
    "#test_dataset = df = pd.read_csv('text_entailment_dataset/test_data.csv')\n",
    "\n",
    "train_dataset.head()\n"
   ],
   "outputs": [
    {
     "data": {
      "text/plain": [
       "                                             premise  \\\n",
       "0                           a dog chases a red ball.   \n",
       "1  A carefully dressed you boy is nonverbally com...   \n",
       "2           A black and white dog jumps in the snow.   \n",
       "3  A man singing and playing guitar on a busy sid...   \n",
       "4       A man holding a rifle next to his brown dog.   \n",
       "\n",
       "                                          hypothesis  label  \n",
       "0                       A cute dog paly with a ball.      0  \n",
       "1  A young boy dressed in a potato sack is trying...      2  \n",
       "2                The dogs are leaping into the snow.      0  \n",
       "3             A man is performing on a city sidewalk      0  \n",
       "4                          A man is climbing a tree.      2  "
      ],
      "text/html": [
       "<div>\n",
       "<style scoped>\n",
       "    .dataframe tbody tr th:only-of-type {\n",
       "        vertical-align: middle;\n",
       "    }\n",
       "\n",
       "    .dataframe tbody tr th {\n",
       "        vertical-align: top;\n",
       "    }\n",
       "\n",
       "    .dataframe thead th {\n",
       "        text-align: right;\n",
       "    }\n",
       "</style>\n",
       "<table border=\"1\" class=\"dataframe\">\n",
       "  <thead>\n",
       "    <tr style=\"text-align: right;\">\n",
       "      <th></th>\n",
       "      <th>premise</th>\n",
       "      <th>hypothesis</th>\n",
       "      <th>label</th>\n",
       "    </tr>\n",
       "  </thead>\n",
       "  <tbody>\n",
       "    <tr>\n",
       "      <th>0</th>\n",
       "      <td>a dog chases a red ball.</td>\n",
       "      <td>A cute dog paly with a ball.</td>\n",
       "      <td>0</td>\n",
       "    </tr>\n",
       "    <tr>\n",
       "      <th>1</th>\n",
       "      <td>A carefully dressed you boy is nonverbally com...</td>\n",
       "      <td>A young boy dressed in a potato sack is trying...</td>\n",
       "      <td>2</td>\n",
       "    </tr>\n",
       "    <tr>\n",
       "      <th>2</th>\n",
       "      <td>A black and white dog jumps in the snow.</td>\n",
       "      <td>The dogs are leaping into the snow.</td>\n",
       "      <td>0</td>\n",
       "    </tr>\n",
       "    <tr>\n",
       "      <th>3</th>\n",
       "      <td>A man singing and playing guitar on a busy sid...</td>\n",
       "      <td>A man is performing on a city sidewalk</td>\n",
       "      <td>0</td>\n",
       "    </tr>\n",
       "    <tr>\n",
       "      <th>4</th>\n",
       "      <td>A man holding a rifle next to his brown dog.</td>\n",
       "      <td>A man is climbing a tree.</td>\n",
       "      <td>2</td>\n",
       "    </tr>\n",
       "  </tbody>\n",
       "</table>\n",
       "</div>"
      ]
     },
     "execution_count": 113,
     "metadata": {},
     "output_type": "execute_result"
    }
   ],
   "execution_count": 113
  },
  {
   "metadata": {
    "ExecuteTime": {
     "end_time": "2024-04-12T15:49:41.057520Z",
     "start_time": "2024-04-12T15:49:41.052617Z"
    }
   },
   "cell_type": "code",
   "source": [
    "train_dataset.shape"
   ],
   "outputs": [
    {
     "data": {
      "text/plain": [
       "(494424, 3)"
      ]
     },
     "execution_count": 114,
     "metadata": {},
     "output_type": "execute_result"
    }
   ],
   "execution_count": 114
  },
  {
   "metadata": {
    "ExecuteTime": {
     "end_time": "2024-04-12T15:49:41.096720Z",
     "start_time": "2024-04-12T15:49:41.057520Z"
    }
   },
   "cell_type": "code",
   "source": [
    "validation_dataset.head()"
   ],
   "outputs": [
    {
     "data": {
      "text/plain": [
       "                                             premise  \\\n",
       "0  A young couple looking at different types and ...   \n",
       "1  A man in a purple had climbs a rocky wall with...   \n",
       "2  A group of friends playing cards and trying to...   \n",
       "3             People looking at fish at an aquarium.   \n",
       "4  An older lady blowing out a 9 and a 0 number c...   \n",
       "\n",
       "                             hypothesis  label  \n",
       "0                   a couple is looking      0  \n",
       "1         A man is going to the temple.      2  \n",
       "2   The people are playing a card game.      0  \n",
       "3               People looking at fish.      0  \n",
       "4  A woman drinks coffee while driving.      2  "
      ],
      "text/html": [
       "<div>\n",
       "<style scoped>\n",
       "    .dataframe tbody tr th:only-of-type {\n",
       "        vertical-align: middle;\n",
       "    }\n",
       "\n",
       "    .dataframe tbody tr th {\n",
       "        vertical-align: top;\n",
       "    }\n",
       "\n",
       "    .dataframe thead th {\n",
       "        text-align: right;\n",
       "    }\n",
       "</style>\n",
       "<table border=\"1\" class=\"dataframe\">\n",
       "  <thead>\n",
       "    <tr style=\"text-align: right;\">\n",
       "      <th></th>\n",
       "      <th>premise</th>\n",
       "      <th>hypothesis</th>\n",
       "      <th>label</th>\n",
       "    </tr>\n",
       "  </thead>\n",
       "  <tbody>\n",
       "    <tr>\n",
       "      <th>0</th>\n",
       "      <td>A young couple looking at different types and ...</td>\n",
       "      <td>a couple is looking</td>\n",
       "      <td>0</td>\n",
       "    </tr>\n",
       "    <tr>\n",
       "      <th>1</th>\n",
       "      <td>A man in a purple had climbs a rocky wall with...</td>\n",
       "      <td>A man is going to the temple.</td>\n",
       "      <td>2</td>\n",
       "    </tr>\n",
       "    <tr>\n",
       "      <th>2</th>\n",
       "      <td>A group of friends playing cards and trying to...</td>\n",
       "      <td>The people are playing a card game.</td>\n",
       "      <td>0</td>\n",
       "    </tr>\n",
       "    <tr>\n",
       "      <th>3</th>\n",
       "      <td>People looking at fish at an aquarium.</td>\n",
       "      <td>People looking at fish.</td>\n",
       "      <td>0</td>\n",
       "    </tr>\n",
       "    <tr>\n",
       "      <th>4</th>\n",
       "      <td>An older lady blowing out a 9 and a 0 number c...</td>\n",
       "      <td>A woman drinks coffee while driving.</td>\n",
       "      <td>2</td>\n",
       "    </tr>\n",
       "  </tbody>\n",
       "</table>\n",
       "</div>"
      ]
     },
     "execution_count": 115,
     "metadata": {},
     "output_type": "execute_result"
    }
   ],
   "execution_count": 115
  },
  {
   "metadata": {
    "ExecuteTime": {
     "end_time": "2024-04-12T15:49:41.105654Z",
     "start_time": "2024-04-12T15:49:41.096720Z"
    }
   },
   "cell_type": "code",
   "source": [
    "validation_dataset.shape\n"
   ],
   "outputs": [
    {
     "data": {
      "text/plain": [
       "(54937, 3)"
      ]
     },
     "execution_count": 116,
     "metadata": {},
     "output_type": "execute_result"
    }
   ],
   "execution_count": 116
  },
  {
   "metadata": {
    "ExecuteTime": {
     "end_time": "2024-04-12T15:49:41.116181Z",
     "start_time": "2024-04-12T15:49:41.105654Z"
    }
   },
   "cell_type": "code",
   "source": [
    "#test_dataset.head()\n"
   ],
   "outputs": [],
   "execution_count": 117
  },
  {
   "metadata": {
    "ExecuteTime": {
     "end_time": "2024-04-12T15:49:41.125776Z",
     "start_time": "2024-04-12T15:49:41.116181Z"
    }
   },
   "cell_type": "code",
   "source": [
    "#test_dataset.shape"
   ],
   "outputs": [],
   "execution_count": 118
  },
  {
   "metadata": {
    "ExecuteTime": {
     "end_time": "2024-04-12T15:49:41.153260Z",
     "start_time": "2024-04-12T15:49:41.125776Z"
    }
   },
   "cell_type": "code",
   "source": [
    "# import specific models\n",
    "from transformers import DistilBertModel, DistilBertConfig\n",
    "\n",
    "# define a max length constant\n",
    "MAX_LENGTH = 128\n",
    "TRUNC = 10000"
   ],
   "outputs": [],
   "execution_count": 119
  },
  {
   "metadata": {
    "ExecuteTime": {
     "end_time": "2024-04-12T15:49:58.863617Z",
     "start_time": "2024-04-12T15:49:41.153260Z"
    }
   },
   "cell_type": "code",
   "source": [
    "from transformers import DistilBertTokenizer, DistilBertModel\n",
    "\n",
    "tokenizer = DistilBertTokenizer.from_pretrained('distilbert-base-uncased')\n",
    "bert = DistilBertModel.from_pretrained('distilbert-base-uncased')"
   ],
   "outputs": [
    {
     "data": {
      "text/plain": [
       "Downloading model.safetensors:   0%|          | 0.00/268M [00:00<?, ?B/s]"
      ],
      "application/vnd.jupyter.widget-view+json": {
       "version_major": 2,
       "version_minor": 0,
       "model_id": "a038f3417ff648768b17eab619d1f8b5"
      }
     },
     "metadata": {},
     "output_type": "display_data"
    }
   ],
   "execution_count": 120
  },
  {
   "metadata": {
    "ExecuteTime": {
     "end_time": "2024-04-12T15:49:58.869381Z",
     "start_time": "2024-04-12T15:49:58.863617Z"
    }
   },
   "cell_type": "code",
   "source": [
    "print(tokenizer)\n",
    "print(bert)"
   ],
   "outputs": [
    {
     "name": "stdout",
     "output_type": "stream",
     "text": [
      "DistilBertTokenizer(name_or_path='distilbert-base-uncased', vocab_size=30522, model_max_length=512, is_fast=False, padding_side='right', truncation_side='right', special_tokens={'unk_token': '[UNK]', 'sep_token': '[SEP]', 'pad_token': '[PAD]', 'cls_token': '[CLS]', 'mask_token': '[MASK]'}, clean_up_tokenization_spaces=True),  added_tokens_decoder={\n",
      "\t0: AddedToken(\"[PAD]\", rstrip=False, lstrip=False, single_word=False, normalized=False, special=True),\n",
      "\t100: AddedToken(\"[UNK]\", rstrip=False, lstrip=False, single_word=False, normalized=False, special=True),\n",
      "\t101: AddedToken(\"[CLS]\", rstrip=False, lstrip=False, single_word=False, normalized=False, special=True),\n",
      "\t102: AddedToken(\"[SEP]\", rstrip=False, lstrip=False, single_word=False, normalized=False, special=True),\n",
      "\t103: AddedToken(\"[MASK]\", rstrip=False, lstrip=False, single_word=False, normalized=False, special=True),\n",
      "}\n",
      "DistilBertModel(\n",
      "  (embeddings): Embeddings(\n",
      "    (word_embeddings): Embedding(30522, 768, padding_idx=0)\n",
      "    (position_embeddings): Embedding(512, 768)\n",
      "    (LayerNorm): LayerNorm((768,), eps=1e-12, elementwise_affine=True)\n",
      "    (dropout): Dropout(p=0.1, inplace=False)\n",
      "  )\n",
      "  (transformer): Transformer(\n",
      "    (layer): ModuleList(\n",
      "      (0-5): 6 x TransformerBlock(\n",
      "        (attention): MultiHeadSelfAttention(\n",
      "          (dropout): Dropout(p=0.1, inplace=False)\n",
      "          (q_lin): Linear(in_features=768, out_features=768, bias=True)\n",
      "          (k_lin): Linear(in_features=768, out_features=768, bias=True)\n",
      "          (v_lin): Linear(in_features=768, out_features=768, bias=True)\n",
      "          (out_lin): Linear(in_features=768, out_features=768, bias=True)\n",
      "        )\n",
      "        (sa_layer_norm): LayerNorm((768,), eps=1e-12, elementwise_affine=True)\n",
      "        (ffn): FFN(\n",
      "          (dropout): Dropout(p=0.1, inplace=False)\n",
      "          (lin1): Linear(in_features=768, out_features=3072, bias=True)\n",
      "          (lin2): Linear(in_features=3072, out_features=768, bias=True)\n",
      "          (activation): GELUActivation()\n",
      "        )\n",
      "        (output_layer_norm): LayerNorm((768,), eps=1e-12, elementwise_affine=True)\n",
      "      )\n",
      "    )\n",
      "  )\n",
      ")\n"
     ]
    }
   ],
   "execution_count": 121
  },
  {
   "metadata": {
    "ExecuteTime": {
     "end_time": "2024-04-12T15:50:12.364599Z",
     "start_time": "2024-04-12T15:49:58.870531Z"
    }
   },
   "cell_type": "code",
   "source": [
    "train_dataset[[\"premise\"]] = train_dataset[[\"premise\"]].astype(str)\n",
    "train_dataset[\"premise\"] = train_dataset[\"premise\"].apply(utils.change_lower)\n",
    "train_dataset[\"premise\"] = train_dataset[\"premise\"].apply(utils.clean_data)\n",
    "train_dataset[\"premise\"] = train_dataset[\"premise\"].apply(utils.remover)\n",
    "\n",
    "test_dataset[[\"hypothesis\"]] = train_dataset[[\"hypothesis\"]].astype(str)\n",
    "train_dataset[\"hypothesis\"] = train_dataset[\"hypothesis\"].apply(utils.change_lower)\n",
    "train_dataset[\"hypothesis\"] = train_dataset[\"hypothesis\"].apply(utils.clean_data)\n",
    "train_dataset[\"hypothesis\"] = train_dataset[\"hypothesis\"].apply(utils.remover)\n",
    "\n",
    "validation_dataset[[\"premise\"]] = validation_dataset[[\"premise\"]].astype(str)\n",
    "validation_dataset[\"premise\"] = validation_dataset[\"premise\"].apply(utils.change_lower)\n",
    "validation_dataset[\"premise\"] = validation_dataset[\"premise\"].apply(utils.clean_data)\n",
    "validation_dataset[\"premise\"] = validation_dataset[\"premise\"].apply(utils.remover)\n",
    "\n",
    "validation_dataset[[\"hypothesis\"]] = validation_dataset[[\"hypothesis\"]].astype(str)\n",
    "validation_dataset[\"hypothesis\"] = validation_dataset[\"hypothesis\"].apply(utils.change_lower)\n",
    "validation_dataset[\"hypothesis\"] = validation_dataset[\"hypothesis\"].apply(utils.clean_data)\n",
    "validation_dataset[\"hypothesis\"] = validation_dataset[\"hypothesis\"].apply(utils.remover)\n",
    "\n",
    "test_dataset[[\"premise\"]] = test_dataset[[\"premise\"]].astype(str)\n",
    "test_dataset[\"premise\"] = test_dataset[\"premise\"].apply(utils.change_lower)\n",
    "test_dataset[\"premise\"] = test_dataset[\"premise\"].apply(utils.clean_data)\n",
    "test_dataset[\"premise\"] = test_dataset[\"premise\"].apply(utils.remover)\n",
    "\n",
    "test_dataset[[\"hypothesis\"]] = test_dataset[[\"hypothesis\"]].astype(str)\n",
    "test_dataset[\"hypothesis\"] = test_dataset[\"hypothesis\"].apply(utils.change_lower)\n",
    "test_dataset[\"hypothesis\"] = test_dataset[\"hypothesis\"].apply(utils.clean_data)\n",
    "test_dataset[\"hypothesis\"] = test_dataset[\"hypothesis\"].apply(utils.remover)"
   ],
   "outputs": [],
   "execution_count": 122
  },
  {
   "metadata": {
    "ExecuteTime": {
     "end_time": "2024-04-12T15:50:12.524115Z",
     "start_time": "2024-04-12T15:50:12.364599Z"
    }
   },
   "cell_type": "code",
   "source": [
    "X_train = train_dataset['premise'] + train_dataset['hypothesis']\n",
    "X_Val = validation_dataset['premise'] + validation_dataset['hypothesis']\n",
    "X_test = test_dataset['premise'] + test_dataset['hypothesis']"
   ],
   "outputs": [],
   "execution_count": 123
  },
  {
   "metadata": {
    "ExecuteTime": {
     "end_time": "2024-04-12T15:50:12.608460Z",
     "start_time": "2024-04-12T15:50:12.524115Z"
    }
   },
   "cell_type": "code",
   "source": [
    "from transformers import AutoTokenizer\n",
    "\n",
    "tokenizer = AutoTokenizer.from_pretrained(\"distilbert-base-uncased\")"
   ],
   "outputs": [],
   "execution_count": 124
  },
  {
   "metadata": {
    "ExecuteTime": {
     "end_time": "2024-04-12T15:50:13.425783Z",
     "start_time": "2024-04-12T15:50:12.608460Z"
    }
   },
   "cell_type": "code",
   "source": [
    "# define a batch size for our experiments\n",
    "BATCH_SIZE = 64\n",
    "# define a percentage of the data to use for training\n",
    "SPLIT_PC = .80\n",
    "\n",
    "# TODO: caluculate the last index for the training data\n",
    "# \n",
    "# imdb_lengths = [len(review) for review in imdb_df.loc[:,0]]\n",
    "# amazon_lengths = [len(review) for review in amazon_df.loc[:,0]]\n",
    "# yelp_lengths = [len(review) for review in yelp_df.loc[:,0]]\n",
    "# \n",
    "# #x = []\n",
    "# #x.append(data[0].str.len())\n",
    "# x = [length for length in lengths]\n",
    "\n",
    "train_dataset = df = pd.read_csv('text_entailment_dataset/train_data.csv')\n",
    "validation_dataset = df = pd.read_csv('text_entailment_dataset/validation_data.csv')\n",
    "#test_dataset = df = pd.read_csv('text_entailment_dataset/test_data.csv')\n",
    "\n",
    "\n",
    "# # Total number of samples\n",
    "# total_samples = len(train_dataset)\n",
    "# print(total_samples)\n",
    "# \n",
    "# # Calculate the number of samples to be used for training\n",
    "# train_samples = int(total_samples * SPLIT_PC)\n",
    "# \n",
    "# # Calculate the last index for the training data\n",
    "# END = train_samples\n",
    "# print(END)\n"
   ],
   "outputs": [],
   "execution_count": 125
  },
  {
   "metadata": {
    "ExecuteTime": {
     "end_time": "2024-04-12T15:50:13.433643Z",
     "start_time": "2024-04-12T15:50:13.425783Z"
    }
   },
   "cell_type": "code",
   "source": [
    "print(test_dataset)"
   ],
   "outputs": [
    {
     "name": "stdout",
     "output_type": "stream",
     "text": [
      "                                                premise  \\\n",
      "0     church choir sings masses sing joyous songs bo...   \n",
      "1     church choir sings masses sing joyous songs bo...   \n",
      "2     church choir sings masses sing joyous songs bo...   \n",
      "3             woman green headscarf blue shirt big grin   \n",
      "4             woman green headscarf blue shirt big grin   \n",
      "...                                                 ...   \n",
      "9819             two women observing something together   \n",
      "9820             two women observing something together   \n",
      "9821  man black leather jacket book hand speaks clas...   \n",
      "9822  man black leather jacket book hand speaks clas...   \n",
      "9823  man black leather jacket book hand speaks clas...   \n",
      "\n",
      "                                         hypothesis  \n",
      "0                                cute dog paly ball  \n",
      "1     young boy dressed potato sack trying eat soup  \n",
      "2                                 dogs leaping snow  \n",
      "3                      man performing city sidewalk  \n",
      "4                                 man climbing tree  \n",
      "...                                             ...  \n",
      "9819                       woman wearing sunglasses  \n",
      "9820                                man dives water  \n",
      "9821                             blond woman sewing  \n",
      "9822                   woman getting ready go beach  \n",
      "9823                       two teams men woman play  \n",
      "\n",
      "[9824 rows x 2 columns]\n"
     ]
    }
   ],
   "execution_count": 126
  },
  {
   "metadata": {
    "ExecuteTime": {
     "end_time": "2024-04-12T15:50:53.824398Z",
     "start_time": "2024-04-12T15:50:13.433643Z"
    }
   },
   "cell_type": "code",
   "source": [
    "#  TODO: get the training data and testing data set up\n",
    "train_sentences = [train_dataset.loc[s][0] + train_dataset.loc[s][1] for s in range(len(train_dataset))]\n",
    "train_labels = [train_dataset.loc[l][2] for l in range(len(train_dataset))]\n",
    "\n",
    "validation_sentences = [validation_dataset.loc[s][0] + validation_dataset.loc[s][1] for s in range(len(validation_dataset))]\n",
    "validation_labels = [validation_dataset.loc[l][2] for l in range(len(validation_dataset))]\n",
    "\n",
    "# TODO: add print statements to verify the sizes of your training/testing data are correct\n",
    "print(\"LENGTHS // Train sentences: \" + str(len(train_sentences)) + \". Train labels: \" + str(len(train_labels)))\n",
    "print(\"LENGTHS // Test sentences: \" + str(len(validation_sentences)) + \". Test labels: \" + str(len(validation_labels)))"
   ],
   "outputs": [
    {
     "name": "stderr",
     "output_type": "stream",
     "text": [
      "C:\\Users\\chris\\AppData\\Local\\Temp\\ipykernel_29664\\3991041832.py:2: FutureWarning: Series.__getitem__ treating keys as positions is deprecated. In a future version, integer keys will always be treated as labels (consistent with DataFrame behavior). To access a value by position, use `ser.iloc[pos]`\n",
      "  train_sentences = [train_dataset.loc[s][0] + train_dataset.loc[s][1] for s in range(len(train_dataset))]\n",
      "C:\\Users\\chris\\AppData\\Local\\Temp\\ipykernel_29664\\3991041832.py:3: FutureWarning: Series.__getitem__ treating keys as positions is deprecated. In a future version, integer keys will always be treated as labels (consistent with DataFrame behavior). To access a value by position, use `ser.iloc[pos]`\n",
      "  train_labels = [train_dataset.loc[l][2] for l in range(len(train_dataset))]\n",
      "C:\\Users\\chris\\AppData\\Local\\Temp\\ipykernel_29664\\3991041832.py:5: FutureWarning: Series.__getitem__ treating keys as positions is deprecated. In a future version, integer keys will always be treated as labels (consistent with DataFrame behavior). To access a value by position, use `ser.iloc[pos]`\n",
      "  validation_sentences = [validation_dataset.loc[s][0] + validation_dataset.loc[s][1] for s in range(len(validation_dataset))]\n",
      "C:\\Users\\chris\\AppData\\Local\\Temp\\ipykernel_29664\\3991041832.py:6: FutureWarning: Series.__getitem__ treating keys as positions is deprecated. In a future version, integer keys will always be treated as labels (consistent with DataFrame behavior). To access a value by position, use `ser.iloc[pos]`\n",
      "  validation_labels = [validation_dataset.loc[l][2] for l in range(len(validation_dataset))]\n"
     ]
    },
    {
     "name": "stdout",
     "output_type": "stream",
     "text": [
      "LENGTHS // Train sentences: 494424. Train labels: 494424\n",
      "LENGTHS // Test sentences: 54937. Test labels: 54937\n"
     ]
    }
   ],
   "execution_count": 127
  },
  {
   "metadata": {
    "ExecuteTime": {
     "end_time": "2024-04-12T15:50:53.856110Z",
     "start_time": "2024-04-12T15:50:53.824398Z"
    }
   },
   "cell_type": "code",
   "source": [
    "train_labels = train_dataset[\"label\"]\n",
    "validation_labels = validation_dataset[\"label\"]\n",
    "\n",
    "# Convert to one-hot encoded format\n",
    "num_classes = len(set(train_labels))  # Calculate the number of classes\n",
    "\n",
    "train_labels = to_categorical(train_labels, num_classes=num_classes)\n",
    "validation_labels = to_categorical(validation_labels, num_classes=num_classes)\n",
    "\n",
    "print(\"train label shape:\", train_labels.shape)\n",
    "print(\"val label shape:\", validation_labels.shape)\n",
    "\n",
    "steps_per_epoch = len(train_labels) // BATCH_SIZE\n",
    "validation_steps = len(validation_labels) // BATCH_SIZE\n"
   ],
   "outputs": [
    {
     "name": "stdout",
     "output_type": "stream",
     "text": [
      "train label shape: (494424, 3)\n",
      "val label shape: (54937, 3)\n"
     ]
    }
   ],
   "execution_count": 128
  },
  {
   "metadata": {
    "ExecuteTime": {
     "end_time": "2024-04-12T15:50:53.861509Z",
     "start_time": "2024-04-12T15:50:53.856110Z"
    }
   },
   "cell_type": "code",
   "source": [
    "# data generator for the model\n",
    "def data_generator(sentences: np.array,labels: np.array,batch_size: int) -> (dict,tf.Tensor):\n",
    "    i = 0\n",
    "    start_idx = -1 * batch_size\n",
    "    end_idx = 0\n",
    "\n",
    "    while True:\n",
    "        start_idx += batch_size\n",
    "        end_idx += batch_size\n",
    "        # TODO: append batch_size number of sentences and labels to batch_x and batch_y\n",
    "        # Make sure that you don't re-use sentences and labels that you've already put into batches!\n",
    "\n",
    "        if end_idx > len(sentences):\n",
    "            end_idx = batch_size\n",
    "            start_idx = 0\n",
    "\n",
    "        batch_y = labels[start_idx:end_idx]\n",
    "\n",
    "        # TODO: tokenize the batch_x, padding to MAX_LENGTH, and truncating to MAX_LENGTH\n",
    "        batch_x = tokenizer(sentences[start_idx:end_idx], return_tensors=\"tf\", max_length=MAX_LENGTH, truncation=\"longest_first\", padding=\"max_length\")\n",
    "\n",
    "        # debugging prints (make sure that these are commented out when you actually train your model)\n",
    "        # should be (batch_size, MAX_LENGTH)\n",
    "        # print(batch_x['input_ids'].shape)\n",
    "\n",
    "        # convert our ys into the appropriate tensor\n",
    "        batch_y = tf.convert_to_tensor(batch_y)\n",
    "\n",
    "        # debugging prints (make sure that these are commented out when you actually train your model)\n",
    "        # should be (batch_size,)\n",
    "        # print(batch_y.shape)\n",
    "        yield dict(batch_x), batch_y\n",
    "\n",
    "# np.random.seed(42)\n",
    "# shuffled_indices = np.random.permutation(len(train_sentences))\n",
    "# \n",
    "# shuffled_sentences_t = [train_sentences[i] for i in shuffled_indices[:TRUNC]]\n",
    "# shuffled_labels_t = [train_labels[i] for i in shuffled_indices[:TRUNC]]\n",
    "# \n",
    "# shuffled_sentences_v = [train_sentences[i] for i in shuffled_indices[:TRUNC]]\n",
    "# shuffled_labels_v = [train_labels[i] for i in shuffled_indices[:TRUNC]]\n",
    "\n",
    "# train_data = data_generator(shuffled_sentences_t,shuffled_labels_t,BATCH_SIZE)\n",
    "# test_data = data_generator(validation_sentences,validation_labels,BATCH_SIZE)\n",
    "\n",
    "train_data = data_generator(train_sentences,train_labels,BATCH_SIZE)\n",
    "test_data = data_generator(validation_sentences,validation_labels,BATCH_SIZE)"
   ],
   "outputs": [],
   "execution_count": 129
  },
  {
   "metadata": {
    "ExecuteTime": {
     "end_time": "2024-04-12T15:50:53.887194Z",
     "start_time": "2024-04-12T15:50:53.861509Z"
    }
   },
   "cell_type": "code",
   "source": [
    "# TODO: Take a look at the contents of tmp_batch_x and tmp_batch_y and report the shapes of the `input_ids`\n",
    "# and the y label tensor.\n",
    "# make sure that the shapes are what you expect them to be\n",
    "# (take a look at the comments in the data_generator code)\n",
    "\n",
    "tmp_batch_x,tmp_batch_y = next(train_data)\n",
    "test_batch_x, test_batch_y = next(test_data)\n",
    "\n",
    "print(tmp_batch_x[\"input_ids\"].shape)\n",
    "print(tmp_batch_y.shape)\n",
    "#print(tmp_batch_y)\n",
    "\n",
    "print(test_batch_x[\"input_ids\"].shape)\n",
    "print(test_batch_y.shape)\n",
    "print(test_batch_y)\n"
   ],
   "outputs": [
    {
     "name": "stdout",
     "output_type": "stream",
     "text": [
      "(64, 128)\n",
      "(64, 3)\n",
      "(64, 128)\n",
      "(64, 3)\n",
      "tf.Tensor(\n",
      "[[1. 0. 0.]\n",
      " [0. 0. 1.]\n",
      " [1. 0. 0.]\n",
      " [1. 0. 0.]\n",
      " [0. 0. 1.]\n",
      " [0. 0. 1.]\n",
      " [0. 0. 1.]\n",
      " [0. 1. 0.]\n",
      " [1. 0. 0.]\n",
      " [0. 1. 0.]\n",
      " [1. 0. 0.]\n",
      " [1. 0. 0.]\n",
      " [0. 1. 0.]\n",
      " [1. 0. 0.]\n",
      " [0. 1. 0.]\n",
      " [0. 0. 1.]\n",
      " [0. 1. 0.]\n",
      " [0. 0. 1.]\n",
      " [0. 1. 0.]\n",
      " [1. 0. 0.]\n",
      " [0. 1. 0.]\n",
      " [0. 1. 0.]\n",
      " [0. 0. 1.]\n",
      " [0. 0. 1.]\n",
      " [0. 1. 0.]\n",
      " [0. 0. 1.]\n",
      " [0. 1. 0.]\n",
      " [0. 1. 0.]\n",
      " [1. 0. 0.]\n",
      " [0. 1. 0.]\n",
      " [0. 0. 1.]\n",
      " [0. 1. 0.]\n",
      " [0. 0. 1.]\n",
      " [0. 0. 1.]\n",
      " [1. 0. 0.]\n",
      " [1. 0. 0.]\n",
      " [0. 1. 0.]\n",
      " [0. 1. 0.]\n",
      " [1. 0. 0.]\n",
      " [1. 0. 0.]\n",
      " [0. 1. 0.]\n",
      " [0. 1. 0.]\n",
      " [1. 0. 0.]\n",
      " [0. 1. 0.]\n",
      " [1. 0. 0.]\n",
      " [0. 1. 0.]\n",
      " [1. 0. 0.]\n",
      " [0. 0. 1.]\n",
      " [0. 1. 0.]\n",
      " [0. 1. 0.]\n",
      " [0. 0. 1.]\n",
      " [0. 0. 1.]\n",
      " [1. 0. 0.]\n",
      " [0. 0. 1.]\n",
      " [0. 1. 0.]\n",
      " [1. 0. 0.]\n",
      " [1. 0. 0.]\n",
      " [0. 1. 0.]\n",
      " [0. 1. 0.]\n",
      " [1. 0. 0.]\n",
      " [0. 0. 1.]\n",
      " [0. 0. 1.]\n",
      " [1. 0. 0.]\n",
      " [0. 1. 0.]], shape=(64, 3), dtype=float32)\n"
     ]
    }
   ],
   "execution_count": 130
  },
  {
   "metadata": {
    "ExecuteTime": {
     "end_time": "2024-04-12T15:50:53.892957Z",
     "start_time": "2024-04-12T15:50:53.887194Z"
    }
   },
   "cell_type": "code",
   "source": [
    "class MetricsCallback(Callback):\n",
    "    def __init__(self, tokenizer, X_val, y_val):\n",
    "        super(MetricsCallback, self).__init__()\n",
    "        self.tokenizer = tokenizer\n",
    "        self.X_val = X_val\n",
    "        self.y_val = y_val\n",
    "        self.metrics = {'epoch': [], 'precision': [], 'recall': [], 'f1': [], 'val_loss': [], 'val_accuracy': [], 'loss': [], 'accuracy': []}\n",
    "\n",
    "    def on_epoch_end(self, epoch, logs=None):\n",
    "        # Tokenize validation sentences\n",
    "        encoded_X_val = self.tokenizer(self.X_val, return_tensors=\"tf\", max_length=MAX_LENGTH, truncation=\"longest_first\", padding=\"max_length\")\n",
    "\n",
    "        # Evaluate the model\n",
    "        val_loss, val_accuracy = self.model.evaluate(encoded_X_val, self.y_val, verbose=0)\n",
    "        val_pred = self.model.predict(encoded_X_val)\n",
    "        val_pred_classes = np.argmax(val_pred, axis=1)  # Convert probabilities to classes\n",
    "\n",
    "        precision = precision_score(np.argmax(self.y_val, axis=1), val_pred_classes, average='weighted')\n",
    "        recall = recall_score(np.argmax(self.y_val, axis=1), val_pred_classes, average='weighted')\n",
    "        f1 = f1_score(np.argmax(self.y_val, axis=1), val_pred_classes, average='weighted')\n",
    "\n",
    "        self.metrics['epoch'].append(epoch + 1)\n",
    "        self.metrics['precision'].append(precision)\n",
    "        self.metrics['recall'].append(recall)\n",
    "        self.metrics['f1'].append(f1)\n",
    "        self.metrics['val_loss'].append(val_loss)\n",
    "        self.metrics['val_accuracy'].append(val_accuracy)\n",
    "        self.metrics['loss'].append(logs['loss'])\n",
    "        self.metrics['accuracy'].append(logs['accuracy'])\n",
    "\n",
    "        print(\"Epoch {}: Validation Precision = {:.4f}, Recall = {:.4f}, F1 Score = {:.4f}, Val Loss = {:.4f}, Val Accuracy = {:.4f}\".format(epoch + 1, precision, recall, f1, val_loss, val_accuracy))\n",
    "\n"
   ],
   "outputs": [],
   "execution_count": 131
  },
  {
   "metadata": {
    "ExecuteTime": {
     "end_time": "2024-04-12T15:52:59.175457Z",
     "start_time": "2024-04-12T15:52:57.943753Z"
    }
   },
   "cell_type": "code",
   "source": [
    "from keras.src.callbacks import History\n",
    "from tensorflow.keras.models import load_model\n",
    "from tensorflow.keras.utils import custom_object_scope\n",
    "from transformers import TFDistilBertModel\n",
    "import tensorflow_model_optimization as tfmot\n",
    "# Build the model\n",
    "# This takes < 15 sec to run on our computer\n",
    "\n",
    "bert_model = TFDistilBertModel.from_pretrained('distilbert-base-uncased',output_attentions = False,return_dict=False)\n",
    "# we do not need attention outputs\n",
    "# we want to return tuples since they are easier to access\n",
    "\n",
    "bert_model.trainable = False\n",
    "# setting trainable to false ensures\n",
    "# we do not update its weights\n",
    "# \n",
    "\n",
    "model_ = tf.keras.Sequential([\n",
    "    bert_model,\n",
    "    tf.keras.layers.Lambda(lambda x: x[0][:,0,:]), # https://keras.io/api/layers/core_layers/lambda/\n",
    "    tf.keras.layers.Dense(64,activation=\"relu\"),\n",
    "    tf.keras.layers.Dense(3,activation=\"softmax\") # we have 3 classes\n",
    "])\n",
    "\n",
    "# Define custom metrics functions\n",
    "def precision(y_true, y_pred):\n",
    "    true_positives = tf.keras.backend.sum(tf.keras.backend.round(tf.keras.backend.clip(y_true * y_pred, 0, 1)))\n",
    "    predicted_positives = tf.keras.backend.sum(tf.keras.backend.round(tf.keras.backend.clip(y_pred, 0, 1)))\n",
    "    precision = true_positives / (predicted_positives + tf.keras.backend.epsilon())\n",
    "    return precision\n",
    "\n",
    "def recall(y_true, y_pred):\n",
    "    true_positives = tf.keras.backend.sum(tf.keras.backend.round(tf.keras.backend.clip(y_true * y_pred, 0, 1)))\n",
    "    possible_positives = tf.keras.backend.sum(tf.keras.backend.round(tf.keras.backend.clip(y_true, 0, 1)))\n",
    "    recall = true_positives / (possible_positives + tf.keras.backend.epsilon())\n",
    "    return recall\n",
    "\n",
    "def f1(y_true, y_pred):\n",
    "    p = precision(y_true, y_pred)\n",
    "    r = recall(y_true, y_pred)\n",
    "    f1 = 2 * ((p * r) / (p + r + tf.keras.backend.epsilon()))\n",
    "    return f1\n",
    "\n",
    "\n",
    "# Define a checkpoint callback to save the best model\n",
    "checkpoint = ModelCheckpoint('distilbert_trained_model.h5', monitor='val_loss', mode='min', save_best_only=True, verbose=1)\n",
    "\n",
    "# Load the saved model\n",
    "#model = load_model('trained.h5')  # Or path to SavedModel directory\n",
    "# Define custom objects dictionary with TFBertModel\n",
    "custom_objects = {'TFBertModel': TFBertModel}\n",
    "\n",
    "\n",
    "# Compile the model with custom metrics\n",
    "model_.compile(optimizer='adam', loss='categorical_crossentropy',\n",
    "              metrics=['accuracy', precision, recall, f1])\n",
    "\n",
    "#metrics_callback = MetricsCallback(tokenizer, validation_sentences, validation_labels)\n",
    "# Define a callback to collect metrics history\n",
    "history = History()\n",
    "\n"
   ],
   "outputs": [
    {
     "name": "stderr",
     "output_type": "stream",
     "text": [
      "Some weights of the PyTorch model were not used when initializing the TF 2.0 model TFDistilBertModel: ['vocab_transform.bias', 'vocab_layer_norm.bias', 'vocab_projector.bias', 'vocab_transform.weight', 'vocab_layer_norm.weight']\n",
      "- This IS expected if you are initializing TFDistilBertModel from a PyTorch model trained on another task or with another architecture (e.g. initializing a TFBertForSequenceClassification model from a BertForPreTraining model).\n",
      "- This IS NOT expected if you are initializing TFDistilBertModel from a PyTorch model that you expect to be exactly identical (e.g. initializing a TFBertForSequenceClassification model from a BertForSequenceClassification model).\n",
      "All the weights of TFDistilBertModel were initialized from the PyTorch model.\n",
      "If your task is similar to the task the model of the checkpoint was trained on, you can already use TFDistilBertModel for predictions without further training.\n"
     ]
    }
   ],
   "execution_count": 134
  },
  {
   "metadata": {
    "ExecuteTime": {
     "end_time": "2024-04-12T15:53:05.075049Z",
     "start_time": "2024-04-12T15:53:05.070446Z"
    }
   },
   "cell_type": "code",
   "source": [
    "print(len(train_sentences)//BATCH_SIZE)"
   ],
   "outputs": [
    {
     "name": "stdout",
     "output_type": "stream",
     "text": [
      "7725\n"
     ]
    }
   ],
   "execution_count": 135
  },
  {
   "metadata": {
    "ExecuteTime": {
     "end_time": "2024-04-12T16:29:49.039404Z",
     "start_time": "2024-04-12T15:54:48.690109Z"
    }
   },
   "cell_type": "code",
   "source": [
    "model_.fit(\n",
    "    train_data,\n",
    "    epochs=7,\n",
    "    batch_size=BATCH_SIZE,\n",
    "    steps_per_epoch=BATCH_SIZE,\n",
    "    validation_data=test_data,\n",
    "    validation_steps=BATCH_SIZE,\n",
    "    validation_batch_size=BATCH_SIZE,\n",
    "    callbacks=[history, checkpoint]\n",
    ")"
   ],
   "outputs": [
    {
     "name": "stdout",
     "output_type": "stream",
     "text": [
      "Epoch 1/7\n",
      "64/64 [==============================] - ETA: 0s - loss: 1.0588 - accuracy: 0.4360 - precision: 0.5498 - recall: 0.1306 - f1: 0.2030\n",
      "Epoch 1: val_loss improved from inf to 1.01917, saving model to distilbert_trained_model.h5\n"
     ]
    },
    {
     "name": "stderr",
     "output_type": "stream",
     "text": [
      "C:\\Users\\chris\\AppData\\Local\\Programs\\Python\\Python311\\Lib\\site-packages\\keras\\src\\engine\\training.py:3079: UserWarning: You are saving your model as an HDF5 file via `model.save()`. This file format is considered legacy. We recommend using instead the native Keras format, e.g. `model.save('my_model.keras')`.\n",
      "  saving_api.save_model(\n"
     ]
    },
    {
     "name": "stdout",
     "output_type": "stream",
     "text": [
      "64/64 [==============================] - 357s 6s/step - loss: 1.0588 - accuracy: 0.4360 - precision: 0.5498 - recall: 0.1306 - f1: 0.2030 - val_loss: 1.0192 - val_accuracy: 0.4871 - val_precision: 0.5920 - val_recall: 0.1846 - val_f1: 0.2797\n",
      "Epoch 2/7\n",
      "64/64 [==============================] - ETA: 0s - loss: 1.0296 - accuracy: 0.4766 - precision: 0.5693 - recall: 0.1868 - f1: 0.2795\n",
      "Epoch 2: val_loss improved from 1.01917 to 1.01562, saving model to distilbert_trained_model.h5\n",
      "64/64 [==============================] - 296s 5s/step - loss: 1.0296 - accuracy: 0.4766 - precision: 0.5693 - recall: 0.1868 - f1: 0.2795 - val_loss: 1.0156 - val_accuracy: 0.4895 - val_precision: 0.5967 - val_recall: 0.2212 - val_f1: 0.3209\n",
      "Epoch 3/7\n",
      "64/64 [==============================] - ETA: 0s - loss: 1.0233 - accuracy: 0.4863 - precision: 0.5868 - recall: 0.1948 - f1: 0.2907\n",
      "Epoch 3: val_loss improved from 1.01562 to 0.99613, saving model to distilbert_trained_model.h5\n",
      "64/64 [==============================] - 305s 5s/step - loss: 1.0233 - accuracy: 0.4863 - precision: 0.5868 - recall: 0.1948 - f1: 0.2907 - val_loss: 0.9961 - val_accuracy: 0.5110 - val_precision: 0.6215 - val_recall: 0.2212 - val_f1: 0.3244\n",
      "Epoch 4/7\n",
      "64/64 [==============================] - ETA: 0s - loss: 1.0107 - accuracy: 0.5000 - precision: 0.5844 - recall: 0.2422 - f1: 0.3399\n",
      "Epoch 4: val_loss improved from 0.99613 to 0.98376, saving model to distilbert_trained_model.h5\n",
      "64/64 [==============================] - 287s 5s/step - loss: 1.0107 - accuracy: 0.5000 - precision: 0.5844 - recall: 0.2422 - f1: 0.3399 - val_loss: 0.9838 - val_accuracy: 0.5186 - val_precision: 0.6181 - val_recall: 0.2605 - val_f1: 0.3652\n",
      "Epoch 5/7\n",
      "64/64 [==============================] - ETA: 0s - loss: 1.0083 - accuracy: 0.4929 - precision: 0.5892 - recall: 0.2664 - f1: 0.3648\n",
      "Epoch 5: val_loss did not improve from 0.98376\n",
      "64/64 [==============================] - 287s 5s/step - loss: 1.0083 - accuracy: 0.4929 - precision: 0.5892 - recall: 0.2664 - f1: 0.3648 - val_loss: 0.9838 - val_accuracy: 0.5095 - val_precision: 0.6155 - val_recall: 0.2607 - val_f1: 0.3644\n",
      "Epoch 6/7\n",
      "64/64 [==============================] - ETA: 0s - loss: 0.9893 - accuracy: 0.5105 - precision: 0.6104 - recall: 0.2615 - f1: 0.3639\n",
      "Epoch 6: val_loss improved from 0.98376 to 0.97446, saving model to distilbert_trained_model.h5\n",
      "64/64 [==============================] - 284s 4s/step - loss: 0.9893 - accuracy: 0.5105 - precision: 0.6104 - recall: 0.2615 - f1: 0.3639 - val_loss: 0.9745 - val_accuracy: 0.5305 - val_precision: 0.6173 - val_recall: 0.3042 - val_f1: 0.4062\n",
      "Epoch 7/7\n",
      "64/64 [==============================] - ETA: 0s - loss: 0.9956 - accuracy: 0.5251 - precision: 0.6013 - recall: 0.2649 - f1: 0.3659\n",
      "Epoch 7: val_loss improved from 0.97446 to 0.95074, saving model to distilbert_trained_model.h5\n",
      "64/64 [==============================] - 284s 4s/step - loss: 0.9956 - accuracy: 0.5251 - precision: 0.6013 - recall: 0.2649 - f1: 0.3659 - val_loss: 0.9507 - val_accuracy: 0.5610 - val_precision: 0.6574 - val_recall: 0.3003 - val_f1: 0.4107\n"
     ]
    },
    {
     "data": {
      "text/plain": [
       "<keras.src.callbacks.History at 0x1ed148d0790>"
      ]
     },
     "execution_count": 138,
     "metadata": {},
     "output_type": "execute_result"
    }
   ],
   "execution_count": 138
  },
  {
   "metadata": {
    "ExecuteTime": {
     "end_time": "2024-04-12T16:35:13.582351Z",
     "start_time": "2024-04-12T16:35:13.564667Z"
    }
   },
   "cell_type": "code",
   "source": [
    "# Access the metrics history\n",
    "print(history.history.keys())  # To see what metrics are available"
   ],
   "outputs": [
    {
     "name": "stdout",
     "output_type": "stream",
     "text": [
      "dict_keys(['loss', 'accuracy', 'precision', 'recall', 'f1', 'val_loss', 'val_accuracy', 'val_precision', 'val_recall', 'val_f1'])\n"
     ]
    }
   ],
   "execution_count": 139
  },
  {
   "metadata": {
    "ExecuteTime": {
     "end_time": "2024-04-12T16:35:14.465670Z",
     "start_time": "2024-04-12T16:35:14.455210Z"
    }
   },
   "cell_type": "code",
   "source": [
    "import numpy as np\n",
    "\n",
    "# Access the metrics history\n",
    "epochs = list(range(1, len(history.history['accuracy']) + 1))  # Assuming all metrics have the same length\n",
    "precision = np.array(history.history['precision'])\n",
    "recall = np.array(history.history['recall'])\n",
    "f1 = np.array(history.history['f1'])\n",
    "accuracy = np.array(history.history['accuracy'])\n",
    "loss = np.array(history.history['loss'])\n",
    "val_accuracy = np.array(history.history['val_accuracy'])\n",
    "val_loss = np.array(history.history['val_loss'])\n"
   ],
   "outputs": [],
   "execution_count": 140
  },
  {
   "metadata": {
    "ExecuteTime": {
     "end_time": "2024-04-12T16:35:16.196003Z",
     "start_time": "2024-04-12T16:35:15.945175Z"
    }
   },
   "cell_type": "code",
   "source": [
    "# Plot all four metrics on one graph\n",
    "plt.figure(figsize=(10, 5))\n",
    "plt.plot(epochs, val_loss, label='Validation Loss')\n",
    "plt.plot(epochs, val_accuracy, label='Validation Accuracy')\n",
    "plt.plot(epochs, loss, label='Training Loss')\n",
    "plt.plot(epochs, accuracy, label='Training Accuracy')\n",
    "\n",
    "plt.title('Metrics across Epochs')\n",
    "plt.xlabel('Epoch')\n",
    "plt.xticks(epochs)\n",
    "plt.legend()\n",
    "plt.savefig(\"Transformer_BERT_training_val_loss_acc(1).pdf\")  # Save the plot before showing\n",
    "plt.show()\n"
   ],
   "outputs": [
    {
     "data": {
      "text/plain": [
       "<Figure size 1000x500 with 1 Axes>"
      ],
      "image/png": "[encoded data removed]"
     },
     "metadata": {},
     "output_type": "display_data"
    }
   ],
   "execution_count": 141
  },
  {
   "metadata": {
    "ExecuteTime": {
     "end_time": "2024-04-12T16:35:23.189729Z",
     "start_time": "2024-04-12T16:35:23.022694Z"
    }
   },
   "cell_type": "code",
   "source": [
    "# Plot all four metrics on one graph\n",
    "plt.figure(figsize=(10, 5))\n",
    "plt.plot(epochs, precision, label='Precision')\n",
    "plt.plot(epochs, recall, label='Recall')\n",
    "plt.plot(epochs, f1, label='F1 Score')\n",
    "plt.plot(epochs, accuracy, label='Accuracy')\n",
    "\n",
    "plt.title('Metrics across Epochs')\n",
    "plt.xlabel('Epoch')\n",
    "plt.xticks(epochs)\n",
    "plt.legend()\n",
    "plt.savefig(\"Transformer_BERT_training_PRFA(1).pdf\")\n",
    "plt.show()"
   ],
   "outputs": [
    {
     "data": {
      "text/plain": [
       "<Figure size 1000x500 with 1 Axes>"
      ],
      "image/png": "[encoded data removed]"
     },
     "metadata": {},
     "output_type": "display_data"
    }
   ],
   "execution_count": 142
  },
  {
   "metadata": {},
   "cell_type": "code",
   "source": [],
   "outputs": [],
   "execution_count": null
  }
 ],
 "metadata": {
  "kernelspec": {
   "display_name": "Python 3",
   "language": "python",
   "name": "python3"
  },
  "language_info": {
   "codemirror_mode": {
    "name": "ipython",
    "version": 2
   },
   "file_extension": ".py",
   "mimetype": "text/x-python",
   "name": "python",
   "nbconvert_exporter": "python",
   "pygments_lexer": "ipython2",
   "version": "2.7.6"
  }
 },
 "nbformat": 4,
 "nbformat_minor": 0
}
