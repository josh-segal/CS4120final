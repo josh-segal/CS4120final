{
 "cells": [
  {
   "cell_type": "code",
   "execution_count": 36,
   "metadata": {
    "collapsed": true
   },
   "outputs": [],
   "source": [
    "import os\n",
    "os.environ['TF_CPP_MIN_LOG_LEVEL'] = '2'\n",
    "\n",
    "import pandas as pd\n",
    "from sklearn.model_selection import train_test_split\n",
    "import utils as utils\n",
    "\n",
    "import numpy as np\n",
    "import tensorflow as tf\n",
    "\n",
    "from tensorflow.keras.preprocessing.text import Tokenizer\n",
    "from tensorflow.keras.preprocessing.sequence import pad_sequences\n",
    "from keras.utils import to_categorical\n",
    "\n",
    "from keras.layers import LSTM, Dense, Embedding, Input, Concatenate, Dropout\n",
    "\n",
    "from gensim.models import Word2Vec\n",
    "\n",
    "from keras.callbacks import Callback, ModelCheckpoint\n",
    "from sklearn.metrics import precision_score, recall_score, f1_score, accuracy_score\n",
    "\n",
    "import matplotlib.pyplot as plt"
   ]
  },
  {
   "cell_type": "code",
   "execution_count": 2,
   "outputs": [],
   "source": [
    "# Read the CSV file into a DataFrame\n",
    "df = pd.read_csv('text_entailment_dataset/train.csv')\n",
    "\n",
    "# Shuffle the DataFrame\n",
    "df = df.sample(frac=1, random_state=42)  # Shuffle with fixed seed for reproducibility\n",
    "\n",
    "# Split the data into training and validation sets\n",
    "train_df, validation_df = train_test_split(df, test_size=0.2, random_state=42)\n",
    "\n",
    "train_df, test_df = train_test_split(train_df, test_size=0.2, random_state=42)\n",
    "\n",
    "# Write the training and validation DataFrames to separate CSV files\n",
    "train_df.to_csv('text_entailment_dataset/train_data.csv', index=False)\n",
    "validation_df.to_csv('text_entailment_dataset/validation_data.csv', index=False)\n",
    "test_df.to_csv('text_entailment_dataset/test_data.csv', index=False)\n",
    "\n",
    "\n",
    "train_dataset = df = pd.read_csv('text_entailment_dataset/train_data.csv')\n",
    "validation_dataset = df = pd.read_csv('text_entailment_dataset/validation_data.csv')\n",
    "test_dataset = df = pd.read_csv('text_entailment_dataset/test_data.csv')\n"
   ],
   "metadata": {
    "collapsed": false
   }
  },
  {
   "cell_type": "code",
   "execution_count": 3,
   "outputs": [
    {
     "data": {
      "text/plain": "                                             premise  \\\n0  Four guys sitting around a table with two cand...   \n1  a little boy using a drill to make a hole in a...   \n2    People go by old white walls with gray squares.   \n3  About eight women in purple and blue dresses b...   \n4  Customers are standing in line to buy somethin...   \n\n                                          hypothesis  label  \n0                 Four guys are at a church service.      2  \n1                    The little boy is using a tool.      0  \n2   Males and females are in proximity of old walls.      0  \n3      About eight women in purple and blue dresses.      0  \n4  The customers leave the store after a satisfac...      2  ",
      "text/html": "<div>\n<style scoped>\n    .dataframe tbody tr th:only-of-type {\n        vertical-align: middle;\n    }\n\n    .dataframe tbody tr th {\n        vertical-align: top;\n    }\n\n    .dataframe thead th {\n        text-align: right;\n    }\n</style>\n<table border=\"1\" class=\"dataframe\">\n  <thead>\n    <tr style=\"text-align: right;\">\n      <th></th>\n      <th>premise</th>\n      <th>hypothesis</th>\n      <th>label</th>\n    </tr>\n  </thead>\n  <tbody>\n    <tr>\n      <th>0</th>\n      <td>Four guys sitting around a table with two cand...</td>\n      <td>Four guys are at a church service.</td>\n      <td>2</td>\n    </tr>\n    <tr>\n      <th>1</th>\n      <td>a little boy using a drill to make a hole in a...</td>\n      <td>The little boy is using a tool.</td>\n      <td>0</td>\n    </tr>\n    <tr>\n      <th>2</th>\n      <td>People go by old white walls with gray squares.</td>\n      <td>Males and females are in proximity of old walls.</td>\n      <td>0</td>\n    </tr>\n    <tr>\n      <th>3</th>\n      <td>About eight women in purple and blue dresses b...</td>\n      <td>About eight women in purple and blue dresses.</td>\n      <td>0</td>\n    </tr>\n    <tr>\n      <th>4</th>\n      <td>Customers are standing in line to buy somethin...</td>\n      <td>The customers leave the store after a satisfac...</td>\n      <td>2</td>\n    </tr>\n  </tbody>\n</table>\n</div>"
     },
     "execution_count": 3,
     "metadata": {},
     "output_type": "execute_result"
    }
   ],
   "source": [
    "train_dataset.head()"
   ],
   "metadata": {
    "collapsed": false
   }
  },
  {
   "cell_type": "code",
   "execution_count": 4,
   "outputs": [
    {
     "data": {
      "text/plain": "(351590, 3)"
     },
     "execution_count": 4,
     "metadata": {},
     "output_type": "execute_result"
    }
   ],
   "source": [
    "train_dataset.shape"
   ],
   "metadata": {
    "collapsed": false
   }
  },
  {
   "cell_type": "code",
   "execution_count": 5,
   "outputs": [
    {
     "data": {
      "text/plain": "                                             premise  \\\n0  A young couple looking at different types and ...   \n1  A man in a purple had climbs a rocky wall with...   \n2  A group of friends playing cards and trying to...   \n3             People looking at fish at an aquarium.   \n4  An older lady blowing out a 9 and a 0 number c...   \n\n                             hypothesis  label  \n0                   a couple is looking      0  \n1         A man is going to the temple.      2  \n2   The people are playing a card game.      0  \n3               People looking at fish.      0  \n4  A woman drinks coffee while driving.      2  ",
      "text/html": "<div>\n<style scoped>\n    .dataframe tbody tr th:only-of-type {\n        vertical-align: middle;\n    }\n\n    .dataframe tbody tr th {\n        vertical-align: top;\n    }\n\n    .dataframe thead th {\n        text-align: right;\n    }\n</style>\n<table border=\"1\" class=\"dataframe\">\n  <thead>\n    <tr style=\"text-align: right;\">\n      <th></th>\n      <th>premise</th>\n      <th>hypothesis</th>\n      <th>label</th>\n    </tr>\n  </thead>\n  <tbody>\n    <tr>\n      <th>0</th>\n      <td>A young couple looking at different types and ...</td>\n      <td>a couple is looking</td>\n      <td>0</td>\n    </tr>\n    <tr>\n      <th>1</th>\n      <td>A man in a purple had climbs a rocky wall with...</td>\n      <td>A man is going to the temple.</td>\n      <td>2</td>\n    </tr>\n    <tr>\n      <th>2</th>\n      <td>A group of friends playing cards and trying to...</td>\n      <td>The people are playing a card game.</td>\n      <td>0</td>\n    </tr>\n    <tr>\n      <th>3</th>\n      <td>People looking at fish at an aquarium.</td>\n      <td>People looking at fish.</td>\n      <td>0</td>\n    </tr>\n    <tr>\n      <th>4</th>\n      <td>An older lady blowing out a 9 and a 0 number c...</td>\n      <td>A woman drinks coffee while driving.</td>\n      <td>2</td>\n    </tr>\n  </tbody>\n</table>\n</div>"
     },
     "execution_count": 5,
     "metadata": {},
     "output_type": "execute_result"
    }
   ],
   "source": [
    "validation_dataset.head()"
   ],
   "metadata": {
    "collapsed": false
   }
  },
  {
   "cell_type": "code",
   "execution_count": 6,
   "outputs": [
    {
     "data": {
      "text/plain": "(109873, 3)"
     },
     "execution_count": 6,
     "metadata": {},
     "output_type": "execute_result"
    }
   ],
   "source": [
    "validation_dataset.shape"
   ],
   "metadata": {
    "collapsed": false
   }
  },
  {
   "cell_type": "code",
   "execution_count": 7,
   "outputs": [
    {
     "data": {
      "text/plain": "                                             premise  \\\n0  A quarterback is looking to set up a pass from...   \n1                         A woman speaking her mind.   \n2  Woman in a blue jacket sitting at the edge of ...   \n3        A man stands next to a lady with a dog hat.   \n4            A man is vending an assortment of hats.   \n\n                                          hypothesis  label  \n0                       the men are playing football      0  \n1                                   A woman talking.      0  \n2                                 A woman is at home      2  \n3  A man stands next to a strange homeless lady w...      1  \n4                                   a man sells hats      0  ",
      "text/html": "<div>\n<style scoped>\n    .dataframe tbody tr th:only-of-type {\n        vertical-align: middle;\n    }\n\n    .dataframe tbody tr th {\n        vertical-align: top;\n    }\n\n    .dataframe thead th {\n        text-align: right;\n    }\n</style>\n<table border=\"1\" class=\"dataframe\">\n  <thead>\n    <tr style=\"text-align: right;\">\n      <th></th>\n      <th>premise</th>\n      <th>hypothesis</th>\n      <th>label</th>\n    </tr>\n  </thead>\n  <tbody>\n    <tr>\n      <th>0</th>\n      <td>A quarterback is looking to set up a pass from...</td>\n      <td>the men are playing football</td>\n      <td>0</td>\n    </tr>\n    <tr>\n      <th>1</th>\n      <td>A woman speaking her mind.</td>\n      <td>A woman talking.</td>\n      <td>0</td>\n    </tr>\n    <tr>\n      <th>2</th>\n      <td>Woman in a blue jacket sitting at the edge of ...</td>\n      <td>A woman is at home</td>\n      <td>2</td>\n    </tr>\n    <tr>\n      <th>3</th>\n      <td>A man stands next to a lady with a dog hat.</td>\n      <td>A man stands next to a strange homeless lady w...</td>\n      <td>1</td>\n    </tr>\n    <tr>\n      <th>4</th>\n      <td>A man is vending an assortment of hats.</td>\n      <td>a man sells hats</td>\n      <td>0</td>\n    </tr>\n  </tbody>\n</table>\n</div>"
     },
     "execution_count": 7,
     "metadata": {},
     "output_type": "execute_result"
    }
   ],
   "source": [
    "test_dataset.head()"
   ],
   "metadata": {
    "collapsed": false
   }
  },
  {
   "cell_type": "code",
   "execution_count": 8,
   "outputs": [
    {
     "data": {
      "text/plain": "(87898, 3)"
     },
     "execution_count": 8,
     "metadata": {},
     "output_type": "execute_result"
    }
   ],
   "source": [
    "test_dataset.shape"
   ],
   "metadata": {
    "collapsed": false
   }
  },
  {
   "cell_type": "code",
   "execution_count": 9,
   "outputs": [],
   "source": [
    "train_dataset[[\"premise\"]] = train_dataset[[\"premise\"]].astype(str)\n",
    "train_dataset[\"premise\"] = train_dataset[\"premise\"].apply(utils.change_lower)\n",
    "train_dataset[\"premise\"] = train_dataset[\"premise\"].apply(utils.clean_data)\n",
    "train_dataset[\"premise\"] = train_dataset[\"premise\"].apply(utils.remover)\n",
    "\n",
    "test_dataset[[\"hypothesis\"]] = train_dataset[[\"hypothesis\"]].astype(str)\n",
    "train_dataset[\"hypothesis\"] = train_dataset[\"hypothesis\"].apply(utils.change_lower)\n",
    "train_dataset[\"hypothesis\"] = train_dataset[\"hypothesis\"].apply(utils.clean_data)\n",
    "train_dataset[\"hypothesis\"] = train_dataset[\"hypothesis\"].apply(utils.remover)\n",
    "\n",
    "validation_dataset[[\"premise\"]] = validation_dataset[[\"premise\"]].astype(str)\n",
    "validation_dataset[\"premise\"] = validation_dataset[\"premise\"].apply(utils.change_lower)\n",
    "validation_dataset[\"premise\"] = validation_dataset[\"premise\"].apply(utils.clean_data)\n",
    "validation_dataset[\"premise\"] = validation_dataset[\"premise\"].apply(utils.remover)\n",
    "\n",
    "validation_dataset[[\"hypothesis\"]] = validation_dataset[[\"hypothesis\"]].astype(str)\n",
    "validation_dataset[\"hypothesis\"] = validation_dataset[\"hypothesis\"].apply(utils.change_lower)\n",
    "validation_dataset[\"hypothesis\"] = validation_dataset[\"hypothesis\"].apply(utils.clean_data)\n",
    "validation_dataset[\"hypothesis\"] = validation_dataset[\"hypothesis\"].apply(utils.remover)\n",
    "\n",
    "test_dataset[[\"premise\"]] = test_dataset[[\"premise\"]].astype(str)\n",
    "test_dataset[\"premise\"] = test_dataset[\"premise\"].apply(utils.change_lower)\n",
    "test_dataset[\"premise\"] = test_dataset[\"premise\"].apply(utils.clean_data)\n",
    "test_dataset[\"premise\"] = test_dataset[\"premise\"].apply(utils.remover)\n",
    "\n",
    "test_dataset[[\"hypothesis\"]] = test_dataset[[\"hypothesis\"]].astype(str)\n",
    "test_dataset[\"hypothesis\"] = test_dataset[\"hypothesis\"].apply(utils.change_lower)\n",
    "test_dataset[\"hypothesis\"] = test_dataset[\"hypothesis\"].apply(utils.clean_data)\n",
    "test_dataset[\"hypothesis\"] = test_dataset[\"hypothesis\"].apply(utils.remover)"
   ],
   "metadata": {
    "collapsed": false
   }
  },
  {
   "cell_type": "code",
   "execution_count": 10,
   "outputs": [
    {
     "name": "stdout",
     "output_type": "stream",
     "text": [
      "Size of Vocabulary: 31284\n",
      "Size of Train Premise Sequences: 351590\n",
      "Size of Train Hypothesis Sequences: 351590\n"
     ]
    }
   ],
   "source": [
    "# Tokenize text data\n",
    "sentences = train_dataset['premise'].tolist() + train_dataset['hypothesis'].tolist()\n",
    "sentences = [sentence.split() for sentence in sentences]  # Split sentences into words\n",
    "\n",
    "word2vec_model = Word2Vec(sentences=sentences, vector_size=100, window=5, min_count=1, workers=4)\n",
    "\n",
    "tokenizer = Tokenizer(num_words=len(word2vec_model.wv.key_to_index) + 1)\n",
    "tokenizer.fit_on_texts(train_dataset['premise'].tolist() + train_dataset['hypothesis'].tolist())\n",
    "\n",
    "train_premise_sequences = tokenizer.texts_to_sequences(train_dataset['premise'].tolist())\n",
    "train_hypothesis_sequences = tokenizer.texts_to_sequences(train_dataset['hypothesis'].tolist())\n",
    "\n",
    "val_premise_sequences = tokenizer.texts_to_sequences(validation_dataset['premise'].tolist())\n",
    "val_hypothesis_sequences = tokenizer.texts_to_sequences(validation_dataset['hypothesis'].tolist())\n",
    "\n",
    "test_premise_sequences = tokenizer.texts_to_sequences(test_dataset['premise'].tolist())\n",
    "test_hypothesis_sequences = tokenizer.texts_to_sequences(test_dataset['hypothesis'].tolist())\n",
    "\n",
    "\n",
    "max_premise_length = max(len(seq) for seq in train_premise_sequences)\n",
    "max_hypothesis_length = max(len(seq) for seq in train_hypothesis_sequences)\n",
    "max_sequence_length = max(max_premise_length, max_hypothesis_length)\n",
    "\n",
    "\n",
    "train_premise_sequences = pad_sequences(train_premise_sequences, maxlen=max_sequence_length, padding='post')\n",
    "train_hypothesis_sequences = pad_sequences(train_hypothesis_sequences, maxlen=max_sequence_length, padding='post')\n",
    "\n",
    "val_premise_sequences = pad_sequences(val_premise_sequences, maxlen=max_sequence_length, padding='post')\n",
    "val_hypothesis_sequences = pad_sequences(val_hypothesis_sequences, maxlen=max_sequence_length, padding='post')\n",
    "\n",
    "test_premise_sequences = pad_sequences(test_premise_sequences, maxlen=max_sequence_length, padding='post')\n",
    "test_hypothesis_sequences = pad_sequences(test_hypothesis_sequences, maxlen=max_sequence_length, padding='post')\n",
    "\n",
    "embedding_matrix = np.zeros((len(tokenizer.word_index) + 1, 100))\n",
    "for word, i in tokenizer.word_index.items():\n",
    "    if word in word2vec_model.wv.key_to_index:\n",
    "        embedding_matrix[i] = word2vec_model.wv[word]\n",
    "\n",
    "print(\"Size of Vocabulary:\", len(tokenizer.word_index))\n",
    "print(\"Size of Train Premise Sequences:\", len(train_premise_sequences))\n",
    "print(\"Size of Train Hypothesis Sequences:\", len(train_hypothesis_sequences))\n"
   ],
   "metadata": {
    "collapsed": false
   }
  },
  {
   "cell_type": "code",
   "execution_count": 11,
   "outputs": [
    {
     "name": "stdout",
     "output_type": "stream",
     "text": [
      "45\n"
     ]
    }
   ],
   "source": [
    "print(max_sequence_length)"
   ],
   "metadata": {
    "collapsed": false
   }
  },
  {
   "cell_type": "code",
   "execution_count": 12,
   "outputs": [],
   "source": [
    "import pickle\n",
    "\n",
    "# Save the tokenizer object\n",
    "with open('tokenizer.pkl', 'wb') as f:\n",
    "    pickle.dump(tokenizer, f)\n"
   ],
   "metadata": {
    "collapsed": false
   }
  },
  {
   "cell_type": "code",
   "execution_count": 13,
   "outputs": [
    {
     "name": "stdout",
     "output_type": "stream",
     "text": [
      "(351590, 45)\n"
     ]
    }
   ],
   "source": [
    "print(train_premise_sequences.shape)"
   ],
   "metadata": {
    "collapsed": false
   }
  },
  {
   "cell_type": "code",
   "execution_count": 30,
   "outputs": [
    {
     "name": "stdout",
     "output_type": "stream",
     "text": [
      "train label shape: (351590, 3)\n",
      "val label shape: (109873, 3)\n",
      "test label shape: (87898, 3)\n"
     ]
    }
   ],
   "source": [
    "train_labels = train_dataset[\"label\"]\n",
    "validation_labels = validation_dataset[\"label\"]\n",
    "test_labels = test_dataset[\"label\"]\n",
    "\n",
    "# Convert to one-hot encoded format\n",
    "num_classes = len(set(train_labels))  # Calculate the number of classes\n",
    "train_labels = to_categorical(train_labels, num_classes=num_classes)\n",
    "validation_labels = to_categorical(validation_labels, num_classes=num_classes)\n",
    "test_labels = to_categorical(test_labels, num_classes=num_classes)\n",
    "\n",
    "print(\"train label shape:\", train_labels.shape)\n",
    "print(\"val label shape:\", validation_labels.shape)\n",
    "print(\"test label shape:\", test_labels.shape)"
   ],
   "metadata": {
    "collapsed": false
   }
  },
  {
   "cell_type": "code",
   "execution_count": 15,
   "outputs": [],
   "source": [
    "def data_generator(premise_sequences, hypothesis_sequences, labels, batch_size):\n",
    "    '''\n",
    "    Returns a data generator to be used for training or validation.\n",
    "\n",
    "    Yields batches of separate premise and hypothesis sequences (tokenized) and corresponding labels.\n",
    "\n",
    "    Args:\n",
    "      premise_sequences: List of tokenized premise sequences\n",
    "      hypothesis_sequences: List of tokenized hypothesis sequences\n",
    "      labels: List of corresponding labels\n",
    "      batch_size: Number of sequences per batch (premise and hypothesis pairs)\n",
    "\n",
    "    Returns:\n",
    "      Data generator\n",
    "    '''\n",
    "\n",
    "    num_samples = len(premise_sequences)\n",
    "    num_batches = (num_samples + batch_size - 1) // batch_size  # Calculate total number of batches\n",
    "    idx = 0  # Initialize index to keep track of where we are in the dataset\n",
    "\n",
    "    while True:  # Loop indefinitely to generate batches\n",
    "        batch_premise_sequences = premise_sequences[idx:idx+batch_size]\n",
    "        batch_hypothesis_sequences = hypothesis_sequences[idx:idx+batch_size]\n",
    "        batch_labels = labels[idx:idx+batch_size]\n",
    "\n",
    "        # Yield the batch (separate premise and hypothesis sequences)\n",
    "        yield ([batch_premise_sequences, batch_hypothesis_sequences], batch_labels)\n",
    "\n",
    "        # Move to the next batch\n",
    "        idx += batch_size\n",
    "\n",
    "        # If we reach the end of the dataset, start over\n",
    "        if idx + batch_size > num_samples:\n",
    "            idx = 0"
   ],
   "metadata": {
    "collapsed": false
   }
  },
  {
   "cell_type": "code",
   "execution_count": 16,
   "outputs": [],
   "source": [
    "batch_size = 32\n",
    "train_generator = data_generator(train_premise_sequences, train_hypothesis_sequences, train_labels, batch_size)\n",
    "val_generator = data_generator(val_premise_sequences, val_hypothesis_sequences, validation_labels, batch_size)\n",
    "\n",
    "steps_per_epoch = len(train_premise_sequences) // batch_size\n",
    "validation_steps = len(val_premise_sequences) // batch_size"
   ],
   "metadata": {
    "collapsed": false
   }
  },
  {
   "cell_type": "code",
   "execution_count": 17,
   "outputs": [
    {
     "name": "stdout",
     "output_type": "stream",
     "text": [
      "(32, 45)\n",
      "(32, 45)\n",
      "(32, 3)\n",
      "(32, 45)\n",
      "(32, 45)\n",
      "(32, 3)\n"
     ]
    }
   ],
   "source": [
    "sample_batch_X, sample_batch_y = next(train_generator)\n",
    "print(sample_batch_X[0].shape)\n",
    "print(sample_batch_X[1].shape)\n",
    "print(sample_batch_y.shape)\n",
    "\n",
    "sample_batch_X, sample_batch_y = next(val_generator)\n",
    "print(sample_batch_X[0].shape)\n",
    "print(sample_batch_X[1].shape)\n",
    "print(sample_batch_y.shape)"
   ],
   "metadata": {
    "collapsed": false
   }
  },
  {
   "cell_type": "code",
   "execution_count": 18,
   "outputs": [],
   "source": [
    "class MetricsCallback(Callback):\n",
    "    def __init__(self, val_premise_sequences, val_hypothesis_sequences, val_labels):\n",
    "        super(MetricsCallback, self).__init__()\n",
    "        self.val_premise_sequences = val_premise_sequences\n",
    "        self.val_hypothesis_sequences = val_hypothesis_sequences\n",
    "        self.val_labels = val_labels\n",
    "        self.metrics = {'epoch': [], 'precision': [], 'recall': [], 'f1': [], 'val_loss': [], 'val_accuracy': [], 'loss': [], 'accuracy': []}\n",
    "\n",
    "    def on_epoch_end(self, epoch, logs=None):\n",
    "        val_loss, val_accuracy = self.model.evaluate(\n",
    "            [self.val_premise_sequences, self.val_hypothesis_sequences], self.val_labels, verbose=0)\n",
    "        val_pred = self.model.predict([self.val_premise_sequences, self.val_hypothesis_sequences])\n",
    "        val_pred_classes = np.argmax(val_pred, axis=1)  # Convert probabilities to classes\n",
    "\n",
    "        precision = precision_score(np.argmax(self.val_labels, axis=1), val_pred_classes, average='weighted')\n",
    "        recall = recall_score(np.argmax(self.val_labels, axis=1), val_pred_classes, average='weighted')\n",
    "        f1 = f1_score(np.argmax(self.val_labels, axis=1), val_pred_classes, average='weighted')\n",
    "\n",
    "        self.metrics['epoch'].append(epoch + 1)\n",
    "        self.metrics['precision'].append(precision)\n",
    "        self.metrics['recall'].append(recall)\n",
    "        self.metrics['f1'].append(f1)\n",
    "        self.metrics['val_loss'].append(val_loss)\n",
    "        self.metrics['val_accuracy'].append(val_accuracy)\n",
    "        self.metrics['loss'].append(logs['loss'])\n",
    "        self.metrics['accuracy'].append(logs['accuracy'])\n",
    "\n",
    "        print(\"Epoch {}: Validation Precision = {:.4f}, Recall = {:.4f}, F1 Score = {:.4f}, Val Loss = {:.4f}, Val Accuracy = {:.4f}\".format(epoch + 1, precision, recall, f1, val_loss, val_accuracy))"
   ],
   "metadata": {
    "collapsed": false
   }
  },
  {
   "cell_type": "code",
   "execution_count": 19,
   "outputs": [],
   "source": [
    "metrics_callback = MetricsCallback(val_premise_sequences, val_hypothesis_sequences, validation_labels)\n",
    "\n",
    "checkpoint = ModelCheckpoint('best_model.h5', monitor='val_loss', mode='min', save_best_only=True, verbose=1)"
   ],
   "metadata": {
    "collapsed": false
   }
  },
  {
   "cell_type": "code",
   "execution_count": 20,
   "outputs": [],
   "source": [
    "# Define embedding layer based on embedding matrix (assuming pre-trained Word2Vec)\n",
    "embedding_layer = Embedding(input_dim=embedding_matrix.shape[0],\n",
    "                            output_dim=embedding_matrix.shape[1],\n",
    "                            weights=[embedding_matrix],\n",
    "                            trainable=False)\n",
    "\n",
    "# Input layers for premise and hypothesis sequences\n",
    "premise_input = Input(shape=(max_sequence_length,))\n",
    "hypothesis_input = Input(shape=(max_sequence_length,))\n",
    "\n",
    "# Embedding layers for premise and hypothesis inputs\n",
    "embedded_premise = embedding_layer(premise_input)\n",
    "embedded_hypothesis = embedding_layer(hypothesis_input)\n",
    "\n",
    "# LSTM layers for premise and hypothesis sequences\n",
    "premise_lstm = LSTM(units=67, dropout=0.2783331011414365)(embedded_premise)\n",
    "hypothesis_lstm = LSTM(units=67, dropout=0.2783331011414365)(embedded_hypothesis)\n",
    "\n",
    "# Concatenate LSTM outputs\n",
    "combined_lstm = Concatenate()([premise_lstm, hypothesis_lstm])\n",
    "\n",
    "# Final dense layers for prediction with 3 outputs (entailment, neutral, contradiction)\n",
    "dense1 = Dense(units=89, activation='relu')(combined_lstm)\n",
    "dense1_dropout = Dropout(0.13998996632720118)(dense1)  # Add dropout after dense layer\n",
    "output = Dense(units=3, activation='softmax')(dense1_dropout)\n",
    "\n",
    "# Define the model with premise and hypothesis sequence inputs\n",
    "model = tf.keras.Model(inputs=[premise_input, hypothesis_input], outputs=output)\n",
    "\n",
    "# Compile the model\n",
    "model.compile(optimizer=tf.keras.optimizers.legacy.Adam(learning_rate=0.001000649183264211),\n",
    "              loss='categorical_crossentropy',  # Use categorical cross-entropy for one-hot encoded labels\n",
    "              metrics=['accuracy'])"
   ],
   "metadata": {
    "collapsed": false
   }
  },
  {
   "cell_type": "code",
   "execution_count": 21,
   "outputs": [
    {
     "name": "stdout",
     "output_type": "stream",
     "text": [
      "351590\n",
      "109873\n"
     ]
    }
   ],
   "source": [
    "print(len(train_premise_sequences))\n",
    "print(len(val_premise_sequences))"
   ],
   "metadata": {
    "collapsed": false
   }
  },
  {
   "cell_type": "code",
   "execution_count": 22,
   "outputs": [
    {
     "name": "stdout",
     "output_type": "stream",
     "text": [
      "Model: \"model\"\n",
      "__________________________________________________________________________________________________\n",
      " Layer (type)                   Output Shape         Param #     Connected to                     \n",
      "==================================================================================================\n",
      " input_1 (InputLayer)           [(None, 45)]         0           []                               \n",
      "                                                                                                  \n",
      " input_2 (InputLayer)           [(None, 45)]         0           []                               \n",
      "                                                                                                  \n",
      " embedding (Embedding)          (None, 45, 100)      3128500     ['input_1[0][0]',                \n",
      "                                                                  'input_2[0][0]']                \n",
      "                                                                                                  \n",
      " lstm (LSTM)                    (None, 67)           45024       ['embedding[0][0]']              \n",
      "                                                                                                  \n",
      " lstm_1 (LSTM)                  (None, 67)           45024       ['embedding[1][0]']              \n",
      "                                                                                                  \n",
      " concatenate (Concatenate)      (None, 134)          0           ['lstm[0][0]',                   \n",
      "                                                                  'lstm_1[0][0]']                 \n",
      "                                                                                                  \n",
      " dense (Dense)                  (None, 89)           12015       ['concatenate[0][0]']            \n",
      "                                                                                                  \n",
      " dropout (Dropout)              (None, 89)           0           ['dense[0][0]']                  \n",
      "                                                                                                  \n",
      " dense_1 (Dense)                (None, 3)            270         ['dropout[0][0]']                \n",
      "                                                                                                  \n",
      "==================================================================================================\n",
      "Total params: 3,230,833\n",
      "Trainable params: 102,333\n",
      "Non-trainable params: 3,128,500\n",
      "__________________________________________________________________________________________________\n"
     ]
    }
   ],
   "source": [
    "model.summary()"
   ],
   "metadata": {
    "collapsed": false
   }
  },
  {
   "cell_type": "code",
   "execution_count": 23,
   "outputs": [
    {
     "name": "stdout",
     "output_type": "stream",
     "text": [
      "Epoch 1/10\n",
      "3434/3434 [==============================] - 21s 6ms/step\n",
      "Epoch 1: Validation Precision = 0.5918, Recall = 0.5891, F1 Score = 0.5886, Val Loss = 0.8942, Val Accuracy = 0.5891\n",
      "\n",
      "Epoch 1: val_loss improved from inf to 0.89422, saving model to best_model.h5\n",
      "10987/10987 [==============================] - 219s 20ms/step - loss: 0.9535 - accuracy: 0.5450 - val_loss: 0.8942 - val_accuracy: 0.5891\n",
      "Epoch 2/10\n",
      "3434/3434 [==============================] - 17s 5ms/step\n",
      "Epoch 2: Validation Precision = 0.6035, Recall = 0.5998, F1 Score = 0.5983, Val Loss = 0.8721, Val Accuracy = 0.5998\n",
      "\n",
      "Epoch 2: val_loss improved from 0.89422 to 0.87210, saving model to best_model.h5\n",
      "10987/10987 [==============================] - 212s 19ms/step - loss: 0.9006 - accuracy: 0.5806 - val_loss: 0.8721 - val_accuracy: 0.5998\n",
      "Epoch 3/10\n",
      "3434/3434 [==============================] - 17s 5ms/step\n",
      "Epoch 3: Validation Precision = 0.6088, Recall = 0.6033, F1 Score = 0.6017, Val Loss = 0.8664, Val Accuracy = 0.6033\n",
      "\n",
      "Epoch 3: val_loss improved from 0.87210 to 0.86645, saving model to best_model.h5\n",
      "10987/10987 [==============================] - 217s 20ms/step - loss: 0.8844 - accuracy: 0.5902 - val_loss: 0.8665 - val_accuracy: 0.6033\n",
      "Epoch 4/10\n",
      "3434/3434 [==============================] - 17s 5ms/step\n",
      "Epoch 4: Validation Precision = 0.6111, Recall = 0.6076, F1 Score = 0.6064, Val Loss = 0.8603, Val Accuracy = 0.6076\n",
      "\n",
      "Epoch 4: val_loss improved from 0.86645 to 0.86032, saving model to best_model.h5\n",
      "10987/10987 [==============================] - 219s 20ms/step - loss: 0.8757 - accuracy: 0.5953 - val_loss: 0.8603 - val_accuracy: 0.6076\n",
      "Epoch 5/10\n",
      "3434/3434 [==============================] - 17s 5ms/step\n",
      "Epoch 5: Validation Precision = 0.6154, Recall = 0.6097, F1 Score = 0.6083, Val Loss = 0.8547, Val Accuracy = 0.6097\n",
      "\n",
      "Epoch 5: val_loss improved from 0.86032 to 0.85473, saving model to best_model.h5\n",
      "10987/10987 [==============================] - 218s 20ms/step - loss: 0.8698 - accuracy: 0.5991 - val_loss: 0.8547 - val_accuracy: 0.6097\n",
      "Epoch 6/10\n",
      "3434/3434 [==============================] - 17s 5ms/step\n",
      "Epoch 6: Validation Precision = 0.6164, Recall = 0.6086, F1 Score = 0.6070, Val Loss = 0.8503, Val Accuracy = 0.6086\n",
      "\n",
      "Epoch 6: val_loss improved from 0.85473 to 0.85029, saving model to best_model.h5\n",
      "10987/10987 [==============================] - 215s 20ms/step - loss: 0.8651 - accuracy: 0.6025 - val_loss: 0.8503 - val_accuracy: 0.6086\n",
      "Epoch 7/10\n",
      "3434/3434 [==============================] - 17s 5ms/step\n",
      "Epoch 7: Validation Precision = 0.6169, Recall = 0.6134, F1 Score = 0.6127, Val Loss = 0.8452, Val Accuracy = 0.6134\n",
      "\n",
      "Epoch 7: val_loss improved from 0.85029 to 0.84526, saving model to best_model.h5\n",
      "10987/10987 [==============================] - 213s 19ms/step - loss: 0.8623 - accuracy: 0.6041 - val_loss: 0.8453 - val_accuracy: 0.6134\n",
      "Epoch 8/10\n",
      "3434/3434 [==============================] - 17s 5ms/step\n",
      "Epoch 8: Validation Precision = 0.6181, Recall = 0.6118, F1 Score = 0.6101, Val Loss = 0.8493, Val Accuracy = 0.6118\n",
      "\n",
      "Epoch 8: val_loss did not improve from 0.84526\n",
      "10987/10987 [==============================] - 218s 20ms/step - loss: 0.8599 - accuracy: 0.6057 - val_loss: 0.8493 - val_accuracy: 0.6118\n",
      "Epoch 9/10\n",
      "3434/3434 [==============================] - 18s 5ms/step\n",
      "Epoch 9: Validation Precision = 0.6181, Recall = 0.6166, F1 Score = 0.6160, Val Loss = 0.8423, Val Accuracy = 0.6166\n",
      "\n",
      "Epoch 9: val_loss improved from 0.84526 to 0.84237, saving model to best_model.h5\n",
      "10987/10987 [==============================] - 216s 20ms/step - loss: 0.8575 - accuracy: 0.6068 - val_loss: 0.8424 - val_accuracy: 0.6165\n",
      "Epoch 10/10\n",
      "3434/3434 [==============================] - 17s 5ms/step\n",
      "Epoch 10: Validation Precision = 0.6183, Recall = 0.6160, F1 Score = 0.6153, Val Loss = 0.8427, Val Accuracy = 0.6160\n",
      "\n",
      "Epoch 10: val_loss did not improve from 0.84237\n",
      "10987/10987 [==============================] - 219s 20ms/step - loss: 0.8555 - accuracy: 0.6082 - val_loss: 0.8427 - val_accuracy: 0.6160\n"
     ]
    }
   ],
   "source": [
    "history = model.fit(train_generator,\n",
    "                              steps_per_epoch=steps_per_epoch,\n",
    "                              epochs=10,\n",
    "                              validation_data=val_generator,\n",
    "                              validation_steps=validation_steps,\n",
    "                              callbacks=[metrics_callback, checkpoint])"
   ],
   "metadata": {
    "collapsed": false
   }
  },
  {
   "cell_type": "code",
   "execution_count": 24,
   "outputs": [],
   "source": [
    "epochs = metrics_callback.metrics['epoch']\n",
    "precision = metrics_callback.metrics['precision']\n",
    "recall = metrics_callback.metrics['recall']\n",
    "f1 = metrics_callback.metrics['f1']\n",
    "accuracy = metrics_callback.metrics['accuracy']\n",
    "loss = metrics_callback.metrics['loss']\n",
    "val_accuracy = metrics_callback.metrics['val_accuracy']\n",
    "val_loss = metrics_callback.metrics['val_loss']"
   ],
   "metadata": {
    "collapsed": false
   }
  },
  {
   "cell_type": "code",
   "execution_count": 25,
   "outputs": [
    {
     "data": {
      "text/plain": "<Figure size 1000x500 with 1 Axes>",
      "image/png": "[encoded data removed]"
     },
     "metadata": {},
     "output_type": "display_data"
    }
   ],
   "source": [
    "# Plot all four metrics on one graph\n",
    "plt.figure(figsize=(10, 5))\n",
    "plt.plot(epochs, val_loss, label='Validation Loss')\n",
    "plt.plot(epochs, val_accuracy, label='Validation Accuracy')\n",
    "plt.plot(epochs, loss, label='Training Loss')\n",
    "plt.plot(epochs, accuracy, label='Training Accuracy')\n",
    "\n",
    "plt.title('Metrics across Epochs')\n",
    "plt.xlabel('Epoch')\n",
    "plt.xticks(epochs)\n",
    "plt.legend()\n",
    "plt.savefig(\"LSTM_RNN_val_loss_acc.pdf\")  # Save the plot before showing\n",
    "plt.show()\n"
   ],
   "metadata": {
    "collapsed": false
   }
  },
  {
   "cell_type": "code",
   "execution_count": 26,
   "outputs": [
    {
     "data": {
      "text/plain": "<Figure size 1000x500 with 1 Axes>",
      "image/png": "[encoded data removed]"
     },
     "metadata": {},
     "output_type": "display_data"
    }
   ],
   "source": [
    "# Plot all four metrics on one graph\n",
    "plt.figure(figsize=(10, 5))\n",
    "plt.plot(epochs, precision, label='Precision')\n",
    "plt.plot(epochs, recall, label='Recall')\n",
    "plt.plot(epochs, f1, label='F1 Score')\n",
    "plt.plot(epochs, accuracy, label='Accuracy')\n",
    "\n",
    "plt.title('Metrics across Epochs')\n",
    "plt.xlabel('Epoch')\n",
    "plt.xticks(epochs)\n",
    "plt.legend()\n",
    "plt.savefig(\"LSTM_RNN_PRFA.pdf\")\n",
    "plt.show()"
   ],
   "metadata": {
    "collapsed": false
   }
  },
  {
   "cell_type": "code",
   "execution_count": 37,
   "outputs": [
    {
     "name": "stdout",
     "output_type": "stream",
     "text": [
      "2747/2747 [==============================] - 13s 5ms/step\n",
      "Final Test Accuracy: 0.33202120639832533\n",
      "Final Test Precision: 0.3317816270808972\n",
      "Final Test Recall: 0.33202120639832533\n",
      "Final Test F1 Score: 0.3309799910218677\n"
     ]
    }
   ],
   "source": [
    "# Predict probabilities on the test set\n",
    "y_pred = model.predict([test_premise_sequences, test_hypothesis_sequences])\n",
    "\n",
    "# Calculate performance metrics\n",
    "test_pred_classes = np.argmax(y_pred, axis=1)  # Convert probabilities to classes\n",
    "\n",
    "accuracy = accuracy_score(np.argmax(test_labels, axis=1), test_pred_classes)\n",
    "precision = precision_score(np.argmax(test_labels, axis=1), test_pred_classes, average='weighted')\n",
    "recall = recall_score(np.argmax(test_labels, axis=1), test_pred_classes, average='weighted')\n",
    "f1 = f1_score(np.argmax(test_labels, axis=1), test_pred_classes, average='weighted')\n",
    "\n",
    "print(\"Final Test Accuracy:\", accuracy)\n",
    "print(\"Final Test Precision:\", precision)\n",
    "print(\"Final Test Recall:\", recall)\n",
    "print(\"Final Test F1 Score:\", f1)"
   ],
   "metadata": {
    "collapsed": false
   }
  },
  {
   "cell_type": "markdown",
   "source": [],
   "metadata": {
    "collapsed": false
   }
  }
 ],
 "metadata": {
  "kernelspec": {
   "display_name": "Python 3",
   "language": "python",
   "name": "python3"
  },
  "language_info": {
   "codemirror_mode": {
    "name": "ipython",
    "version": 2
   },
   "file_extension": ".py",
   "mimetype": "text/x-python",
   "name": "python",
   "nbconvert_exporter": "python",
   "pygments_lexer": "ipython2",
   "version": "2.7.6"
  }
 },
 "nbformat": 4,
 "nbformat_minor": 0
}
