{
 "cells": [
  {
   "cell_type": "code",
   "execution_count": 1,
   "metadata": {
    "collapsed": true
   },
   "outputs": [
    {
     "name": "stderr",
     "output_type": "stream",
     "text": [
      "[nltk_data] Downloading package stopwords to\n",
      "[nltk_data]     /Users/joshuasegal/nltk_data...\n",
      "[nltk_data]   Package stopwords is already up-to-date!\n"
     ]
    }
   ],
   "source": [
    "import pandas as pd\n",
    "from sklearn.model_selection import train_test_split\n",
    "import utils as utils\n",
    "\n",
    "import numpy as np\n",
    "import tensorflow as tf\n",
    "import keras\n",
    "from keras import layers\n",
    "\n",
    "from keras.preprocessing.text import Tokenizer\n",
    "from tensorflow.keras.preprocessing.sequence import pad_sequences\n",
    "from keras.utils import to_categorical\n",
    "\n",
    "from keras.models import Sequential\n",
    "from keras.layers import LSTM, Dense\n",
    "\n",
    "from gensim.models import Word2Vec\n",
    "\n",
    "from tensorflow.keras.callbacks import Callback, ModelCheckpoint\n",
    "from sklearn.metrics import precision_score, recall_score, f1_score\n",
    "\n",
    "import matplotlib.pyplot as plt"
   ]
  },
  {
   "cell_type": "code",
   "execution_count": 2,
   "outputs": [],
   "source": [
    "# Read the CSV file into a DataFrame\n",
    "df = pd.read_csv('text_entailment_dataset/train.csv')\n",
    "\n",
    "# Shuffle the DataFrame\n",
    "df = df.sample(frac=1, random_state=42)  # Shuffle with fixed seed for reproducibility\n",
    "\n",
    "# Split the data into training and validation sets\n",
    "train_df, validation_df = train_test_split(df, test_size=0.1, random_state=42)\n",
    "\n",
    "# Write the training and validation DataFrames to separate CSV files\n",
    "train_df.to_csv('text_entailment_dataset/train_data.csv', index=False)\n",
    "validation_df.to_csv('text_entailment_dataset/validation_data.csv', index=False)\n",
    "\n",
    "\n",
    "train_dataset = df = pd.read_csv('text_entailment_dataset/train_data.csv')\n",
    "validation_dataset = df = pd.read_csv('text_entailment_dataset/validation_data.csv')\n",
    "test_dataset = df = pd.read_csv('text_entailment_dataset/test_data.csv')\n"
   ],
   "metadata": {
    "collapsed": false
   }
  },
  {
   "cell_type": "code",
   "execution_count": 3,
   "outputs": [
    {
     "data": {
      "text/plain": "                                             premise  \\\n0                           a dog chases a red ball.   \n1  A carefully dressed you boy is nonverbally com...   \n2           A black and white dog jumps in the snow.   \n3  A man singing and playing guitar on a busy sid...   \n4       A man holding a rifle next to his brown dog.   \n\n                                          hypothesis  label  \n0                       A cute dog paly with a ball.      0  \n1  A young boy dressed in a potato sack is trying...      2  \n2                The dogs are leaping into the snow.      0  \n3             A man is performing on a city sidewalk      0  \n4                          A man is climbing a tree.      2  ",
      "text/html": "<div>\n<style scoped>\n    .dataframe tbody tr th:only-of-type {\n        vertical-align: middle;\n    }\n\n    .dataframe tbody tr th {\n        vertical-align: top;\n    }\n\n    .dataframe thead th {\n        text-align: right;\n    }\n</style>\n<table border=\"1\" class=\"dataframe\">\n  <thead>\n    <tr style=\"text-align: right;\">\n      <th></th>\n      <th>premise</th>\n      <th>hypothesis</th>\n      <th>label</th>\n    </tr>\n  </thead>\n  <tbody>\n    <tr>\n      <th>0</th>\n      <td>a dog chases a red ball.</td>\n      <td>A cute dog paly with a ball.</td>\n      <td>0</td>\n    </tr>\n    <tr>\n      <th>1</th>\n      <td>A carefully dressed you boy is nonverbally com...</td>\n      <td>A young boy dressed in a potato sack is trying...</td>\n      <td>2</td>\n    </tr>\n    <tr>\n      <th>2</th>\n      <td>A black and white dog jumps in the snow.</td>\n      <td>The dogs are leaping into the snow.</td>\n      <td>0</td>\n    </tr>\n    <tr>\n      <th>3</th>\n      <td>A man singing and playing guitar on a busy sid...</td>\n      <td>A man is performing on a city sidewalk</td>\n      <td>0</td>\n    </tr>\n    <tr>\n      <th>4</th>\n      <td>A man holding a rifle next to his brown dog.</td>\n      <td>A man is climbing a tree.</td>\n      <td>2</td>\n    </tr>\n  </tbody>\n</table>\n</div>"
     },
     "execution_count": 3,
     "metadata": {},
     "output_type": "execute_result"
    }
   ],
   "source": [
    "train_dataset.head()"
   ],
   "metadata": {
    "collapsed": false
   }
  },
  {
   "cell_type": "code",
   "execution_count": 4,
   "outputs": [
    {
     "data": {
      "text/plain": "(494424, 3)"
     },
     "execution_count": 4,
     "metadata": {},
     "output_type": "execute_result"
    }
   ],
   "source": [
    "train_dataset.shape"
   ],
   "metadata": {
    "collapsed": false
   }
  },
  {
   "cell_type": "code",
   "execution_count": 5,
   "outputs": [
    {
     "data": {
      "text/plain": "                                             premise  \\\n0  A young couple looking at different types and ...   \n1  A man in a purple had climbs a rocky wall with...   \n2  A group of friends playing cards and trying to...   \n3             People looking at fish at an aquarium.   \n4  An older lady blowing out a 9 and a 0 number c...   \n\n                             hypothesis  label  \n0                   a couple is looking      0  \n1         A man is going to the temple.      2  \n2   The people are playing a card game.      0  \n3               People looking at fish.      0  \n4  A woman drinks coffee while driving.      2  ",
      "text/html": "<div>\n<style scoped>\n    .dataframe tbody tr th:only-of-type {\n        vertical-align: middle;\n    }\n\n    .dataframe tbody tr th {\n        vertical-align: top;\n    }\n\n    .dataframe thead th {\n        text-align: right;\n    }\n</style>\n<table border=\"1\" class=\"dataframe\">\n  <thead>\n    <tr style=\"text-align: right;\">\n      <th></th>\n      <th>premise</th>\n      <th>hypothesis</th>\n      <th>label</th>\n    </tr>\n  </thead>\n  <tbody>\n    <tr>\n      <th>0</th>\n      <td>A young couple looking at different types and ...</td>\n      <td>a couple is looking</td>\n      <td>0</td>\n    </tr>\n    <tr>\n      <th>1</th>\n      <td>A man in a purple had climbs a rocky wall with...</td>\n      <td>A man is going to the temple.</td>\n      <td>2</td>\n    </tr>\n    <tr>\n      <th>2</th>\n      <td>A group of friends playing cards and trying to...</td>\n      <td>The people are playing a card game.</td>\n      <td>0</td>\n    </tr>\n    <tr>\n      <th>3</th>\n      <td>People looking at fish at an aquarium.</td>\n      <td>People looking at fish.</td>\n      <td>0</td>\n    </tr>\n    <tr>\n      <th>4</th>\n      <td>An older lady blowing out a 9 and a 0 number c...</td>\n      <td>A woman drinks coffee while driving.</td>\n      <td>2</td>\n    </tr>\n  </tbody>\n</table>\n</div>"
     },
     "execution_count": 5,
     "metadata": {},
     "output_type": "execute_result"
    }
   ],
   "source": [
    "validation_dataset.head()"
   ],
   "metadata": {
    "collapsed": false
   }
  },
  {
   "cell_type": "code",
   "execution_count": 6,
   "outputs": [
    {
     "data": {
      "text/plain": "(54937, 3)"
     },
     "execution_count": 6,
     "metadata": {},
     "output_type": "execute_result"
    }
   ],
   "source": [
    "validation_dataset.shape"
   ],
   "metadata": {
    "collapsed": false
   }
  },
  {
   "cell_type": "code",
   "execution_count": 7,
   "outputs": [
    {
     "data": {
      "text/plain": "                                             premise  \\\n0  This church choir sings to the masses as they ...   \n1  This church choir sings to the masses as they ...   \n2  This church choir sings to the masses as they ...   \n3  A woman with a green headscarf, blue shirt and...   \n4  A woman with a green headscarf, blue shirt and...   \n\n                              hypothesis  \n0  The church has cracks in the ceiling.  \n1        The church is filled with song.  \n2    A choir singing at a baseball game.  \n3                    The woman is young.  \n4               The woman is very happy.  ",
      "text/html": "<div>\n<style scoped>\n    .dataframe tbody tr th:only-of-type {\n        vertical-align: middle;\n    }\n\n    .dataframe tbody tr th {\n        vertical-align: top;\n    }\n\n    .dataframe thead th {\n        text-align: right;\n    }\n</style>\n<table border=\"1\" class=\"dataframe\">\n  <thead>\n    <tr style=\"text-align: right;\">\n      <th></th>\n      <th>premise</th>\n      <th>hypothesis</th>\n    </tr>\n  </thead>\n  <tbody>\n    <tr>\n      <th>0</th>\n      <td>This church choir sings to the masses as they ...</td>\n      <td>The church has cracks in the ceiling.</td>\n    </tr>\n    <tr>\n      <th>1</th>\n      <td>This church choir sings to the masses as they ...</td>\n      <td>The church is filled with song.</td>\n    </tr>\n    <tr>\n      <th>2</th>\n      <td>This church choir sings to the masses as they ...</td>\n      <td>A choir singing at a baseball game.</td>\n    </tr>\n    <tr>\n      <th>3</th>\n      <td>A woman with a green headscarf, blue shirt and...</td>\n      <td>The woman is young.</td>\n    </tr>\n    <tr>\n      <th>4</th>\n      <td>A woman with a green headscarf, blue shirt and...</td>\n      <td>The woman is very happy.</td>\n    </tr>\n  </tbody>\n</table>\n</div>"
     },
     "execution_count": 7,
     "metadata": {},
     "output_type": "execute_result"
    }
   ],
   "source": [
    "test_dataset.head()"
   ],
   "metadata": {
    "collapsed": false
   }
  },
  {
   "cell_type": "code",
   "execution_count": 8,
   "outputs": [
    {
     "data": {
      "text/plain": "(9824, 2)"
     },
     "execution_count": 8,
     "metadata": {},
     "output_type": "execute_result"
    }
   ],
   "source": [
    "test_dataset.shape"
   ],
   "metadata": {
    "collapsed": false
   }
  },
  {
   "cell_type": "code",
   "execution_count": 9,
   "outputs": [],
   "source": [
    "train_dataset[[\"premise\"]] = train_dataset[[\"premise\"]].astype(str)\n",
    "train_dataset[\"premise\"] = train_dataset[\"premise\"].apply(utils.change_lower)\n",
    "train_dataset[\"premise\"] = train_dataset[\"premise\"].apply(utils.clean_data)\n",
    "train_dataset[\"premise\"] = train_dataset[\"premise\"].apply(utils.remover)\n",
    "\n",
    "test_dataset[[\"hypothesis\"]] = train_dataset[[\"hypothesis\"]].astype(str)\n",
    "train_dataset[\"hypothesis\"] = train_dataset[\"hypothesis\"].apply(utils.change_lower)\n",
    "train_dataset[\"hypothesis\"] = train_dataset[\"hypothesis\"].apply(utils.clean_data)\n",
    "train_dataset[\"hypothesis\"] = train_dataset[\"hypothesis\"].apply(utils.remover)\n",
    "\n",
    "validation_dataset[[\"premise\"]] = validation_dataset[[\"premise\"]].astype(str)\n",
    "validation_dataset[\"premise\"] = validation_dataset[\"premise\"].apply(utils.change_lower)\n",
    "validation_dataset[\"premise\"] = validation_dataset[\"premise\"].apply(utils.clean_data)\n",
    "validation_dataset[\"premise\"] = validation_dataset[\"premise\"].apply(utils.remover)\n",
    "\n",
    "validation_dataset[[\"hypothesis\"]] = validation_dataset[[\"hypothesis\"]].astype(str)\n",
    "validation_dataset[\"hypothesis\"] = validation_dataset[\"hypothesis\"].apply(utils.change_lower)\n",
    "validation_dataset[\"hypothesis\"] = validation_dataset[\"hypothesis\"].apply(utils.clean_data)\n",
    "validation_dataset[\"hypothesis\"] = validation_dataset[\"hypothesis\"].apply(utils.remover)\n",
    "\n",
    "test_dataset[[\"premise\"]] = test_dataset[[\"premise\"]].astype(str)\n",
    "test_dataset[\"premise\"] = test_dataset[\"premise\"].apply(utils.change_lower)\n",
    "test_dataset[\"premise\"] = test_dataset[\"premise\"].apply(utils.clean_data)\n",
    "test_dataset[\"premise\"] = test_dataset[\"premise\"].apply(utils.remover)\n",
    "\n",
    "test_dataset[[\"hypothesis\"]] = test_dataset[[\"hypothesis\"]].astype(str)\n",
    "test_dataset[\"hypothesis\"] = test_dataset[\"hypothesis\"].apply(utils.change_lower)\n",
    "test_dataset[\"hypothesis\"] = test_dataset[\"hypothesis\"].apply(utils.clean_data)\n",
    "test_dataset[\"hypothesis\"] = test_dataset[\"hypothesis\"].apply(utils.remover)"
   ],
   "metadata": {
    "collapsed": false
   }
  },
  {
   "cell_type": "code",
   "execution_count": 10,
   "outputs": [],
   "source": [
    "X_train = train_dataset['premise'] + train_dataset['hypothesis']\n",
    "X_Val = validation_dataset['premise'] + validation_dataset['hypothesis']\n",
    "X_test = test_dataset['premise'] + test_dataset['hypothesis']\n"
   ],
   "metadata": {
    "collapsed": false
   }
  },
  {
   "cell_type": "code",
   "execution_count": 11,
   "outputs": [
    {
     "name": "stdout",
     "output_type": "stream",
     "text": [
      "Size of Vocabulary: 143279\n",
      "Size of Train Sequences: 494424\n",
      "Size of Validation Sequences: 54937\n",
      "Size of Test Sequences: 9824\n"
     ]
    }
   ],
   "source": [
    "# Tokenize text data\n",
    "tokenizer = Tokenizer(oov_token=\"<UNK>\")\n",
    "tokenizer.fit_on_texts(X_train)\n",
    "\n",
    "train_sequences = tokenizer.texts_to_sequences(X_train)\n",
    "val_sequences = tokenizer.texts_to_sequences(X_Val)\n",
    "test_sequences = tokenizer.texts_to_sequences(X_test)\n",
    "\n",
    "max_sequence_length = max(len(seq) for seq in train_sequences)\n",
    "# Train Word2Vec model\n",
    "word2vec_model = Word2Vec(sentences=train_sequences, vector_size=100, window=5, min_count=1, workers=4)\n",
    "\n",
    "print(\"Size of Vocabulary:\", len(tokenizer.word_index))\n",
    "print(\"Size of Train Sequences:\", len(train_sequences))\n",
    "print(\"Size of Validation Sequences:\", len(val_sequences))\n",
    "print(\"Size of Test Sequences:\", len(test_sequences))\n",
    "\n"
   ],
   "metadata": {
    "collapsed": false
   }
  },
  {
   "cell_type": "code",
   "execution_count": 12,
   "outputs": [
    {
     "name": "stdout",
     "output_type": "stream",
     "text": [
      "Vectorized Train Data Shape: (494424, 64, 100)\n"
     ]
    }
   ],
   "source": [
    "# Generate word embeddings for each word in the sequences and pad sequences\n",
    "train_vectorized_data = []\n",
    "for seq in train_sequences:\n",
    "    # Generate embeddings for individual words in the sequence\n",
    "    word_embeddings = [word2vec_model.wv[word_index] for word_index in seq]\n",
    "    # Pad the sequence of embeddings to the maximum length\n",
    "    padded_embeddings = pad_sequences([word_embeddings], maxlen=max_sequence_length, padding='post', dtype='float32')[0]\n",
    "\n",
    "    # Append padded embeddings to vectorized_data\n",
    "    train_vectorized_data.append(padded_embeddings)\n",
    "\n",
    "# Convert vectorized data to numpy array\n",
    "train_vectorized_data = np.array(train_vectorized_data)\n",
    "\n",
    "print(\"Vectorized Train Data Shape:\", train_vectorized_data.shape)"
   ],
   "metadata": {
    "collapsed": false
   }
  },
  {
   "cell_type": "code",
   "execution_count": 13,
   "outputs": [
    {
     "name": "stdout",
     "output_type": "stream",
     "text": [
      "Vectorized Validation Data Shape: (54937, 64, 100)\n"
     ]
    }
   ],
   "source": [
    "# Generate embeddings for validation set\n",
    "val_vectorized_data = []\n",
    "for seq in val_sequences:\n",
    "    word_embeddings = [word2vec_model.wv[word_index] if word_index in word2vec_model.wv else np.zeros(word2vec_model.vector_size) for word_index in seq]\n",
    "\n",
    "    padded_embeddings = pad_sequences([word_embeddings], maxlen=max_sequence_length, padding='post', dtype='float32')[0]\n",
    "\n",
    "    val_vectorized_data.append(padded_embeddings)\n",
    "\n",
    "val_vectorized_data = np.array(val_vectorized_data)\n",
    "\n",
    "print(\"Vectorized Validation Data Shape:\", val_vectorized_data.shape)"
   ],
   "metadata": {
    "collapsed": false
   }
  },
  {
   "cell_type": "code",
   "execution_count": 14,
   "outputs": [
    {
     "name": "stdout",
     "output_type": "stream",
     "text": [
      "Vectorized Test Data Shape: (9824, 64, 100)\n"
     ]
    }
   ],
   "source": [
    "# Generate embeddings for test set\n",
    "test_vectorized_data = []\n",
    "for seq in test_sequences:\n",
    "    word_embeddings = [word2vec_model.wv[word_index] if word_index in word2vec_model.wv else np.zeros(word2vec_model.vector_size) for word_index in seq]\n",
    "\n",
    "    padded_embeddings = pad_sequences([word_embeddings], maxlen=max_sequence_length, padding='post', dtype='float32')[0]\n",
    "\n",
    "    test_vectorized_data.append(padded_embeddings)\n",
    "\n",
    "test_vectorized_data = np.array(test_vectorized_data)\n",
    "\n",
    "print(\"Vectorized Test Data Shape:\", test_vectorized_data.shape)\n"
   ],
   "metadata": {
    "collapsed": false
   }
  },
  {
   "cell_type": "code",
   "execution_count": 15,
   "outputs": [
    {
     "name": "stdout",
     "output_type": "stream",
     "text": [
      "train label shape: (494424, 3)\n",
      "val label shape: (54937, 3)\n"
     ]
    }
   ],
   "source": [
    "train_labels = train_dataset[\"label\"]\n",
    "validation_labels = validation_dataset[\"label\"]\n",
    "\n",
    "# Convert to one-hot encoded format\n",
    "num_classes = len(set(train_labels))  # Calculate the number of classes\n",
    "train_labels = to_categorical(train_labels, num_classes=num_classes)\n",
    "validation_labels = to_categorical(validation_labels, num_classes=num_classes)\n",
    "\n",
    "print(\"train label shape:\", train_labels.shape)\n",
    "print(\"val label shape:\", validation_labels.shape)"
   ],
   "metadata": {
    "collapsed": false
   }
  },
  {
   "cell_type": "code",
   "execution_count": 16,
   "outputs": [],
   "source": [
    "def data_generator(X, y, batch_size):\n",
    "    '''\n",
    "    Returns a data generator to be used for training or validation.\n",
    "\n",
    "    Yields batches of text sequences (tokenized) and corresponding one-hot encoded labels.\n",
    "\n",
    "    Args:\n",
    "    X: List of text sequences (e.g., tokenized sentences)\n",
    "    y: List of corresponding one-hot encoded labels\n",
    "    batch_size: Number of sequences per batch\n",
    "\n",
    "    Returns:\n",
    "    Data generator\n",
    "    '''\n",
    "\n",
    "    num_samples = len(X)\n",
    "    num_batches = (num_samples + batch_size - 1) // batch_size  # Calculate total number of batches\n",
    "    idx = 0  # Initialize index to keep track of where we are in the dataset\n",
    "\n",
    "    while True:  # Loop indefinitely to generate batches\n",
    "        batch_X = X[idx:idx+batch_size]\n",
    "        batch_y = y[idx:idx+batch_size]\n",
    "\n",
    "        # Yield the batch\n",
    "        yield batch_X, batch_y\n",
    "\n",
    "        # Move to the next batch\n",
    "        idx += batch_size\n",
    "\n",
    "        # If we reach the end of the dataset, start over\n",
    "        if idx + batch_size > num_samples:\n",
    "            idx = 0\n"
   ],
   "metadata": {
    "collapsed": false
   }
  },
  {
   "cell_type": "code",
   "execution_count": 17,
   "outputs": [
    {
     "name": "stdout",
     "output_type": "stream",
     "text": [
      "64 , 100\n"
     ]
    }
   ],
   "source": [
    "print(train_vectorized_data.shape[1], \",\", train_vectorized_data.shape[2])"
   ],
   "metadata": {
    "collapsed": false
   }
  },
  {
   "cell_type": "code",
   "execution_count": 18,
   "outputs": [],
   "source": [
    "batch_size = 32\n",
    "train_generator = data_generator(train_vectorized_data, train_labels, batch_size)\n",
    "val_generator = data_generator(val_vectorized_data, validation_labels, batch_size)\n",
    "\n",
    "steps_per_epoch = len(train_vectorized_data) // batch_size\n",
    "validation_steps = len(val_vectorized_data) // batch_size"
   ],
   "metadata": {
    "collapsed": false
   }
  },
  {
   "cell_type": "code",
   "execution_count": 19,
   "outputs": [
    {
     "name": "stdout",
     "output_type": "stream",
     "text": [
      "(32, 64, 100)\n",
      "(32, 3)\n"
     ]
    }
   ],
   "source": [
    "sample_batch_X, sample_batch_y = next(train_generator)\n",
    "print(sample_batch_X.shape)\n",
    "print(sample_batch_y.shape)"
   ],
   "metadata": {
    "collapsed": false
   }
  },
  {
   "cell_type": "code",
   "execution_count": 20,
   "outputs": [],
   "source": [
    "class MetricsCallback(Callback):\n",
    "    def __init__(self, X_val, y_val):\n",
    "        super(MetricsCallback, self).__init__()\n",
    "        self.X_val = X_val\n",
    "        self.y_val = y_val\n",
    "        self.metrics = {'epoch': [], 'precision': [], 'recall': [], 'f1': [], 'val_loss': [], 'val_accuracy': [], 'loss': [], 'accuracy': []}\n",
    "\n",
    "    def on_epoch_end(self, epoch, logs=None):\n",
    "        val_loss, val_accuracy = self.model.evaluate(self.X_val, self.y_val, verbose=0)\n",
    "        val_pred = self.model.predict(self.X_val)\n",
    "        val_pred_classes = np.argmax(val_pred, axis=1)  # Convert probabilities to classes\n",
    "\n",
    "        precision = precision_score(np.argmax(self.y_val, axis=1), val_pred_classes, average='weighted')\n",
    "        recall = recall_score(np.argmax(self.y_val, axis=1), val_pred_classes, average='weighted')\n",
    "        f1 = f1_score(np.argmax(self.y_val, axis=1), val_pred_classes, average='weighted')\n",
    "\n",
    "        self.metrics['epoch'].append(epoch + 1)\n",
    "        self.metrics['precision'].append(precision)\n",
    "        self.metrics['recall'].append(recall)\n",
    "        self.metrics['f1'].append(f1)\n",
    "        self.metrics['val_loss'].append(val_loss)\n",
    "        self.metrics['val_accuracy'].append(val_accuracy)\n",
    "        self.metrics['loss'].append(logs['loss'])\n",
    "        self.metrics['accuracy'].append(logs['accuracy'])\n",
    "\n",
    "        print(\"Epoch {}: Validation Precision = {:.4f}, Recall = {:.4f}, F1 Score = {:.4f}, Val Loss = {:.4f}, Val Accuracy = {:.4f}\".format(epoch + 1, precision, recall, f1, val_loss, val_accuracy))\n"
   ],
   "metadata": {
    "collapsed": false
   }
  },
  {
   "cell_type": "code",
   "execution_count": 21,
   "outputs": [
    {
     "name": "stdout",
     "output_type": "stream",
     "text": [
      "Epoch 1/10\n"
     ]
    },
    {
     "name": "stderr",
     "output_type": "stream",
     "text": [
      "2024-04-10 11:44:21.802624: I tensorflow/core/common_runtime/executor.cc:1197] [/device:CPU:0] (DEBUG INFO) Executor start aborting (this does not indicate an error and you can ignore this message): INVALID_ARGUMENT: You must feed a value for placeholder tensor 'gradients/split_2_grad/concat/split_2/split_dim' with dtype int32\n",
      "\t [[{{node gradients/split_2_grad/concat/split_2/split_dim}}]]\n",
      "2024-04-10 11:44:21.803580: I tensorflow/core/common_runtime/executor.cc:1197] [/device:CPU:0] (DEBUG INFO) Executor start aborting (this does not indicate an error and you can ignore this message): INVALID_ARGUMENT: You must feed a value for placeholder tensor 'gradients/split_grad/concat/split/split_dim' with dtype int32\n",
      "\t [[{{node gradients/split_grad/concat/split/split_dim}}]]\n",
      "2024-04-10 11:44:21.803996: I tensorflow/core/common_runtime/executor.cc:1197] [/device:CPU:0] (DEBUG INFO) Executor start aborting (this does not indicate an error and you can ignore this message): INVALID_ARGUMENT: You must feed a value for placeholder tensor 'gradients/split_1_grad/concat/split_1/split_dim' with dtype int32\n",
      "\t [[{{node gradients/split_1_grad/concat/split_1/split_dim}}]]\n",
      "/var/folders/y4/31_vv_390sj9pqvqwlrz_gnw0000gn/T/ipykernel_35781/4267086816.py:17: UserWarning: `Model.fit_generator` is deprecated and will be removed in a future version. Please use `Model.fit`, which supports generators.\n",
      "  history = model.fit_generator(train_generator, steps_per_epoch=steps_per_epoch, epochs=10,\n",
      "2024-04-10 11:44:21.844743: I tensorflow/core/common_runtime/executor.cc:1197] [/device:CPU:0] (DEBUG INFO) Executor start aborting (this does not indicate an error and you can ignore this message): INVALID_ARGUMENT: You must feed a value for placeholder tensor 'Placeholder/_0' with dtype int32\n",
      "\t [[{{node Placeholder/_0}}]]\n",
      "2024-04-10 11:44:21.849304: W tensorflow/tsl/platform/profile_utils/cpu_utils.cc:128] Failed to get CPU frequency: 0 Hz\n",
      "2024-04-10 11:44:21.964296: I tensorflow/core/common_runtime/executor.cc:1197] [/device:CPU:0] (DEBUG INFO) Executor start aborting (this does not indicate an error and you can ignore this message): INVALID_ARGUMENT: You must feed a value for placeholder tensor 'gradients/split_2_grad/concat/split_2/split_dim' with dtype int32\n",
      "\t [[{{node gradients/split_2_grad/concat/split_2/split_dim}}]]\n",
      "2024-04-10 11:44:21.965140: I tensorflow/core/common_runtime/executor.cc:1197] [/device:CPU:0] (DEBUG INFO) Executor start aborting (this does not indicate an error and you can ignore this message): INVALID_ARGUMENT: You must feed a value for placeholder tensor 'gradients/split_grad/concat/split/split_dim' with dtype int32\n",
      "\t [[{{node gradients/split_grad/concat/split/split_dim}}]]\n",
      "2024-04-10 11:44:21.965691: I tensorflow/core/common_runtime/executor.cc:1197] [/device:CPU:0] (DEBUG INFO) Executor start aborting (this does not indicate an error and you can ignore this message): INVALID_ARGUMENT: You must feed a value for placeholder tensor 'gradients/split_1_grad/concat/split_1/split_dim' with dtype int32\n",
      "\t [[{{node gradients/split_1_grad/concat/split_1/split_dim}}]]\n",
      "2024-04-10 11:44:22.210683: I tensorflow/core/common_runtime/executor.cc:1197] [/device:CPU:0] (DEBUG INFO) Executor start aborting (this does not indicate an error and you can ignore this message): INVALID_ARGUMENT: You must feed a value for placeholder tensor 'gradients/split_2_grad/concat/split_2/split_dim' with dtype int32\n",
      "\t [[{{node gradients/split_2_grad/concat/split_2/split_dim}}]]\n",
      "2024-04-10 11:44:22.211670: I tensorflow/core/common_runtime/executor.cc:1197] [/device:CPU:0] (DEBUG INFO) Executor start aborting (this does not indicate an error and you can ignore this message): INVALID_ARGUMENT: You must feed a value for placeholder tensor 'gradients/split_grad/concat/split/split_dim' with dtype int32\n",
      "\t [[{{node gradients/split_grad/concat/split/split_dim}}]]\n",
      "2024-04-10 11:44:22.212348: I tensorflow/core/common_runtime/executor.cc:1197] [/device:CPU:0] (DEBUG INFO) Executor start aborting (this does not indicate an error and you can ignore this message): INVALID_ARGUMENT: You must feed a value for placeholder tensor 'gradients/split_1_grad/concat/split_1/split_dim' with dtype int32\n",
      "\t [[{{node gradients/split_1_grad/concat/split_1/split_dim}}]]\n"
     ]
    },
    {
     "name": "stdout",
     "output_type": "stream",
     "text": [
      "15449/15450 [============================>.] - ETA: 0s - loss: 0.9683 - accuracy: 0.5260"
     ]
    },
    {
     "name": "stderr",
     "output_type": "stream",
     "text": [
      "2024-04-10 11:49:21.728657: I tensorflow/core/common_runtime/executor.cc:1197] [/device:CPU:0] (DEBUG INFO) Executor start aborting (this does not indicate an error and you can ignore this message): INVALID_ARGUMENT: You must feed a value for placeholder tensor 'Placeholder/_0' with dtype int32\n",
      "\t [[{{node Placeholder/_0}}]]\n",
      "2024-04-10 11:49:22.011124: I tensorflow/core/common_runtime/executor.cc:1197] [/device:CPU:0] (DEBUG INFO) Executor start aborting (this does not indicate an error and you can ignore this message): INVALID_ARGUMENT: You must feed a value for placeholder tensor 'gradients/split_2_grad/concat/split_2/split_dim' with dtype int32\n",
      "\t [[{{node gradients/split_2_grad/concat/split_2/split_dim}}]]\n",
      "2024-04-10 11:49:22.012500: I tensorflow/core/common_runtime/executor.cc:1197] [/device:CPU:0] (DEBUG INFO) Executor start aborting (this does not indicate an error and you can ignore this message): INVALID_ARGUMENT: You must feed a value for placeholder tensor 'gradients/split_grad/concat/split/split_dim' with dtype int32\n",
      "\t [[{{node gradients/split_grad/concat/split/split_dim}}]]\n",
      "2024-04-10 11:49:22.013423: I tensorflow/core/common_runtime/executor.cc:1197] [/device:CPU:0] (DEBUG INFO) Executor start aborting (this does not indicate an error and you can ignore this message): INVALID_ARGUMENT: You must feed a value for placeholder tensor 'gradients/split_1_grad/concat/split_1/split_dim' with dtype int32\n",
      "\t [[{{node gradients/split_1_grad/concat/split_1/split_dim}}]]\n"
     ]
    },
    {
     "name": "stdout",
     "output_type": "stream",
     "text": [
      "  22/1717 [..............................] - ETA: 8s"
     ]
    },
    {
     "name": "stderr",
     "output_type": "stream",
     "text": [
      "2024-04-10 11:49:52.887294: I tensorflow/core/common_runtime/executor.cc:1197] [/device:CPU:0] (DEBUG INFO) Executor start aborting (this does not indicate an error and you can ignore this message): INVALID_ARGUMENT: You must feed a value for placeholder tensor 'gradients/split_2_grad/concat/split_2/split_dim' with dtype int32\n",
      "\t [[{{node gradients/split_2_grad/concat/split_2/split_dim}}]]\n",
      "2024-04-10 11:49:52.888470: I tensorflow/core/common_runtime/executor.cc:1197] [/device:CPU:0] (DEBUG INFO) Executor start aborting (this does not indicate an error and you can ignore this message): INVALID_ARGUMENT: You must feed a value for placeholder tensor 'gradients/split_grad/concat/split/split_dim' with dtype int32\n",
      "\t [[{{node gradients/split_grad/concat/split/split_dim}}]]\n",
      "2024-04-10 11:49:52.889071: I tensorflow/core/common_runtime/executor.cc:1197] [/device:CPU:0] (DEBUG INFO) Executor start aborting (this does not indicate an error and you can ignore this message): INVALID_ARGUMENT: You must feed a value for placeholder tensor 'gradients/split_1_grad/concat/split_1/split_dim' with dtype int32\n",
      "\t [[{{node gradients/split_1_grad/concat/split_1/split_dim}}]]\n"
     ]
    },
    {
     "name": "stdout",
     "output_type": "stream",
     "text": [
      "1717/1717 [==============================] - 10s 6ms/step\n",
      "Epoch 1: Validation Precision = 0.5955, Recall = 0.5895, F1 Score = 0.5895, Val Loss = 0.8778, Val Accuracy = 0.5895\n",
      "\n",
      "Epoch 1: val_loss improved from inf to 0.87784, saving model to best_model.h5\n",
      "15450/15450 [==============================] - 341s 22ms/step - loss: 0.9683 - accuracy: 0.5260 - val_loss: 0.8778 - val_accuracy: 0.5895\n",
      "Epoch 2/10\n",
      "1717/1717 [==============================] - 11s 6ms/step\n",
      "Epoch 2: Validation Precision = 0.6197, Recall = 0.6140, F1 Score = 0.6142, Val Loss = 0.8391, Val Accuracy = 0.6140\n",
      "\n",
      "Epoch 2: val_loss improved from 0.87784 to 0.83916, saving model to best_model.h5\n",
      "15450/15450 [==============================] - 580s 38ms/step - loss: 0.8495 - accuracy: 0.6093 - val_loss: 0.8392 - val_accuracy: 0.6140\n",
      "Epoch 3/10\n",
      "1717/1717 [==============================] - 11s 6ms/step\n",
      "Epoch 3: Validation Precision = 0.6345, Recall = 0.6285, F1 Score = 0.6292, Val Loss = 0.8120, Val Accuracy = 0.6285\n",
      "\n",
      "Epoch 3: val_loss improved from 0.83916 to 0.81207, saving model to best_model.h5\n",
      "15450/15450 [==============================] - 320s 21ms/step - loss: 0.8103 - accuracy: 0.6336 - val_loss: 0.8121 - val_accuracy: 0.6285\n",
      "Epoch 4/10\n",
      "1717/1717 [==============================] - 11s 6ms/step\n",
      "Epoch 4: Validation Precision = 0.6401, Recall = 0.6353, F1 Score = 0.6358, Val Loss = 0.8063, Val Accuracy = 0.6353\n",
      "\n",
      "Epoch 4: val_loss improved from 0.81207 to 0.80628, saving model to best_model.h5\n",
      "15450/15450 [==============================] - 318s 21ms/step - loss: 0.7886 - accuracy: 0.6467 - val_loss: 0.8063 - val_accuracy: 0.6353\n",
      "Epoch 5/10\n",
      "1717/1717 [==============================] - 11s 7ms/step\n",
      "Epoch 5: Validation Precision = 0.6438, Recall = 0.6371, F1 Score = 0.6377, Val Loss = 0.7997, Val Accuracy = 0.6371\n",
      "\n",
      "Epoch 5: val_loss improved from 0.80628 to 0.79975, saving model to best_model.h5\n",
      "15450/15450 [==============================] - 329s 21ms/step - loss: 0.7749 - accuracy: 0.6554 - val_loss: 0.7998 - val_accuracy: 0.6371\n",
      "Epoch 6/10\n",
      "1717/1717 [==============================] - 12s 7ms/step\n",
      "Epoch 6: Validation Precision = 0.6485, Recall = 0.6405, F1 Score = 0.6411, Val Loss = 0.7977, Val Accuracy = 0.6405\n",
      "\n",
      "Epoch 6: val_loss improved from 0.79975 to 0.79777, saving model to best_model.h5\n",
      "15450/15450 [==============================] - 334s 22ms/step - loss: 0.7629 - accuracy: 0.6613 - val_loss: 0.7978 - val_accuracy: 0.6405\n",
      "Epoch 7/10\n",
      "1717/1717 [==============================] - 11s 7ms/step\n",
      "Epoch 7: Validation Precision = 0.6480, Recall = 0.6386, F1 Score = 0.6393, Val Loss = 0.8000, Val Accuracy = 0.6386\n",
      "\n",
      "Epoch 7: val_loss did not improve from 0.79777\n",
      "15450/15450 [==============================] - 331s 21ms/step - loss: 0.7528 - accuracy: 0.6674 - val_loss: 0.8000 - val_accuracy: 0.6385\n",
      "Epoch 8/10\n",
      "1717/1717 [==============================] - 11s 6ms/step\n",
      "Epoch 8: Validation Precision = 0.6472, Recall = 0.6379, F1 Score = 0.6386, Val Loss = 0.8017, Val Accuracy = 0.6379\n",
      "\n",
      "Epoch 8: val_loss did not improve from 0.79777\n",
      "15450/15450 [==============================] - 328s 21ms/step - loss: 0.7452 - accuracy: 0.6715 - val_loss: 0.8017 - val_accuracy: 0.6379\n",
      "Epoch 9/10\n",
      "1717/1717 [==============================] - 11s 7ms/step\n",
      "Epoch 9: Validation Precision = 0.6472, Recall = 0.6374, F1 Score = 0.6380, Val Loss = 0.8030, Val Accuracy = 0.6374\n",
      "\n",
      "Epoch 9: val_loss did not improve from 0.79777\n",
      "15450/15450 [==============================] - 329s 21ms/step - loss: 0.7392 - accuracy: 0.6752 - val_loss: 0.8031 - val_accuracy: 0.6374\n",
      "Epoch 10/10\n",
      "1717/1717 [==============================] - 11s 6ms/step\n",
      "Epoch 10: Validation Precision = 0.6461, Recall = 0.6370, F1 Score = 0.6376, Val Loss = 0.8053, Val Accuracy = 0.6370\n",
      "\n",
      "Epoch 10: val_loss did not improve from 0.79777\n",
      "15450/15450 [==============================] - 331s 21ms/step - loss: 0.7345 - accuracy: 0.6775 - val_loss: 0.8054 - val_accuracy: 0.6370\n"
     ]
    }
   ],
   "source": [
    "# Define your LSTM model architecture\n",
    "model = Sequential()\n",
    "model.add(LSTM(64, input_shape=(train_vectorized_data.shape[1], train_vectorized_data.shape[2])))\n",
    "model.add(Dense(3, activation='softmax'))  # Assuming 3 classes\n",
    "\n",
    "# Compile the model\n",
    "model.compile(optimizer='adam',\n",
    "              loss='categorical_crossentropy',  # Use sparse categorical cross-entropy for integer labels\n",
    "              metrics=['accuracy'])\n",
    "\n",
    "metrics_callback = MetricsCallback(val_vectorized_data, validation_labels)\n",
    "\n",
    "# Define a checkpoint callback to save the best model\n",
    "checkpoint = ModelCheckpoint('best_model.h5', monitor='val_loss', mode='min', save_best_only=True, verbose=1)\n",
    "\n",
    "# Train the model\n",
    "history = model.fit_generator(train_generator, steps_per_epoch=steps_per_epoch, epochs=10,\n",
    "                              validation_data=val_generator, validation_steps=validation_steps, callbacks=[metrics_callback, checkpoint])\n",
    "\n",
    "\n"
   ],
   "metadata": {
    "collapsed": false
   }
  },
  {
   "cell_type": "code",
   "execution_count": 22,
   "outputs": [],
   "source": [
    "epochs = metrics_callback.metrics['epoch']\n",
    "precision = metrics_callback.metrics['precision']\n",
    "recall = metrics_callback.metrics['recall']\n",
    "f1 = metrics_callback.metrics['f1']\n",
    "accuracy = metrics_callback.metrics['accuracy']\n",
    "loss = metrics_callback.metrics['loss']\n",
    "val_accuracy = metrics_callback.metrics['val_accuracy']\n",
    "val_loss = metrics_callback.metrics['val_loss']"
   ],
   "metadata": {
    "collapsed": false
   }
  },
  {
   "cell_type": "code",
   "execution_count": 23,
   "outputs": [
    {
     "data": {
      "text/plain": "<Figure size 1000x500 with 1 Axes>",
      "image/png": "[encoded data removed]"
     },
     "metadata": {},
     "output_type": "display_data"
    }
   ],
   "source": [
    "# Plot all four metrics on one graph\n",
    "plt.figure(figsize=(10, 5))\n",
    "plt.plot(epochs, val_loss, label='Validation Loss')\n",
    "plt.plot(epochs, val_accuracy, label='Validation Accuracy')\n",
    "plt.plot(epochs, loss, label='Training Loss')\n",
    "plt.plot(epochs, accuracy, label='Training Accuracy')\n",
    "\n",
    "plt.title('Metrics across Epochs')\n",
    "plt.xlabel('Epoch')\n",
    "plt.xticks(epochs)\n",
    "plt.legend()\n",
    "plt.savefig(\"LSTM_RNN_val_loss_acc.pdf\")  # Save the plot before showing\n",
    "plt.show()\n"
   ],
   "metadata": {
    "collapsed": false
   }
  },
  {
   "cell_type": "code",
   "execution_count": 24,
   "outputs": [
    {
     "data": {
      "text/plain": "<Figure size 1000x500 with 1 Axes>",
      "image/png": "[encoded data removed]"
     },
     "metadata": {},
     "output_type": "display_data"
    }
   ],
   "source": [
    "# Plot all four metrics on one graph\n",
    "plt.figure(figsize=(10, 5))\n",
    "plt.plot(epochs, precision, label='Precision')\n",
    "plt.plot(epochs, recall, label='Recall')\n",
    "plt.plot(epochs, f1, label='F1 Score')\n",
    "plt.plot(epochs, accuracy, label='Accuracy')\n",
    "\n",
    "plt.title('Metrics across Epochs')\n",
    "plt.xlabel('Epoch')\n",
    "plt.xticks(epochs)\n",
    "plt.legend()\n",
    "plt.savefig(\"LSTM_RNN_PRFA.pdf\")\n",
    "plt.show()"
   ],
   "metadata": {
    "collapsed": false
   }
  },
  {
   "cell_type": "markdown",
   "source": [
    "Best Epoch was Epoch 6: Val Precision = 0.6485, Val Recall = 0.6405, Val F1 Score = 0.6411, Val Loss = 0.7977, Val Accuracy = 0.6405, loss: 0.7629, accuracy: 0.6613"
   ],
   "metadata": {
    "collapsed": false
   }
  }
 ],
 "metadata": {
  "kernelspec": {
   "display_name": "Python 3",
   "language": "python",
   "name": "python3"
  },
  "language_info": {
   "codemirror_mode": {
    "name": "ipython",
    "version": 2
   },
   "file_extension": ".py",
   "mimetype": "text/x-python",
   "name": "python",
   "nbconvert_exporter": "python",
   "pygments_lexer": "ipython2",
   "version": "2.7.6"
  }
 },
 "nbformat": 4,
 "nbformat_minor": 0
}
