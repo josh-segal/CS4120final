{
 "cells": [
  {
   "cell_type": "code",
   "execution_count": 1,
   "metadata": {},
   "outputs": [
    {
     "name": "stderr",
     "output_type": "stream",
     "text": [
      "[nltk_data] Downloading package stopwords to\n",
      "[nltk_data]     /Users/brendanbrady/nltk_data...\n",
      "[nltk_data]   Package stopwords is already up-to-date!\n"
     ]
    }
   ],
   "source": [
    "import pandas as pd\n",
    "import numpy as np\n",
    "from sklearn.model_selection import train_test_split, PredefinedSplit, cross_validate\n",
    "import utils as utils\n",
    "from sklearn.linear_model import LogisticRegressionCV\n",
    "from sklearn.feature_extraction.text import CountVectorizer"
   ]
  },
  {
   "cell_type": "code",
   "execution_count": 2,
   "metadata": {},
   "outputs": [],
   "source": [
    "# Read the CSV file into a DataFrame\n",
    "df = pd.read_csv('text_entailment_dataset/train.csv')\n",
    "\n",
    "# Shuffle the DataFrame\n",
    "df = df.sample(frac=0.01, random_state=42)  # Shuffle with fixed seed for reproducibility\n",
    "\n",
    "# Split the data into training and validation sets\n",
    "train_df, validation_df = train_test_split(df, test_size=0.1, random_state=42)\n",
    "\n",
    "# Write the training and validation DataFrames to separate CSV files\n",
    "train_df.to_csv('text_entailment_dataset/train_data.csv', index=False)\n",
    "validation_df.to_csv('text_entailment_dataset/validation_data.csv', index=False)\n",
    "\n",
    "\n",
    "train_dataset = df = pd.read_csv('text_entailment_dataset/train_data.csv')\n",
    "validation_dataset = df = pd.read_csv('text_entailment_dataset/validation_data.csv')\n",
    "test_dataset = df = pd.read_csv('text_entailment_dataset/test_data.csv')"
   ]
  },
  {
   "cell_type": "code",
   "execution_count": 3,
   "metadata": {},
   "outputs": [
    {
     "data": {
      "text/html": [
       "<div>\n",
       "<style scoped>\n",
       "    .dataframe tbody tr th:only-of-type {\n",
       "        vertical-align: middle;\n",
       "    }\n",
       "\n",
       "    .dataframe tbody tr th {\n",
       "        vertical-align: top;\n",
       "    }\n",
       "\n",
       "    .dataframe thead th {\n",
       "        text-align: right;\n",
       "    }\n",
       "</style>\n",
       "<table border=\"1\" class=\"dataframe\">\n",
       "  <thead>\n",
       "    <tr style=\"text-align: right;\">\n",
       "      <th></th>\n",
       "      <th>premise</th>\n",
       "      <th>hypothesis</th>\n",
       "    </tr>\n",
       "  </thead>\n",
       "  <tbody>\n",
       "    <tr>\n",
       "      <th>0</th>\n",
       "      <td>This church choir sings to the masses as they ...</td>\n",
       "      <td>The church has cracks in the ceiling.</td>\n",
       "    </tr>\n",
       "    <tr>\n",
       "      <th>1</th>\n",
       "      <td>This church choir sings to the masses as they ...</td>\n",
       "      <td>The church is filled with song.</td>\n",
       "    </tr>\n",
       "    <tr>\n",
       "      <th>2</th>\n",
       "      <td>This church choir sings to the masses as they ...</td>\n",
       "      <td>A choir singing at a baseball game.</td>\n",
       "    </tr>\n",
       "    <tr>\n",
       "      <th>3</th>\n",
       "      <td>A woman with a green headscarf, blue shirt and...</td>\n",
       "      <td>The woman is young.</td>\n",
       "    </tr>\n",
       "    <tr>\n",
       "      <th>4</th>\n",
       "      <td>A woman with a green headscarf, blue shirt and...</td>\n",
       "      <td>The woman is very happy.</td>\n",
       "    </tr>\n",
       "  </tbody>\n",
       "</table>\n",
       "</div>"
      ],
      "text/plain": [
       "                                             premise  \\\n",
       "0  This church choir sings to the masses as they ...   \n",
       "1  This church choir sings to the masses as they ...   \n",
       "2  This church choir sings to the masses as they ...   \n",
       "3  A woman with a green headscarf, blue shirt and...   \n",
       "4  A woman with a green headscarf, blue shirt and...   \n",
       "\n",
       "                              hypothesis  \n",
       "0  The church has cracks in the ceiling.  \n",
       "1        The church is filled with song.  \n",
       "2    A choir singing at a baseball game.  \n",
       "3                    The woman is young.  \n",
       "4               The woman is very happy.  "
      ]
     },
     "execution_count": 3,
     "metadata": {},
     "output_type": "execute_result"
    }
   ],
   "source": [
    "test_dataset.head()"
   ]
  },
  {
   "cell_type": "code",
   "execution_count": 4,
   "metadata": {},
   "outputs": [
    {
     "data": {
      "text/plain": [
       "(9824, 2)"
      ]
     },
     "execution_count": 4,
     "metadata": {},
     "output_type": "execute_result"
    }
   ],
   "source": [
    "test_dataset.shape"
   ]
  },
  {
   "cell_type": "code",
   "execution_count": 5,
   "metadata": {},
   "outputs": [],
   "source": [
    "train_dataset[[\"premise\"]] = train_dataset[[\"premise\"]].astype(str)\n",
    "train_dataset[\"premise\"] = train_dataset[\"premise\"].apply(utils.change_lower)\n",
    "train_dataset[\"premise\"] = train_dataset[\"premise\"].apply(utils.clean_data)\n",
    "train_dataset[\"premise\"] = train_dataset[\"premise\"].apply(utils.remover)\n",
    "\n",
    "train_dataset[[\"hypothesis\"]] = train_dataset[[\"hypothesis\"]].astype(str)\n",
    "train_dataset[\"hypothesis\"] = train_dataset[\"hypothesis\"].apply(utils.change_lower)\n",
    "train_dataset[\"hypothesis\"] = train_dataset[\"hypothesis\"].apply(utils.clean_data)\n",
    "train_dataset[\"hypothesis\"] = train_dataset[\"hypothesis\"].apply(utils.remover)\n",
    "\n",
    "validation_dataset[[\"premise\"]] = validation_dataset[[\"premise\"]].astype(str)\n",
    "validation_dataset[\"premise\"] = validation_dataset[\"premise\"].apply(utils.change_lower)\n",
    "validation_dataset[\"premise\"] = validation_dataset[\"premise\"].apply(utils.clean_data)\n",
    "validation_dataset[\"premise\"] = validation_dataset[\"premise\"].apply(utils.remover)\n",
    "\n",
    "validation_dataset[[\"hypothesis\"]] = validation_dataset[[\"hypothesis\"]].astype(str)\n",
    "validation_dataset[\"hypothesis\"] = validation_dataset[\"hypothesis\"].apply(utils.change_lower)\n",
    "validation_dataset[\"hypothesis\"] = validation_dataset[\"hypothesis\"].apply(utils.clean_data)\n",
    "validation_dataset[\"hypothesis\"] = validation_dataset[\"hypothesis\"].apply(utils.remover)\n",
    "\n",
    "test_dataset[[\"premise\"]] = test_dataset[[\"premise\"]].astype(str)\n",
    "test_dataset[\"premise\"] = test_dataset[\"premise\"].apply(utils.change_lower)\n",
    "test_dataset[\"premise\"] = test_dataset[\"premise\"].apply(utils.clean_data)\n",
    "test_dataset[\"premise\"] = test_dataset[\"premise\"].apply(utils.remover)\n",
    "\n",
    "test_dataset[[\"hypothesis\"]] = test_dataset[[\"hypothesis\"]].astype(str)\n",
    "test_dataset[\"hypothesis\"] = test_dataset[\"hypothesis\"].apply(utils.change_lower)\n",
    "test_dataset[\"hypothesis\"] = test_dataset[\"hypothesis\"].apply(utils.clean_data)\n",
    "test_dataset[\"hypothesis\"] = test_dataset[\"hypothesis\"].apply(utils.remover)"
   ]
  },
  {
   "cell_type": "code",
   "execution_count": 6,
   "metadata": {},
   "outputs": [],
   "source": [
    "train_pairs = [train_dataset[\"premise\"][i] + \" \" + train_dataset[\"hypothesis\"][i] for i in range(len(train_dataset.index))]\n",
    "validation_pairs = [validation_dataset[\"premise\"][i] + \" \" + validation_dataset[\"hypothesis\"][i] for i in range(len(validation_dataset.index))]\n",
    "test_pairs = [test_dataset[\"premise\"][i] + \" \" + test_dataset[\"hypothesis\"][i] for i in range(len(test_dataset.index))]"
   ]
  },
  {
   "cell_type": "code",
   "execution_count": 7,
   "metadata": {},
   "outputs": [
    {
     "name": "stdout",
     "output_type": "stream",
     "text": [
      "young man brown shirt work computer someone homework computer\n"
     ]
    }
   ],
   "source": [
    "print(train_pairs[0])"
   ]
  },
  {
   "cell_type": "code",
   "execution_count": 8,
   "metadata": {},
   "outputs": [],
   "source": [
    "BINARIZED = False\n",
    "\n",
    "vectorizer = CountVectorizer(binary=BINARIZED)\n",
    "\n",
    "train_vectorized = vectorizer.fit_transform(train_pairs).toarray()\n",
    "\n",
    "validation_vectorized = vectorizer.transform(validation_pairs).toarray()\n",
    "\n",
    "test_vectorized = vectorizer.transform(test_pairs).toarray()"
   ]
  },
  {
   "cell_type": "code",
   "execution_count": 9,
   "metadata": {},
   "outputs": [
    {
     "name": "stdout",
     "output_type": "stream",
     "text": [
      "Size of vocabulary: 5901\n"
     ]
    }
   ],
   "source": [
    "print(\"Size of vocabulary:\", len(vectorizer.get_feature_names_out()))"
   ]
  },
  {
   "cell_type": "code",
   "execution_count": 10,
   "metadata": {},
   "outputs": [],
   "source": [
    "train_validation_vectorized = np.array([row for row in train_vectorized] + [row for row in validation_vectorized])\n",
    "\n",
    "labels = np.array(train_dataset[\"label\"].to_list() + validation_dataset[\"label\"].to_list())\n",
    "\n",
    "split_groups = [0 for i in range(train_vectorized.shape[0])] + [1 for i in range(validation_vectorized.shape[0])]\n",
    "\n",
    "split = PredefinedSplit(split_groups)"
   ]
  },
  {
   "cell_type": "code",
   "execution_count": 11,
   "metadata": {},
   "outputs": [
    {
     "name": "stdout",
     "output_type": "stream",
     "text": [
      "5494\n",
      "5901\n",
      "5494\n",
      "5494\n"
     ]
    }
   ],
   "source": [
    "print(len(train_validation_vectorized))\n",
    "print(len(train_validation_vectorized[0]))\n",
    "print(len(labels))\n",
    "print(len(split_groups))"
   ]
  },
  {
   "cell_type": "code",
   "execution_count": 13,
   "metadata": {},
   "outputs": [
    {
     "name": "stderr",
     "output_type": "stream",
     "text": [
      "/Library/Frameworks/Python.framework/Versions/3.9/lib/python3.9/site-packages/sklearn/linear_model/_logistic.py:469: ConvergenceWarning: lbfgs failed to converge (status=1):\n",
      "STOP: TOTAL NO. of ITERATIONS REACHED LIMIT.\n",
      "\n",
      "Increase the number of iterations (max_iter) or scale the data as shown in:\n",
      "    https://scikit-learn.org/stable/modules/preprocessing.html\n",
      "Please also refer to the documentation for alternative solver options:\n",
      "    https://scikit-learn.org/stable/modules/linear_model.html#logistic-regression\n",
      "  n_iter_i = _check_optimize_result(\n",
      "/Library/Frameworks/Python.framework/Versions/3.9/lib/python3.9/site-packages/sklearn/linear_model/_logistic.py:469: ConvergenceWarning: lbfgs failed to converge (status=1):\n",
      "STOP: TOTAL NO. of ITERATIONS REACHED LIMIT.\n",
      "\n",
      "Increase the number of iterations (max_iter) or scale the data as shown in:\n",
      "    https://scikit-learn.org/stable/modules/preprocessing.html\n",
      "Please also refer to the documentation for alternative solver options:\n",
      "    https://scikit-learn.org/stable/modules/linear_model.html#logistic-regression\n",
      "  n_iter_i = _check_optimize_result(\n",
      "/Library/Frameworks/Python.framework/Versions/3.9/lib/python3.9/site-packages/sklearn/linear_model/_logistic.py:469: ConvergenceWarning: lbfgs failed to converge (status=1):\n",
      "STOP: TOTAL NO. of ITERATIONS REACHED LIMIT.\n",
      "\n",
      "Increase the number of iterations (max_iter) or scale the data as shown in:\n",
      "    https://scikit-learn.org/stable/modules/preprocessing.html\n",
      "Please also refer to the documentation for alternative solver options:\n",
      "    https://scikit-learn.org/stable/modules/linear_model.html#logistic-regression\n",
      "  n_iter_i = _check_optimize_result(\n",
      "/Library/Frameworks/Python.framework/Versions/3.9/lib/python3.9/site-packages/sklearn/linear_model/_logistic.py:469: ConvergenceWarning: lbfgs failed to converge (status=1):\n",
      "STOP: TOTAL NO. of ITERATIONS REACHED LIMIT.\n",
      "\n",
      "Increase the number of iterations (max_iter) or scale the data as shown in:\n",
      "    https://scikit-learn.org/stable/modules/preprocessing.html\n",
      "Please also refer to the documentation for alternative solver options:\n",
      "    https://scikit-learn.org/stable/modules/linear_model.html#logistic-regression\n",
      "  n_iter_i = _check_optimize_result(\n",
      "/Library/Frameworks/Python.framework/Versions/3.9/lib/python3.9/site-packages/sklearn/linear_model/_logistic.py:469: ConvergenceWarning: lbfgs failed to converge (status=1):\n",
      "STOP: TOTAL NO. of ITERATIONS REACHED LIMIT.\n",
      "\n",
      "Increase the number of iterations (max_iter) or scale the data as shown in:\n",
      "    https://scikit-learn.org/stable/modules/preprocessing.html\n",
      "Please also refer to the documentation for alternative solver options:\n",
      "    https://scikit-learn.org/stable/modules/linear_model.html#logistic-regression\n",
      "  n_iter_i = _check_optimize_result(\n",
      "/Library/Frameworks/Python.framework/Versions/3.9/lib/python3.9/site-packages/sklearn/linear_model/_logistic.py:469: ConvergenceWarning: lbfgs failed to converge (status=1):\n",
      "STOP: TOTAL NO. of ITERATIONS REACHED LIMIT.\n",
      "\n",
      "Increase the number of iterations (max_iter) or scale the data as shown in:\n",
      "    https://scikit-learn.org/stable/modules/preprocessing.html\n",
      "Please also refer to the documentation for alternative solver options:\n",
      "    https://scikit-learn.org/stable/modules/linear_model.html#logistic-regression\n",
      "  n_iter_i = _check_optimize_result(\n",
      "/Library/Frameworks/Python.framework/Versions/3.9/lib/python3.9/site-packages/sklearn/linear_model/_logistic.py:469: ConvergenceWarning: lbfgs failed to converge (status=1):\n",
      "STOP: TOTAL NO. of ITERATIONS REACHED LIMIT.\n",
      "\n",
      "Increase the number of iterations (max_iter) or scale the data as shown in:\n",
      "    https://scikit-learn.org/stable/modules/preprocessing.html\n",
      "Please also refer to the documentation for alternative solver options:\n",
      "    https://scikit-learn.org/stable/modules/linear_model.html#logistic-regression\n",
      "  n_iter_i = _check_optimize_result(\n",
      "/Library/Frameworks/Python.framework/Versions/3.9/lib/python3.9/site-packages/sklearn/linear_model/_logistic.py:469: ConvergenceWarning: lbfgs failed to converge (status=1):\n",
      "STOP: TOTAL NO. of ITERATIONS REACHED LIMIT.\n",
      "\n",
      "Increase the number of iterations (max_iter) or scale the data as shown in:\n",
      "    https://scikit-learn.org/stable/modules/preprocessing.html\n",
      "Please also refer to the documentation for alternative solver options:\n",
      "    https://scikit-learn.org/stable/modules/linear_model.html#logistic-regression\n",
      "  n_iter_i = _check_optimize_result(\n",
      "/Library/Frameworks/Python.framework/Versions/3.9/lib/python3.9/site-packages/sklearn/linear_model/_logistic.py:469: ConvergenceWarning: lbfgs failed to converge (status=1):\n",
      "STOP: TOTAL NO. of ITERATIONS REACHED LIMIT.\n",
      "\n",
      "Increase the number of iterations (max_iter) or scale the data as shown in:\n",
      "    https://scikit-learn.org/stable/modules/preprocessing.html\n",
      "Please also refer to the documentation for alternative solver options:\n",
      "    https://scikit-learn.org/stable/modules/linear_model.html#logistic-regression\n",
      "  n_iter_i = _check_optimize_result(\n",
      "/Library/Frameworks/Python.framework/Versions/3.9/lib/python3.9/site-packages/sklearn/linear_model/_logistic.py:469: ConvergenceWarning: lbfgs failed to converge (status=1):\n",
      "STOP: TOTAL NO. of ITERATIONS REACHED LIMIT.\n",
      "\n",
      "Increase the number of iterations (max_iter) or scale the data as shown in:\n",
      "    https://scikit-learn.org/stable/modules/preprocessing.html\n",
      "Please also refer to the documentation for alternative solver options:\n",
      "    https://scikit-learn.org/stable/modules/linear_model.html#logistic-regression\n",
      "  n_iter_i = _check_optimize_result(\n",
      "/Library/Frameworks/Python.framework/Versions/3.9/lib/python3.9/site-packages/sklearn/linear_model/_logistic.py:469: ConvergenceWarning: lbfgs failed to converge (status=1):\n",
      "STOP: TOTAL NO. of ITERATIONS REACHED LIMIT.\n",
      "\n",
      "Increase the number of iterations (max_iter) or scale the data as shown in:\n",
      "    https://scikit-learn.org/stable/modules/preprocessing.html\n",
      "Please also refer to the documentation for alternative solver options:\n",
      "    https://scikit-learn.org/stable/modules/linear_model.html#logistic-regression\n",
      "  n_iter_i = _check_optimize_result(\n",
      "/Library/Frameworks/Python.framework/Versions/3.9/lib/python3.9/site-packages/sklearn/linear_model/_logistic.py:469: ConvergenceWarning: lbfgs failed to converge (status=1):\n",
      "STOP: TOTAL NO. of ITERATIONS REACHED LIMIT.\n",
      "\n",
      "Increase the number of iterations (max_iter) or scale the data as shown in:\n",
      "    https://scikit-learn.org/stable/modules/preprocessing.html\n",
      "Please also refer to the documentation for alternative solver options:\n",
      "    https://scikit-learn.org/stable/modules/linear_model.html#logistic-regression\n",
      "  n_iter_i = _check_optimize_result(\n"
     ]
    }
   ],
   "source": [
    "MAX_ITER = 5\n",
    "classifier = LogisticRegressionCV(max_iter=MAX_ITER)\n",
    "\n",
    "scoring_metrics = (\"precision_micro\", \"recall_micro\", \"f1_micro\", \"accuracy\", \"neg_log_loss\")\n",
    "\n",
    "results = cross_validate(classifier, train_validation_vectorized, labels, scoring=scoring_metrics, cv=split)"
   ]
  },
  {
   "cell_type": "code",
   "execution_count": 16,
   "metadata": {},
   "outputs": [
    {
     "name": "stdout",
     "output_type": "stream",
     "text": [
      "dict_keys(['fit_time', 'score_time', 'test_precision_micro', 'test_recall_micro', 'test_f1_micro', 'test_accuracy', 'test_neg_log_loss'])\n"
     ]
    }
   ],
   "source": [
    "print(results.keys())"
   ]
  },
  {
   "cell_type": "code",
   "execution_count": 17,
   "metadata": {},
   "outputs": [],
   "source": [
    "import matplotlib.pyplot as plt"
   ]
  },
  {
   "cell_type": "code",
   "execution_count": 22,
   "metadata": {},
   "outputs": [
    {
     "data": {
      "text/plain": [
       "<matplotlib.legend.Legend at 0x7fc44a1946d0>"
      ]
     },
     "execution_count": 22,
     "metadata": {},
     "output_type": "execute_result"
    },
    {
     "data": {
      "image/png": "[encoded data removed]",
      "text/plain": [
       "<Figure size 640x480 with 1 Axes>"
      ]
     },
     "metadata": {},
     "output_type": "display_data"
    }
   ],
   "source": [
    "iters = list(range(1, 6))\n",
    "plt.plot(results['test_accuracy'], label='accuracy')\n",
    "plt.plot(results['test_precision_micro'], label='precision')\n",
    "plt.plot(results['test_recall_micro'], label='recall')\n",
    "plt.plot(results['test_f1_micro'], label='f score')\n",
    "plt.legend()"
   ]
  }
 ],
 "metadata": {
  "kernelspec": {
   "display_name": "Python 3",
   "language": "python",
   "name": "python3"
  },
  "language_info": {
   "codemirror_mode": {
    "name": "ipython",
    "version": 3
   },
   "file_extension": ".py",
   "mimetype": "text/x-python",
   "name": "python",
   "nbconvert_exporter": "python",
   "pygments_lexer": "ipython3",
   "version": "3.9.7"
  }
 },
 "nbformat": 4,
 "nbformat_minor": 2
}
