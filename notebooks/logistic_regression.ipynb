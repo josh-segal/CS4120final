{
 "cells": [
  {
   "cell_type": "code",
   "execution_count": 1,
   "metadata": {
    "collapsed": true
   },
   "outputs": [
    {
     "name": "stderr",
     "output_type": "stream",
     "text": [
      "[nltk_data] Downloading package stopwords to\n",
      "[nltk_data]     /Users/joshuasegal/nltk_data...\n",
      "[nltk_data]   Package stopwords is already up-to-date!\n",
      "/Users/joshuasegal/anaconda3/lib/python3.11/site-packages/transformers/utils/generic.py:441: UserWarning: torch.utils._pytree._register_pytree_node is deprecated. Please use torch.utils._pytree.register_pytree_node instead.\n",
      "  _torch_pytree._register_pytree_node(\n",
      "/Users/joshuasegal/anaconda3/lib/python3.11/site-packages/transformers/utils/generic.py:309: UserWarning: torch.utils._pytree._register_pytree_node is deprecated. Please use torch.utils._pytree.register_pytree_node instead.\n",
      "  _torch_pytree._register_pytree_node(\n"
     ]
    }
   ],
   "source": [
    "from sklearn.linear_model import LogisticRegression\n",
    "from sklearn.feature_extraction.text import CountVectorizer\n",
    "import pandas as pd\n",
    "from sklearn.model_selection import train_test_split\n",
    "import joblib\n",
    "import sys\n",
    "sys.path.append('..')\n",
    "import utils\n",
    "from sklearn.metrics import precision_score, recall_score, accuracy_score, f1_score\n",
    "import matplotlib.pyplot as plt"
   ]
  },
  {
   "cell_type": "code",
   "execution_count": 2,
   "outputs": [],
   "source": [
    "# Define the parent directory\n",
    "parent_dir = os.path.abspath(os.path.join(os.getcwd(), os.pardir))\n",
    "\n",
    "# Define the data directory path\n",
    "data_dir = os.path.join(parent_dir, 'data', 'text_entailment_dataset')\n",
    "\n",
    "# Define file paths\n",
    "train_csv_path = os.path.join(data_dir, 'train.csv')\n",
    "train_data_csv_path = os.path.join(data_dir, 'train_data.csv')\n",
    "validation_data_csv_path = os.path.join(data_dir, 'validation_data.csv')\n",
    "test_data_csv_path = os.path.join(data_dir, 'test_data.csv')\n",
    "\n",
    "# Read the CSV file into a DataFrame\n",
    "df = pd.read_csv(train_csv_path)\n",
    "\n",
    "# Shuffle the DataFrame\n",
    "df = df.sample(frac=1, random_state=42)\n",
    "\n",
    "# Split the data into training and validation sets\n",
    "train_df, validation_df = train_test_split(df, test_size=0.2, random_state=42)\n",
    "\n",
    "# Further split training set into train and test subsets\n",
    "train_df, test_df = train_test_split(train_df, test_size=0.2, random_state=42)\n",
    "\n",
    "# Write the training and validation DataFrames to separate CSV files\n",
    "train_df.to_csv(train_data_csv_path, index=False)\n",
    "validation_df.to_csv(validation_data_csv_path, index=False)\n",
    "test_df.to_csv(test_data_csv_path, index=False)\n",
    "\n",
    "# Read datasets from CSV files\n",
    "train_dataset = pd.read_csv(train_data_csv_path)\n",
    "validation_dataset = pd.read_csv(validation_data_csv_path)\n",
    "test_dataset = pd.read_csv(test_data_csv_path)"
   ],
   "metadata": {
    "collapsed": false
   }
  },
  {
   "cell_type": "code",
   "execution_count": 3,
   "outputs": [
    {
     "data": {
      "text/plain": "                                             premise  \\\n0  Four guys sitting around a table with two cand...   \n1  a little boy using a drill to make a hole in a...   \n2    People go by old white walls with gray squares.   \n3  About eight women in purple and blue dresses b...   \n4  Customers are standing in line to buy somethin...   \n\n                                          hypothesis  label  \n0                 Four guys are at a church service.      2  \n1                    The little boy is using a tool.      0  \n2   Males and females are in proximity of old walls.      0  \n3      About eight women in purple and blue dresses.      0  \n4  The customers leave the store after a satisfac...      2  ",
      "text/html": "<div>\n<style scoped>\n    .dataframe tbody tr th:only-of-type {\n        vertical-align: middle;\n    }\n\n    .dataframe tbody tr th {\n        vertical-align: top;\n    }\n\n    .dataframe thead th {\n        text-align: right;\n    }\n</style>\n<table border=\"1\" class=\"dataframe\">\n  <thead>\n    <tr style=\"text-align: right;\">\n      <th></th>\n      <th>premise</th>\n      <th>hypothesis</th>\n      <th>label</th>\n    </tr>\n  </thead>\n  <tbody>\n    <tr>\n      <th>0</th>\n      <td>Four guys sitting around a table with two cand...</td>\n      <td>Four guys are at a church service.</td>\n      <td>2</td>\n    </tr>\n    <tr>\n      <th>1</th>\n      <td>a little boy using a drill to make a hole in a...</td>\n      <td>The little boy is using a tool.</td>\n      <td>0</td>\n    </tr>\n    <tr>\n      <th>2</th>\n      <td>People go by old white walls with gray squares.</td>\n      <td>Males and females are in proximity of old walls.</td>\n      <td>0</td>\n    </tr>\n    <tr>\n      <th>3</th>\n      <td>About eight women in purple and blue dresses b...</td>\n      <td>About eight women in purple and blue dresses.</td>\n      <td>0</td>\n    </tr>\n    <tr>\n      <th>4</th>\n      <td>Customers are standing in line to buy somethin...</td>\n      <td>The customers leave the store after a satisfac...</td>\n      <td>2</td>\n    </tr>\n  </tbody>\n</table>\n</div>"
     },
     "execution_count": 3,
     "metadata": {},
     "output_type": "execute_result"
    }
   ],
   "source": [
    "train_dataset.head()"
   ],
   "metadata": {
    "collapsed": false
   }
  },
  {
   "cell_type": "code",
   "execution_count": 4,
   "outputs": [
    {
     "data": {
      "text/plain": "(351590, 3)"
     },
     "execution_count": 4,
     "metadata": {},
     "output_type": "execute_result"
    }
   ],
   "source": [
    "train_dataset.shape"
   ],
   "metadata": {
    "collapsed": false
   }
  },
  {
   "cell_type": "code",
   "execution_count": 5,
   "outputs": [
    {
     "data": {
      "text/plain": "                                             premise  \\\n0  A young couple looking at different types and ...   \n1  A man in a purple had climbs a rocky wall with...   \n2  A group of friends playing cards and trying to...   \n3             People looking at fish at an aquarium.   \n4  An older lady blowing out a 9 and a 0 number c...   \n\n                             hypothesis  label  \n0                   a couple is looking      0  \n1         A man is going to the temple.      2  \n2   The people are playing a card game.      0  \n3               People looking at fish.      0  \n4  A woman drinks coffee while driving.      2  ",
      "text/html": "<div>\n<style scoped>\n    .dataframe tbody tr th:only-of-type {\n        vertical-align: middle;\n    }\n\n    .dataframe tbody tr th {\n        vertical-align: top;\n    }\n\n    .dataframe thead th {\n        text-align: right;\n    }\n</style>\n<table border=\"1\" class=\"dataframe\">\n  <thead>\n    <tr style=\"text-align: right;\">\n      <th></th>\n      <th>premise</th>\n      <th>hypothesis</th>\n      <th>label</th>\n    </tr>\n  </thead>\n  <tbody>\n    <tr>\n      <th>0</th>\n      <td>A young couple looking at different types and ...</td>\n      <td>a couple is looking</td>\n      <td>0</td>\n    </tr>\n    <tr>\n      <th>1</th>\n      <td>A man in a purple had climbs a rocky wall with...</td>\n      <td>A man is going to the temple.</td>\n      <td>2</td>\n    </tr>\n    <tr>\n      <th>2</th>\n      <td>A group of friends playing cards and trying to...</td>\n      <td>The people are playing a card game.</td>\n      <td>0</td>\n    </tr>\n    <tr>\n      <th>3</th>\n      <td>People looking at fish at an aquarium.</td>\n      <td>People looking at fish.</td>\n      <td>0</td>\n    </tr>\n    <tr>\n      <th>4</th>\n      <td>An older lady blowing out a 9 and a 0 number c...</td>\n      <td>A woman drinks coffee while driving.</td>\n      <td>2</td>\n    </tr>\n  </tbody>\n</table>\n</div>"
     },
     "execution_count": 5,
     "metadata": {},
     "output_type": "execute_result"
    }
   ],
   "source": [
    "validation_dataset.head()"
   ],
   "metadata": {
    "collapsed": false
   }
  },
  {
   "cell_type": "code",
   "execution_count": 6,
   "outputs": [
    {
     "data": {
      "text/plain": "(109873, 3)"
     },
     "execution_count": 6,
     "metadata": {},
     "output_type": "execute_result"
    }
   ],
   "source": [
    "validation_dataset.shape"
   ],
   "metadata": {
    "collapsed": false
   }
  },
  {
   "cell_type": "code",
   "execution_count": 7,
   "outputs": [
    {
     "data": {
      "text/plain": "                                             premise  \\\n0  A quarterback is looking to set up a pass from...   \n1                         A woman speaking her mind.   \n2  Woman in a blue jacket sitting at the edge of ...   \n3        A man stands next to a lady with a dog hat.   \n4            A man is vending an assortment of hats.   \n\n                                          hypothesis  label  \n0                       the men are playing football      0  \n1                                   A woman talking.      0  \n2                                 A woman is at home      2  \n3  A man stands next to a strange homeless lady w...      1  \n4                                   a man sells hats      0  ",
      "text/html": "<div>\n<style scoped>\n    .dataframe tbody tr th:only-of-type {\n        vertical-align: middle;\n    }\n\n    .dataframe tbody tr th {\n        vertical-align: top;\n    }\n\n    .dataframe thead th {\n        text-align: right;\n    }\n</style>\n<table border=\"1\" class=\"dataframe\">\n  <thead>\n    <tr style=\"text-align: right;\">\n      <th></th>\n      <th>premise</th>\n      <th>hypothesis</th>\n      <th>label</th>\n    </tr>\n  </thead>\n  <tbody>\n    <tr>\n      <th>0</th>\n      <td>A quarterback is looking to set up a pass from...</td>\n      <td>the men are playing football</td>\n      <td>0</td>\n    </tr>\n    <tr>\n      <th>1</th>\n      <td>A woman speaking her mind.</td>\n      <td>A woman talking.</td>\n      <td>0</td>\n    </tr>\n    <tr>\n      <th>2</th>\n      <td>Woman in a blue jacket sitting at the edge of ...</td>\n      <td>A woman is at home</td>\n      <td>2</td>\n    </tr>\n    <tr>\n      <th>3</th>\n      <td>A man stands next to a lady with a dog hat.</td>\n      <td>A man stands next to a strange homeless lady w...</td>\n      <td>1</td>\n    </tr>\n    <tr>\n      <th>4</th>\n      <td>A man is vending an assortment of hats.</td>\n      <td>a man sells hats</td>\n      <td>0</td>\n    </tr>\n  </tbody>\n</table>\n</div>"
     },
     "execution_count": 7,
     "metadata": {},
     "output_type": "execute_result"
    }
   ],
   "source": [
    "test_dataset.head()"
   ],
   "metadata": {
    "collapsed": false
   }
  },
  {
   "cell_type": "code",
   "execution_count": 8,
   "outputs": [
    {
     "data": {
      "text/plain": "(87898, 3)"
     },
     "execution_count": 8,
     "metadata": {},
     "output_type": "execute_result"
    }
   ],
   "source": [
    "test_dataset.shape"
   ],
   "metadata": {
    "collapsed": false
   }
  },
  {
   "cell_type": "code",
   "execution_count": 9,
   "outputs": [],
   "source": [
    "train_dataset[[\"premise\"]] = train_dataset[[\"premise\"]].astype(str)\n",
    "train_dataset[\"premise\"] = train_dataset[\"premise\"].apply(utils.change_lower)\n",
    "train_dataset[\"premise\"] = train_dataset[\"premise\"].apply(utils.clean_data)\n",
    "train_dataset[\"premise\"] = train_dataset[\"premise\"].apply(utils.remover)\n",
    "\n",
    "test_dataset[[\"hypothesis\"]] = train_dataset[[\"hypothesis\"]].astype(str)\n",
    "train_dataset[\"hypothesis\"] = train_dataset[\"hypothesis\"].apply(utils.change_lower)\n",
    "train_dataset[\"hypothesis\"] = train_dataset[\"hypothesis\"].apply(utils.clean_data)\n",
    "train_dataset[\"hypothesis\"] = train_dataset[\"hypothesis\"].apply(utils.remover)\n",
    "\n",
    "validation_dataset[[\"premise\"]] = validation_dataset[[\"premise\"]].astype(str)\n",
    "validation_dataset[\"premise\"] = validation_dataset[\"premise\"].apply(utils.change_lower)\n",
    "validation_dataset[\"premise\"] = validation_dataset[\"premise\"].apply(utils.clean_data)\n",
    "validation_dataset[\"premise\"] = validation_dataset[\"premise\"].apply(utils.remover)\n",
    "\n",
    "validation_dataset[[\"hypothesis\"]] = validation_dataset[[\"hypothesis\"]].astype(str)\n",
    "validation_dataset[\"hypothesis\"] = validation_dataset[\"hypothesis\"].apply(utils.change_lower)\n",
    "validation_dataset[\"hypothesis\"] = validation_dataset[\"hypothesis\"].apply(utils.clean_data)\n",
    "validation_dataset[\"hypothesis\"] = validation_dataset[\"hypothesis\"].apply(utils.remover)\n",
    "\n",
    "test_dataset[[\"premise\"]] = test_dataset[[\"premise\"]].astype(str)\n",
    "test_dataset[\"premise\"] = test_dataset[\"premise\"].apply(utils.change_lower)\n",
    "test_dataset[\"premise\"] = test_dataset[\"premise\"].apply(utils.clean_data)\n",
    "test_dataset[\"premise\"] = test_dataset[\"premise\"].apply(utils.remover)\n",
    "\n",
    "test_dataset[[\"hypothesis\"]] = test_dataset[[\"hypothesis\"]].astype(str)\n",
    "test_dataset[\"hypothesis\"] = test_dataset[\"hypothesis\"].apply(utils.change_lower)\n",
    "test_dataset[\"hypothesis\"] = test_dataset[\"hypothesis\"].apply(utils.clean_data)\n",
    "test_dataset[\"hypothesis\"] = test_dataset[\"hypothesis\"].apply(utils.remover)"
   ],
   "metadata": {
    "collapsed": false
   }
  },
  {
   "cell_type": "code",
   "execution_count": 10,
   "outputs": [],
   "source": [
    "# Combine text data from training and validation datasets\n",
    "text_data_train = train_dataset['premise'] + ' ' + train_dataset['hypothesis']\n",
    "text_data_validation = validation_dataset['premise'] + ' ' + validation_dataset['hypothesis']\n",
    "text_data_test = test_dataset['premise'] + ' ' + test_dataset['hypothesis']\n",
    "\n",
    "# Concatenate both training and validation text data\n",
    "text_data_combined = pd.concat([text_data_train, text_data_validation], ignore_index=True)"
   ],
   "metadata": {
    "collapsed": false
   }
  },
  {
   "cell_type": "code",
   "execution_count": 11,
   "outputs": [],
   "source": [
    "vectorizer = CountVectorizer() # add max features ?\n",
    "X = vectorizer.fit(text_data_combined)"
   ],
   "metadata": {
    "collapsed": false
   }
  },
  {
   "cell_type": "code",
   "execution_count": 12,
   "outputs": [],
   "source": [
    "X_train = vectorizer.fit_transform(text_data_train)\n",
    "X_validation = vectorizer.transform(text_data_validation)"
   ],
   "metadata": {
    "collapsed": false
   }
  },
  {
   "cell_type": "code",
   "execution_count": 13,
   "outputs": [],
   "source": [
    "import pickle\n",
    "\n",
    "# Save the vectorizer to a file\n",
    "with open(\"vectorizer.pkl\", \"wb\") as f:\n",
    "    pickle.dump(vectorizer, f)"
   ],
   "metadata": {
    "collapsed": false
   }
  },
  {
   "cell_type": "code",
   "execution_count": 14,
   "outputs": [],
   "source": [
    "# Extract labels for train data\n",
    "y_train = train_dataset['label']\n",
    "\n",
    "# Extract labels for validation data\n",
    "y_validation = validation_dataset['label']"
   ],
   "metadata": {
    "collapsed": false
   }
  },
  {
   "cell_type": "code",
   "execution_count": 15,
   "outputs": [
    {
     "name": "stdout",
     "output_type": "stream",
     "text": [
      "Penalty: l1, C: 0.1, Solver: liblinear, Accuracy: 0.5233\n",
      "Penalty: l1, C: 1, Solver: liblinear, Accuracy: 0.5262\n",
      "Penalty: l2, C: 0.1, Solver: liblinear, Accuracy: 0.5246\n",
      "Penalty: l2, C: 0.1, Solver: lbfgs, Accuracy: 0.5233\n",
      "Penalty: l2, C: 1, Solver: liblinear, Accuracy: 0.5182\n",
      "Penalty: l2, C: 1, Solver: lbfgs, Accuracy: 0.5143\n"
     ]
    }
   ],
   "source": [
    "\n",
    "# Define hyperparameters for testing L1 and L2 regularization\n",
    "hyperparameters = {\n",
    "    'penalty': ['l1', 'l2'],\n",
    "    'C': [0.1, 1],\n",
    "    'solver': ['liblinear', 'lbfgs']\n",
    "}\n",
    "\n",
    "# Initialize lists to store results\n",
    "results = []\n",
    "\n",
    "# Test both L1 and L2 regularization\n",
    "for penalty in hyperparameters['penalty']:\n",
    "    for C in hyperparameters['C']:\n",
    "        for solver in hyperparameters['solver']:\n",
    "            if solver == 'lbfgs' and penalty == 'l1':\n",
    "                continue\n",
    "            # Initialize logistic regression model with specified penalty and C\n",
    "            logistic_model = LogisticRegression(penalty=penalty, C=C, solver=solver, max_iter=10000)\n",
    "\n",
    "            # Train the model\n",
    "            logistic_model.fit(X_train, y_train)\n",
    "\n",
    "            # Predict on the validation set\n",
    "            y_pred = logistic_model.predict(X_validation)\n",
    "\n",
    "            # Evaluate accuracy\n",
    "            accuracy = accuracy_score(y_validation, y_pred)\n",
    "\n",
    "            # Store results\n",
    "            results.append({\n",
    "                'penalty': penalty,\n",
    "                'C': C,\n",
    "                'accuracy': accuracy,\n",
    "                'solver': solver\n",
    "            })\n",
    "\n",
    "# Print results\n",
    "for result in results:\n",
    "    print(\"Penalty: {}, C: {}, Solver: {}, Accuracy: {:.4f}\".format(result['penalty'], result['C'], result['solver'], result['accuracy']))"
   ],
   "metadata": {
    "collapsed": false
   }
  },
  {
   "cell_type": "code",
   "execution_count": 16,
   "outputs": [
    {
     "data": {
      "text/plain": "'four guys sitting around table two candles glasses full beer four guys church service'"
     },
     "execution_count": 16,
     "metadata": {},
     "output_type": "execute_result"
    }
   ],
   "source": [
    "text_data_train[0]"
   ],
   "metadata": {
    "collapsed": false
   }
  },
  {
   "cell_type": "code",
   "execution_count": 17,
   "outputs": [
    {
     "data": {
      "text/plain": "(351590,)"
     },
     "execution_count": 17,
     "metadata": {},
     "output_type": "execute_result"
    }
   ],
   "source": [
    "text_data_train.shape"
   ],
   "metadata": {
    "collapsed": false
   }
  },
  {
   "cell_type": "code",
   "execution_count": 18,
   "outputs": [
    {
     "data": {
      "text/plain": "(109873,)"
     },
     "execution_count": 18,
     "metadata": {},
     "output_type": "execute_result"
    }
   ],
   "source": [
    "text_data_validation.shape"
   ],
   "metadata": {
    "collapsed": false
   }
  },
  {
   "cell_type": "code",
   "execution_count": 19,
   "outputs": [
    {
     "data": {
      "text/plain": "['best_logistic_regression_model.pkl']"
     },
     "execution_count": 19,
     "metadata": {},
     "output_type": "execute_result"
    }
   ],
   "source": [
    "# Initialize lists to store metric values for each iteration\n",
    "precision_values = []\n",
    "recall_values = []\n",
    "accuracy_values = []\n",
    "f1_score_values = []\n",
    "\n",
    "# Assuming you have your full dataset stored in X and y\n",
    "# Splitting the data into train and validation sets\n",
    "X_train, X_test, y_train, y_test = train_test_split(X_train, y_train, test_size=0.1, random_state=42)\n",
    "# Initialize the logistic regression model\n",
    "log_reg = LogisticRegression(penalty='l1', C=1, solver='liblinear')\n",
    "\n",
    "best_f1_score = 0\n",
    "best_model = None\n",
    "\n",
    "# Assuming you have a loop for multiple iterations (e.g., epochs)\n",
    "for i in range(10):  # num_iterations is the number of iterations in your loop\n",
    "    # Incrementally increase the size of the training data\n",
    "    train_size = int((i + 1) * 0.1 * X_train.shape[0])\n",
    "    X_train_subset = X_train[:train_size]\n",
    "    y_train_subset = y_train[:train_size]\n",
    "\n",
    "    # Fit the model to the training data subset\n",
    "    log_reg.fit(X_train_subset, y_train_subset)\n",
    "\n",
    "    # Make predictions on the validation data\n",
    "    y_pred = log_reg.predict(X_validation)\n",
    "\n",
    "    # Calculate precision, recall, accuracy, and F1-score\n",
    "    precision = precision_score(y_validation, y_pred, average='weighted')\n",
    "    recall = recall_score(y_validation, y_pred, average='weighted')\n",
    "    accuracy = accuracy_score(y_validation, y_pred)\n",
    "    f1 = f1_score(y_validation, y_pred, average='weighted')\n",
    "\n",
    "    # Append the calculated values to the lists\n",
    "    precision_values.append(precision)\n",
    "    recall_values.append(recall)\n",
    "    accuracy_values.append(accuracy)\n",
    "    f1_score_values.append(f1)\n",
    "\n",
    "    # Check if the current model is the best based on F1-score\n",
    "    if f1 > best_f1_score:\n",
    "        best_f1_score = f1\n",
    "        best_model = log_reg\n",
    "\n",
    "# Save the best model\n",
    "joblib.dump(best_model, 'best_logistic_regression_model.pkl')\n"
   ],
   "metadata": {
    "collapsed": false
   }
  },
  {
   "cell_type": "code",
   "execution_count": 21,
   "outputs": [
    {
     "name": "stdout",
     "output_type": "stream",
     "text": [
      "Final Test Accuracy: 0.5260957365112774\n",
      "Final Test Precision: 0.5298795848628819\n",
      "Final Test Recall: 0.5260957365112774\n",
      "Final Test F1 Score: 0.5243841913444597\n"
     ]
    }
   ],
   "source": [
    "# Predict probabilities on the test set\n",
    "y_pred = log_reg.predict(X_test)\n",
    "\n",
    "# Calculate performance metrics\n",
    "precision = precision_score(y_test, y_pred, average='weighted')\n",
    "recall = recall_score(y_test, y_pred, average='weighted')\n",
    "accuracy = accuracy_score(y_test, y_pred)\n",
    "f1 = f1_score(y_test, y_pred, average='weighted')\n",
    "\n",
    "print(\"Final Test Accuracy:\", accuracy)\n",
    "print(\"Final Test Precision:\", precision)\n",
    "print(\"Final Test Recall:\", recall)\n",
    "print(\"Final Test F1 Score:\", f1)"
   ],
   "metadata": {
    "collapsed": false
   }
  },
  {
   "cell_type": "code",
   "execution_count": 22,
   "outputs": [
    {
     "data": {
      "text/plain": "(316431, 31257)"
     },
     "execution_count": 22,
     "metadata": {},
     "output_type": "execute_result"
    }
   ],
   "source": [
    "X_train.shape"
   ],
   "metadata": {
    "collapsed": false
   }
  },
  {
   "cell_type": "code",
   "execution_count": 23,
   "outputs": [
    {
     "name": "stdout",
     "output_type": "stream",
     "text": [
      "0.5298795848628819\n",
      "0.5260957365112774\n",
      "0.5260957365112774\n",
      "0.5243841913444597\n"
     ]
    }
   ],
   "source": [
    "print(precision)\n",
    "print(recall)\n",
    "print(accuracy)\n",
    "print(f1)"
   ],
   "metadata": {
    "collapsed": false
   }
  },
  {
   "cell_type": "code",
   "execution_count": 24,
   "outputs": [
    {
     "data": {
      "text/plain": "<Figure size 640x480 with 1 Axes>",
      "image/png": "[encoded data removed]"
     },
     "metadata": {},
     "output_type": "display_data"
    }
   ],
   "source": [
    "percents = [10, 20, 30, 40, 50, 60, 70, 80, 90, 100]\n",
    "plt.plot(percents, precision_values, label='Precision')\n",
    "plt.plot(percents, recall_values, label='Recall')\n",
    "plt.plot(percents, f1_score_values, label='F1 Score')\n",
    "plt.plot(percents, accuracy_values, label='Accuracy')\n",
    "\n",
    "plt.xlabel('Percentage of Training Data')\n",
    "plt.ylabel('Performance')\n",
    "plt.title('Classifier Performance vs. Percentage of Training Data')\n",
    "plt.xticks(percents)\n",
    "plt.legend()\n",
    "\n",
    "plt.savefig(\"logistic_regression.jpg\")\n",
    "plt.show()"
   ],
   "metadata": {
    "collapsed": false
   }
  }
 ],
 "metadata": {
  "kernelspec": {
   "display_name": "Python 3",
   "language": "python",
   "name": "python3"
  },
  "language_info": {
   "codemirror_mode": {
    "name": "ipython",
    "version": 2
   },
   "file_extension": ".py",
   "mimetype": "text/x-python",
   "name": "python",
   "nbconvert_exporter": "python",
   "pygments_lexer": "ipython2",
   "version": "2.7.6"
  }
 },
 "nbformat": 4,
 "nbformat_minor": 0
}
