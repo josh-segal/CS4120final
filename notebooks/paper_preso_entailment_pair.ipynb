{
 "cells": [
  {
   "cell_type": "code",
   "source": [
    "!pip install datasets\n",
    "!pip install evaluate\n",
    "!pip install tokenizers\n",
    "!pip install transformers\n",
    "!pip install bs4\n",
    "!pip install lxml"
   ],
   "metadata": {
    "colab": {
     "base_uri": "https://localhost:8080/"
    },
    "id": "E5eWlFMrgojZ",
    "outputId": "3c4706a2-652c-4d64-9a0a-a94f8ed55712",
    "ExecuteTime": {
     "end_time": "2024-04-10T00:38:28.361549Z",
     "start_time": "2024-04-10T00:38:15.649587Z"
    }
   },
   "outputs": [
    {
     "name": "stdout",
     "output_type": "stream",
     "text": [
      "Requirement already satisfied: datasets in /Users/joshuasegal/anaconda3/lib/python3.11/site-packages (2.12.0)\r\n",
      "Requirement already satisfied: numpy>=1.17 in /Users/joshuasegal/anaconda3/lib/python3.11/site-packages (from datasets) (1.23.5)\r\n",
      "Requirement already satisfied: pyarrow>=8.0.0 in /Users/joshuasegal/anaconda3/lib/python3.11/site-packages (from datasets) (11.0.0)\r\n",
      "Requirement already satisfied: dill<0.3.7,>=0.3.0 in /Users/joshuasegal/anaconda3/lib/python3.11/site-packages (from datasets) (0.3.6)\r\n",
      "Requirement already satisfied: pandas in /Users/joshuasegal/anaconda3/lib/python3.11/site-packages (from datasets) (2.0.3)\r\n",
      "Requirement already satisfied: requests>=2.19.0 in /Users/joshuasegal/anaconda3/lib/python3.11/site-packages (from datasets) (2.31.0)\r\n",
      "Requirement already satisfied: tqdm>=4.62.1 in /Users/joshuasegal/anaconda3/lib/python3.11/site-packages (from datasets) (4.65.0)\r\n",
      "Requirement already satisfied: xxhash in /Users/joshuasegal/anaconda3/lib/python3.11/site-packages (from datasets) (2.0.2)\r\n",
      "Requirement already satisfied: multiprocess in /Users/joshuasegal/anaconda3/lib/python3.11/site-packages (from datasets) (0.70.14)\r\n",
      "Requirement already satisfied: fsspec[http]>=2021.11.1 in /Users/joshuasegal/anaconda3/lib/python3.11/site-packages (from datasets) (2023.4.0)\r\n",
      "Requirement already satisfied: aiohttp in /Users/joshuasegal/anaconda3/lib/python3.11/site-packages (from datasets) (3.8.5)\r\n",
      "Requirement already satisfied: huggingface-hub<1.0.0,>=0.11.0 in /Users/joshuasegal/anaconda3/lib/python3.11/site-packages (from datasets) (0.15.1)\r\n",
      "Requirement already satisfied: packaging in /Users/joshuasegal/anaconda3/lib/python3.11/site-packages (from datasets) (23.1)\r\n",
      "Requirement already satisfied: responses<0.19 in /Users/joshuasegal/anaconda3/lib/python3.11/site-packages (from datasets) (0.13.3)\r\n",
      "Requirement already satisfied: pyyaml>=5.1 in /Users/joshuasegal/anaconda3/lib/python3.11/site-packages (from datasets) (6.0)\r\n",
      "Requirement already satisfied: attrs>=17.3.0 in /Users/joshuasegal/anaconda3/lib/python3.11/site-packages (from aiohttp->datasets) (22.1.0)\r\n",
      "Requirement already satisfied: charset-normalizer<4.0,>=2.0 in /Users/joshuasegal/anaconda3/lib/python3.11/site-packages (from aiohttp->datasets) (2.0.4)\r\n",
      "Requirement already satisfied: multidict<7.0,>=4.5 in /Users/joshuasegal/anaconda3/lib/python3.11/site-packages (from aiohttp->datasets) (6.0.2)\r\n",
      "Requirement already satisfied: async-timeout<5.0,>=4.0.0a3 in /Users/joshuasegal/anaconda3/lib/python3.11/site-packages (from aiohttp->datasets) (4.0.2)\r\n",
      "Requirement already satisfied: yarl<2.0,>=1.0 in /Users/joshuasegal/anaconda3/lib/python3.11/site-packages (from aiohttp->datasets) (1.8.1)\r\n",
      "Requirement already satisfied: frozenlist>=1.1.1 in /Users/joshuasegal/anaconda3/lib/python3.11/site-packages (from aiohttp->datasets) (1.3.3)\r\n",
      "Requirement already satisfied: aiosignal>=1.1.2 in /Users/joshuasegal/anaconda3/lib/python3.11/site-packages (from aiohttp->datasets) (1.2.0)\r\n",
      "Requirement already satisfied: filelock in /Users/joshuasegal/anaconda3/lib/python3.11/site-packages (from huggingface-hub<1.0.0,>=0.11.0->datasets) (3.9.0)\r\n",
      "Requirement already satisfied: typing-extensions>=3.7.4.3 in /Users/joshuasegal/anaconda3/lib/python3.11/site-packages (from huggingface-hub<1.0.0,>=0.11.0->datasets) (4.7.1)\r\n",
      "Requirement already satisfied: idna<4,>=2.5 in /Users/joshuasegal/anaconda3/lib/python3.11/site-packages (from requests>=2.19.0->datasets) (3.4)\r\n",
      "Requirement already satisfied: urllib3<3,>=1.21.1 in /Users/joshuasegal/anaconda3/lib/python3.11/site-packages (from requests>=2.19.0->datasets) (1.26.16)\r\n",
      "Requirement already satisfied: certifi>=2017.4.17 in /Users/joshuasegal/anaconda3/lib/python3.11/site-packages (from requests>=2.19.0->datasets) (2024.2.2)\r\n",
      "Requirement already satisfied: six in /Users/joshuasegal/anaconda3/lib/python3.11/site-packages (from responses<0.19->datasets) (1.16.0)\r\n",
      "Requirement already satisfied: python-dateutil>=2.8.2 in /Users/joshuasegal/anaconda3/lib/python3.11/site-packages (from pandas->datasets) (2.8.2)\r\n",
      "Requirement already satisfied: pytz>=2020.1 in /Users/joshuasegal/anaconda3/lib/python3.11/site-packages (from pandas->datasets) (2023.3.post1)\r\n",
      "Requirement already satisfied: tzdata>=2022.1 in /Users/joshuasegal/anaconda3/lib/python3.11/site-packages (from pandas->datasets) (2023.3)\r\n",
      "Requirement already satisfied: evaluate in /Users/joshuasegal/anaconda3/lib/python3.11/site-packages (0.4.0)\r\n",
      "Requirement already satisfied: datasets>=2.0.0 in /Users/joshuasegal/anaconda3/lib/python3.11/site-packages (from evaluate) (2.12.0)\r\n",
      "Requirement already satisfied: numpy>=1.17 in /Users/joshuasegal/anaconda3/lib/python3.11/site-packages (from evaluate) (1.23.5)\r\n",
      "Requirement already satisfied: dill in /Users/joshuasegal/anaconda3/lib/python3.11/site-packages (from evaluate) (0.3.6)\r\n",
      "Requirement already satisfied: pandas in /Users/joshuasegal/anaconda3/lib/python3.11/site-packages (from evaluate) (2.0.3)\r\n",
      "Requirement already satisfied: requests>=2.19.0 in /Users/joshuasegal/anaconda3/lib/python3.11/site-packages (from evaluate) (2.31.0)\r\n",
      "Requirement already satisfied: tqdm>=4.62.1 in /Users/joshuasegal/anaconda3/lib/python3.11/site-packages (from evaluate) (4.65.0)\r\n",
      "Requirement already satisfied: xxhash in /Users/joshuasegal/anaconda3/lib/python3.11/site-packages (from evaluate) (2.0.2)\r\n",
      "Requirement already satisfied: multiprocess in /Users/joshuasegal/anaconda3/lib/python3.11/site-packages (from evaluate) (0.70.14)\r\n",
      "Requirement already satisfied: fsspec[http]>=2021.05.0 in /Users/joshuasegal/anaconda3/lib/python3.11/site-packages (from evaluate) (2023.4.0)\r\n",
      "Requirement already satisfied: huggingface-hub>=0.7.0 in /Users/joshuasegal/anaconda3/lib/python3.11/site-packages (from evaluate) (0.15.1)\r\n",
      "Requirement already satisfied: packaging in /Users/joshuasegal/anaconda3/lib/python3.11/site-packages (from evaluate) (23.1)\r\n",
      "Requirement already satisfied: responses<0.19 in /Users/joshuasegal/anaconda3/lib/python3.11/site-packages (from evaluate) (0.13.3)\r\n",
      "Requirement already satisfied: pyarrow>=8.0.0 in /Users/joshuasegal/anaconda3/lib/python3.11/site-packages (from datasets>=2.0.0->evaluate) (11.0.0)\r\n",
      "Requirement already satisfied: aiohttp in /Users/joshuasegal/anaconda3/lib/python3.11/site-packages (from datasets>=2.0.0->evaluate) (3.8.5)\r\n",
      "Requirement already satisfied: pyyaml>=5.1 in /Users/joshuasegal/anaconda3/lib/python3.11/site-packages (from datasets>=2.0.0->evaluate) (6.0)\r\n",
      "Requirement already satisfied: filelock in /Users/joshuasegal/anaconda3/lib/python3.11/site-packages (from huggingface-hub>=0.7.0->evaluate) (3.9.0)\r\n",
      "Requirement already satisfied: typing-extensions>=3.7.4.3 in /Users/joshuasegal/anaconda3/lib/python3.11/site-packages (from huggingface-hub>=0.7.0->evaluate) (4.7.1)\r\n",
      "Requirement already satisfied: charset-normalizer<4,>=2 in /Users/joshuasegal/anaconda3/lib/python3.11/site-packages (from requests>=2.19.0->evaluate) (2.0.4)\r\n",
      "Requirement already satisfied: idna<4,>=2.5 in /Users/joshuasegal/anaconda3/lib/python3.11/site-packages (from requests>=2.19.0->evaluate) (3.4)\r\n",
      "Requirement already satisfied: urllib3<3,>=1.21.1 in /Users/joshuasegal/anaconda3/lib/python3.11/site-packages (from requests>=2.19.0->evaluate) (1.26.16)\r\n",
      "Requirement already satisfied: certifi>=2017.4.17 in /Users/joshuasegal/anaconda3/lib/python3.11/site-packages (from requests>=2.19.0->evaluate) (2024.2.2)\r\n",
      "Requirement already satisfied: six in /Users/joshuasegal/anaconda3/lib/python3.11/site-packages (from responses<0.19->evaluate) (1.16.0)\r\n",
      "Requirement already satisfied: python-dateutil>=2.8.2 in /Users/joshuasegal/anaconda3/lib/python3.11/site-packages (from pandas->evaluate) (2.8.2)\r\n",
      "Requirement already satisfied: pytz>=2020.1 in /Users/joshuasegal/anaconda3/lib/python3.11/site-packages (from pandas->evaluate) (2023.3.post1)\r\n",
      "Requirement already satisfied: tzdata>=2022.1 in /Users/joshuasegal/anaconda3/lib/python3.11/site-packages (from pandas->evaluate) (2023.3)\r\n",
      "Requirement already satisfied: attrs>=17.3.0 in /Users/joshuasegal/anaconda3/lib/python3.11/site-packages (from aiohttp->datasets>=2.0.0->evaluate) (22.1.0)\r\n",
      "Requirement already satisfied: multidict<7.0,>=4.5 in /Users/joshuasegal/anaconda3/lib/python3.11/site-packages (from aiohttp->datasets>=2.0.0->evaluate) (6.0.2)\r\n",
      "Requirement already satisfied: async-timeout<5.0,>=4.0.0a3 in /Users/joshuasegal/anaconda3/lib/python3.11/site-packages (from aiohttp->datasets>=2.0.0->evaluate) (4.0.2)\r\n",
      "Requirement already satisfied: yarl<2.0,>=1.0 in /Users/joshuasegal/anaconda3/lib/python3.11/site-packages (from aiohttp->datasets>=2.0.0->evaluate) (1.8.1)\r\n",
      "Requirement already satisfied: frozenlist>=1.1.1 in /Users/joshuasegal/anaconda3/lib/python3.11/site-packages (from aiohttp->datasets>=2.0.0->evaluate) (1.3.3)\r\n",
      "Requirement already satisfied: aiosignal>=1.1.2 in /Users/joshuasegal/anaconda3/lib/python3.11/site-packages (from aiohttp->datasets>=2.0.0->evaluate) (1.2.0)\r\n",
      "Requirement already satisfied: tokenizers in /Users/joshuasegal/anaconda3/lib/python3.11/site-packages (0.13.2)\r\n",
      "Requirement already satisfied: transformers in /Users/joshuasegal/anaconda3/lib/python3.11/site-packages (4.32.1)\r\n",
      "Requirement already satisfied: filelock in /Users/joshuasegal/anaconda3/lib/python3.11/site-packages (from transformers) (3.9.0)\r\n",
      "Requirement already satisfied: huggingface-hub<1.0,>=0.15.1 in /Users/joshuasegal/anaconda3/lib/python3.11/site-packages (from transformers) (0.15.1)\r\n",
      "Requirement already satisfied: numpy>=1.17 in /Users/joshuasegal/anaconda3/lib/python3.11/site-packages (from transformers) (1.23.5)\r\n",
      "Requirement already satisfied: packaging>=20.0 in /Users/joshuasegal/anaconda3/lib/python3.11/site-packages (from transformers) (23.1)\r\n",
      "Requirement already satisfied: pyyaml>=5.1 in /Users/joshuasegal/anaconda3/lib/python3.11/site-packages (from transformers) (6.0)\r\n",
      "Requirement already satisfied: regex!=2019.12.17 in /Users/joshuasegal/anaconda3/lib/python3.11/site-packages (from transformers) (2022.7.9)\r\n",
      "Requirement already satisfied: requests in /Users/joshuasegal/anaconda3/lib/python3.11/site-packages (from transformers) (2.31.0)\r\n",
      "Requirement already satisfied: tokenizers!=0.11.3,<0.14,>=0.11.1 in /Users/joshuasegal/anaconda3/lib/python3.11/site-packages (from transformers) (0.13.2)\r\n",
      "Requirement already satisfied: safetensors>=0.3.1 in /Users/joshuasegal/anaconda3/lib/python3.11/site-packages (from transformers) (0.3.2)\r\n",
      "Requirement already satisfied: tqdm>=4.27 in /Users/joshuasegal/anaconda3/lib/python3.11/site-packages (from transformers) (4.65.0)\r\n",
      "Requirement already satisfied: fsspec in /Users/joshuasegal/anaconda3/lib/python3.11/site-packages (from huggingface-hub<1.0,>=0.15.1->transformers) (2023.4.0)\r\n",
      "Requirement already satisfied: typing-extensions>=3.7.4.3 in /Users/joshuasegal/anaconda3/lib/python3.11/site-packages (from huggingface-hub<1.0,>=0.15.1->transformers) (4.7.1)\r\n",
      "Requirement already satisfied: charset-normalizer<4,>=2 in /Users/joshuasegal/anaconda3/lib/python3.11/site-packages (from requests->transformers) (2.0.4)\r\n",
      "Requirement already satisfied: idna<4,>=2.5 in /Users/joshuasegal/anaconda3/lib/python3.11/site-packages (from requests->transformers) (3.4)\r\n",
      "Requirement already satisfied: urllib3<3,>=1.21.1 in /Users/joshuasegal/anaconda3/lib/python3.11/site-packages (from requests->transformers) (1.26.16)\r\n",
      "Requirement already satisfied: certifi>=2017.4.17 in /Users/joshuasegal/anaconda3/lib/python3.11/site-packages (from requests->transformers) (2024.2.2)\r\n",
      "Requirement already satisfied: bs4 in /Users/joshuasegal/anaconda3/lib/python3.11/site-packages (0.0.2)\r\n",
      "Requirement already satisfied: beautifulsoup4 in /Users/joshuasegal/anaconda3/lib/python3.11/site-packages (from bs4) (4.12.2)\r\n",
      "Requirement already satisfied: soupsieve>1.2 in /Users/joshuasegal/anaconda3/lib/python3.11/site-packages (from beautifulsoup4->bs4) (2.4)\r\n",
      "Requirement already satisfied: lxml in /Users/joshuasegal/anaconda3/lib/python3.11/site-packages (4.9.3)\r\n"
     ]
    }
   ],
   "execution_count": 1
  },
  {
   "cell_type": "code",
   "source": [
    "import utils as utils\n",
    "from gensim.models import Word2Vec\n",
    "from sklearn.model_selection import train_test_split\n",
    "from sklearn.linear_model import LogisticRegression\n",
    "from sklearn.feature_extraction.text import TfidfVectorizer\n",
    "from sklearn.metrics.pairwise import cosine_similarity\n",
    "from sklearn.metrics import accuracy_score\n",
    "from keras.preprocessing.text import Tokenizer\n",
    "from keras.models import load_model\n",
    "from tensorflow.keras.preprocessing.sequence import pad_sequences\n",
    "import os\n",
    "import shutil\n",
    "from datasets import Dataset\n",
    "from transformers.keras_callbacks import KerasMetricCallback, PushToHubCallback\n",
    "import numpy as np\n",
    "import evaluate\n",
    "from transformers import create_optimizer, AutoTokenizer, TFAutoModelForSequenceClassification, DataCollatorWithPadding\n",
    "\n",
    "import nltk\n",
    "nltk.download('punkt')"
   ],
   "metadata": {
    "colab": {
     "base_uri": "https://localhost:8080/"
    },
    "id": "67eu0djHdb4N",
    "outputId": "fd234abb-2c3f-45c2-bfc0-14b5970b2495",
    "ExecuteTime": {
     "end_time": "2024-04-10T00:38:28.369154Z",
     "start_time": "2024-04-10T00:38:28.363098Z"
    }
   },
   "outputs": [
    {
     "name": "stderr",
     "output_type": "stream",
     "text": [
      "[nltk_data] Downloading package stopwords to\n",
      "[nltk_data]     /Users/joshuasegal/nltk_data...\n",
      "[nltk_data]   Package stopwords is already up-to-date!\n",
      "[nltk_data] Downloading package punkt to\n",
      "[nltk_data]     /Users/joshuasegal/nltk_data...\n",
      "[nltk_data]   Package punkt is already up-to-date!\n"
     ]
    },
    {
     "data": {
      "text/plain": "True"
     },
     "execution_count": 2,
     "metadata": {},
     "output_type": "execute_result"
    }
   ],
   "execution_count": 2
  },
  {
   "cell_type": "code",
   "source": [
    "# dataset_path = 'dataset'\n",
    "# papers_path = 'papers'\n",
    "# presentations_path = 'presentations'\n",
    "#\n",
    "# utils.move_xml_files(dataset_path, papers_path, presentations_path)\n",
    "\n",
    "\n",
    "source_folder = \"data/paper_slides_data/raw_data/dataset\"\n",
    "papers_folder = \"data/paper_slides_data/raw_data/papers\"\n",
    "presentations_folder = \"data/paper_slides_data/raw_data/presentations\"\n",
    "\n",
    "utils.organize_xml_folders(source_folder, papers_folder, presentations_folder)"
   ],
   "metadata": {
    "id": "S2bstsijdb4O",
    "ExecuteTime": {
     "end_time": "2024-04-10T00:38:28.377348Z",
     "start_time": "2024-04-10T00:38:28.370316Z"
    }
   },
   "outputs": [],
   "execution_count": 3
  },
  {
   "cell_type": "code",
   "source": [
    "sample_xml_pres_path = \"data/paper_slides_data/sample_data/presentations/slide.clean_tika.xml\"\n",
    "sample_xml_pres = utils.read_file(sample_xml_pres_path)\n",
    "sample_xml_pres\n",
    "\n",
    "sample_xml_paper_path = \"data/paper_slides_data/sample_data/papers/Paper_BRM.tei.xml\"\n",
    "sample_xml_paper = utils.read_file(sample_xml_paper_path)\n",
    "sample_xml_paper"
   ],
   "metadata": {
    "colab": {
     "base_uri": "https://localhost:8080/"
    },
    "id": "vvKeerpSdb4P",
    "outputId": "c5566859-b849-49c0-a03f-53012d93c89c",
    "ExecuteTime": {
     "end_time": "2024-04-10T00:38:28.387989Z",
     "start_time": "2024-04-10T00:38:28.378404Z"
    }
   },
   "outputs": [
    {
     "data": {
      "text/plain": "'<?xml version=\"1.0\" encoding=\"UTF-8\"?>\\n<TEI xmlns=\"http://www.tei-c.org/ns/1.0\" \\nxmlns:xsi=\"http://www.w3.org/2001/XMLSchema-instance\" \\nxsi:schemaLocation=\"http://www.tei-c.org/ns/1.0 /Users/atharsefid/Desktop/grobid-0.5.3/grobid-home/schemas/xsd/Grobid.xsd\"\\n xmlns:xlink=\"http://www.w3.org/1999/xlink\">\\n\\t<teiHeader xml:lang=\"en\">\\n\\t\\t<encodingDesc>\\n\\t\\t\\t<appInfo>\\n\\t\\t\\t\\t<application version=\"0.5.3\" ident=\"GROBID\" when=\"2019-03-26T16:26+0000\">\\n\\t\\t\\t\\t\\t<ref target=\"https://github.com/kermitt2/grobid\">GROBID - A machine learning software for extracting information from scholarly documents</ref>\\n\\t\\t\\t\\t</application>\\n\\t\\t\\t</appInfo>\\n\\t\\t</encodingDesc>\\n\\t\\t<fileDesc>\\n\\t\\t\\t<titleStmt>\\n\\t\\t\\t\\t<title level=\"a\" type=\"main\">Best-Response Mechanisms</title>\\n\\t\\t\\t</titleStmt>\\n\\t\\t\\t<publicationStmt>\\n\\t\\t\\t\\t<publisher/>\\n\\t\\t\\t\\t<availability status=\"unknown\"><licence/></availability>\\n\\t\\t\\t</publicationStmt>\\n\\t\\t\\t<sourceDesc>\\n\\t\\t\\t\\t<biblStruct>\\n\\t\\t\\t\\t\\t<analytic>\\n\\t\\t\\t\\t\\t\\t<author>\\n\\t\\t\\t\\t\\t\\t\\t<persName xmlns=\"http://www.tei-c.org/ns/1.0\"><forename type=\"first\">Noam</forename><surname>Nisan</surname></persName>\\n\\t\\t\\t\\t\\t\\t\\t<affiliation key=\"aff0\">\\n\\t\\t\\t\\t\\t\\t\\t\\t<orgName type=\"department\">School of Eng. and Computer Science</orgName>\\n\\t\\t\\t\\t\\t\\t\\t\\t<orgName type=\"institution\">The Hebrew University of Jerusalem</orgName>\\n\\t\\t\\t\\t\\t\\t\\t</affiliation>\\n\\t\\t\\t\\t\\t\\t</author>\\n\\t\\t\\t\\t\\t\\t<author>\\n\\t\\t\\t\\t\\t\\t\\t<persName xmlns=\"http://www.tei-c.org/ns/1.0\"><forename type=\"first\">Michael</forename><surname>Schapira</surname></persName>\\n\\t\\t\\t\\t\\t\\t\\t<affiliation key=\"aff1\">\\n\\t\\t\\t\\t\\t\\t\\t\\t<orgName type=\"department\">Computer Science Dept</orgName>\\n\\t\\t\\t\\t\\t\\t\\t\\t<orgName type=\"institution\">Princeton University</orgName>\\n\\t\\t\\t\\t\\t\\t\\t</affiliation>\\n\\t\\t\\t\\t\\t\\t</author>\\n\\t\\t\\t\\t\\t\\t<author>\\n\\t\\t\\t\\t\\t\\t\\t<persName xmlns=\"http://www.tei-c.org/ns/1.0\"><forename type=\"first\">Gregory</forename><surname>Valiant</surname></persName>\\n\\t\\t\\t\\t\\t\\t\\t<email>gvaliant@eecs.berkeley.edu</email>\\n\\t\\t\\t\\t\\t\\t\\t<affiliation key=\"aff2\">\\n\\t\\t\\t\\t\\t\\t\\t\\t<orgName type=\"department\">Dept. of Computer Science</orgName>\\n\\t\\t\\t\\t\\t\\t\\t\\t<orgName type=\"institution\">UC Berkeley</orgName>\\n\\t\\t\\t\\t\\t\\t\\t</affiliation>\\n\\t\\t\\t\\t\\t\\t</author>\\n\\t\\t\\t\\t\\t\\t<author>\\n\\t\\t\\t\\t\\t\\t\\t<persName xmlns=\"http://www.tei-c.org/ns/1.0\"><forename type=\"first\">Aviv</forename><surname>Zohar</surname></persName>\\n\\t\\t\\t\\t\\t\\t\\t<email>avivz@microsoft.com</email>\\n\\t\\t\\t\\t\\t\\t\\t<affiliation key=\"aff3\">\\n\\t\\t\\t\\t\\t\\t\\t\\t<orgName type=\"institution\" key=\"instit1\">Microsoft Research</orgName>\\n\\t\\t\\t\\t\\t\\t\\t\\t<orgName type=\"institution\" key=\"instit2\">Silicon Valley</orgName>\\n\\t\\t\\t\\t\\t\\t\\t</affiliation>\\n\\t\\t\\t\\t\\t\\t</author>\\n\\t\\t\\t\\t\\t\\t<title level=\"a\" type=\"main\">Best-Response Mechanisms</title>\\n\\t\\t\\t\\t\\t</analytic>\\n\\t\\t\\t\\t\\t<monogr>\\n\\t\\t\\t\\t\\t\\t<imprint>\\n\\t\\t\\t\\t\\t\\t\\t<date/>\\n\\t\\t\\t\\t\\t\\t</imprint>\\n\\t\\t\\t\\t\\t</monogr>\\n\\t\\t\\t\\t</biblStruct>\\n\\t\\t\\t</sourceDesc>\\n\\t\\t</fileDesc>\\n\\t\\t<profileDesc>\\n\\t\\t\\t<textClass>\\n\\t\\t\\t\\t<keywords>\\n\\t\\t\\t\\t\\t<term>Best Response</term>\\n\\t\\t\\t\\t\\t<term>Mechanism Design</term>\\n\\t\\t\\t\\t\\t<term>Incentive Compatible Dynamics</term>\\n\\t\\t\\t\\t</keywords>\\n\\t\\t\\t</textClass>\\n\\t\\t\\t<abstract>\\n\\t\\t\\t\\t<p>Under many protocols-in computerized settings and in economics settings-participants repeatedly &quot;best respond&quot; to each others&apos; actions until the system &quot;converges&quot; to an equilibrium point. We ask when does such myopic &quot;local rationality&quot; imply &quot;global rationality&quot;, i.e., when is it best for a player, given that the others are repeatedly best-responding, to also repeatedly best-respond? We exhibit a class of games where this is indeed the case. We identify several environments of interest that fall within our class: models of the Border Gateway Protocol (BGP) [7], that handles routing on the Internet, and of the Transmission Control Protocol (TCP) [5], and also stable-roommates [3] and cost-sharing [9, 10], that have been extensively studied in economic theory.</p>\\n\\t\\t\\t</abstract>\\n\\t\\t</profileDesc>\\n\\t</teiHeader>\\n\\t<text xml:lang=\"en\">\\n\\t\\t<body>\\n<div xmlns=\"http://www.tei-c.org/ns/1.0\"><head n=\"1\">Introduction</head></div>\\n<div xmlns=\"http://www.tei-c.org/ns/1.0\"><head n=\"1.1\">Motivation: When is it Best to BestRespond?</head><p>The basic object of study in game theory and in economics is the equilibrium: a \"stable\" state from which none of the players wish to deviate. Equilibrium is a static concept that often abstracts away the question of how it is reached. Once we start looking at dynamics, or at algorithms for finding equilibria, we cannot escape questions of the form \"How is an equilibrium reached?\". While there can be different formalizations of this question, in most cases, a truly satisfactory answer would have each player performing only simple \"locally rational\" actions and yet, mysteriously, the system would reach a global equilibrium. The simplest example of such phenomena is repeated best-response dynamics: each player selects the best (locally optimal) response to what others are currently doing, and this process goes on \"for a while\" until it \"converges\" to what must be a (pure Nash) equilibrium. Convergence of repeated bestresponse is, unfortunately, not guaranteed in general, and is the subject of much research, as is the convergence of more sophisticated \"locallyrational\" dynamics, e.g., fictitious play or regret minimization.</p><p>Our focus in this paper is on a different question that has received little attention so far: \"Is such locally rational behavior really rational?\". Specifically, we consider games in which repeated best-response dynamics do converge to an equilibrium and study the incentive properties of this process: Is it rational for players to repeatedly bestrespond? Can a long-sighted player improve, in the long run, over this repeated myopic optimization?</p><p>These questions about incentives are best explored in the context of games with incomplete information. Switching our attention from games with complete information to games with uncoupled incomplete information, we see that repeated best-response exhibits another attractive trait: to best-respond each player need only know his own utility function (\"type\"), as his best response does not depend on other players\\' utility functions, but only on their actions. Thus, we can view bestresponse dynamics as a natural protocol for gradual and limited sharing of information in an effort to reach an equilibrium. Indeed, in many real-life contexts the interaction between decision makers with incomplete information takes the form of best-response dynamics (e.g., Internet routing <ref type=\"bibr\" target=\"#b6\">[7]</ref>). When regarding best-response dynamics from this perspective, it is an indirect mechanism in the private-information mechanism-design sense. We wish to understand when such a mechanism, that dictates that all players repeatedly best-respond, is incentive compatible.</p></div>\\n<div xmlns=\"http://www.tei-c.org/ns/1.0\"><head n=\"1.2\">The Setting</head><p>Let us begin by laying out our setting for studying and formalizing incentives for repeated bestresponse. In our framework, each player holds a private utility function, and all players\\' utility functions, when put together, determine a fullinformation base game with some commonlyknown strategy spaces. We desire that the outcome of the dynamics be an equilibrium of this base game.</p><p>Base game: We are given an n-player (one-shot) base game G, with players 1, . . . , n, in which each player i has strategy space S i , and S = S 1 × ... × S n . Each player i has a utility function u i such that (u 1 , . . . , u n ) ∈ U ⊆ U 1 × · · · × U n , where U i ⊆ ℜ |S| is player i\\'s utility space. Each player knows only his own utility function, i.e., we view u i itself as player i\\'s type.</p><p>Best-response mechanisms: We study a class of indirect mechanisms, that we term \"repeatedresponse mechanisms\": players take turns selecting strategies; at each (discrete) time step t, some player i t selects and announces strategy s t i ∈ S it . Observe that one course of action available to each player in a repeated-response mechanism is to always choose a best-response to the most recently announced strategies of the others, that is, repeated-best-response. We call a repeated-response mechanism in which the prescribed behavior for each player is to repeatedly best-respond a \"best-response mechanism\". To fully-specify a best-response mechanism we must specify (1) the starting state; (2) the order of player activations (which player is \"active\" when); and (3) for each player, a rule for breaking ties among multiple best responses. All of our results hold regardless of the initial state and of the order of players\\' activations (so long as it is \"long enough\"), and, in fact, even in more general settings. <ref type=\"bibr\" target=\"#b0\">1</ref> We discuss tie-breaking rules below.</p><p>Goal: Our general aim is to identify interesting classes of (base) games for which best-response mechanisms are incentive-compatible.</p><p>Intuitively, a best-response mechanism is incentivecompatible if, when all other players are repeatedly best-responding, then a player is incentivized to do the same. Defining incentive compatibility in our setting involves many intricacies. We opt to focus here on a very general notion of incentive compatibility that, we believe, captures essentially any variant that the reader may desire; in a companion paper <ref type=\"bibr\" target=\"#b10\">[11]</ref>, we present several more games (auctions) where only strictly weaker notions of incentive compatibility can be obtained. Our notion of incentive compatibility here captures the two following distinct but complementary points of view: a mechanism design perspective and a learning equilibrium <ref type=\"bibr\" target=\"#b0\">[1,</ref><ref type=\"bibr\" target=\"#b1\">2]</ref> perspective.</p><p>Mechanism design perspective (in a prior-free non-Bayesian setting): This point of view is natural when analyzing finite-time protocols in computerized and economic settings. We are given a game with incomplete information G, where each player\\'s utility function is private, and we wish to implement a pure Nash equilibrium (PNE) of G. We point out that this uncommon objectiveimplementing an equilibrium-proves to be a natural implementation goal in many contexts (see Section 3, where we show that desirable outcomes can be regarded as \"stable states\"). Best-response mechanisms are incentive compatible, from this perspective, if the desired outcomes are implemented in the ex-post Nash sense 2 . Importantly, from this point of view, no actual play happens during the process of best-response dynamics and players merely announce strategies as their communication with the mechanism; each player only cares about maximizing his benefit from the final outcome of the mechanism, that is expected to ter-1 Our results actually hold even for (1) asynchronous player activation orders in which multiple players can best-respond simultaneously or based on outdated information (as studied in <ref type=\"bibr\" target=\"#b11\">[12]</ref>); (2) adaptive player activation orders that can change based on the history of play; and also when (3) the mechanism terminates as soon as all players \"pass\", that is, each player repeats his last strategy. <ref type=\"bibr\" target=\"#b1\">2</ref> The Revelation Principle then implies that the direct revelation mechanism is truthful (in the ex-post-nash sense). minate after some finite predetermined number of time steps.</p><p>Learning equilibrium perspective: This point of view is natural when analyzing environments such as Internet protocols and global financial transactions, where players repeatedly interact with each other and there is no \"final turn\". Now, the players are actually involved in infinite repeated play of the incomplete-information game G and each player has a rule for selecting his next strategy based on the history of play. We are interested in the natural rule that dictates that a player simply always best-respond to others\\' most-recent strategies. In this context, each player wishes to maximize his long-term payoff, that we model to be the lim sup of his stage utilities in this infinitely-played game 3 . Best-response mechanisms are incentive compatible, from this perspective, if the \"best-response\" rules are themselves in equilibrium in this infinite game regardless of the realization of (u 1 , . . . , u n ). Using the terminology of <ref type=\"bibr\" target=\"#b0\">[1,</ref><ref type=\"bibr\" target=\"#b1\">2]</ref>, this means that best-response dynamics are in \"learning equilibrium\". We stress that this would not follow from the folk theorem since our players do not, in any way, punish other players for deviation. To the contrary, our incentive compatibility results establish that the natural best-response dynamics are in equilibrium without requiring players to be able to detect and penalize other players\\' deviations.</p><p>Tie-breaking rules.</p><p>When multiple bestresponses exist we must specify, for each player, a tie-breaking rule. Importantly, this tie-breaking rule must be \"uncoupled\", i.e., depend solely on the player\\'s private information (utility function) and not on information that is unavailable to him 4 . Our tie-breaking rules always have the following simple form: fix, for each player i, an a-priori full order ≺ i on S i (that can depend on u i ), and instruct player i to break ties between multiple best-responses according to ≺ i . While this might seem innocent enough, we do get significant milage from delicate choices of these tie-breaking rules, to the point that one may desire an intuitive justification for these choices. Roughly speaking, there are two main, conflicting, intuitions: in some cases we simply ask players to break ties so as to be \"nice\" to others; in other cases we break ties according to some \"iterated-trembling-hand\" logic.</p></div>\\n<div xmlns=\"http://www.tei-c.org/ns/1.0\"><head n=\"1.3\">Games with Incentive-Compatible BestResponse Mechanisms</head><p>Our main results are identifying a class of games for which best-response mechanisms are incentive compatible, and exhibiting several interesting games that fall within this class (and thus have incentive-compatible best-response mechanisms). While at first glance, it might seem that the existence of a unique PNE to which best-response dynamics are guaranteed to converge implies the incentive-compatibility of best-response mechanisms, this intuition is false. Observe that in this game, (B, D) is the unique PNE and every sequence of best responses converges to it. Yet, consider the scenario that the starting point is the strategy profile (A, C), and the column player repeatedly best-responds. Clearly, the row player\\'s local improvement from (A, C) to (B, C) will lead to the column player moving to <ref type=\"bibr\">(B, D)</ref>. Hence, the row player can do better by looking ahead, not moving from (A, C), and thus \"getting stuck\" at (A, C), that he strictly prefers to the unique pure Nash (B, D). Hence, repeated best-responding is not incentive compatible in this game which is strictly-dominance-solvable, is a potential game, and has a unique and Paretooptimal PNE.</p><p>What traits must a game have for best-response dynamics to be incentive compatible?</p><p>We now present an intuitive exposition of a class of games for which this is achieved, which we term \"Never-Best-Response-Solvable (NBRsolvable) games with clear outcomes\". In an NBRsolvable game, strategies are iteratively eliminated if a best-response never leads to them (this is slightly different from dominance-solvability and shall be defined in the following section). Intuitively, an NBR-solvable game has a clear outcome if when each player i considers the game after the other players have already eliminated strategies that can be eliminated regardless of what i does, he can already tell that he will not be able to do better than the outcome that is reached via repeated best-response.</p><p>Our main, and quite easy to prove, general theorem is the following. (We now state the theorem for the case that the strategy spaces are finite, though our result also holds for infinite strategy spaces.)</p><p>Theorem (informal): Let G be an NBR-solvable game with a clear outcome. Then, for every starting point and every (finite or infinite) order of player activations with at least T = Σ i |S i | − n \"rounds\" (a round is a sequence of consecutive time steps in which each player is \"active\" at least once) it holds that:</p><p>1. Repeated best-response dynamics converges to a pure Nash equilibrium s * of G. 2. Repeated best-response dynamics is incentive compatible. We prove that each of the four environments below can be formulated as a game that falls within our class of games, and that the desired outcome in each environment translates to a PNE in this formulation. Thus, the above result implies the existence of incentive-compatible best-response mechanisms that implement the desired outcome in all the contexts below.</p><p>• Stable-roommates. In this classic setting <ref type=\"bibr\" target=\"#b2\">[3]</ref>, students must be paired for the purpose of sharing dorm rooms, and each student has a private full order over possible roommates.</p><p>The objective is to find a \"stable matching\" where no two students prefer each other to their assigned roommates. We show that a natural mechanism, in which a student repeatedly proposes to his most preferred roommate among those that would not immediately reject him, and immediately rejects all proposers except for his most preferred proposer, is incentive compatible in well-studied environments (interns-hospitals, correlated markets).</p><p>• Cost-sharing. Cost-sharing arises in situations in which the cost of some public service (e.g., building a bridge) must be distributed between self-interested users that can benefit from this service to different extents. We present a distributed mechanism that achieves this goal in an incentive-compatible manner.</p><p>Our mechanism implements the outcome of the famous Moulin mechanism <ref type=\"bibr\" target=\"#b8\">[9,</ref><ref type=\"bibr\" target=\"#b9\">10]</ref> (this result can be extended to the more general class of \"acyclic mechanisms\" <ref type=\"bibr\" target=\"#b7\">[8]</ref>).</p><p>• Internet routing. The Border Gateway Protocol (BGP) establishes routes between the smaller networks that make up the Internet.</p><p>We abstract the results in <ref type=\"bibr\" target=\"#b6\">[7]</ref> and prove that BGP is incentive compatible in realistic environments.</p><p>• Congestion control. The Transmission Control Protocol (TCP) handles congestion on the Internet. Building upon <ref type=\"bibr\" target=\"#b4\">[5]</ref>, that models key aspects of TCP, we consider behavior that is somewhat similar to TCP: increase your attempted transmission rate until encountering congestion, and then decrease the transmission rate. We show that such behavior is in equilibrium. Our results above establish incentive compatibility of best-response mechanisms. We also consider the stronger \"collusion-proofness\" desideratum, that even a coalition of players not be able to deviate from repeated best-response and all strictly gain from doing so. We prove that in some of the above environments best-response mechanisms even achieve this stronger requirement.</p></div>\\n<div xmlns=\"http://www.tei-c.org/ns/1.0\"><head n=\"1.4\">Research Agenda</head><p>We view this work as a first step towards a more general research agenda. While convergence to equilibrium of \"locally-rational\" dynamics, e.g., repeated best-response, fictitious play and regret minimization, has been extensively studied, little attention has been given to the question of when such locally-rational dynamics are also \"globally rational\". Here, we tackle this question in the context of repeated best-response and the implementation of PNE. However, we believe that the examination of other dynamics (e.g., fictitious play, regret minimization) and other kinds of equilibria (e.g., mixed Nash equilibrium, correlated equilibrium) is an interesting direction for future research.</p><p>Positive and negative results along these lines can help shed new light on the incentive structure of existing protocols/mechanisms (see our results for BGP and TCP and the results in <ref type=\"bibr\" target=\"#b4\">[5,</ref><ref type=\"bibr\" target=\"#b6\">7]</ref>), and provide new insights into the design of new protocols/mechanisms.</p><p>Our results for repeated best-response dynamics establish sufficient conditions for repeated bestresponse to be incentive compatible. We still lack characterizations of conditions that imply incentive compatibility both for general games and for specific classes of games (dominance-solvable games, potential games, etc.). We have thus far considered a very strong notion of incentive compatibility. We believe that considering more restrictive notions (e.g., incentive compatibility in expectation) is of interest. Indeed, in a companion paper <ref type=\"bibr\" target=\"#b10\">[11]</ref> we present several such results for commerce environments.</p></div>\\n<div xmlns=\"http://www.tei-c.org/ns/1.0\"><head n=\"1.5\">Organization</head><p>In the next section we formalize our model and present our general theorem. In section 3 we present our results for the four specific environments listed above. We discuss collusionproofness in Section 4.</p></div>\\n<div xmlns=\"http://www.tei-c.org/ns/1.0\"><head n=\"2\">Incentive-Compatible</head><p>Best-Response Dynamics Definition 2.1 (tie-breaking rules) A tiebreaking rule (or tie-breaking order) for player i is a full order ≺ i on S i .</p><p>When faced with a choice between multiple best-responses, player i should choose the highest (under ≺ i ) best-response. We now present the following definitions for full-information games.</p><p>Definition 2.2 (never-best-response strategies)</p><formula xml:id=\"formula_0\">s i ∈ S i is a never-best-response (NBR) under tie-breaking order ≺ i on S i if for all s −i , there exists s ′ i so that u i (s i , s −i ) &lt; u i (s ′ i , s −i ) OR both u i (s i , s −i ) = u i (s ′ i , s −i ) and s i ≺ i s ′ i .</formula><p>Definition 2.3 (NBR-solvable games) A game G is never-best-response-solvable (NBR-solvable) under tie-breaking rules ≺ 1 , . . . , ≺ n if there exists a sequence of eliminations of NBR strategies (under these tie breaking rules) that results in a single strategy profile.</p><p>Observe that every weakly-dominance-solvable game has a tie-breaking order under which it is NBR-solvable and every strongly-dominancesolvable game is NBR-solvable for all tie-breaking orders. Observe also that in every game that is NBR-solvable under tie-breaking rules ≺ 1 , . . . , ≺ n the elimination of NBR strategies (under these tie-breaking rules) has a unique orderindependent outcome, that is a pure Nash equilibrium of the game. We call this outcome \"the unique PNE under tie-breaking\".</p></div>\\n<div xmlns=\"http://www.tei-c.org/ns/1.0\"><head>Definition 2.4 (shortest-elimination parameters)</head><p>Let G be an NBR-solvable game (under tiebreaking). Then, there exists a sequence of games G 0 , . . . , G r such that G = G 0 , in G r each player has only a single strategy, and ∀i ∈ {0, . . . , r −1}, G i+1 is obtained from G i via the removal of sets of NBR strategies (under tie-breaking). The shortest-elimination parameter e G for G is the length of the shortest such sequence of games for G.</p><p>Observe that if, in an NBR-solvable game G, each strategy space S i is finite, then e G ≤ Σ i |S i |− n. NBR solvability on its own is insufficient to guarantee incentive compatibility, and so we further restrict it.</p><p>Definition 2.5 (globally-optimal profiles) s ∈ S is globally optimal for i if ∀t ∈ S, u i (t) ≤ u i (s). Definition 2.6 (clear outcomes) Let G be an NBR-solvable game under tie breaking rules ≺ 1 , . . . , ≺ n . Let s * be the unique PNE under tiebreaking of G. We say that G has a clear outcome if for every player i there exists a (player-specific) order of elimination of NBR strategies (under the given tie-breaking rules) such that s * is globally optimal for i at the first step in the elimination sequence in which a strategy in S i is eliminated (that is, in the game obtained after the removal of all previously-eliminated strategies from G).</p><p>We say that an incomplete-information game G is NBR-solvable with a clear outcome (under tiebreaking rules) if every realization of (u 1 , . . . , u n ) induces a full-information game that is NBRsolvable with a clear outcome (under tie-breaking, when each player i uses the tie-breaking rule &lt; i for the realized u i ).</p><p>Consider a best-response mechanism M for a base game G. Let s t ∈ S be the players\\' strategies at time step t. We call u i (s t ) player i\\'s stage utility at time t. If M terminates after some finite number of time steps T &gt; 0 we say that player i\\'s total utility is Γ i = u i (s T ) (his stage utility at the last time step of M \\'s execution). If M does not terminate after finite time then i\\'s total utility is Γ i = lim sup t→∞ u i (s t ). M is incentive compatible if repeated best-response is a pure Nash equilibrium in this repeated game with overall utilities Γ 1 , . . . , Γ n for every realization of (u 1 , . . . , u n ). We say that M is collusion-proof if no coalition can deviate from repeated best-response and all strictly gain from doing so in this repeated game. We show that best-response mechanisms are incentive compatible for NBR-solvable games with clear outcomes.</p></div>\\n<div xmlns=\"http://www.tei-c.org/ns/1.0\"><head>Theorem 2.7 (incentive-compatible mechanisms)</head><p>Let G be NBR-solvable with a clear outcome s * ∈ S under tie-breaking rules ≺ 1 , . . . , ≺ n . Let M be a best-response mechanism for G that breaks ties as in ≺ 1 , . . . , ≺ n . Then, for every starting point and every (finite or infinite) order of player activations with at least T = e G \"rounds\", where a round is a sequence of consecutive time steps in which each player is \"active\" at least once,</p><p>1. M converges to s * . 2. M is incentive compatible. This holds even for (1) asynchronous player activations orders in which multiple players can bestrespond simultaneously or based on outdated information (as studied in <ref type=\"bibr\" target=\"#b11\">[12]</ref>); (2) adaptive player activations orders that can change based on the history of play; and also when (3) the mechanism terminates as soon as all players \"pass\", that is, each player repeats his last strategy.</p><p>Proof sketch: Let G be an NBR-solvable game with a clear outcome (under tie-breaking). Then, there exists a sequence of games G 0 , . . . , G r with length r = e G , such that G = G 0 , in G r each player has only a single strategy, and ∀i ∈ {0, . . . , r − 1}, G i+1 is obtained from G i via the removal of sets of NBR strategies (under tiebreaking).</p><p>Convergence: We first show that if all players repeatedly best-respond then convergence to a PNE is guaranteed within e G rounds. Consider the first round of a best-response mechanism, and consider some j ∈ [n] such that there exists s j ∈ S j that is NBR in G = G 0 . Observe that once j is activated for the first time, s j will never be selected thereafter. Thus, after the first round, no NBR strategy in G 0 will be played ever again and hence the game is effectively equivalent to G 1 . We can now use the same argument to show that after the second round the game is effectively equivalent to G 2 . Thus, we mimic the elimination sequence in each strategy until we end up at G r , whose unique strategy tuple s * is the unique PNE under tie-breaking of G.</p><p>Incentive compatibility: this property follows from the fact that when each player i considers the game after the other players have already eliminated dominated strategies that can be eliminated regardless of what i does, he can already tell that he will not be able to do better than the outcome that is reached via repeated best-response.</p><p>We give the precise argument (by contradiction). Let i be a player that deviates from repeated best-response and strictly gains from doing so. The fact that G is NBR-solvable with a clear outcome (under tie-breaking) implies that there exists a (player-specific) order of elimination of NBR strategies (under the given tie-breaking rules) such that s * is globally optimal for i at the first step in the elimination sequence in which a strategy in S i is eliminated (that is, in the game obtained after the removal of all previously-eliminated strategies from G). Consider this order of elimination; it induces some sequence of games G 0 , . . . , G l such that G = G 0 , in G l each player has only a single strategy, and ∀i ∈ {0, . . . , l − 1}, G i+1 is obtained from G i via the removal of sets of NBR strategies (under tie-breaking) as in the (i + 1)\\'th step in that order. Now, let t i be the index of the first game in the sequence in which i\\'s strategies are eliminated in that order. All players but i are repeatedly bestresponding and in the t i − 1 first steps of the elimination sequence no strategy in S i is eliminated. We can use the same arguments that we used to show convergence, to show that after t i − 1 rounds the game is effectively equivalent to G ti , regardless of the actions of player i. However, in that game, i can do no better than s * -a contradiction.</p></div>\\n<div xmlns=\"http://www.tei-c.org/ns/1.0\"><head n=\"3\">Four Best-Response Mechanisms</head><p>We present four examples of environments that can be formulated as games that are NBRsolvable with clear outcomes (sometimes under tie-breaking): stable-roommates games, costsharing games, BGP games and TCP games. This implies the existence of incentive-compatible bestresponse mechanisms for all these environments.</p></div>\\n<div xmlns=\"http://www.tei-c.org/ns/1.0\"><head n=\"3.1\">Stable-Roommates</head><p>This following classic setting has been extensively studied in economics, game theory and computer science. n students 1, . . . , n must be paired for the purpose of sharing dorm rooms. Each student has a private strict ranking of the others, and prefers being matched to not being matched. The goal is to find a stable matching, i.e., a matching where no two students prefer each other to their matched roommates. Unfortunately, a stable matching is not guaranteed to exist in general and, furthermore, even if a stable matching does exist (e.g., in bipartite graphs), existing algorithms for reaching it are not incentive compatible <ref type=\"bibr\" target=\"#b2\">[3]</ref>. We seek environments where a stable matching is guaranteed to exist and can be reached in an incentive compatible manner. We focus on two wellknown special cases of stable roommates:</p><p>• Intern-hospital matchings: The \"students\" are divided into two disjoint sets, called interns and hospitals, and all hospitals have the same ranking of interns (e.g., GPA-based).</p><p>• Correlated markets: The \"students\" are vertices in a complete graph in which every edge has a unique \"weight\". The \"heavier\" the edge connecting a student to another student the higher that student ranks the other student. We now show how the framework in Section 2 can be used to design natural incentive compatible mechanisms for stable-roommates. We first formulate this environment as a game and prove that this game is NBR-solvable with a clear outcome.</p><p>Stable-roommates games: The students are the players and each student i\\'s strategy space S i is the set of all students j ̸ = i. α i (j) denotes student j\\'s rank in student i\\'s ranking (the least desired roommate\\'s rank is 1). ∀s = (s 1 , . . . , s n ) ∈ S (that is, choices of roommates), u i (s) = α i (j) iff s i = j and k ̸ = i such that s k = j and α j (k) &gt; α j (i); otherwise, u i (s) = 0. 5 (Observe that players\\' utilities are correlated.)</p></div>\\n<div xmlns=\"http://www.tei-c.org/ns/1.0\"><head>Theorem 3.1 For every stable-roommates game G it holds that in both hospital-intern matchings and correlated markets</head><p>• G is NBR-solvable.</p><p>• G\\'s unique PNE is a stable matchings.</p><p>• e G ≤ n.</p><p>Proof sketch: We say that a stable-roommates game is cycle-free if there is no sequence of roomates r 1 , r 2 , . . . r k of length k &gt; 2 such that each student r i ranks student r i+1 higher than student r i−1 (where student indices are considered mod k to induce a cycle). Any matching game that is cycle-free has an elimination sequence that can be constructed as follows: At any stage in the elimination start with some arbitrary student r 1 (that has more than one strategy in the current subgame) and construct a sequence r 1 , r 2 , . . . of students in which r i+1 is the student r i prefers the most out of the students that still have more than one possible strategy remaining (other strategies were eliminated). The number of students is finite and so the sequence must repeat. Since the game is cycle free, the cycle must be of length 2. We have thus located 2 students that desire each other the most. We can eliminate for each of the two the strategies of proposing to any other student since they are guaranteed to gain the maximal utility by proposing to each other.</p><p>All that remains is to notice that both the hospital-intern game and the correlated markets game are cycle-free. In the case of hospitals and interns, the hospitals agree about the ranking of interns and so any cycle of players will have to include a hospital that is placed after a desired intern and before a less desired one. In the case of correlated markets, any cycle of nodes in the graph must include an edge with a lower weight that appears after an edge with a higher one and therefore the preferences do not induce a cycle in the matching graph in either case.</p><p>We observe that the following simple and computationally-efficient mechanism is a bestresponse mechanism for stable-roommate games, and so Theorem 2.7 implies that it implements a stable matching in an incentive-compatible manner.</p><p>Mechanism for Stable-Roommates:</p><p>• Go over the students in some cyclic (roundrobin) order and, at each time step, allow a single student to announce another student.</p><p>• We say that a student i makes a \"better offer\" to another student j at time t if (1) i announces j at time t; and (2) j prefers i to all students from whom he has \"offers\", that is, all students whose last announcement was j.</p><p>The mechanism prescribes that each student repeatedly check which students he can make a better offer to, and announce his most preferred student to whom he can make a better offer.</p><p>• The mechanism terminates after n 2 steps and outputs all student pairs (i, j) such that i\\'s last announcement was j and j\\'s last announcement was i.</p><formula xml:id=\"formula_1\">Theorem 3.2</formula><p>The mechanism is incentivecompatible in ex-post Nash and implements a stable matching in both intern-hospital matchings and correlated markets.</p></div>\\n<div xmlns=\"http://www.tei-c.org/ns/1.0\"><head n=\"3.2\">Cost-Sharing</head><p>Cost-sharing arises in situations in which the cost of some public service (e.g., building a bridge) must be distributed between self-interested users that can benefit from this service to different extents, and is modeled as follows. n users 1, . . . , n aim to share the cost of building some common infrastructure. Some cost-sharing rule specifies, for every subset of users S, and every user i ∈ S, i\\'s \"cost share\" c i (S) for building an infrastructure that only serves members of S. c i (S) is nonnegative, monotonically non-increasing in S, and also cross-monotonic, that is, ∀i ∈ S ⊆ T , c i (S) ≥ c i (T ). User i gets positive (private) value v i ∈ ℜ ≥0 if the infrastructure serves him and 0 otherwise. The goal is to split the cost of the infrastructure between a group of users so that each user\\'s payment is at least his cost-share, yet does not exceed his private value, that is, to find \"reasonable\" cost shares. Moulin <ref type=\"bibr\" target=\"#b8\">[9]</ref> exhibits a centralized mechanism that achieves this (see also <ref type=\"bibr\" target=\"#b9\">[10]</ref>).</p><p>We now use the framework in Section 2 to design simple and natural distributed incentivecompatible mechanisms that implement the same outcome as the Moulin mechanism. We present \"1 st -price cost-sharing games\" and specific tiebreaking rules.</p><p>1 st -price cost-sharing games: The users are the players and, for each user i, S i = ℜ ≥0 . Given a vector of users\\' bids (strategies) − → b = (b 1 , . . . , b n ), the \"serviced set\" for − → b is the maximum-cardinality subset of users S such that ∀j ∈ S, b j ≥ c j (S) (breaking ties between such sets lexicographically).</p><formula xml:id=\"formula_2\">∀ − → b = (b 1 , . . . , b n ), u i ( − → b ) = v i − b i if i is in the serviced set for − → b ; u i ( − → b ) = 0 otherwise.</formula><p>Tie-breaking rules: Prefer bids closer to v i , i.e.,</p><formula xml:id=\"formula_3\">∀s, t ∈ S i , if |s − v i | ≤ |t − v i | then t ≺ i s.</formula></div>\\n<div xmlns=\"http://www.tei-c.org/ns/1.0\"><head>Theorem 3.3 For every 1 st -price cost-sharing game G it holds that</head><p>• G is NBR-solvable under these tie-breaking rules.</p><p>• G\\'s unique PNE under these tie-breaking rules induces reasonable cost shares as in the outcome of the Moulin mechanism.</p><p>• e G ≤ n.</p><p>Proof sketch: Let us show an elimination sequence for every cost sharing game. First, notice that each player can only get a non-positive utility from a bid that is above his valuation. We therefore start by eliminating these bids for all players. Next, let R v be the set of serviced users for bids that are exactly the valuations of the players. Any player i / ∈ R v will not get serviced for any set of bids that are in the remaining subgame (costs only increase as players drop out and he does not win when they all pay the maximal amount). We can therefore eliminate all strategies below v i for any such player. For every player j ∈ R v , we can eliminate all bids below c j (R v ), as he will only get 0 utility with those bids, and non-negative utility with higher bids. Once these are eliminated, then in the remaining subgame R v will always be the serviced set of players and we can eliminate all bids above c j (R v ) as well.</p><p>Note that it is also possible to perform the eliminations using a different order. Specifically, for each player i we can let all other players eliminate bids above v, then determine a set of serviced agents R i for the case in which every agent j bids v j except for agent i that bids ∞. Then, eliminate all bids for non-serviced agents (except their valuation), and check if c i (R i ) is greater than v i . If it is, we can eliminate bids below c i (R i ) for agent i. Otherwise, agent i will not gain a positive utility from the service in any case and we can eliminate all his strategies except his valuation. We can then continue along the same lines as before and eliminate strategies for all other players. Either way, the elimination done by agent i leads to a subgame in which s * is the optimal outcome for him, and so the game has a clear outcome as required.</p><p>We observe that the following natural distributed mechanism is a best-response mechanism for 1 st -price cost-sharing games (under these tiebreaking rules), and so Theorem 2.7 implies that it implements the outcome of the Moulin mechanism in an incentive-compatible manner.</p></div>\\n<div xmlns=\"http://www.tei-c.org/ns/1.0\"><head>Mechanism for Cost-Sharing:</head><p>• Go over the users in some cyclic (roundrobin) order and, at each time step, allow a single user to submit a bid in ℜ ≥0 .</p><p>• The mechanism prescribes that each bidder i repeatedly bid as follows: submit the minimal bid b i ≤ v i such that i is in the serviced set for the most-recently submitted bids; in the event that no such bid exists submit the bid b i = v i .</p><p>• The mechanism terminates after n 2 time steps, outputs the serviced set S for the lastsubmitted bids and charges each bidder i ∈ S his last bid b i .</p><formula xml:id=\"formula_4\">Theorem 3.4</formula><p>The mechanism is incentive compatible and implements reasonable cost-shares.</p><p>This result can be extended to the class of acyclic mechanisms studied in <ref type=\"bibr\" target=\"#b7\">[8]</ref>).</p></div>\\n<div xmlns=\"http://www.tei-c.org/ns/1.0\"><head n=\"3.3\">Internet Routing</head><p>The Border Gateway Protocol (BGP) establishes routes between the smaller networks that make up the Internet. Griffin et al. <ref type=\"bibr\" target=\"#b5\">[6]</ref> put forth the following model for analyzing BGP dynamics. The network is an undirected graph G = (V, E) where the vertex set V consists of n source nodes and 1, . . . , n a unique destination node d. Each source node has a private strict ranking of all simple (loop-free) routes between itself and the destination node d. Under BGP, each source node repeatedly examines its neighboring nodes\\' most recent route-announcements, selects to forward traffic through the neighbor whose route it likes the most, and announces its newly chosen route to all neighbors via update messages. The network is asynchronous and so nodes can select routes simultaneously and based on outdated information (update messages between nodes can be arbitrarily delayed).</p><p>BGP\\'s convergence to a \"stable\" routing tree is the subject of extensive networking research. <ref type=\"bibr\">Levin et al. [7]</ref> observe that BGP can be regarded as best-response dynamics in a specific class of \"routing games\", and prove that BGP is incentivecompatible in networks for which the No Dispute Wheel <ref type=\"bibr\" target=\"#b5\">[6]</ref> condition holds.</p><p>Each pivot node u i would rather route clockwise through pivot node u i+1 than through the direct route Q i . No Dispute Wheel is a generalization of the Gao-Rexford <ref type=\"bibr\" target=\"#b3\">[4]</ref> conditions, that capture common Internet routing practices. A Dispute Wheel (see <ref type=\"figure\" target=\"#fig_1\">Figure 2)</ref> is a 3-tuple (U, R, Q), where U = (u 0 , u 1 , . . . , u k−1 ) is a sequence of k vertices in V , called the \"pivot nodes\" and R = (R 0 , R 1 , . . . , R k−1 ), Q = (Q 0 , Q 1 , . . . , Q k−1 ) are two sequences of k routes, such that (indices are considered modulo k):</p><p>• ∀i, Q i is a simple route from i to d.</p><p>• ∀i, R i is a simple route from u i to u i+1 .</p><p>• ∀i, u i ranks the route R i Q i+1 more highly than the route Q i . \"No Dispute Wheel\" is the condition that no Dispute Wheel exist in the network.</p></div>\\n<div xmlns=\"http://www.tei-c.org/ns/1.0\"><head>Theorem 3.5 [7] BGP is incentive-compatible in ex-post Nash in networks for which No Dispute Wheel holds.</head><p>We now show that the class of \"BGP games\" presented in <ref type=\"bibr\" target=\"#b6\">[7]</ref> falls within the category of NBRsolvable games with clear outcomes. Thus, the essence of the incentive compatibility result for BGP in <ref type=\"bibr\" target=\"#b6\">[7]</ref> follows from Theorem 2.7.</p><p>BGP games: The source nodes are the players and, for each source node i, S i is the set of i\\'s outgoing edges in E. Given a vector of source nodes\\' traffic forwarding decisions (strategies </p><formula xml:id=\"formula_5\">) − → f = (f 1 , . . . , f n ), u i ( − → f = (f 1 , . . . , f n )) is i\\'</formula></div>\\n<div xmlns=\"http://www.tei-c.org/ns/1.0\"><head>Theorem 3.6 For a BGP game G it holds that</head><p>• G is NBR-solvable.</p><p>• G\\'s unique PNE is a stable routing tree.</p><p>• e G ≤ n.</p><p>Proof sketch: Let us show an elimination order in the game. At every stage in the elimination, we locate a node that can guarantee its most preferred route (in the current subgame) and eliminate all other routing actions for it. To show that such a node always exists, we begin with an arbitrary node a 0 with at least 2 actions. Let R 0 be a 0 \\'s most preferred existing route to d (a route is said to exist if all nodes along it can route accordingly in the current subgame). Let a 1 be the vertex closest to d on R 0 , with two available actions in the current subgame, such that a 1 prefers some other route R 1 to the suffix of R 0 that leads from a 1 to d (if no such node exists a 0 can guarantee its most preferred route). Then we choose a 2 to be the vertex closest to d on R 1 such that a 2 \\'s most preferred route R 2 is preferred over the suffix of R 1 that leads from a 2 to d. Once again if there is no such a 2 we are done. We can continue to choose a 3 , a 4 , . . . in the same manner. Since there is a finite number of vertices, at some point some vertex will appear twice in this sequence (a 0 , a 1 , . . .). This would result in the formation of a Dispute Wheel (in which the a i s are the pivot nodes and the R i s are the routes) which we assumed is not contained in the graph. We will therefore always be able to find a node that can guarantee its most preferred route and continue with the elimination, until there are no more nodes with several possible actions.</p></div>\\n<div xmlns=\"http://www.tei-c.org/ns/1.0\"><head n=\"3.4\">Congestion Control</head><p>Congestion control is a crucial task in communication networks. Congestion is handled via the combination of transmission-rate-adjustment protocols at the sender-receiver level (e.g., TCP), and queueing management policies at the router level, that dictate how excess traffic is discarded (e.g., RED). TCP is notoriously not incentive compatible. <ref type=\"bibr\" target=\"#b4\">[5]</ref> analyzes incentives in the following TCPinspired environment. The network is an undirected graph G = (V, E) with a given a capacity function c that specifies the capacity c(e) for each edge e ∈ E. The network consists of n sourcetarget pairs of vertices (α i , β i ). Every such sourcetarget pair (α i , β i ) aims to send traffic along a fixed route R i in G. Each source α i can select transmission rates that lie in the interval <ref type=\"bibr\">[0, M i ]</ref>, where M i is α i \\'s private information, and wishes to maximize its achieved throughput. When an edge encounters congestion, that is, the sum of incoming flows traversing it exceeds its capacity, excess traffic must be discarded. <ref type=\"bibr\" target=\"#b4\">[5]</ref> considers two capacityallocation schemes:</p><p>• Strict-Priority-Queueing (SPQ). ∀e ∈ E there is an edge-specific order over source nodes. Capacity is shared as follows: the most highly ranked source whose route traverses the edge gets its entire flow sent along the edge (up to c(e)); unused capacity is allocated to the second most highly ranked source whose route traverses the edge in a similar fashion, etc.</p><p>• Weighted-Fair-Queueing (WFQ). ∀e ∈ E, each source node α i has weight w i (e) at e. Every source α i is then allocated capacity wi Σj wj c(e). Unused capacity is allocated in a recursive manner. The special case that ∀e ∈ E, ∀i ∈ [n], w i (e) = 1 is called \"fair queueing\" (FQ).</p><p>[5] considers a TCP-like protocol called Probing-Increase-Educate-Decrease (PIED) in which each source is instructed to gradually increase its transmission rate until encountering congestion and, at that point, decrease its transmission rate to its achieved throughput. <ref type=\"bibr\" target=\"#b4\">[5]</ref> analyzes PIED in settings in which all edges use SPQ or all edges use WFQ, and sources priorities/weights are identical on all edges. PIED is shown to be incentive compatible in both these environments (also under asynchronous timings of rate-transmission adjustments). It is interesting to notice that PIED can be considered a form of better-response in a setting in which the exact available capacity is unknown. We unify the two results above for an abstracted setting by formulating the environment in <ref type=\"bibr\" target=\"#b4\">[5]</ref> as a game and showing that this game is NBR-solvable with a clear outcome (under specific tie-breaking rules). Our main difference from <ref type=\"bibr\" target=\"#b4\">[5]</ref> is that we allow players more knowledge about the network, while <ref type=\"bibr\" target=\"#b4\">[5]</ref> uses the probing nature of PIED to learn the needed information (all that is needed is for players to be able to tell the amount of available bandwidth on their path). Thus, Theorem 2.7 implies a result that is similar in spirit to the two theorems in <ref type=\"bibr\" target=\"#b4\">[5]</ref>.</p><p>TCP games: The source nodes are the players and each source node i\\'s strategy space is S i = [0, M i ]. Given a vector of source nodes\\' transmission rates (strategies) − → r = (r 1 , . . . , r n ), u i ( − → r ) is α i \\'s achieved throughput in the unique trafficflow equilibrium point of the network for − → r ( <ref type=\"bibr\" target=\"#b4\">[5]</ref> shows that such a unique equilibrium point exists for the SPQ and WFQ settings with coordinated priorities/weights).</p><p>Tie-breaking rules: ∀s, t ∈ S i , s ≺ i t iff s &gt; t. • e G ≤ n.</p><p>For clarity of presentation we show only the proof for the case of Weighted-Fair-Queueing, with equal weights. The proof for non-equal weights and for Strict-Priority-Queueing follow similar lines. Proof sketch: Let us define for each edge e, the share of each flow as β e = c e /k e where k e is the number of flows that traverse the edge. We construct an elimination sequence for the game as follows: Let e * be the edge with the minimal β. Each flow on this edge is guaranteed β e * traffic through that edge, and at least that amount on all other edges. It is therefore possible to eliminate all actions of transmitting less than β e * for each player that goes through e * . Now, if all flows through e * claim their fair share, no flow can send more (no bandwidth is unclaimed). We can therefore eliminate all actions of transmitting above β e * for these flows. Now, we are left with a subgame with a smaller number of active players where some of the bandwidth on each edge is already used up. We can now repeat the elimination steps for the residual network graph with the remaining players.</p><p>Notice that for each bottleneck edge e * that is found along the process there are several orders of elimination (according to ordering among players). If player i eliminates actions below β e * last among players that go through e * , then he does so in a game in which the final profile is optimal for him, and so the game has a clear outcome.</p></div>\\n<div xmlns=\"http://www.tei-c.org/ns/1.0\"><head n=\"4\">Collusion-Proof Best-Response Mechanisms</head><p>In Section 3, we establish incentive compatibility results for four environments. We are able to strengthen our results for stable-roommates (Theorem 3.1), BGP games (Theorem 3.6), and TCP games where all edges use SPQ with coordinated priorities (see Theorem 3.9). We prove that, in all these settings, best-response mechanisms are actually also collusion-proof. We observe, though, that NBR-solvability with a clear outcome does not imply collusion-proofness of best-response mechanisms in general. To see this, consider the game depicted in <ref type=\"figure\" target=\"#fig_3\">Figure 3</ref> (which is simply the prisoner\\'s dilemma).</p><p>Observe that this game is indeed an NBRsolvable game with a clear outcome, yet both players prefer (C, C) to the unique equilibrium (D, D). Thus, the two players can jointly deviate from repeated best-response and both strictly gain from doing so.</p></div><figure xmlns=\"http://www.tei-c.org/ns/1.0\" xml:id=\"fig_0\"><head>Figure 1 :</head><label>1</label><figDesc>Figure 1: A game for which best-response mechanisms are not incentive compatible.</figDesc></figure>\\n<figure xmlns=\"http://www.tei-c.org/ns/1.0\" xml:id=\"fig_1\"><head>Figure 2 :</head><label>2</label><figDesc>Figure 2: A Dispute Wheel</figDesc></figure>\\n<figure xmlns=\"http://www.tei-c.org/ns/1.0\" xml:id=\"fig_2\"><head></head><label></label><figDesc>s rank for the simple route from i to d under − → f (the least desired route has rank 1) if such a route exists; u i ( − → f ) = 0 otherwise.</figDesc></figure>\\n<figure xmlns=\"http://www.tei-c.org/ns/1.0\" xml:id=\"fig_3\"><head>Figure 3 :</head><label>3</label><figDesc>Figure 3: An NBR-solvable game with a clear outcome for which best-response mechanisms are not collusion proof.</figDesc></figure>\\n\\n\\t\\t\\t<note place=\"foot\" n=\"3\"> In all our results, at equilibrium the lim sup is actually the limit, and thus choosing lim sup gives us the strongest and most robust results -the definition is in fact adversarial to our proofs, it potentially allows manipulators to gain utility by avoiding convergence. 4 We note that it is also permissible for the tie-breaking rules to depend on the players&apos; actions, though for our purposes this was not needed.</note>\\n\\n\\t\\t\\t<note place=\"foot\" n=\"5\"> We note that the more natural definition of utilities that only awards utility to players that are selected by the partner they themselves choose implies a game in which all matchings are stable, and is thus not useful to us.</note>\\n\\t\\t</body>\\n\\t\\t<back>\\n\\t\\t\\t<div type=\"references\">\\n\\n\\t\\t\\t\\t<listBibl>\\n\\n<biblStruct xml:id=\"b0\">\\n\\t<analytic>\\n\\t\\t<title level=\"a\" type=\"main\">Efficient learning equilibrium</title>\\n\\t\\t<author>\\n\\t\\t\\t<persName xmlns=\"http://www.tei-c.org/ns/1.0\"><forename type=\"first\">Ronen</forename><forename type=\"middle\">I</forename><surname>Brafman</surname></persName>\\n\\t\\t</author>\\n\\t\\t<author>\\n\\t\\t\\t<persName xmlns=\"http://www.tei-c.org/ns/1.0\"><forename type=\"first\">Moshe</forename><surname>Tennenholtz</surname></persName>\\n\\t\\t</author>\\n\\t</analytic>\\n\\t<monogr>\\n\\t\\t<title level=\"j\">Artif. Intell</title>\\n\\t\\t<imprint>\\n\\t\\t\\t<biblScope unit=\"volume\">159</biblScope>\\n\\t\\t\\t<biblScope unit=\"issue\">1-2</biblScope>\\n\\t\\t\\t<biblScope unit=\"page\" from=\"27\" to=\"47\" />\\n\\t\\t\\t<date type=\"published\" when=\"2004\" />\\n\\t\\t</imprint>\\n\\t</monogr>\\n</biblStruct>\\n\\n<biblStruct xml:id=\"b1\">\\n\\t<analytic>\\n\\t\\t<title level=\"a\" type=\"main\">Optimal efficient learning equilibrium: Imperfect monitoring in symmetric games</title>\\n\\t\\t<author>\\n\\t\\t\\t<persName xmlns=\"http://www.tei-c.org/ns/1.0\"><forename type=\"first\">Ronen</forename><forename type=\"middle\">I</forename><surname>Brafman</surname></persName>\\n\\t\\t</author>\\n\\t\\t<author>\\n\\t\\t\\t<persName xmlns=\"http://www.tei-c.org/ns/1.0\"><forename type=\"first\">Moshe</forename><surname>Tennenholtz</surname></persName>\\n\\t\\t</author>\\n\\t</analytic>\\n\\t<monogr>\\n\\t\\t<title level=\"m\">Proceedings of the National Conference on Artificial Intelligence (AAAI</title>\\n\\t\\t<meeting>the National Conference on Artificial Intelligence (AAAI</meeting>\\n\\t\\t<imprint>\\n\\t\\t\\t<publisher>Press</publisher>\\n\\t\\t\\t<date type=\"published\" when=\"2005\" />\\n\\t\\t\\t<biblScope unit=\"page\" from=\"726\" to=\"731\" />\\n\\t\\t</imprint>\\n\\t</monogr>\\n</biblStruct>\\n\\n<biblStruct xml:id=\"b2\">\\n\\t<analytic>\\n\\t\\t<title level=\"a\" type=\"main\">College admissions and stability of marriage</title>\\n\\t\\t<author>\\n\\t\\t\\t<persName xmlns=\"http://www.tei-c.org/ns/1.0\"><forename type=\"first\">D</forename><surname>Gale</surname></persName>\\n\\t\\t</author>\\n\\t\\t<author>\\n\\t\\t\\t<persName xmlns=\"http://www.tei-c.org/ns/1.0\"><forename type=\"first\">L</forename><forename type=\"middle\">S</forename><surname>Shapley</surname></persName>\\n\\t\\t</author>\\n\\t</analytic>\\n\\t<monogr>\\n\\t\\t<title level=\"j\">Amer. Math. Monthly</title>\\n\\t\\t<imprint>\\n\\t\\t\\t<biblScope unit=\"issue\">69</biblScope>\\n\\t\\t\\t<biblScope unit=\"page\" from=\"9\" to=\"15\" />\\n\\t\\t\\t<date type=\"published\" when=\"1962\" />\\n\\t\\t</imprint>\\n\\t</monogr>\\n</biblStruct>\\n\\n<biblStruct xml:id=\"b3\">\\n\\t<analytic>\\n\\t\\t<title level=\"a\" type=\"main\">Stable Internet routing without global coordination</title>\\n\\t\\t<author>\\n\\t\\t\\t<persName xmlns=\"http://www.tei-c.org/ns/1.0\"><forename type=\"first\">Lixin</forename><surname>Gao</surname></persName>\\n\\t\\t</author>\\n\\t\\t<author>\\n\\t\\t\\t<persName xmlns=\"http://www.tei-c.org/ns/1.0\"><forename type=\"first\">Jennifer</forename><surname>Rexford</surname></persName>\\n\\t\\t</author>\\n\\t</analytic>\\n\\t<monogr>\\n\\t\\t<title level=\"j\">IEEE/ACM Transactions on Networking</title>\\n\\t\\t<imprint>\\n\\t\\t\\t<biblScope unit=\"volume\">9</biblScope>\\n\\t\\t\\t<biblScope unit=\"issue\">6</biblScope>\\n\\t\\t\\t<biblScope unit=\"page\" from=\"681\" to=\"692\" />\\n\\t\\t\\t<date type=\"published\" when=\"2001\" />\\n\\t\\t</imprint>\\n\\t</monogr>\\n</biblStruct>\\n\\n<biblStruct xml:id=\"b4\">\\n\\t<analytic>\\n\\t\\t<title level=\"a\" type=\"main\">Aviv Zohar, and Scott Shenker. Incentive compatibility and dynamics of congestion control. SIGMET-RICS Perform</title>\\n\\t\\t<author>\\n\\t\\t\\t<persName xmlns=\"http://www.tei-c.org/ns/1.0\"><forename type=\"first\">P</forename><forename type=\"middle\">Brighten</forename><surname>Godfrey</surname></persName>\\n\\t\\t</author>\\n\\t\\t<author>\\n\\t\\t\\t<persName xmlns=\"http://www.tei-c.org/ns/1.0\"><forename type=\"first\">Michael</forename><surname>Schapira</surname></persName>\\n\\t\\t</author>\\n\\t</analytic>\\n\\t<monogr>\\n\\t\\t<title level=\"j\">Eval. Rev</title>\\n\\t\\t<imprint>\\n\\t\\t\\t<biblScope unit=\"volume\">38</biblScope>\\n\\t\\t\\t<biblScope unit=\"issue\">1</biblScope>\\n\\t\\t\\t<biblScope unit=\"page\" from=\"95\" to=\"106\" />\\n\\t\\t\\t<date type=\"published\" when=\"2010\" />\\n\\t\\t</imprint>\\n\\t</monogr>\\n</biblStruct>\\n\\n<biblStruct xml:id=\"b5\">\\n\\t<analytic>\\n\\t\\t<title level=\"a\" type=\"main\">The stable paths problem and interdomain routing</title>\\n\\t\\t<author>\\n\\t\\t\\t<persName xmlns=\"http://www.tei-c.org/ns/1.0\"><forename type=\"first\">Timothy</forename><forename type=\"middle\">G</forename><surname>Griffin</surname></persName>\\n\\t\\t</author>\\n\\t\\t<author>\\n\\t\\t\\t<persName xmlns=\"http://www.tei-c.org/ns/1.0\"><forename type=\"first\">F</forename><forename type=\"middle\">Bruce</forename><surname>Shepherd</surname></persName>\\n\\t\\t</author>\\n\\t\\t<author>\\n\\t\\t\\t<persName xmlns=\"http://www.tei-c.org/ns/1.0\"><forename type=\"first\">Gordon</forename><surname>Wilfong</surname></persName>\\n\\t\\t</author>\\n\\t</analytic>\\n\\t<monogr>\\n\\t\\t<title level=\"j\">IEEE/ACM Transactions on Networking</title>\\n\\t\\t<imprint>\\n\\t\\t\\t<biblScope unit=\"volume\">10</biblScope>\\n\\t\\t\\t<biblScope unit=\"issue\">2</biblScope>\\n\\t\\t\\t<biblScope unit=\"page\" from=\"232\" to=\"243\" />\\n\\t\\t\\t<date type=\"published\" when=\"2002-04\" />\\n\\t\\t</imprint>\\n\\t</monogr>\\n</biblStruct>\\n\\n<biblStruct xml:id=\"b6\">\\n\\t<analytic>\\n\\t\\t<title level=\"a\" type=\"main\">Interdomain routing and games</title>\\n\\t\\t<author>\\n\\t\\t\\t<persName xmlns=\"http://www.tei-c.org/ns/1.0\"><forename type=\"first\">Hagay</forename><surname>Levin</surname></persName>\\n\\t\\t</author>\\n\\t\\t<author>\\n\\t\\t\\t<persName xmlns=\"http://www.tei-c.org/ns/1.0\"><forename type=\"first\">Michael</forename><surname>Schapira</surname></persName>\\n\\t\\t</author>\\n\\t\\t<author>\\n\\t\\t\\t<persName xmlns=\"http://www.tei-c.org/ns/1.0\"><forename type=\"first\">Aviv</forename><surname>Zohar</surname></persName>\\n\\t\\t</author>\\n\\t</analytic>\\n\\t<monogr>\\n\\t\\t<title level=\"m\">STOC</title>\\n\\t\\t<imprint>\\n\\t\\t\\t<date type=\"published\" when=\"2008\" />\\n\\t\\t\\t<biblScope unit=\"page\" from=\"57\" to=\"66\" />\\n\\t\\t</imprint>\\n\\t</monogr>\\n</biblStruct>\\n\\n<biblStruct xml:id=\"b7\">\\n\\t<analytic>\\n\\t\\t<title level=\"a\" type=\"main\">Beyond moulin mechanisms</title>\\n\\t\\t<author>\\n\\t\\t\\t<persName xmlns=\"http://www.tei-c.org/ns/1.0\"><forename type=\"first\">Aranyak</forename><surname>Mehta</surname></persName>\\n\\t\\t</author>\\n\\t\\t<author>\\n\\t\\t\\t<persName xmlns=\"http://www.tei-c.org/ns/1.0\"><forename type=\"first\">Tim</forename><surname>Roughgarden</surname></persName>\\n\\t\\t</author>\\n\\t\\t<author>\\n\\t\\t\\t<persName xmlns=\"http://www.tei-c.org/ns/1.0\"><forename type=\"first\">Mukund</forename><surname>Sundararajan</surname></persName>\\n\\t\\t</author>\\n\\t</analytic>\\n\\t<monogr>\\n\\t\\t<title level=\"m\">EC &apos;07: Proceedings of the 8th ACM conference on Electronic commerce</title>\\n\\t\\t<meeting><address><addrLine>New York, NY, USA</addrLine></address></meeting>\\n\\t\\t<imprint>\\n\\t\\t\\t<publisher>ACM</publisher>\\n\\t\\t\\t<date type=\"published\" when=\"2007\" />\\n\\t\\t\\t<biblScope unit=\"page\" from=\"1\" to=\"10\" />\\n\\t\\t</imprint>\\n\\t</monogr>\\n</biblStruct>\\n\\n<biblStruct xml:id=\"b8\">\\n\\t<analytic>\\n\\t\\t<title level=\"a\" type=\"main\">Incremental cost sharing: Characterization by coalition strategy-proofness</title>\\n\\t\\t<author>\\n\\t\\t\\t<persName xmlns=\"http://www.tei-c.org/ns/1.0\"><forename type=\"first\">Herve</forename><surname>Moulin</surname></persName>\\n\\t\\t</author>\\n\\t</analytic>\\n\\t<monogr>\\n\\t\\t<title level=\"j\">Social Choice and Welfare</title>\\n\\t\\t<imprint>\\n\\t\\t\\t<biblScope unit=\"volume\">16</biblScope>\\n\\t\\t\\t<biblScope unit=\"issue\">2</biblScope>\\n\\t\\t\\t<biblScope unit=\"page\" from=\"279\" to=\"320\" />\\n\\t\\t\\t<date type=\"published\" when=\"1999\" />\\n\\t\\t</imprint>\\n\\t</monogr>\\n</biblStruct>\\n\\n<biblStruct xml:id=\"b9\">\\n\\t<analytic>\\n\\t\\t<title level=\"a\" type=\"main\">Strategyproof sharing of submodular costs: budget balance versus efficiency</title>\\n\\t\\t<author>\\n\\t\\t\\t<persName xmlns=\"http://www.tei-c.org/ns/1.0\"><forename type=\"first\">Herve</forename><surname>Moulin</surname></persName>\\n\\t\\t</author>\\n\\t\\t<author>\\n\\t\\t\\t<persName xmlns=\"http://www.tei-c.org/ns/1.0\"><forename type=\"first\">Scott</forename><surname>Shenker</surname></persName>\\n\\t\\t</author>\\n\\t</analytic>\\n\\t<monogr>\\n\\t\\t<title level=\"j\">Economic Theory</title>\\n\\t\\t<imprint>\\n\\t\\t\\t<biblScope unit=\"volume\">18</biblScope>\\n\\t\\t\\t<biblScope unit=\"issue\">3</biblScope>\\n\\t\\t\\t<biblScope unit=\"page\" from=\"511\" to=\"533\" />\\n\\t\\t\\t<date type=\"published\" when=\"2001\" />\\n\\t\\t</imprint>\\n\\t</monogr>\\n</biblStruct>\\n\\n<biblStruct xml:id=\"b10\">\\n\\t<monogr>\\n\\t\\t<title level=\"m\" type=\"main\">Best-response auctions. Working paper</title>\\n\\t\\t<author>\\n\\t\\t\\t<persName xmlns=\"http://www.tei-c.org/ns/1.0\"><forename type=\"first\">N</forename><surname>Nisan</surname></persName>\\n\\t\\t</author>\\n\\t\\t<author>\\n\\t\\t\\t<persName xmlns=\"http://www.tei-c.org/ns/1.0\"><forename type=\"first\">M</forename><surname>Schapira</surname></persName>\\n\\t\\t</author>\\n\\t\\t<author>\\n\\t\\t\\t<persName xmlns=\"http://www.tei-c.org/ns/1.0\"><forename type=\"first\">G</forename><surname>Valiant</surname></persName>\\n\\t\\t</author>\\n\\t\\t<author>\\n\\t\\t\\t<persName xmlns=\"http://www.tei-c.org/ns/1.0\"><forename type=\"first\">A</forename><surname>Zohar</surname></persName>\\n\\t\\t</author>\\n\\t\\t<imprint>\\n\\t\\t\\t<date type=\"published\" when=\"2010\" />\\n\\t\\t</imprint>\\n\\t</monogr>\\n</biblStruct>\\n\\n<biblStruct xml:id=\"b11\">\\n\\t<analytic>\\n\\t\\t<title level=\"a\" type=\"main\">Asynchronous best-reply dynamics</title>\\n\\t\\t<author>\\n\\t\\t\\t<persName xmlns=\"http://www.tei-c.org/ns/1.0\"><forename type=\"first\">Noam</forename><surname>Nisan</surname></persName>\\n\\t\\t</author>\\n\\t\\t<author>\\n\\t\\t\\t<persName xmlns=\"http://www.tei-c.org/ns/1.0\"><forename type=\"first\">Michael</forename><surname>Schapira</surname></persName>\\n\\t\\t</author>\\n\\t\\t<author>\\n\\t\\t\\t<persName xmlns=\"http://www.tei-c.org/ns/1.0\"><forename type=\"first\">Aviv</forename><surname>Zohar</surname></persName>\\n\\t\\t</author>\\n\\t</analytic>\\n\\t<monogr>\\n\\t\\t<title level=\"m\">Proceedings of WINE</title>\\n\\t\\t<meeting>WINE</meeting>\\n\\t\\t<imprint>\\n\\t\\t\\t<date type=\"published\" when=\"2008\" />\\n\\t\\t</imprint>\\n\\t</monogr>\\n</biblStruct>\\n\\n\\t\\t\\t\\t</listBibl>\\n\\t\\t\\t</div>\\n\\t\\t</back>\\n\\t</text>\\n</TEI>\\n'"
     },
     "execution_count": 4,
     "metadata": {},
     "output_type": "execute_result"
    }
   ],
   "execution_count": 4
  },
  {
   "cell_type": "code",
   "source": [
    "sample_pres_text = utils.parse_presentation_xml(sample_xml_pres)\n",
    "print(len(sample_pres_text))\n",
    "print(sample_pres_text[:3])"
   ],
   "metadata": {
    "colab": {
     "base_uri": "https://localhost:8080/",
     "height": 333
    },
    "id": "0ANc_UhWdb4P",
    "outputId": "8c40584a-da10-4fdc-d5f5-0e7a2d55c4cc",
    "ExecuteTime": {
     "end_time": "2024-04-10T00:38:28.397030Z",
     "start_time": "2024-04-10T00:38:28.389096Z"
    }
   },
   "outputs": [
    {
     "name": "stdout",
     "output_type": "stream",
     "text": [
      "21\n",
      "['Noam Nisan, Michael Schapira, Gregory Valiant, and Aviv Zohar', 'Motivation Equilibrium is the basic object of study in game theory. Question: How is an equilibrium reached? In a truly satisfactory answer each players rule of behavior is simple and locally rational repeated best-response repeated better-response regret-minimization', 'Motivation Repeated best-response is often employed in practice e.g., Internet routing We ask: When is such locallyrational behavior really rational?']\n"
     ]
    }
   ],
   "execution_count": 5
  },
  {
   "cell_type": "code",
   "source": [
    "sample_paper_text = utils.parse_paper_xml(sample_xml_paper)\n",
    "print(len(sample_paper_text))\n",
    "print(sample_paper_text[:3])"
   ],
   "metadata": {
    "id": "A2NuAWphdb4P",
    "ExecuteTime": {
     "end_time": "2024-04-10T00:38:28.413436Z",
     "start_time": "2024-04-10T00:38:28.398220Z"
    }
   },
   "outputs": [
    {
     "name": "stdout",
     "output_type": "stream",
     "text": [
      "385\n",
      "['The basic object of study in game theory and in economics is the equilibrium: a \"stable\" state from which none of the players wish to deviate.', 'Equilibrium is a static concept that often abstracts away the question of how it is reached.', 'Once we start looking at dynamics, or at algorithms for finding equilibria, we cannot escape questions of the form \"How is an equilibrium reached?\".']\n"
     ]
    }
   ],
   "execution_count": 6
  },
  {
   "cell_type": "code",
   "source": [
    "sample_paper_title = utils.parse_title(sample_xml_paper)\n",
    "print(sample_paper_title)\n",
    "sample_pres_title = utils.parse_title(sample_xml_pres)\n",
    "print(sample_pres_title)"
   ],
   "metadata": {
    "id": "q1RE2aBldb4P",
    "ExecuteTime": {
     "end_time": "2024-04-10T00:38:28.418156Z",
     "start_time": "2024-04-10T00:38:28.414456Z"
    }
   },
   "outputs": [
    {
     "name": "stdout",
     "output_type": "stream",
     "text": [
      "Best-Response Mechanisms\n",
      "None\n"
     ]
    }
   ],
   "execution_count": 7
  },
  {
   "cell_type": "code",
   "source": [
    "sample_pres_preprocessed = utils.preprocess_text(sample_pres_text)"
   ],
   "metadata": {
    "id": "7S4Gkn9Sdb4P",
    "ExecuteTime": {
     "end_time": "2024-04-10T00:38:28.433630Z",
     "start_time": "2024-04-10T00:38:28.418668Z"
    }
   },
   "outputs": [],
   "execution_count": 8
  },
  {
   "cell_type": "code",
   "source": [
    "sample_paper_preprocessed = utils.preprocess_text(sample_paper_text)"
   ],
   "metadata": {
    "id": "IfPoEVgfdb4P",
    "ExecuteTime": {
     "end_time": "2024-04-10T00:38:28.485274Z",
     "start_time": "2024-04-10T00:38:28.434640Z"
    }
   },
   "outputs": [],
   "execution_count": 9
  },
  {
   "cell_type": "code",
   "source": [
    "print(sample_pres_preprocessed[:3])\n",
    "print(sample_paper_preprocessed[:3])"
   ],
   "metadata": {
    "id": "qnzkDNmEdb4P",
    "ExecuteTime": {
     "end_time": "2024-04-10T00:38:28.491659Z",
     "start_time": "2024-04-10T00:38:28.487341Z"
    }
   },
   "outputs": [
    {
     "name": "stdout",
     "output_type": "stream",
     "text": [
      "[['noam nisan  michael schapira  gregori valiant  aviv zohar'], ['motiv equilibrium basic object studi game theori ', 'question  equilibrium reach ', 'truli satisfactori answer player rule behavior simpl local ration repeat bestrespons repeat betterrespons regretminim'], ['motiv repeat bestrespons often employ practic eg  internet rout ask  locallyr behavior realli ration ']]\n",
      "[['basic object studi game theori econom equilibrium   stabl  state none player wish deviat '], ['equilibrium static concept often abstract away question reach '], ['start look dynam  algorithm find equilibria  escap question form  equilibrium reach ', ' ']]\n"
     ]
    }
   ],
   "execution_count": 10
  },
  {
   "cell_type": "code",
   "execution_count": 11,
   "outputs": [
    {
     "name": "stdout",
     "output_type": "stream",
     "text": [
      "385\n",
      "21\n"
     ]
    }
   ],
   "source": [
    "print(len(sample_paper_preprocessed))\n",
    "print(len(sample_pres_preprocessed))"
   ],
   "metadata": {
    "collapsed": false
   }
  },
  {
   "cell_type": "code",
   "source": [],
   "metadata": {
    "id": "OLL6deywdb4P",
    "ExecuteTime": {
     "end_time": "2024-04-10T00:38:28.577052Z",
     "start_time": "2024-04-10T00:38:28.492788Z"
    }
   },
   "outputs": [],
   "execution_count": 12
  },
  {
   "cell_type": "code",
   "source": [],
   "metadata": {
    "id": "Ju1zL57idb4Q",
    "ExecuteTime": {
     "end_time": "2024-04-10T00:38:28.581334Z",
     "start_time": "2024-04-10T00:38:28.578127Z"
    }
   },
   "outputs": [],
   "execution_count": 13
  },
  {
   "cell_type": "code",
   "source": [],
   "metadata": {
    "id": "QtVBBA73db4Q",
    "ExecuteTime": {
     "end_time": "2024-04-10T00:38:28.610208Z",
     "start_time": "2024-04-10T00:38:28.582392Z"
    }
   },
   "outputs": [],
   "execution_count": 14
  },
  {
   "cell_type": "code",
   "execution_count": 15,
   "outputs": [],
   "source": [
    "def process_folder(folder_path, parse_func, preprocess_func):\n",
    "    data_list = []\n",
    "    for filename in os.listdir(folder_path):\n",
    "        file_path = os.path.join(folder_path, filename)\n",
    "        with open(file_path, 'r') as file:\n",
    "            file_content = file.read()\n",
    "            parsed_data = parse_func(file_content)\n",
    "            preprocessed_data = preprocess_func(parsed_data)\n",
    "            data_list.append(preprocessed_data)\n",
    "    return data_list\n",
    "\n",
    "def combine_data(papers_folder, presentations_folder):\n",
    "    papers_data = process_folder(papers_folder, utils.parse_paper_xml, utils.preprocess_text)\n",
    "    presentations_data = process_folder(presentations_folder, utils.parse_presentation_xml, utils.preprocess_text)\n",
    "\n",
    "    combined_data = {\"papers\": papers_data,\n",
    "                     \"presentations\": presentations_data}\n",
    "    return combined_data\n",
    "\n",
    "# Example usage:\n",
    "papers_folder = \"data/paper_slides_data/raw_data/papers\"\n",
    "presentations_folder = \"data/paper_slides_data/raw_data/presentations\"\n",
    "\n",
    "combined_data = combine_data(papers_folder, presentations_folder)"
   ],
   "metadata": {
    "collapsed": false
   }
  },
  {
   "cell_type": "code",
   "execution_count": 16,
   "outputs": [
    {
     "name": "stdout",
     "output_type": "stream",
     "text": [
      "preso sentences 36\n",
      "Pair 1: \n",
      " Presentation - [['tolerang filesystem mistak envyf lakshmi n bairavasundaram netapp  inc swaminathan sundararaman andrea c arpacidusseau remzi h arpacidusseau univers wisconsin madison'], ['file system today world modern file system complex ten thousand line code  eg  xf 45k loc  storag stack also gevng deeper hypervisor  network  logic volum manag need handl gamut failur memori allocaon  disk fault  bit flip  system crash preserv integr metadata user data'], ['file system bug bug report linux 26 seri bugzilla ext3  64  jf  17  reiserf  38 fs corrupon caus perman data loss fs bug broadli classifi two categori failstop  system immedi crash soluon  nook  swi 04   curio  david08  failsil  accident corrupt ondisk state mani bug uncov  prabhakaran05  gunawi08  yang04  yang06b '], ['bug inevit file system challeng  cope '], ['base nversion program  avizienis77  nf server  rodrigues01   databas  vandiver07   secur  cox06  nversion file system envyf  simpl solwar layer store data n child file system operaon perform children reli simpl sowar layer challeng  reduc overhead retain reliabl subsist  novel singl instanc store envyf layer c h ild 1 c h ild 2 c h ild n disk driver disk si layer applicaon'], ['result robust tradion file system handl corrupon   4   envyfs3 toler 989  singl file system mistak perform desktop workload  envyfs3 compar perform io intens workload  normal mode  envyfs3  subsist accept perform memori pressur  envyfs3  subsist larg overhead poten debug tool fs develop pinpoint sourc failsil bug ext3'], ['outlin introducon build reliabl file system reduc overhead subsist evaluaon conclus'], ['nversion system develop process  1 produc specificaon solwar 2 implemenng n version solwar 3 creang nversion layer execut differ version determin consensu result'], ['impracc  requir wide scale chang file system specificaon take year get accept leverag exisng specificaon ', 'ye  leverag vf  issu vf precis nversion purpos need handl case specificaon precis eg  order directori entri  inod number allocaon'], ['imprecis vf specificaon order directori entri issu  specifi return order cant blindli compar entri soluon  read entri directori  dir  test case  fse match entri fse return major result fs x fs fs z envyf layer file 1 file 2 file 3 dir  test file 2 file 3 file 1 dir  test dir  test file 1 file 2 file 3 readdir  test entri file 3 file 1 file 2 file 1 file 2 file 3 file 1 file 2 file 3 dir  test']]\n",
      "\n",
      "paper sentences 156\n",
      "Paper - [['statist translat model use synchron contextfre grammar  scfg  relat formal tri captur recurs structur languag wide adopt last year '], ['simplest  chiang  2005  make use inform syntact theori syntact annot  wherea other success incorpor syntact inform target side  galley et al  2004  galley et al  2006  sourc side  liu et al  2006  huang et al  2006  '], ['next obviou step toward model make full use syntact inform side '], ['natur gener set found underperform phrasebas model  liu et al  2009   research begun explor solut  zhang et al  2008  liu et al  2009  '], ['paper  explor reason treetotre translat challeng  sourc syntax target syntax might use togeth '], ['draw previou success attempt relax syntact constraint grammar extract variou way  zhang et al  2008  liu et al  2009  zollmann venugop  2006   compar sever method extract synchron grammar treetotre data '], ['one confound factor comparison method gener mani new syntact categori  make difficult satisfi syntact constraint decod time '], ['therefor propos move constraint formal model  implement featur hierarch phrasebas model hiero  chiang  2005  '], ['augment model abl learn data whether reli syntax  revert back monoton phrasebas translat '], ['experi chineseenglish arabicenglish translat  find sourc target syntax made avail model unobtrus way  model choos build structur syntact wellform yield significantli better translat nonsyntact hierarch phrasebas model ']]\n",
      "-----------------------------------------------------------------------------------------------------------------------------\n",
      "preso sentences 27\n",
      "Pair 2: \n",
      " Presentation - [['conceptu model predic languag data select project base proven david w archer loi l delcambr depart comput scienc portland state univers'], ['topic motiv conceptu model predic languag evalu'], ['data curat set finegrain data multipl sourc integr  queri  updat manipul evolv schema instanc multipl histori includ manipul queri multipl valu attribut user express confid doubt exampl set intellig  profil person interest militari  oper risk assess escienc  bioinformat databas 3'], ['curat data trustworthi ', 'name id bob 8  9 sue 7 trust peopl deriv ', 'trust order deriv ', 'know sourc    data came ', 'process method use deriv data  improv chang '], ['current model fall short1 proven limit singl histori singl granular  mostli  queri dml   mostli  model store proven schema data annot store extra attribut creat clutter  requir special care prevent corrupt queri 5'], ['current model fall short  2 proven store string annot data  queri proven must pars string use particular system proven store one gener time  queri must written recurs  trace proven multipl prior queri'], ['motiv conceptu model predic languag evalu'], ['overview research conceptu model logic model exist platform  user view data  proven  simpl  familiar languag  data prov ', 'access  track proven  keep manag user hand  transit layer implement  perform  full access proven map map'], ['overview research conceptu model logic model exist platform  user view data  proven  simpl  familiar languag  data prov ', 'access  track proven  keep manag user hand  transit layer implement  perform  full access proven map map focu paper'], ['idea  new predic  new  fullfeatur proven queri languag normal relat algebra oper front face new predic enabl select project base proven']]\n",
      "\n",
      "paper sentences 317\n",
      "Paper - [['web 20 applic becom increasingli popular  peopl express opinion web variou way custom review  forum  discuss group  weblog '], ['wide coverag topic abund opinion make web extrem valuabl sourc mine user opinion kind topic  eg  product  polit figur  etc ', ' '], ['howev  larg scale inform sourc  quit challeng user integr digest opinion differ sourc '], ['gener  given topic  eg  product   often two kind opinion  first opinion express wellstructur rel complet review typic written expert topic second fragment opinion scatter around kind sourc blog articl forum '], ['conveni discuss  refer first kind expert opinion second ordinari opinion '], ['expert opinion rel easi user access opinion search websit cnet '], ['comprehens product review often written care  also easi user digest expert opinion '], ['howev  find  integr  digest ordinari opinion pose signific challeng scatter mani differ sourc  gener fragment well structur '], ['expert opinion clearli use  may bias often date '], ['contrast  ordinari opinion tend repres gener opinion larg number peopl get refresh quickli peopl dynam gener new content ']]\n",
      "-----------------------------------------------------------------------------------------------------------------------------\n",
      "preso sentences 14\n",
      "Pair 3: \n",
      " Presentation - [['nicola droux  senior staff engin solari kernel network  sun microsystem inc nicolasdroux  suncom crossbow virtual wire  network box novemb 5th  2009 usenix lisa 09  baltimor  md sunay tripathi  nicola droux  kai belgai  shrikrishna khare'], ['wwwopensolarisorgosprojectcrossbow 2 key issu network virtual fair polici base resourc share virtual environ  bandwidth  nic hardwar resourc includ rxtx descriptor  process cpu overhead due virtual  latenc  throughput manag  isol distribut applic  network fabric configur secur  new threat l2 network solv problem ', ' switch  l3l4 devic  host'], ['wwwopensolarisorgosprojectcrossbow 3 crossbow  solari network stack 8 year develop work achiev  scalabl across multicor cpu multi10gig bandwidth  virtual  qo  highavail design  exploit advanc nic featur key enabl  server network consolid  open network  cloud comput'], ['wwwopensolarisorgosprojectcrossbow 4 crossbow hardwar lane groundup design multicor multi10gig linear scalabl use hardwar lane  dedic resourc network virtual qo design stack effici due dynam poll packet chain  physic machinephys nic hardwar lane c l f e r virtual nic hardwar ringsdma kernel thread queue virtual nic kernel thread queue squeue hardwar ringsdma kernel thread queue virtual machinezon virtual machinezon applic switch vlan separ hardwar ringsdma'], ['wwwopensolarisorgosprojectcrossbow 5 hardwar lane dynam poll partit nic hardwar  rxtx ring  dma   kernel queuesthread  cpu allow creation hardwar lane assign vnic  flow use dynam poll rxtx ring schedul rate packet arriv transmiss per lane basi effect dynam poll mpstat  older driver  intr ithr csw icsw migr smtx srw syscl usr sy wt idl 10818 8607 4558 1547 161 1797 289 19112 17 69 0 12 mpstat  gldv3 base driver  intr ithr csw icsw migr smtx srw syscl usr sy wt idl 2823 1489 875 151 93 261 1 19825 15 57 0 27 75  fewer interrupt 85  fewer mutex 85  fewer ctx switch 15  cpu free'], ['wwwopensolarisorgosprojectcrossbow 6 pseudo mac instanc  manag physic nic  per vnic stat  reus exist manag tool  link speed deriv configur bandwidth limit  highavail creat vnic link aggreg combin vnic ipmp group dedic pervnic hardwar kernel resourc data path passthrough  bump stack standard base endtoend network virtual  vlan tag prioriti flow control  pfc  assign vnic extend hardwar lane switch crossbow virtual nic  vnic '], ['wwwopensolarisorgosprojectcrossbow 7 crossbow virtual switch virtual switch creat implicitli time  2 vnic creat data link mac layer provid packet switch semant equival ethernet switch  data path vnic creat top data link  connect vnic physic network  per vlan broadcast domain  isol vlan vnic creat etherstub creat virtual switch independ hardwar'], ['wwwopensolarisorgosprojectcrossbow 8 crossbow virtual switch exampl nonglob zone ng0 nonglob zone ng1 virtual machin vnic0 vnic1 vnic2 vnic3 bge0 ip filter nat virtual switch global zone solari host'], ['wwwopensolarisorgosprojectcrossbow 9 virtual nic  virtual switch usag  dladm createvn l bge1 vnic1  dladm createvn l bge1 random p maxbw100m p cpus456 vnic2  dladm createetherstub vswitch1  dladm showetherstub link vswitch1  dladm createvn l vswitch1 p maxbw1000m vnic3  dladm showvnic link mactyp macvalu bandwidth cpu vnic1 bge1 factori 012345  vnic2 bge1 random 256789 max100m 456 vnic3 vswitch1 random 434701 max1000m  dladm createvn l ixgbe0 v 1055 p maxbw500m p cpus12 vnic9'], ['wwwopensolarisorgosprojectcrossbow 10 physic wire wphysic machin client router virtual wire wvirtual network machin host 1 host 2 port 6 20003 port 9 20001 port 3 10003 port 1 10001 port 2 10002 switch 3 switch 1 client router  virtual router  vnic6 20003 vnic9 20001 vnic3 10003 vnic1 10001 vnic2 10002 etherstub 3 etherstub 1 host 1 host 2']]\n",
      "\n",
      "paper sentences 348\n",
      "Paper - [['start consid simpl puriti system surprisingli effect practic  crucial  employ modularli checkabl annot '], ['highlight sever problem stem code found java standard librari '], ['later  3  refin simpl system resolv problem '], ['simpl puriti system  pure method indic  pure annot '], ['follow characteris mean puriti within system  definit 1  pure method  '], ['method consid pure assign  directli indirectli  field array cell exist call '], ['impli  method pure  method call must also pure '], ['therefor  callsit  must conserv approxim set method may invok '], ['check annot modularli  reli static type inform avail given callsit '], ['exampl ']]\n",
      "-----------------------------------------------------------------------------------------------------------------------------\n"
     ]
    }
   ],
   "source": [
    "# Zip presentations and papers together\n",
    "zipped_data = zip(combined_data[\"presentations\"][:3], combined_data[\"papers\"][:3])\n",
    "\n",
    "# Print the zipped data\n",
    "for i, (presentation, paper) in enumerate(zipped_data, start=1):\n",
    "    print(\"preso sentences\", len(presentation))\n",
    "    print(f\"Pair {i}: \\n Presentation - {presentation[:10]}\")\n",
    "    print(\"\")\n",
    "    print(\"paper sentences\", len(paper))\n",
    "    print(f\"Paper - {paper[:10]}\")\n",
    "    print(\"-----------------------------------------------------------------------------------------------------------------------------\")"
   ],
   "metadata": {
    "collapsed": false
   }
  },
  {
   "cell_type": "code",
   "execution_count": 17,
   "outputs": [],
   "source": [
    "def find_most_similar_sentence(query_sentence, sentences):\n",
    "    # Combine query sentence with the list of sentences\n",
    "    all_sentences = [query_sentence] + sentences\n",
    "\n",
    "    # Initialize TF-IDF vectorizer\n",
    "    vectorizer = TfidfVectorizer()\n",
    "\n",
    "    # Compute TF-IDF vectors for all sentences\n",
    "    tfidf_matrix = vectorizer.fit_transform(all_sentences)\n",
    "\n",
    "    # Calculate cosine similarity between query sentence and all sentences\n",
    "    similarity_scores = cosine_similarity(tfidf_matrix[0:1], tfidf_matrix[1:])[0]\n",
    "\n",
    "    # Find the index of the most similar sentence\n",
    "    most_similar_index = similarity_scores.argmax()\n",
    "\n",
    "    # Return the most similar sentence and its similarity score\n",
    "    most_similar_sentence = sentences[most_similar_index]\n",
    "    similarity_score = similarity_scores[most_similar_index]\n",
    "\n",
    "    return most_similar_sentence, similarity_score\n",
    "\n",
    "presentation_paper_pairs = []\n",
    "for presentation, paper in zip(combined_data[\"presentations\"], combined_data[\"papers\"]):\n",
    "    presentation_flat = [sentence for sublist in presentation for sentence in sublist]\n",
    "    paper_flat = [sentence for sublist in paper for sentence in sublist]\n",
    "    presentation_sentence_pairs = []\n",
    "    for sentence in presentation_flat:\n",
    "        most_similar_sentence, similarity_score = find_most_similar_sentence(sentence, paper_flat)\n",
    "        presentation_sentence_pairs.append([sentence, most_similar_sentence, similarity_score])\n",
    "        sorted_presentation_sentence_pairs = sorted(presentation_sentence_pairs, key=lambda x: x[2], reverse=True)\n",
    "    presentation_paper_pairs.append(sorted_presentation_sentence_pairs)\n"
   ],
   "metadata": {
    "collapsed": false
   }
  },
  {
   "cell_type": "code",
   "execution_count": 18,
   "outputs": [
    {
     "name": "stdout",
     "output_type": "stream",
     "text": [
      "1192\n",
      "[[['thank ', '3 thank adam paul suggest featur class ', 0.4072465115358739], ['futur work debug tool develop run older newer version file system compar result older version file system repair simpl repair  copi data file system complex repair  recreat en file system tree micro repair ', 'compar two system use treetotre grammar ', 0.19439958985854655], ['hard work alreadi done us 30 differ disk base file system linux 26 file system use ', 'compar two system use treetotre grammar ', 0.1722803126553838], ['subsist  singl instanc store variant singl instanc store selecv merg data block block address si export virtual disk fse manag map  free space info ', ' x n singl substitut site x 1      x n ', 0.16731210441726532], ['corrupon data singl fs due bug  bit flip  storag stack corrupt data block merg n1 data block merg corrupt data block fix next read corrupon data block insid disk singl copi data differ code path differ ondisk structur envyf layer fs 2 fs n applicaon vf layer vdisk 1 vdisk 2 vdisk n read cach chash layer free space manag su b si st', 'system train use mira  crammer singer  2003  chiang et al  2009  tune set 3000 sentenc newswir nist mt evalu data gale develop data  disjoint train data ', 0.16542628092646108], ['summari result robust tradion file system vulner corrupon envyfs3 toler almost mistak one fs perform desktop workload  envyfs3 compar perform io intens workload  regular operaon  envyfs3  subsist accept perform memori pressur  envyfs3  subsist larg overhead', 'fuzzi treetotre extract perform use analog constraint ', 0.15955357723581923], ['ext3 jf reiserf envyf envyfssi experiment setup amd opteron 22 ghz processor 2gb ram 80 gb hitachi deskstar 7200rpm sata disk linux 2612 4gb disk par  file system openssh benchmark perform evaluaon el ap se im e  ec n  file system cpu intens openssh 45 copi  untar make perform envyfs3 compar singl file system', 'compar two system use treetotre grammar ', 0.15729718385706948], ['file 1  36 imprecis vf specificaon  cont  inod number allocaon inod number return system call child file system issu differ inod number possibl soluon  forc file system use algorithm ', 'compar two system use treetotre grammar ', 0.15076470862887847], ['result robust tradion file system handl corrupon   4   envyfs3 toler 989  singl file system mistak perform desktop workload  envyfs3 compar perform io intens workload  normal mode  envyfs3  subsist accept perform memori pressur  envyfs3  subsist larg overhead poten debug tool fs develop pinpoint sourc failsil bug ext3', 'fuzzi treetotre extract perform use analog constraint ', 0.14456574538252354], ['impracc  requir wide scale chang file system specificaon take year get accept leverag exisng specificaon ', 'phrase pair  accept cross previous accept phrase pair  otherwis  reject ', 0.14040213889578346], ['ext3  jf  reiserf threevers fs other work without modificaon', 'system use glue rule  chiang  2005   allow decod  work bottomup  stop build hierarch structur instead concaten partial translat without reorder ', 0.1304876577812984], ['disk b b b envyf layer block driver b reliabl evaluaon  fault injecon corrupon  bug fs  storag stack type disk block superblock  inod  block bitmap  file data  perform differ file op mount  stat  creat  unlink  read  report user visibl result result applic subsist except corruphon data block ex 3 jf r ei se rf pseudo devic driver vf b b b b typeawar fault injechon  prabhakaran05 ', ' 2006   systemat studi  find  sentenc treetotre constraint block rule extract  major due parser error ', 0.12930654664913963], ['base nversion program  avizienis77  nf server  rodrigues01   databas  vandiver07   secur  cox06  nversion file system envyf  simpl solwar layer store data n child file system operaon perform children reli simpl sowar layer challeng  reduc overhead retain reliabl subsist  novel singl instanc store envyf layer c h ild 1 c h ild 2 c h ild n disk driver disk si layer applicaon', ' use simpl heurist ', 0.12775813799810576], ['bug inevit file system challeng  cope ', 'paper  explor reason treetotre translat challeng  sourc syntax target syntax might use togeth ', 0.1263549004267543], ['fs 1 disk handl data block corrupon ', 'system train use mira  crammer singer  2003  chiang et al  2009  tune set 3000 sentenc newswir nist mt evalu data gale develop data  disjoint train data ', 0.1213794003491521], ['file system today world modern file system complex ten thousand line code  eg  xf 45k loc  storag stack also gevng deeper hypervisor  network  logic volum manag need handl gamut failur memori allocaon  disk fault  bit flip  system crash preserv integr metadata user data', 'compar two system use treetotre grammar ', 0.12124125784812764], ['file system bug bug report linux 26 seri bugzilla ext3  64  jf  17  reiserf  38 fs corrupon caus perman data loss fs bug broadli classifi two categori failstop  system immedi crash soluon  nook  swi 04   curio  david08  failsil  accident corrupt ondisk state mani bug uncov  prabhakaran05  gunawi08  yang04  yang06b ', 'compar two system use treetotre grammar ', 0.12023030497900813], ['persist store disk envyf write n file system n data block merg 1 data block content hash store persist metadata block merg inter fs block intra fs envyf layer fs 1 fs 2 fs n applicaon vf layer vdisk 1 disk vdisk 2 vdisk n read cach chash layer free space manag su b si st', ' 2006   systemat studi  find  sentenc treetotre constraint block rule extract  major due parser error ', 0.11341818702634786], ['pain process high cost develop  long delay lucki ', 'tabl 3 show score develop set test set  3000 2000 sentenc  respect  newswir drawn nist mt evalu data gale develop data disjoint tune data ', 0.11082652805708078], ['outlin introducon build reliabl file system reduc overhead subsist evaluahon reliabl perform conclus', 'first  tabl 4 show system use treetotre grammar use glue rule much less perform match substitut ', 0.11021190794156072], ['robust envyf recov child file system mistak ', 'compar two system use treetotre grammar ', 0.10630150838620037], ['poten bug isolaon ext3 envyfs3 ti e unlink corrupt inod  ext3_lookup  bug  ext3_unlink unmount  panic  ti e unlink corrupt inod  ext3_lookup  bug  ext3 inod match other op issu typic use  problem noce panic envyfs3  problem noce first child file system return wrong result', 'address problem  liu et al ', 0.10294383384990072], ['ext3 p h ra rs al se 1  ta   se 2  c h  ad ad lin k ge td ir en tr ie cr ea lin k kd ir n e sy lin k w ri te tr u n ca te rm ir u n lin k u n se 3  f sy n c  u u n inod dir bmap imap indirect data super jsuper gdesc data loss na mount op fail crash addion operaon fail  inod corrupon lead data loss unlink  system crash unmount e', 'system train use mira  crammer singer  2003  chiang et al  2009  tune set 3000 sentenc newswir nist mt evalu data gale develop data  disjoint train data ', 0.10216717704381487], ['jf p h ra rs al se 1 se 2 ad ad lin k ge td ir en tr ie cr ea lin k kd ir n e sy lin k w ri te tr u n ca te rm ir u n lin k u n se 3 u u n inod dir bmap imap intern data super jsuper jdata aggrinod imapdesc imapcntl normal data loss na mount op fail data corrupt crash readonli depend j', 'system train use mira  crammer singer  2003  chiang et al  2009  tune set 3000 sentenc newswir nist mt evalu data gale develop data  disjoint train data ', 0.10041516112377183], ['ext3 p h ra rs al se 1  ta   se 2  c h  ad ad lin k ge td ir en tr ie cr ea lin k kd ir n e sy lin k w ri te tr u n ca te rm ir u n lin k u n se 3  f sy n c  u u n inod dir bmap imap indirect data super jsuper gdesc normal data loss na mount op fail data corrupt crash readonli e depend e', 'system train use mira  crammer singer  2003  chiang et al  2009  tune set 3000 sentenc newswir nist mt evalu data gale develop data  disjoint train data ', 0.09982133665360324], ['advanc system lab  adsl  univers wisconsinmadison hxp  wwwcswisceduadsl', 'compar two system use treetotre grammar ', 0.09890399596880589], ['ext3 p h ra rs al se 1  ta   se 2  c h  ad ad lin k ge td ir en tr ie cr ea lin k kd ir n e sy lin k w ri te tr u n ca te rm ir u n lin k u n se 3  f sy n c  u u n inod dir bmap imap indirect data super jsuper gdesc result matrix normal data loss na mount op fail data corrupt crash readonli e depend e', 'system train use mira  crammer singer  2003  chiang et al  2009  tune set 3000 sentenc newswir nist mt evalu data gale develop data  disjoint train data ', 0.09874732093632363], ['outlin introducon build reliabl file system reduc overhead subsist evaluaon conclus', 'system use glue rule  chiang  2005   allow decod  work bottomup  stop build hierarch structur instead concaten partial translat without reorder ', 0.09623949163995657], ['outlin introducon build reliabl file system reduc overhead subsist evaluaon conclus', 'system use glue rule  chiang  2005   allow decod  work bottomup  stop build hierarch structur instead concaten partial translat without reorder ', 0.09623949163995657], ['outlin introducon build reliabl file system reduc overhead subsist evaluaon conclus', 'system use glue rule  chiang  2005   allow decod  work bottomup  stop build hierarch structur instead concaten partial translat without reorder ', 0.09623949163995657], ['ext3 p h ra rs al se 1  ta   se 2  c h  ad ad lin k ge td ir en tr ie cr ea lin k kd ir n e sy lin k w ri te tr u n ca te rm ir u n lin k u n se 3  f sy n c  u u n inod dir bmap imap indirect data super jsuper gdesc data loss na readonli ext3 detect corrupon rmdir  unlink creat  mkdir  symlink caus ext3 reus inod  resulng data loss e', 'system train use mira  crammer singer  2003  chiang et al  2009  tune set 3000 sentenc newswir nist mt evalu data gale develop data  disjoint train data ', 0.09117121523215979], ['conclus bugsmistak inevit solwar must cope  hope avoid envyf  nversion approach tolerang fs bug built use exisng specificaon file system subsist  singl instanc store decreas overhead retain reliabl', ' x n singl substitut site x 1      x n ', 0.08826140051690917], ['ye  leverag vf  issu vf precis nversion purpos need handl case specificaon precis eg  order directori entri  inod number allocaon', 'case may want soften match constraint ', 0.0859458206328542], ['nversion layer  envyf  insert beneath vf simpl design avoid bug exampl  read file alloc n data buffer read data block disk compar  data  return code  file posion return  data  return code issu  alloc memori read operaon extra copi alloc buffer applicaon comparison overhead compar wrapper inod map tabl applicaon vf layer ex t3 jf r ei se rf envyf layer read  file  1 block  read  file  1 block  read   read   read   f f f po  x po  x po  x err  err  err  disk err  err  tolerang filesystem mistak envyf', 'tabl 3 show score develop set test set  3000 2000 sentenc  respect  newswir drawn nist mt evalu data gale develop data disjoint tune data ', 0.08220469191772113], ['nversion system develop process  1 produc specificaon solwar 2 implemenng n version solwar 3 creang nversion layer execut differ version determin consensu result', 'heurist produc set nest phrase  repres singl restructur tree ', 0.0787081493851897], ['envyfs3 p h ra rs al se 1 se 2 ad ad lin k ge td ir en tr ie cr ea lin k kd ir n e sy lin k w ri te tr u n ca te rm ir u n lin k u n se 3 u u n inod dir bmap imap intern data super jsuper jdata aggrinod imapdesc imapcntl normal na crash kernel panic envyfs3 e r j envyf', 'system baselin  featur describ section 3 ad ', 0.07316268627035209], ['imprecis vf specificaon order directori entri issu  specifi return order cant blindli compar entri soluon  read entri directori  dir  test case  fse match entri fse return major result fs x fs fs z envyf layer file 1 file 2 file 3 dir  test file 2 file 3 file 1 dir  test dir  test file 1 file 2 file 3 readdir  test entri file 3 file 1 file 2 file 1 file 2 file 3 file 1 file 2 file 3 dir  test', 'use exact treetotre extract  got much smaller grammar  decreas accuraci chineseenglish test set  signific chang ', 0.07256469784456349], ['ext3 p h ra rs al se 1  ta   se 2  c h  ad ad lin k ge td ir en tr ie cr ea lin k kd ir n e sy lin k w ri te tr u n ca te rm ir u n lin k u n se 3  f sy n c  u u n inod dir bmap imap indirect data super jsuper gdesc data loss na mount ext3 store mani superblock copi   handl superblock corrupon e', 'system baselin  featur describ section 3 ad ', 0.0699145045205699], ['kernel panic ext3 p h ra rs al se 1  ta   se 2  c h  ad ad lin k ge td ir en tr ie cr ea lin k kd ir n e sy lin k w ri te tr u n ca te rm ir u n lin k u n se 3  f sy n c  u u n normal na inod dir bmap imap indirect data super jsuper gdesc envyfs3 work everi scenario 61809 tolerang filesystem mistak envyf 25 envyfs3 e r j envyf', 'system baselin  featur describ section 3 ad ', 0.06841953686149892], ['postmark10k postmark100k postmark100k  ext3 jf reiserf envyf envyfssi io intens mimic busi mail server workload transacon  creat  delet  read  append  postmark configuraon 2500 file file size  4kb 40kb ', 'size parallel text use shown tabl 2 ', 0.06640289752536471], ['read file envyf soluon  applicaon buffer fs tcplike checksum data comparison compar  checksum  return code  file posion read data un  l major compar wrapper inod map tabl applicaon vf layer ex t3 jf r ei se rf envyf layer read  file  1 block  read  file  1 block  read   read   f f f po  x po  x err  err  err  fs 1  fs 2  fs n  checksum disk err  err  read   po  x', 'compar two system use treetotre grammar ', 0.06594656207675069], ['part 1 part 2 part n disk 1 disk 2 disk n disk case singl instanc storag  si  ideal  one disk per fs praccal  one disk fs overhead effec storag space  1n n me io  readwrit  challeng  maintain divers minim overhead envyf layer fs 1 fs 2 fs n applicaon vf layer disk req ', 'figur 2  observ flat structur chines ip prevent exact treetotre extract extract rule contain part ip  exampl ', 0.06441783035750781], ['soluon  issu inod number envyf layer fs x fs fs z envyf layer dir  test dir  test dir  test file 1  10 file 1 65 file 1 10 file 2 15 file 3 16 file 2 04 file 3 44 file 1 36 file 1  inod map tabl file 3 99 file 1 65 file 2 43 inod number inod map tabl persist store', 'use exact treetotre extract  got much smaller grammar  decreas accuraci chineseenglish test set  signific chang ', 0.051568575275052854], ['tolerang filesystem mistak envyf lakshmi n bairavasundaram netapp  inc swaminathan sundararaman andrea c arpacidusseau remzi h arpacidusseau univers wisconsin madison', 'statist translat model use synchron contextfre grammar  scfg  relat formal tri captur recurs structur languag wide adopt last year ', 0.0], ['virt  fs 1 fs 3 fs 2 ', 'statist translat model use synchron contextfre grammar  scfg  relat formal tri captur recurs structur languag wide adopt last year ', 0.0], ['', 'statist translat model use synchron contextfre grammar  scfg  relat formal tri captur recurs structur languag wide adopt last year ', 0.0], ['queue', 'statist translat model use synchron contextfre grammar  scfg  relat formal tri captur recurs structur languag wide adopt last year ', 0.0], ['transacon  10k 100k postmark benchmark el ap se im e  ec n  envyfs3  8x  subsist  4x envyfs3  17x  subsist  115 ', 'statist translat model use synchron contextfre grammar  scfg  relat formal tri captur recurs structur languag wide adopt last year ', 0.0]], [['tupl contain data deriv relat   later appear relat  c ', 'type data set opinion sentenc relat certain topic ', 0.3085385265337465], ['topic motiv conceptu model predic languag evalu', 'topic model  gener idea use unigram languag model  ie  multinomi word distribut  model topic ', 0.26645501003214156], ['data curat set finegrain data multipl sourc integr  queri  updat manipul evolv schema instanc multipl histori includ manipul queri multipl valu attribut user express confid doubt exampl set intellig  profil person interest militari  oper risk assess escienc  bioinformat databas 3', 'order identifi multipl topic text  would fit mixtur model involv multipl multinomi distribut text data tri figur set paramet multipl word distribut maxim likelihood text data ', 0.2626441507027373], ['know sourc    data came ', 'know equat 11', 0.26239265046257554], ['idea  new predic  new  fullfeatur proven queri languag normal relat algebra oper front face new predic enabl select project base proven', 'defin new problem opinion integr ', 0.25847366983729525], ['summari mmp differ data structur orthogon proven data ', 'paper  use weblog data  method appli kind data contain opinion free text ', 0.2555169168418848], ['process method use deriv data  improv chang ', 'paper  use weblog data  method appli kind data contain opinion free text ', 0.24405299747413722], ['select  r  tupl path  sourc name  x   tupl r least one data valu deriv relat   relat  b ', 'type data set opinion sentenc relat certain topic ', 0.24004892501512853], ['select  r  data valu tupl path  valu relat    path  valu relat   b  ', 'quantifi repres ordinari opinion sentenc  comput  support valu  extract ordinari opinion sentenc ', 0.22746088585768268], ['curat data trustworthi ', 'paper  use weblog data  method appli kind data contain opinion free text ', 0.2062181676556631], ['key conceptu model featur relat data multivalu attribut multilay multiproven oper queri  dml  ddl data confid languag  dcl  distinct proven dataset  attribut  entiti  valu delet data proven retain  insert connect prior delet multipl histori data', 'paper  use weblog data  method appli kind data contain opinion free text ', 0.20416890869810003], ['exampl queri tupl relat r deriv sourc  x ', 'howev  larg scale inform sourc  quit challeng user integr digest opinion differ sourc ', 0.20035594907380583], ['access  track proven  keep manag user hand  transit layer implement  perform  full access proven map map', 'expert opinion rel easi user access opinion search websit cnet ', 0.19604917418140722], ['motiv conceptu model predic languag evalu', 'topic model  gener idea use unigram languag model  ie  multinomi word distribut  model topic ', 0.1958308732904328], ['motiv conceptu model predic languag evalu', 'topic model  gener idea use unigram languag model  ie  multinomi word distribut  model topic ', 0.1958308732904328], ['motiv conceptu model predic languag evalu', 'topic model  gener idea use unigram languag model  ie  multinomi word distribut  model topic ', 0.1958308732904328], ['access  track proven  keep manag user hand  transit layer implement  perform  full access proven map map focu paper', 'expert opinion rel easi user access opinion search websit cnet ', 0.1900613659210114], ['access  track proven  keep manag user hand  transit layer implement  perform  full access proven map map focu paper', 'expert opinion rel easi user access opinion search websit cnet ', 0.1900613659210114], ['select  r  data valu tupl path  valu relat   valu relat   c   tupl deriv tupl insert least timestamp  4   7 ', 'quantifi repres ordinari opinion sentenc  comput  support valu  extract ordinari opinion sentenc ', 0.18373108117049072], ['conceptu model structur', 'sinc expert review well written  keep origin form leverag structur organ ordinari opinion extract text ', 0.18253221396874292], ['predic languag 2 aqualset    aqual    aqual   andor   aqualset  cqualset    cqual    cqual   andor   cqualset  squalset    squal    squal   andor   squalset  aqual   action   constant   action  queri  user   constant   time  ccmp   constant  cqual   dataset  ccmp   constant   valu  ccmp   constant   expir squal   name  ccmp   constant  compon   tupl  attribut  valu ccmp           18', 'cluster  get partit p   p1    p l  l  p c c constant paramet defin averag number sentenc cluster ', 0.18124497942096626], ['start point  proven graph', 'could start larg σj  say 5000   ie  start perfectli align opinion model  gradual decay em iter equat 7  stop decay σ j weight prior µ j threshold δ  say 05  ', 0.17844860530086995], ['current model fall short  2 proven store string annot data  queri proven must pars string use particular system proven store one gener time  queri must written recurs  trace proven multipl prior queri', 'achiev use repres opinion queri retriev sentenc r ', 0.17768168310615107], ['overview research conceptu model logic model exist platform  user view data  proven  simpl  familiar languag  data prov ', 'paper  use weblog data  method appli kind data contain opinion free text ', 0.17604079745577958], ['overview research conceptu model logic model exist platform  user view data  proven  simpl  familiar languag  data prov ', 'paper  use weblog data  method appli kind data contain opinion free text ', 0.17604079745577958], ['overview research conceptu model logic model exist platform  user view data  proven  simpl  familiar languag  data prov ', 'paper  use weblog data  method appli kind data contain opinion free text ', 0.17604079745577958], ['oper delet data provenanc ', 'paper  use weblog data  method appli kind data contain opinion free text ', 0.1734642775717208], ['simpl languag select data base proven ', 'intuit  prior defin base expert review segment would tend make correspond languag model similar empir word distribut review segment  thu languag model would tend attract opinion sentenc c similar expert review segment ', 0.17235577028413485], ['languag extract proven ', 'sinc ordinari opinion tend redund primarili interest extract repres opinion  support use assess repres extract opinion ', 0.1629701224274203], ['select  r  tupl path  oper action   insert time    4  time   7  ', 'last year  mei other propos mixtur model model facet opinion time  11  ', 0.15758578413838115], ['name id bob 8  9 sue 7 trust peopl deriv ', ' support13  cisco own trademark name  iphon  sinc 2000  acquir infogear technolog corp  origin regist name ', 0.15677650236815685], ['mmp trio proven select languag compar', 'one repres sentenc p select similar sentenc cluster centroid  ie ', 0.14523266919534952], ['implement feasibl identifi proven graph search oper  start point queri specifi input relat predic specifi tupl  attribut  valu encod predic graphql pattern tupl attribut select output least one relev proven graph select graphql', 'first select 5 review aspect 14 method identifi similar supplementari opinion  5 aspect  mix one similar opinion sever supplementari opinion  user suppos select one sentenc share similar opinion review aspect ', 0.14403820897693073], ['work progress conceptu model formal subset algebra structur compar express compar queri complex closur properti proof intermodel map logic model openend access via queri languag implement feasibl perform tradeoff studi 25', 'achiev use repres opinion queri retriev sentenc r ', 0.13534979008281803], ['simpl proven queri goal  enabl select data proven approach  predic languag describ characterist proven path select project oper declar  procedur', 'one repres sentenc p select similar sentenc cluster centroid  ie ', 0.13330386517192921], ['trust order deriv ', 'order appli kind model integr problem  assum review segment correspond unigram languag model would captur opinion align review segment ', 0.1324799192801085], ['current model fall short1 proven limit singl histori singl granular  mostli  queri dml   mostli  model store proven schema data annot store extra attribut creat clutter  requir special care prevent corrupt queri 5', 'achiev use repres opinion queri retriev sentenc r ', 0.1183258863100576], ['conceptu model predic languag data select project base proven david w archer loi l delcambr depart comput scienc portland state univers', 'map estim comput use essenti em algorithm present slightli differ updat formula compon languag model ', 0.11127405999326433], ['predic languag 1 selectionpred   tupl  predicatequalifi   data valu tupl  predicatequalifi   valu attribut  list  tupl  predicatequalifi  projectionpred   attribut  predicatequalifi   data valu attribut  predicatequalifi  predicatequalifi   path   pathqualifi    path   pathqualifi    andor   predicatequalifi  pathqualifi    compon     cqualset    oper   aqualset    sourc   squalset    pathqualifi    pathqualifi   beforeandor   pathqualifi   must agre compon type specifi selectionpred projectionpred', 'need two type data set evalu ', 0.0749176093746606], ['proven represent b c 1 5 8 tupl id b c  ac  r  r   r  c r  proven represent c lineag trio green 1 8   c        c   2a  ac 2a2  ac e 1 9   b  c    c     c    b  c   2c  ac  bc 2c2  ac  bc f 3 9  b  c    b    b  c   2b  bc 2b2  bc note  edg may includ queri  dml  ddl  dcl  order oper also evid ra rc rb sd se sf 28', 'note randomli ', 0.06724557715326761], ['simpl nonfirst normal relat ye ye ye ye ddl  dml  queri  confirmdoubt ye ye logic model conceptu model 27', 'topic model  gener idea use unigram languag model  ie  multinomi word distribut  model topic ', 0.06309365730153015], ['backup materi', 'web 20 applic becom increasingli popular  peopl express opinion web variou way custom review  forum  discuss group  weblog ', 0.0], ['multigener proven ', 'web 20 applic becom increasingli popular  peopl express opinion web variou way custom review  forum  discuss group  weblog ', 0.0], ['multigranular proven ', 'web 20 applic becom increasingli popular  peopl express opinion web variou way custom review  forum  discuss group  weblog ', 0.0], ['multihistori proven ', 'web 20 applic becom increasingli popular  peopl express opinion web variou way custom review  forum  discuss group  weblog ', 0.0], ['reinsert connect ', 'web 20 applic becom increasingli popular  peopl express opinion web variou way custom review  forum  discuss group  weblog ', 0.0]], [['wwwopensolarisorgosprojectcrossbow 6 pseudo mac instanc  manag physic nic  per vnic stat  reus exist manag tool  link speed deriv configur bandwidth limit  highavail creat vnic link aggreg combin vnic ipmp group dedic pervnic hardwar kernel resourc data path passthrough  bump stack standard base endtoend network virtual  vlan tag prioriti flow control  pfc  assign vnic extend hardwar lane switch crossbow virtual nic  vnic ', 'link assign fresh  ', 0.17609483571567527], ['wwwopensolarisorgosprojectcrossbow 7 crossbow virtual switch virtual switch creat implicitli time  2 vnic creat data link mac layer provid packet switch semant equival ethernet switch  data path vnic creat top data link  connect vnic physic network  per vlan broadcast domain  isol vlan vnic creat etherstub creat virtual switch independ hardwar', 'sideeffect permit object creat within librari method  provid escap ', 0.1650499834249432], ['wwwopensolarisorgosprojectcrossbow 10 physic wire wphysic machin client router virtual wire wvirtual network machin host 1 host 2 port 6 20003 port 9 20001 port 3 10003 port 1 10001 port 2 10002 switch 3 switch 1 client router  virtual router  vnic6 20003 vnic9 20001 vnic3 10003 vnic1 10001 vnic2 10002 etherstub 3 etherstub 1 host 1 host 2', 'use help port java program dpj languag write safe parallel program  16  ', 0.14269442254123854], ['wwwopensolarisorgosprojectcrossbow 12 crossbow flow crossbow flow base follow attribut  servic  protocol  remoteloc port   transport  tcp  udp  sctp  iscsi  etc   ip address ip subnet  dscp label follow properti set flow  bandwidth limit  prioriti  cpu  flowadm createflow l bge0 protocoltcp  local_port443 p maxbw50m http1  flowadm setflowprop l bge0 p maxbw100m http1', 'analysi track flow method  manner similar intraprocedur pointer analysi ', 0.1351222372085743], ['wwwopensolarisorgosprojectcrossbow 9 virtual nic  virtual switch usag  dladm createvn l bge1 vnic1  dladm createvn l bge1 random p maxbw100m p cpus456 vnic2  dladm createetherstub vswitch1  dladm showetherstub link vswitch1  dladm createvn l vswitch1 p maxbw1000m vnic3  dladm showvnic link mactyp macvalu bandwidth cpu vnic1 bge1 factori 012345  vnic2 bge1 random 256789 max100m 456 vnic3 vswitch1 random 434701 max1000m  dladm createvn l ixgbe0 v 1055 p maxbw500m p cpus12 vnic9', 'link assign fresh  ', 0.10828929729251476], ['wwwopensolarisorgosprojectcrossbow 8 crossbow virtual switch exampl nonglob zone ng0 nonglob zone ng1 virtual machin vnic0 vnic1 vnic2 vnic3 bge0 ip filter nat virtual switch global zone solari host', 'exampl ', 0.10683751369083988], ['wwwopensolarisorgosprojectcrossbow 2 key issu network virtual fair polici base resourc share virtual environ  bandwidth  nic hardwar resourc includ rxtx descriptor  process cpu overhead due virtual  latenc  throughput manag  isol distribut applic  network fabric configur secur  new threat l2 network solv problem ', ' problem ', 0.10123738917236401], ['wwwopensolarisorgosprojectcrossbow 3 crossbow  solari network stack 8 year develop work achiev  scalabl across multicor cpu multi10gig bandwidth  virtual  qo  highavail design  exploit advanc nic featur key enabl  server network consolid  open network  cloud comput', 'rountev system design work incomplet program  26  ', 0.09942121334666966], ['wwwopensolarisorgosprojectcrossbow 5 hardwar lane dynam poll partit nic hardwar  rxtx ring  dma   kernel queuesthread  cpu allow creation hardwar lane assign vnic  flow use dynam poll rxtx ring schedul rate packet arriv transmiss per lane basi effect dynam poll mpstat  older driver  intr ithr csw icsw migr smtx srw syscl usr sy wt idl 10818 8607 4558 1547 161 1797 289 19112 17 69 0 12 mpstat  gldv3 base driver  intr ithr csw icsw migr smtx srw syscl usr sy wt idl 2823 1489 875 151 93 261 1 19825 15 57 0 27 75  fewer interrupt 85  fewer mutex 85  fewer ctx switch 15  cpu free', 'assign data line 15 permit rule  1  ', 0.08655706496813262], ['wwwopensolarisorgosprojectcrossbow 13 join us  beer  crossbow solari network bof  tonight 10301130pm  dover  b   present ben rockwood  joyent   vwire demo deepdiv discuss opensolari project commun  http  wwwopensolarisorgosprojectcrossbow  crossbowdiscuss  opensolarisorg  networkingdiscuss  opensolarisorg', 'let us recal first problem encount simpl puriti system  discuss 23  show method pure definit 1 requir two guarante ', 0.073955292720883], ['wwwopensolarisorgosprojectcrossbow 11 virtual network machin virtual network machin  vnm  zone virtual machin associ set network function  rout  firewal  load balanc  etc  vnm dedic vnic   configur link speed  cpu multipl vnm run singl host  connect virtual privat network  etherstub  physic network use simul  consolid  test  etc', 'link assign fresh  ', 0.07066718130317236], ['wwwopensolarisorgosprojectcrossbow 4 crossbow hardwar lane groundup design multicor multi10gig linear scalabl use hardwar lane  dedic resourc network virtual qo design stack effici due dynam poll packet chain  physic machinephys nic hardwar lane c l f e r virtual nic hardwar ringsdma kernel thread queue virtual nic kernel thread queue squeue hardwar ringsdma kernel thread queue virtual machinezon virtual machinezon applic switch vlan separ hardwar ringsdma', 'sinc determin use static type inform  may actual method invok  due dynam dispatch  ', 0.05962685912097255], ['nicola droux  senior staff engin solari kernel network  sun microsystem inc nicolasdroux  suncom crossbow virtual wire  network box novemb 5th  2009 usenix lisa 09  baltimor  md sunay tripathi  nicola droux  kai belgai  shrikrishna khare', 'start consid simpl puriti system surprisingli effect practic  crucial  employ modularli checkabl annot ', 0.0], [' switch  l3l4 devic  host', 'start consid simpl puriti system surprisingli effect practic  crucial  employ modularli checkabl annot ', 0.0], ['nicola droux nicolasdroux  suncom solari kernel network crossbow virtual wire  network box', 'start consid simpl puriti system surprisingli effect practic  crucial  employ modularli checkabl annot ', 0.0]]]\n"
     ]
    }
   ],
   "source": [
    "print(len(presentation_paper_pairs))\n",
    "print(presentation_paper_pairs[:3])"
   ],
   "metadata": {
    "collapsed": false
   }
  },
  {
   "cell_type": "code",
   "source": [
    "average_similarity = []\n",
    "for sentence_pairs in presentation_paper_pairs:\n",
    "    similarity_score_sum = sum(pair[2] for pair in sentence_pairs)\n",
    "    similarity_score_average = similarity_score_sum / len(sentence_pairs)\n",
    "    average_similarity.append(similarity_score_average)\n",
    "\n",
    "print(average_similarity[:5])\n",
    "\n",
    "print(sum(average for average in average_similarity) / len(average_similarity))\n"
   ],
   "metadata": {
    "id": "j8AdV2bqdb4Q",
    "ExecuteTime": {
     "end_time": "2024-04-10T00:38:28.710189Z",
     "start_time": "2024-04-10T00:38:28.611339Z"
    }
   },
   "outputs": [
    {
     "name": "stdout",
     "output_type": "stream",
     "text": [
      "[0.10473271582810344, 0.1626123030226938, 0.08837021936706536, 0.08777198569090229, 0.15362456899990776]\n",
      "0.12297329954399107\n"
     ]
    }
   ],
   "execution_count": 19
  },
  {
   "cell_type": "code",
   "execution_count": 20,
   "outputs": [
    {
     "name": "stdout",
     "output_type": "stream",
     "text": [
      "Presentation sentences for pair 1 : ['thank ', 'futur work debug tool develop run older newer version file system compar result older version file system repair simpl repair  copi data file system complex repair  recreat en file system tree micro repair ', 'hard work alreadi done us 30 differ disk base file system linux 26 file system use ', 'subsist  singl instanc store variant singl instanc store selecv merg data block block address si export virtual disk fse manag map  free space info ', 'corrupon data singl fs due bug  bit flip  storag stack corrupt data block merg n1 data block merg corrupt data block fix next read corrupon data block insid disk singl copi data differ code path differ ondisk structur envyf layer fs 2 fs n applicaon vf layer vdisk 1 vdisk 2 vdisk n read cach chash layer free space manag su b si st', 'summari result robust tradion file system vulner corrupon envyfs3 toler almost mistak one fs perform desktop workload  envyfs3 compar perform io intens workload  regular operaon  envyfs3  subsist accept perform memori pressur  envyfs3  subsist larg overhead', 'ext3 jf reiserf envyf envyfssi experiment setup amd opteron 22 ghz processor 2gb ram 80 gb hitachi deskstar 7200rpm sata disk linux 2612 4gb disk par  file system openssh benchmark perform evaluaon el ap se im e  ec n  file system cpu intens openssh 45 copi  untar make perform envyfs3 compar singl file system', 'file 1  36 imprecis vf specificaon  cont  inod number allocaon inod number return system call child file system issu differ inod number possibl soluon  forc file system use algorithm ', 'result robust tradion file system handl corrupon   4   envyfs3 toler 989  singl file system mistak perform desktop workload  envyfs3 compar perform io intens workload  normal mode  envyfs3  subsist accept perform memori pressur  envyfs3  subsist larg overhead poten debug tool fs develop pinpoint sourc failsil bug ext3', 'impracc  requir wide scale chang file system specificaon take year get accept leverag exisng specificaon ', 'ext3  jf  reiserf threevers fs other work without modificaon', 'disk b b b envyf layer block driver b reliabl evaluaon  fault injecon corrupon  bug fs  storag stack type disk block superblock  inod  block bitmap  file data  perform differ file op mount  stat  creat  unlink  read  report user visibl result result applic subsist except corruphon data block ex 3 jf r ei se rf pseudo devic driver vf b b b b typeawar fault injechon  prabhakaran05 ', 'base nversion program  avizienis77  nf server  rodrigues01   databas  vandiver07   secur  cox06  nversion file system envyf  simpl solwar layer store data n child file system operaon perform children reli simpl sowar layer challeng  reduc overhead retain reliabl subsist  novel singl instanc store envyf layer c h ild 1 c h ild 2 c h ild n disk driver disk si layer applicaon', 'bug inevit file system challeng  cope ', 'fs 1 disk handl data block corrupon ', 'file system today world modern file system complex ten thousand line code  eg  xf 45k loc  storag stack also gevng deeper hypervisor  network  logic volum manag need handl gamut failur memori allocaon  disk fault  bit flip  system crash preserv integr metadata user data', 'file system bug bug report linux 26 seri bugzilla ext3  64  jf  17  reiserf  38 fs corrupon caus perman data loss fs bug broadli classifi two categori failstop  system immedi crash soluon  nook  swi 04   curio  david08  failsil  accident corrupt ondisk state mani bug uncov  prabhakaran05  gunawi08  yang04  yang06b ', 'persist store disk envyf write n file system n data block merg 1 data block content hash store persist metadata block merg inter fs block intra fs envyf layer fs 1 fs 2 fs n applicaon vf layer vdisk 1 disk vdisk 2 vdisk n read cach chash layer free space manag su b si st', 'pain process high cost develop  long delay lucki ', 'outlin introducon build reliabl file system reduc overhead subsist evaluahon reliabl perform conclus', 'robust envyf recov child file system mistak ', 'poten bug isolaon ext3 envyfs3 ti e unlink corrupt inod  ext3_lookup  bug  ext3_unlink unmount  panic  ti e unlink corrupt inod  ext3_lookup  bug  ext3 inod match other op issu typic use  problem noce panic envyfs3  problem noce first child file system return wrong result', 'ext3 p h ra rs al se 1  ta   se 2  c h  ad ad lin k ge td ir en tr ie cr ea lin k kd ir n e sy lin k w ri te tr u n ca te rm ir u n lin k u n se 3  f sy n c  u u n inod dir bmap imap indirect data super jsuper gdesc data loss na mount op fail crash addion operaon fail  inod corrupon lead data loss unlink  system crash unmount e', 'jf p h ra rs al se 1 se 2 ad ad lin k ge td ir en tr ie cr ea lin k kd ir n e sy lin k w ri te tr u n ca te rm ir u n lin k u n se 3 u u n inod dir bmap imap intern data super jsuper jdata aggrinod imapdesc imapcntl normal data loss na mount op fail data corrupt crash readonli depend j', 'ext3 p h ra rs al se 1  ta   se 2  c h  ad ad lin k ge td ir en tr ie cr ea lin k kd ir n e sy lin k w ri te tr u n ca te rm ir u n lin k u n se 3  f sy n c  u u n inod dir bmap imap indirect data super jsuper gdesc normal data loss na mount op fail data corrupt crash readonli e depend e', 'advanc system lab  adsl  univers wisconsinmadison hxp  wwwcswisceduadsl', 'ext3 p h ra rs al se 1  ta   se 2  c h  ad ad lin k ge td ir en tr ie cr ea lin k kd ir n e sy lin k w ri te tr u n ca te rm ir u n lin k u n se 3  f sy n c  u u n inod dir bmap imap indirect data super jsuper gdesc result matrix normal data loss na mount op fail data corrupt crash readonli e depend e', 'outlin introducon build reliabl file system reduc overhead subsist evaluaon conclus', 'outlin introducon build reliabl file system reduc overhead subsist evaluaon conclus', 'outlin introducon build reliabl file system reduc overhead subsist evaluaon conclus', 'ext3 p h ra rs al se 1  ta   se 2  c h  ad ad lin k ge td ir en tr ie cr ea lin k kd ir n e sy lin k w ri te tr u n ca te rm ir u n lin k u n se 3  f sy n c  u u n inod dir bmap imap indirect data super jsuper gdesc data loss na readonli ext3 detect corrupon rmdir  unlink creat  mkdir  symlink caus ext3 reus inod  resulng data loss e', 'conclus bugsmistak inevit solwar must cope  hope avoid envyf  nversion approach tolerang fs bug built use exisng specificaon file system subsist  singl instanc store decreas overhead retain reliabl', 'ye  leverag vf  issu vf precis nversion purpos need handl case specificaon precis eg  order directori entri  inod number allocaon', 'nversion layer  envyf  insert beneath vf simpl design avoid bug exampl  read file alloc n data buffer read data block disk compar  data  return code  file posion return  data  return code issu  alloc memori read operaon extra copi alloc buffer applicaon comparison overhead compar wrapper inod map tabl applicaon vf layer ex t3 jf r ei se rf envyf layer read  file  1 block  read  file  1 block  read   read   read   f f f po  x po  x po  x err  err  err  disk err  err  tolerang filesystem mistak envyf', 'nversion system develop process  1 produc specificaon solwar 2 implemenng n version solwar 3 creang nversion layer execut differ version determin consensu result', 'envyfs3 p h ra rs al se 1 se 2 ad ad lin k ge td ir en tr ie cr ea lin k kd ir n e sy lin k w ri te tr u n ca te rm ir u n lin k u n se 3 u u n inod dir bmap imap intern data super jsuper jdata aggrinod imapdesc imapcntl normal na crash kernel panic envyfs3 e r j envyf', 'imprecis vf specificaon order directori entri issu  specifi return order cant blindli compar entri soluon  read entri directori  dir  test case  fse match entri fse return major result fs x fs fs z envyf layer file 1 file 2 file 3 dir  test file 2 file 3 file 1 dir  test dir  test file 1 file 2 file 3 readdir  test entri file 3 file 1 file 2 file 1 file 2 file 3 file 1 file 2 file 3 dir  test', 'ext3 p h ra rs al se 1  ta   se 2  c h  ad ad lin k ge td ir en tr ie cr ea lin k kd ir n e sy lin k w ri te tr u n ca te rm ir u n lin k u n se 3  f sy n c  u u n inod dir bmap imap indirect data super jsuper gdesc data loss na mount ext3 store mani superblock copi   handl superblock corrupon e', 'kernel panic ext3 p h ra rs al se 1  ta   se 2  c h  ad ad lin k ge td ir en tr ie cr ea lin k kd ir n e sy lin k w ri te tr u n ca te rm ir u n lin k u n se 3  f sy n c  u u n normal na inod dir bmap imap indirect data super jsuper gdesc envyfs3 work everi scenario 61809 tolerang filesystem mistak envyf 25 envyfs3 e r j envyf', 'postmark10k postmark100k postmark100k  ext3 jf reiserf envyf envyfssi io intens mimic busi mail server workload transacon  creat  delet  read  append  postmark configuraon 2500 file file size  4kb 40kb ', 'read file envyf soluon  applicaon buffer fs tcplike checksum data comparison compar  checksum  return code  file posion read data un  l major compar wrapper inod map tabl applicaon vf layer ex t3 jf r ei se rf envyf layer read  file  1 block  read  file  1 block  read   read   f f f po  x po  x err  err  err  fs 1  fs 2  fs n  checksum disk err  err  read   po  x', 'part 1 part 2 part n disk 1 disk 2 disk n disk case singl instanc storag  si  ideal  one disk per fs praccal  one disk fs overhead effec storag space  1n n me io  readwrit  challeng  maintain divers minim overhead envyf layer fs 1 fs 2 fs n applicaon vf layer disk req ', 'soluon  issu inod number envyf layer fs x fs fs z envyf layer dir  test dir  test dir  test file 1  10 file 1 65 file 1 10 file 2 15 file 3 16 file 2 04 file 3 44 file 1 36 file 1  inod map tabl file 3 99 file 1 65 file 2 43 inod number inod map tabl persist store', 'tolerang filesystem mistak envyf lakshmi n bairavasundaram netapp  inc swaminathan sundararaman andrea c arpacidusseau remzi h arpacidusseau univers wisconsin madison', 'virt  fs 1 fs 3 fs 2 ', '', 'queue', 'transacon  10k 100k postmark benchmark el ap se im e  ec n  envyfs3  8x  subsist  4x envyfs3  17x  subsist  115 ']\n",
      "\n",
      "Paper sentences for pair 1 : ['3 thank adam paul suggest featur class ', 'compar two system use treetotre grammar ', 'compar two system use treetotre grammar ', ' x n singl substitut site x 1      x n ', 'system train use mira  crammer singer  2003  chiang et al  2009  tune set 3000 sentenc newswir nist mt evalu data gale develop data  disjoint train data ', 'fuzzi treetotre extract perform use analog constraint ', 'compar two system use treetotre grammar ', 'compar two system use treetotre grammar ', 'fuzzi treetotre extract perform use analog constraint ', 'phrase pair  accept cross previous accept phrase pair  otherwis  reject ', 'system use glue rule  chiang  2005   allow decod  work bottomup  stop build hierarch structur instead concaten partial translat without reorder ', ' 2006   systemat studi  find  sentenc treetotre constraint block rule extract  major due parser error ', ' use simpl heurist ', 'paper  explor reason treetotre translat challeng  sourc syntax target syntax might use togeth ', 'system train use mira  crammer singer  2003  chiang et al  2009  tune set 3000 sentenc newswir nist mt evalu data gale develop data  disjoint train data ', 'compar two system use treetotre grammar ', 'compar two system use treetotre grammar ', ' 2006   systemat studi  find  sentenc treetotre constraint block rule extract  major due parser error ', 'tabl 3 show score develop set test set  3000 2000 sentenc  respect  newswir drawn nist mt evalu data gale develop data disjoint tune data ', 'first  tabl 4 show system use treetotre grammar use glue rule much less perform match substitut ', 'compar two system use treetotre grammar ', 'address problem  liu et al ', 'system train use mira  crammer singer  2003  chiang et al  2009  tune set 3000 sentenc newswir nist mt evalu data gale develop data  disjoint train data ', 'system train use mira  crammer singer  2003  chiang et al  2009  tune set 3000 sentenc newswir nist mt evalu data gale develop data  disjoint train data ', 'system train use mira  crammer singer  2003  chiang et al  2009  tune set 3000 sentenc newswir nist mt evalu data gale develop data  disjoint train data ', 'compar two system use treetotre grammar ', 'system train use mira  crammer singer  2003  chiang et al  2009  tune set 3000 sentenc newswir nist mt evalu data gale develop data  disjoint train data ', 'system use glue rule  chiang  2005   allow decod  work bottomup  stop build hierarch structur instead concaten partial translat without reorder ', 'system use glue rule  chiang  2005   allow decod  work bottomup  stop build hierarch structur instead concaten partial translat without reorder ', 'system use glue rule  chiang  2005   allow decod  work bottomup  stop build hierarch structur instead concaten partial translat without reorder ', 'system train use mira  crammer singer  2003  chiang et al  2009  tune set 3000 sentenc newswir nist mt evalu data gale develop data  disjoint train data ', ' x n singl substitut site x 1      x n ', 'case may want soften match constraint ', 'tabl 3 show score develop set test set  3000 2000 sentenc  respect  newswir drawn nist mt evalu data gale develop data disjoint tune data ', 'heurist produc set nest phrase  repres singl restructur tree ', 'system baselin  featur describ section 3 ad ', 'use exact treetotre extract  got much smaller grammar  decreas accuraci chineseenglish test set  signific chang ', 'system baselin  featur describ section 3 ad ', 'system baselin  featur describ section 3 ad ', 'size parallel text use shown tabl 2 ', 'compar two system use treetotre grammar ', 'figur 2  observ flat structur chines ip prevent exact treetotre extract extract rule contain part ip  exampl ', 'use exact treetotre extract  got much smaller grammar  decreas accuraci chineseenglish test set  signific chang ', 'statist translat model use synchron contextfre grammar  scfg  relat formal tri captur recurs structur languag wide adopt last year ', 'statist translat model use synchron contextfre grammar  scfg  relat formal tri captur recurs structur languag wide adopt last year ', 'statist translat model use synchron contextfre grammar  scfg  relat formal tri captur recurs structur languag wide adopt last year ', 'statist translat model use synchron contextfre grammar  scfg  relat formal tri captur recurs structur languag wide adopt last year ', 'statist translat model use synchron contextfre grammar  scfg  relat formal tri captur recurs structur languag wide adopt last year ']\n",
      "\n",
      "Presentation sentences for pair 2 : ['tupl contain data deriv relat   later appear relat  c ', 'topic motiv conceptu model predic languag evalu', 'data curat set finegrain data multipl sourc integr  queri  updat manipul evolv schema instanc multipl histori includ manipul queri multipl valu attribut user express confid doubt exampl set intellig  profil person interest militari  oper risk assess escienc  bioinformat databas 3', 'know sourc    data came ', 'idea  new predic  new  fullfeatur proven queri languag normal relat algebra oper front face new predic enabl select project base proven', 'summari mmp differ data structur orthogon proven data ', 'process method use deriv data  improv chang ', 'select  r  tupl path  sourc name  x   tupl r least one data valu deriv relat   relat  b ', 'select  r  data valu tupl path  valu relat    path  valu relat   b  ', 'curat data trustworthi ', 'key conceptu model featur relat data multivalu attribut multilay multiproven oper queri  dml  ddl data confid languag  dcl  distinct proven dataset  attribut  entiti  valu delet data proven retain  insert connect prior delet multipl histori data', 'exampl queri tupl relat r deriv sourc  x ', 'access  track proven  keep manag user hand  transit layer implement  perform  full access proven map map', 'motiv conceptu model predic languag evalu', 'motiv conceptu model predic languag evalu', 'motiv conceptu model predic languag evalu', 'access  track proven  keep manag user hand  transit layer implement  perform  full access proven map map focu paper', 'access  track proven  keep manag user hand  transit layer implement  perform  full access proven map map focu paper', 'select  r  data valu tupl path  valu relat   valu relat   c   tupl deriv tupl insert least timestamp  4   7 ', 'conceptu model structur', 'predic languag 2 aqualset    aqual    aqual   andor   aqualset  cqualset    cqual    cqual   andor   cqualset  squalset    squal    squal   andor   squalset  aqual   action   constant   action  queri  user   constant   time  ccmp   constant  cqual   dataset  ccmp   constant   valu  ccmp   constant   expir squal   name  ccmp   constant  compon   tupl  attribut  valu ccmp           18', 'start point  proven graph', 'current model fall short  2 proven store string annot data  queri proven must pars string use particular system proven store one gener time  queri must written recurs  trace proven multipl prior queri', 'overview research conceptu model logic model exist platform  user view data  proven  simpl  familiar languag  data prov ', 'overview research conceptu model logic model exist platform  user view data  proven  simpl  familiar languag  data prov ', 'overview research conceptu model logic model exist platform  user view data  proven  simpl  familiar languag  data prov ', 'oper delet data provenanc ', 'simpl languag select data base proven ', 'languag extract proven ', 'select  r  tupl path  oper action   insert time    4  time   7  ', 'name id bob 8  9 sue 7 trust peopl deriv ', 'mmp trio proven select languag compar', 'implement feasibl identifi proven graph search oper  start point queri specifi input relat predic specifi tupl  attribut  valu encod predic graphql pattern tupl attribut select output least one relev proven graph select graphql', 'work progress conceptu model formal subset algebra structur compar express compar queri complex closur properti proof intermodel map logic model openend access via queri languag implement feasibl perform tradeoff studi 25', 'simpl proven queri goal  enabl select data proven approach  predic languag describ characterist proven path select project oper declar  procedur', 'trust order deriv ', 'current model fall short1 proven limit singl histori singl granular  mostli  queri dml   mostli  model store proven schema data annot store extra attribut creat clutter  requir special care prevent corrupt queri 5', 'conceptu model predic languag data select project base proven david w archer loi l delcambr depart comput scienc portland state univers', 'predic languag 1 selectionpred   tupl  predicatequalifi   data valu tupl  predicatequalifi   valu attribut  list  tupl  predicatequalifi  projectionpred   attribut  predicatequalifi   data valu attribut  predicatequalifi  predicatequalifi   path   pathqualifi    path   pathqualifi    andor   predicatequalifi  pathqualifi    compon     cqualset    oper   aqualset    sourc   squalset    pathqualifi    pathqualifi   beforeandor   pathqualifi   must agre compon type specifi selectionpred projectionpred', 'proven represent b c 1 5 8 tupl id b c  ac  r  r   r  c r  proven represent c lineag trio green 1 8   c        c   2a  ac 2a2  ac e 1 9   b  c    c     c    b  c   2c  ac  bc 2c2  ac  bc f 3 9  b  c    b    b  c   2b  bc 2b2  bc note  edg may includ queri  dml  ddl  dcl  order oper also evid ra rc rb sd se sf 28', 'simpl nonfirst normal relat ye ye ye ye ddl  dml  queri  confirmdoubt ye ye logic model conceptu model 27', 'backup materi', 'multigener proven ', 'multigranular proven ', 'multihistori proven ', 'reinsert connect ']\n",
      "\n",
      "Paper sentences for pair 2 : ['type data set opinion sentenc relat certain topic ', 'topic model  gener idea use unigram languag model  ie  multinomi word distribut  model topic ', 'order identifi multipl topic text  would fit mixtur model involv multipl multinomi distribut text data tri figur set paramet multipl word distribut maxim likelihood text data ', 'know equat 11', 'defin new problem opinion integr ', 'paper  use weblog data  method appli kind data contain opinion free text ', 'paper  use weblog data  method appli kind data contain opinion free text ', 'type data set opinion sentenc relat certain topic ', 'quantifi repres ordinari opinion sentenc  comput  support valu  extract ordinari opinion sentenc ', 'paper  use weblog data  method appli kind data contain opinion free text ', 'paper  use weblog data  method appli kind data contain opinion free text ', 'howev  larg scale inform sourc  quit challeng user integr digest opinion differ sourc ', 'expert opinion rel easi user access opinion search websit cnet ', 'topic model  gener idea use unigram languag model  ie  multinomi word distribut  model topic ', 'topic model  gener idea use unigram languag model  ie  multinomi word distribut  model topic ', 'topic model  gener idea use unigram languag model  ie  multinomi word distribut  model topic ', 'expert opinion rel easi user access opinion search websit cnet ', 'expert opinion rel easi user access opinion search websit cnet ', 'quantifi repres ordinari opinion sentenc  comput  support valu  extract ordinari opinion sentenc ', 'sinc expert review well written  keep origin form leverag structur organ ordinari opinion extract text ', 'cluster  get partit p   p1    p l  l  p c c constant paramet defin averag number sentenc cluster ', 'could start larg σj  say 5000   ie  start perfectli align opinion model  gradual decay em iter equat 7  stop decay σ j weight prior µ j threshold δ  say 05  ', 'achiev use repres opinion queri retriev sentenc r ', 'paper  use weblog data  method appli kind data contain opinion free text ', 'paper  use weblog data  method appli kind data contain opinion free text ', 'paper  use weblog data  method appli kind data contain opinion free text ', 'paper  use weblog data  method appli kind data contain opinion free text ', 'intuit  prior defin base expert review segment would tend make correspond languag model similar empir word distribut review segment  thu languag model would tend attract opinion sentenc c similar expert review segment ', 'sinc ordinari opinion tend redund primarili interest extract repres opinion  support use assess repres extract opinion ', 'last year  mei other propos mixtur model model facet opinion time  11  ', ' support13  cisco own trademark name  iphon  sinc 2000  acquir infogear technolog corp  origin regist name ', 'one repres sentenc p select similar sentenc cluster centroid  ie ', 'first select 5 review aspect 14 method identifi similar supplementari opinion  5 aspect  mix one similar opinion sever supplementari opinion  user suppos select one sentenc share similar opinion review aspect ', 'achiev use repres opinion queri retriev sentenc r ', 'one repres sentenc p select similar sentenc cluster centroid  ie ', 'order appli kind model integr problem  assum review segment correspond unigram languag model would captur opinion align review segment ', 'achiev use repres opinion queri retriev sentenc r ', 'map estim comput use essenti em algorithm present slightli differ updat formula compon languag model ', 'need two type data set evalu ', 'note randomli ', 'topic model  gener idea use unigram languag model  ie  multinomi word distribut  model topic ', 'web 20 applic becom increasingli popular  peopl express opinion web variou way custom review  forum  discuss group  weblog ', 'web 20 applic becom increasingli popular  peopl express opinion web variou way custom review  forum  discuss group  weblog ', 'web 20 applic becom increasingli popular  peopl express opinion web variou way custom review  forum  discuss group  weblog ', 'web 20 applic becom increasingli popular  peopl express opinion web variou way custom review  forum  discuss group  weblog ', 'web 20 applic becom increasingli popular  peopl express opinion web variou way custom review  forum  discuss group  weblog ']\n",
      "\n",
      "Presentation sentences for pair 3 : ['wwwopensolarisorgosprojectcrossbow 6 pseudo mac instanc  manag physic nic  per vnic stat  reus exist manag tool  link speed deriv configur bandwidth limit  highavail creat vnic link aggreg combin vnic ipmp group dedic pervnic hardwar kernel resourc data path passthrough  bump stack standard base endtoend network virtual  vlan tag prioriti flow control  pfc  assign vnic extend hardwar lane switch crossbow virtual nic  vnic ', 'wwwopensolarisorgosprojectcrossbow 7 crossbow virtual switch virtual switch creat implicitli time  2 vnic creat data link mac layer provid packet switch semant equival ethernet switch  data path vnic creat top data link  connect vnic physic network  per vlan broadcast domain  isol vlan vnic creat etherstub creat virtual switch independ hardwar', 'wwwopensolarisorgosprojectcrossbow 10 physic wire wphysic machin client router virtual wire wvirtual network machin host 1 host 2 port 6 20003 port 9 20001 port 3 10003 port 1 10001 port 2 10002 switch 3 switch 1 client router  virtual router  vnic6 20003 vnic9 20001 vnic3 10003 vnic1 10001 vnic2 10002 etherstub 3 etherstub 1 host 1 host 2', 'wwwopensolarisorgosprojectcrossbow 12 crossbow flow crossbow flow base follow attribut  servic  protocol  remoteloc port   transport  tcp  udp  sctp  iscsi  etc   ip address ip subnet  dscp label follow properti set flow  bandwidth limit  prioriti  cpu  flowadm createflow l bge0 protocoltcp  local_port443 p maxbw50m http1  flowadm setflowprop l bge0 p maxbw100m http1', 'wwwopensolarisorgosprojectcrossbow 9 virtual nic  virtual switch usag  dladm createvn l bge1 vnic1  dladm createvn l bge1 random p maxbw100m p cpus456 vnic2  dladm createetherstub vswitch1  dladm showetherstub link vswitch1  dladm createvn l vswitch1 p maxbw1000m vnic3  dladm showvnic link mactyp macvalu bandwidth cpu vnic1 bge1 factori 012345  vnic2 bge1 random 256789 max100m 456 vnic3 vswitch1 random 434701 max1000m  dladm createvn l ixgbe0 v 1055 p maxbw500m p cpus12 vnic9', 'wwwopensolarisorgosprojectcrossbow 8 crossbow virtual switch exampl nonglob zone ng0 nonglob zone ng1 virtual machin vnic0 vnic1 vnic2 vnic3 bge0 ip filter nat virtual switch global zone solari host', 'wwwopensolarisorgosprojectcrossbow 2 key issu network virtual fair polici base resourc share virtual environ  bandwidth  nic hardwar resourc includ rxtx descriptor  process cpu overhead due virtual  latenc  throughput manag  isol distribut applic  network fabric configur secur  new threat l2 network solv problem ', 'wwwopensolarisorgosprojectcrossbow 3 crossbow  solari network stack 8 year develop work achiev  scalabl across multicor cpu multi10gig bandwidth  virtual  qo  highavail design  exploit advanc nic featur key enabl  server network consolid  open network  cloud comput', 'wwwopensolarisorgosprojectcrossbow 5 hardwar lane dynam poll partit nic hardwar  rxtx ring  dma   kernel queuesthread  cpu allow creation hardwar lane assign vnic  flow use dynam poll rxtx ring schedul rate packet arriv transmiss per lane basi effect dynam poll mpstat  older driver  intr ithr csw icsw migr smtx srw syscl usr sy wt idl 10818 8607 4558 1547 161 1797 289 19112 17 69 0 12 mpstat  gldv3 base driver  intr ithr csw icsw migr smtx srw syscl usr sy wt idl 2823 1489 875 151 93 261 1 19825 15 57 0 27 75  fewer interrupt 85  fewer mutex 85  fewer ctx switch 15  cpu free', 'wwwopensolarisorgosprojectcrossbow 13 join us  beer  crossbow solari network bof  tonight 10301130pm  dover  b   present ben rockwood  joyent   vwire demo deepdiv discuss opensolari project commun  http  wwwopensolarisorgosprojectcrossbow  crossbowdiscuss  opensolarisorg  networkingdiscuss  opensolarisorg', 'wwwopensolarisorgosprojectcrossbow 11 virtual network machin virtual network machin  vnm  zone virtual machin associ set network function  rout  firewal  load balanc  etc  vnm dedic vnic   configur link speed  cpu multipl vnm run singl host  connect virtual privat network  etherstub  physic network use simul  consolid  test  etc', 'wwwopensolarisorgosprojectcrossbow 4 crossbow hardwar lane groundup design multicor multi10gig linear scalabl use hardwar lane  dedic resourc network virtual qo design stack effici due dynam poll packet chain  physic machinephys nic hardwar lane c l f e r virtual nic hardwar ringsdma kernel thread queue virtual nic kernel thread queue squeue hardwar ringsdma kernel thread queue virtual machinezon virtual machinezon applic switch vlan separ hardwar ringsdma', 'nicola droux  senior staff engin solari kernel network  sun microsystem inc nicolasdroux  suncom crossbow virtual wire  network box novemb 5th  2009 usenix lisa 09  baltimor  md sunay tripathi  nicola droux  kai belgai  shrikrishna khare', ' switch  l3l4 devic  host', 'nicola droux nicolasdroux  suncom solari kernel network crossbow virtual wire  network box']\n",
      "\n",
      "Paper sentences for pair 3 : ['link assign fresh  ', 'sideeffect permit object creat within librari method  provid escap ', 'use help port java program dpj languag write safe parallel program  16  ', 'analysi track flow method  manner similar intraprocedur pointer analysi ', 'link assign fresh  ', 'exampl ', ' problem ', 'rountev system design work incomplet program  26  ', 'assign data line 15 permit rule  1  ', 'let us recal first problem encount simpl puriti system  discuss 23  show method pure definit 1 requir two guarante ', 'link assign fresh  ', 'sinc determin use static type inform  may actual method invok  due dynam dispatch  ', 'start consid simpl puriti system surprisingli effect practic  crucial  employ modularli checkabl annot ', 'start consid simpl puriti system surprisingli effect practic  crucial  employ modularli checkabl annot ', 'start consid simpl puriti system surprisingli effect practic  crucial  employ modularli checkabl annot ']\n",
      "\n"
     ]
    }
   ],
   "source": [
    "presentation_sentences_list = []\n",
    "paper_sentences_list = []\n",
    "\n",
    "for pair in presentation_paper_pairs:\n",
    "    presentation_sentences = [sentences[0] for sentences in pair]\n",
    "    paper_sentences = [sublist[1] for sublist in pair]\n",
    "    presentation_sentences_list.append(presentation_sentences)\n",
    "    paper_sentences_list.append(paper_sentences)\n",
    "\n",
    "# Print the separated lists for each pair\n",
    "for i in range(3):\n",
    "    print(\"Presentation sentences for pair\", i+1, \":\", presentation_sentences_list[i])\n",
    "    print()\n",
    "    print(\"Paper sentences for pair\", i+1, \":\", paper_sentences_list[i])\n",
    "    print()"
   ],
   "metadata": {
    "collapsed": false
   }
  },
  {
   "cell_type": "code",
   "execution_count": 21,
   "outputs": [
    {
     "name": "stdout",
     "output_type": "stream",
     "text": [
      "18\n",
      "18\n"
     ]
    }
   ],
   "source": [
    "print(len(presentation_sentences_list[5]))\n",
    "print(len(presentation_sentences_list[5]))"
   ],
   "metadata": {
    "collapsed": false
   }
  },
  {
   "cell_type": "code",
   "execution_count": 23,
   "outputs": [
    {
     "name": "stderr",
     "output_type": "stream",
     "text": [
      "2024-04-11 20:38:37.390660: I tensorflow/core/common_runtime/executor.cc:1197] [/device:CPU:0] (DEBUG INFO) Executor start aborting (this does not indicate an error and you can ignore this message): INVALID_ARGUMENT: You must feed a value for placeholder tensor 'gradients/split_2_grad/concat/split_2/split_dim' with dtype int32\n",
      "\t [[{{node gradients/split_2_grad/concat/split_2/split_dim}}]]\n",
      "2024-04-11 20:38:37.391399: I tensorflow/core/common_runtime/executor.cc:1197] [/device:CPU:0] (DEBUG INFO) Executor start aborting (this does not indicate an error and you can ignore this message): INVALID_ARGUMENT: You must feed a value for placeholder tensor 'gradients/split_grad/concat/split/split_dim' with dtype int32\n",
      "\t [[{{node gradients/split_grad/concat/split/split_dim}}]]\n",
      "2024-04-11 20:38:37.392197: I tensorflow/core/common_runtime/executor.cc:1197] [/device:CPU:0] (DEBUG INFO) Executor start aborting (this does not indicate an error and you can ignore this message): INVALID_ARGUMENT: You must feed a value for placeholder tensor 'gradients/split_1_grad/concat/split_1/split_dim' with dtype int32\n",
      "\t [[{{node gradients/split_1_grad/concat/split_1/split_dim}}]]\n",
      "2024-04-11 20:38:37.470738: I tensorflow/core/common_runtime/executor.cc:1197] [/device:CPU:0] (DEBUG INFO) Executor start aborting (this does not indicate an error and you can ignore this message): INVALID_ARGUMENT: You must feed a value for placeholder tensor 'gradients/split_2_grad/concat/split_2/split_dim' with dtype int32\n",
      "\t [[{{node gradients/split_2_grad/concat/split_2/split_dim}}]]\n",
      "2024-04-11 20:38:37.471589: I tensorflow/core/common_runtime/executor.cc:1197] [/device:CPU:0] (DEBUG INFO) Executor start aborting (this does not indicate an error and you can ignore this message): INVALID_ARGUMENT: You must feed a value for placeholder tensor 'gradients/split_grad/concat/split/split_dim' with dtype int32\n",
      "\t [[{{node gradients/split_grad/concat/split/split_dim}}]]\n",
      "2024-04-11 20:38:37.472200: I tensorflow/core/common_runtime/executor.cc:1197] [/device:CPU:0] (DEBUG INFO) Executor start aborting (this does not indicate an error and you can ignore this message): INVALID_ARGUMENT: You must feed a value for placeholder tensor 'gradients/split_1_grad/concat/split_1/split_dim' with dtype int32\n",
      "\t [[{{node gradients/split_1_grad/concat/split_1/split_dim}}]]\n"
     ]
    }
   ],
   "source": [
    "model = load_model(\"best_model.h5\")"
   ],
   "metadata": {
    "collapsed": false
   }
  },
  {
   "cell_type": "code",
   "execution_count": 30,
   "outputs": [
    {
     "name": "stdout",
     "output_type": "stream",
     "text": [
      "['thank ', 'futur work debug tool develop run older newer version file system compar result older version file system repair simpl repair  copi data file system complex repair  recreat en file system tree micro repair ', 'hard work alreadi done us 30 differ disk base file system linux 26 file system use ', 'subsist  singl instanc store variant singl instanc store selecv merg data block block address si export virtual disk fse manag map  free space info ', 'corrupon data singl fs due bug  bit flip  storag stack corrupt data block merg n1 data block merg corrupt data block fix next read corrupon data block insid disk singl copi data differ code path differ ondisk structur envyf layer fs 2 fs n applicaon vf layer vdisk 1 vdisk 2 vdisk n read cach chash layer free space manag su b si st', 'summari result robust tradion file system vulner corrupon envyfs3 toler almost mistak one fs perform desktop workload  envyfs3 compar perform io intens workload  regular operaon  envyfs3  subsist accept perform memori pressur  envyfs3  subsist larg overhead', 'ext3 jf reiserf envyf envyfssi experiment setup amd opteron 22 ghz processor 2gb ram 80 gb hitachi deskstar 7200rpm sata disk linux 2612 4gb disk par  file system openssh benchmark perform evaluaon el ap se im e  ec n  file system cpu intens openssh 45 copi  untar make perform envyfs3 compar singl file system', 'file 1  36 imprecis vf specificaon  cont  inod number allocaon inod number return system call child file system issu differ inod number possibl soluon  forc file system use algorithm ', 'result robust tradion file system handl corrupon   4   envyfs3 toler 989  singl file system mistak perform desktop workload  envyfs3 compar perform io intens workload  normal mode  envyfs3  subsist accept perform memori pressur  envyfs3  subsist larg overhead poten debug tool fs develop pinpoint sourc failsil bug ext3', 'impracc  requir wide scale chang file system specificaon take year get accept leverag exisng specificaon ', 'ext3  jf  reiserf threevers fs other work without modificaon', 'disk b b b envyf layer block driver b reliabl evaluaon  fault injecon corrupon  bug fs  storag stack type disk block superblock  inod  block bitmap  file data  perform differ file op mount  stat  creat  unlink  read  report user visibl result result applic subsist except corruphon data block ex 3 jf r ei se rf pseudo devic driver vf b b b b typeawar fault injechon  prabhakaran05 ', 'base nversion program  avizienis77  nf server  rodrigues01   databas  vandiver07   secur  cox06  nversion file system envyf  simpl solwar layer store data n child file system operaon perform children reli simpl sowar layer challeng  reduc overhead retain reliabl subsist  novel singl instanc store envyf layer c h ild 1 c h ild 2 c h ild n disk driver disk si layer applicaon', 'bug inevit file system challeng  cope ', 'fs 1 disk handl data block corrupon ', 'file system today world modern file system complex ten thousand line code  eg  xf 45k loc  storag stack also gevng deeper hypervisor  network  logic volum manag need handl gamut failur memori allocaon  disk fault  bit flip  system crash preserv integr metadata user data', 'file system bug bug report linux 26 seri bugzilla ext3  64  jf  17  reiserf  38 fs corrupon caus perman data loss fs bug broadli classifi two categori failstop  system immedi crash soluon  nook  swi 04   curio  david08  failsil  accident corrupt ondisk state mani bug uncov  prabhakaran05  gunawi08  yang04  yang06b ', 'persist store disk envyf write n file system n data block merg 1 data block content hash store persist metadata block merg inter fs block intra fs envyf layer fs 1 fs 2 fs n applicaon vf layer vdisk 1 disk vdisk 2 vdisk n read cach chash layer free space manag su b si st', 'pain process high cost develop  long delay lucki ', 'outlin introducon build reliabl file system reduc overhead subsist evaluahon reliabl perform conclus', 'robust envyf recov child file system mistak ', 'poten bug isolaon ext3 envyfs3 ti e unlink corrupt inod  ext3_lookup  bug  ext3_unlink unmount  panic  ti e unlink corrupt inod  ext3_lookup  bug  ext3 inod match other op issu typic use  problem noce panic envyfs3  problem noce first child file system return wrong result', 'ext3 p h ra rs al se 1  ta   se 2  c h  ad ad lin k ge td ir en tr ie cr ea lin k kd ir n e sy lin k w ri te tr u n ca te rm ir u n lin k u n se 3  f sy n c  u u n inod dir bmap imap indirect data super jsuper gdesc data loss na mount op fail crash addion operaon fail  inod corrupon lead data loss unlink  system crash unmount e', 'jf p h ra rs al se 1 se 2 ad ad lin k ge td ir en tr ie cr ea lin k kd ir n e sy lin k w ri te tr u n ca te rm ir u n lin k u n se 3 u u n inod dir bmap imap intern data super jsuper jdata aggrinod imapdesc imapcntl normal data loss na mount op fail data corrupt crash readonli depend j', 'ext3 p h ra rs al se 1  ta   se 2  c h  ad ad lin k ge td ir en tr ie cr ea lin k kd ir n e sy lin k w ri te tr u n ca te rm ir u n lin k u n se 3  f sy n c  u u n inod dir bmap imap indirect data super jsuper gdesc normal data loss na mount op fail data corrupt crash readonli e depend e', 'advanc system lab  adsl  univers wisconsinmadison hxp  wwwcswisceduadsl', 'ext3 p h ra rs al se 1  ta   se 2  c h  ad ad lin k ge td ir en tr ie cr ea lin k kd ir n e sy lin k w ri te tr u n ca te rm ir u n lin k u n se 3  f sy n c  u u n inod dir bmap imap indirect data super jsuper gdesc result matrix normal data loss na mount op fail data corrupt crash readonli e depend e', 'outlin introducon build reliabl file system reduc overhead subsist evaluaon conclus', 'outlin introducon build reliabl file system reduc overhead subsist evaluaon conclus', 'outlin introducon build reliabl file system reduc overhead subsist evaluaon conclus', 'ext3 p h ra rs al se 1  ta   se 2  c h  ad ad lin k ge td ir en tr ie cr ea lin k kd ir n e sy lin k w ri te tr u n ca te rm ir u n lin k u n se 3  f sy n c  u u n inod dir bmap imap indirect data super jsuper gdesc data loss na readonli ext3 detect corrupon rmdir  unlink creat  mkdir  symlink caus ext3 reus inod  resulng data loss e', 'conclus bugsmistak inevit solwar must cope  hope avoid envyf  nversion approach tolerang fs bug built use exisng specificaon file system subsist  singl instanc store decreas overhead retain reliabl', 'ye  leverag vf  issu vf precis nversion purpos need handl case specificaon precis eg  order directori entri  inod number allocaon', 'nversion layer  envyf  insert beneath vf simpl design avoid bug exampl  read file alloc n data buffer read data block disk compar  data  return code  file posion return  data  return code issu  alloc memori read operaon extra copi alloc buffer applicaon comparison overhead compar wrapper inod map tabl applicaon vf layer ex t3 jf r ei se rf envyf layer read  file  1 block  read  file  1 block  read   read   read   f f f po  x po  x po  x err  err  err  disk err  err  tolerang filesystem mistak envyf', 'nversion system develop process  1 produc specificaon solwar 2 implemenng n version solwar 3 creang nversion layer execut differ version determin consensu result', 'envyfs3 p h ra rs al se 1 se 2 ad ad lin k ge td ir en tr ie cr ea lin k kd ir n e sy lin k w ri te tr u n ca te rm ir u n lin k u n se 3 u u n inod dir bmap imap intern data super jsuper jdata aggrinod imapdesc imapcntl normal na crash kernel panic envyfs3 e r j envyf', 'imprecis vf specificaon order directori entri issu  specifi return order cant blindli compar entri soluon  read entri directori  dir  test case  fse match entri fse return major result fs x fs fs z envyf layer file 1 file 2 file 3 dir  test file 2 file 3 file 1 dir  test dir  test file 1 file 2 file 3 readdir  test entri file 3 file 1 file 2 file 1 file 2 file 3 file 1 file 2 file 3 dir  test', 'ext3 p h ra rs al se 1  ta   se 2  c h  ad ad lin k ge td ir en tr ie cr ea lin k kd ir n e sy lin k w ri te tr u n ca te rm ir u n lin k u n se 3  f sy n c  u u n inod dir bmap imap indirect data super jsuper gdesc data loss na mount ext3 store mani superblock copi   handl superblock corrupon e', 'kernel panic ext3 p h ra rs al se 1  ta   se 2  c h  ad ad lin k ge td ir en tr ie cr ea lin k kd ir n e sy lin k w ri te tr u n ca te rm ir u n lin k u n se 3  f sy n c  u u n normal na inod dir bmap imap indirect data super jsuper gdesc envyfs3 work everi scenario 61809 tolerang filesystem mistak envyf 25 envyfs3 e r j envyf', 'postmark10k postmark100k postmark100k  ext3 jf reiserf envyf envyfssi io intens mimic busi mail server workload transacon  creat  delet  read  append  postmark configuraon 2500 file file size  4kb 40kb ', 'read file envyf soluon  applicaon buffer fs tcplike checksum data comparison compar  checksum  return code  file posion read data un  l major compar wrapper inod map tabl applicaon vf layer ex t3 jf r ei se rf envyf layer read  file  1 block  read  file  1 block  read   read   f f f po  x po  x err  err  err  fs 1  fs 2  fs n  checksum disk err  err  read   po  x', 'part 1 part 2 part n disk 1 disk 2 disk n disk case singl instanc storag  si  ideal  one disk per fs praccal  one disk fs overhead effec storag space  1n n me io  readwrit  challeng  maintain divers minim overhead envyf layer fs 1 fs 2 fs n applicaon vf layer disk req ', 'soluon  issu inod number envyf layer fs x fs fs z envyf layer dir  test dir  test dir  test file 1  10 file 1 65 file 1 10 file 2 15 file 3 16 file 2 04 file 3 44 file 1 36 file 1  inod map tabl file 3 99 file 1 65 file 2 43 inod number inod map tabl persist store', 'tolerang filesystem mistak envyf lakshmi n bairavasundaram netapp  inc swaminathan sundararaman andrea c arpacidusseau remzi h arpacidusseau univers wisconsin madison', 'virt  fs 1 fs 3 fs 2 ', '', 'queue', 'transacon  10k 100k postmark benchmark el ap se im e  ec n  envyfs3  8x  subsist  4x envyfs3  17x  subsist  115 ']\n",
      "3 thank adam paul suggest featur class \n"
     ]
    }
   ],
   "source": [
    "print(presentation_sentences_list[0])\n",
    "print(paper_sentences_list[0][0])"
   ],
   "metadata": {
    "collapsed": false
   }
  },
  {
   "cell_type": "code",
   "execution_count": 25,
   "outputs": [],
   "source": [
    "#TODO: tokenize and vectorize input data\n",
    "import pickle\n",
    "\n",
    "# Load the tokenizer object\n",
    "with open('tokenizer.pkl', 'rb') as f:\n",
    "    tokenizer = pickle.load(f)\n"
   ],
   "metadata": {
    "collapsed": false
   }
  },
  {
   "cell_type": "code",
   "execution_count": 31,
   "outputs": [
    {
     "name": "stdout",
     "output_type": "stream",
     "text": [
      "Size of Premise Inference Sequences: 48\n",
      "Size of Hypothesis Inference Sequences: 48\n"
     ]
    }
   ],
   "source": [
    "# Tokenize inference sentences using the loaded tokenizer\n",
    "inference_premise_sequences = tokenizer.texts_to_sequences(presentation_sentences_list[0])\n",
    "inference_hypothesis_sequences = tokenizer.texts_to_sequences(paper_sentences_list[0])\n",
    "\n",
    "# Pad the sequences to the same maximum sequence length\n",
    "inference_premise_sequences = pad_sequences(inference_premise_sequences, maxlen=45, padding='post')\n",
    "inference_hypothesis_sequences = pad_sequences(inference_hypothesis_sequences, maxlen=45, padding='post')\n",
    "\n",
    "# Print the size of inference sequences\n",
    "print(\"Size of Premise Inference Sequences:\", len(inference_premise_sequences))\n",
    "print(\"Size of Hypothesis Inference Sequences:\", len(inference_hypothesis_sequences))"
   ],
   "metadata": {
    "collapsed": false
   }
  },
  {
   "cell_type": "code",
   "execution_count": 46,
   "outputs": [
    {
     "name": "stdout",
     "output_type": "stream",
     "text": [
      "2/2 [==============================] - 0s 5ms/step\n",
      "[[0.05270668 0.41092962 0.5363636 ]\n",
      " [0.36244947 0.44154504 0.19600545]\n",
      " [0.36244947 0.44154504 0.19600545]\n",
      " [0.04072573 0.5585361  0.40073818]\n",
      " [0.0357815  0.6602722  0.30394632]\n",
      " [0.44055733 0.40984273 0.14959997]\n",
      " [0.36244947 0.44154504 0.19600545]\n",
      " [0.36244947 0.44154504 0.19600545]\n",
      " [0.44055733 0.40984273 0.14959997]\n",
      " [0.06903552 0.60474473 0.32621968]\n",
      " [0.04054331 0.72048444 0.23897228]\n",
      " [0.04809627 0.7215158  0.23038794]\n",
      " [0.57638747 0.26500243 0.15861017]\n",
      " [0.22449347 0.5176156  0.25789094]\n",
      " [0.0357815  0.6602722  0.30394632]\n",
      " [0.36244947 0.44154504 0.19600545]\n",
      " [0.36244947 0.44154504 0.19600545]\n",
      " [0.04809627 0.7215158  0.2303879 ]\n",
      " [0.02816491 0.704522   0.26731312]\n",
      " [0.02625869 0.8680804  0.10566093]\n",
      " [0.36244947 0.44154504 0.19600545]\n",
      " [0.1571911  0.5417155  0.30109337]\n",
      " [0.03578271 0.66028804 0.30392927]\n",
      " [0.03577476 0.6602885  0.3039367 ]\n",
      " [0.0357875  0.6602784  0.30393407]\n",
      " [0.36244947 0.44154504 0.19600545]\n",
      " [0.0357875  0.6602784  0.30393407]\n",
      " [0.04054331 0.72048444 0.23897228]\n",
      " [0.04054331 0.72048444 0.23897228]\n",
      " [0.04054331 0.72048444 0.23897228]\n",
      " [0.03578724 0.6602819  0.30393094]\n",
      " [0.04072573 0.5585361  0.40073818]\n",
      " [0.14657103 0.67660254 0.17682639]\n",
      " [0.02814952 0.70447993 0.26737058]\n",
      " [0.21911375 0.47194397 0.30894226]\n",
      " [0.256984   0.34667602 0.39633995]\n",
      " [0.0610412  0.702845   0.23611385]\n",
      " [0.2569214  0.34681863 0.39625996]\n",
      " [0.25699013 0.34665945 0.39635035]\n",
      " [0.30727673 0.41569686 0.27702647]\n",
      " [0.3624509  0.4415441  0.19600503]\n",
      " [0.03326833 0.64170885 0.3250229 ]\n",
      " [0.05940591 0.73256963 0.20802452]\n",
      " [0.04494996 0.75875974 0.1962903 ]\n",
      " [0.04494996 0.75875974 0.1962903 ]\n",
      " [0.04494996 0.75875974 0.1962903 ]\n",
      " [0.04494996 0.75875974 0.1962903 ]\n",
      " [0.04494996 0.75875974 0.1962903 ]]\n"
     ]
    }
   ],
   "source": [
    "probabilities = model.predict([inference_premise_sequences, inference_hypothesis_sequences])\n",
    "print(probabilities)"
   ],
   "metadata": {
    "collapsed": false
   }
  },
  {
   "cell_type": "code",
   "execution_count": 1,
   "outputs": [
    {
     "ename": "NameError",
     "evalue": "name 'probabilities' is not defined",
     "output_type": "error",
     "traceback": [
      "\u001B[0;31m---------------------------------------------------------------------------\u001B[0m",
      "\u001B[0;31mNameError\u001B[0m                                 Traceback (most recent call last)",
      "Cell \u001B[0;32mIn[1], line 1\u001B[0m\n\u001B[0;32m----> 1\u001B[0m \u001B[38;5;28mlen\u001B[39m(probabilities)\n",
      "\u001B[0;31mNameError\u001B[0m: name 'probabilities' is not defined"
     ]
    }
   ],
   "source": [
    "len(probabilities)"
   ],
   "metadata": {
    "collapsed": false
   }
  },
  {
   "cell_type": "code",
   "source": [
    "predicted_classes = np.argmax(probabilities, axis=1)\n",
    "\n",
    "# Step 3: Class Labels\n",
    "class_labels = [\"Entailment\", \"Neutral\", \"Contradictory\"]  # Replace with your actual class labels\n",
    "predicted_labels = [class_labels[idx] for idx in predicted_classes]\n",
    "\n",
    "# Print the predicted labels\n",
    "print(\"Predicted Labels:\", predicted_labels)"
   ],
   "metadata": {
    "id": "f6Ik2bemdb4Q",
    "ExecuteTime": {
     "end_time": "2024-04-10T00:38:28.715504Z",
     "start_time": "2024-04-10T00:38:28.711288Z"
    }
   },
   "outputs": [
    {
     "name": "stdout",
     "output_type": "stream",
     "text": [
      "Predicted Labels: ['Contradictory', 'Neutral', 'Neutral', 'Neutral', 'Neutral', 'Entailment', 'Neutral', 'Neutral', 'Entailment', 'Neutral', 'Neutral', 'Neutral', 'Entailment', 'Neutral', 'Neutral', 'Neutral', 'Neutral', 'Neutral', 'Neutral', 'Neutral', 'Neutral', 'Neutral', 'Neutral', 'Neutral', 'Neutral', 'Neutral', 'Neutral', 'Neutral', 'Neutral', 'Neutral', 'Neutral', 'Neutral', 'Neutral', 'Neutral', 'Neutral', 'Contradictory', 'Neutral', 'Contradictory', 'Contradictory', 'Neutral', 'Neutral', 'Neutral', 'Neutral', 'Neutral', 'Neutral', 'Neutral', 'Neutral', 'Neutral']\n"
     ]
    }
   ],
   "execution_count": 41
  },
  {
   "cell_type": "code",
   "source": [
    "# Count the occurrences of each label\n",
    "label_counts = {label: predicted_labels.count(label) for label in set(predicted_labels)}\n",
    "\n",
    "# Calculate the total count of all labels\n",
    "total_count = sum(label_counts.values())\n",
    "\n",
    "# Calculate the proportion of each label\n",
    "label_proportions = {label: count / total_count for label, count in label_counts.items()}\n",
    "\n",
    "# Define weights for each label\n",
    "label_weights = {\n",
    "    'Contradictory': 0,\n",
    "    'Neutral': 0.5,\n",
    "    'Entailment': 1\n",
    "}\n",
    "\n",
    "# Calculate the weighted sum of counts for all labels\n",
    "weighted_sum = sum(label_counts[label] * label_weights[label] for label in label_counts)\n",
    "\n",
    "# Normalize the weighted sum to range from 0 to 1\n",
    "normalized_weighted_sum = weighted_sum / (total_count * max(label_weights.values()))\n",
    "\n",
    "# Print the normalized weighted sum\n",
    "print(\"Normalized Weighted Sum of Label Counts:\", normalized_weighted_sum)\n",
    "\n",
    "# Print the label proportions\n",
    "print(\"Label Proportions:\", label_proportions)\n"
   ],
   "metadata": {
    "id": "BVLIYEZ7db4Q",
    "ExecuteTime": {
     "end_time": "2024-04-10T00:38:28.822426Z",
     "start_time": "2024-04-10T00:38:28.734952Z"
    }
   },
   "outputs": [
    {
     "name": "stdout",
     "output_type": "stream",
     "text": [
      "Normalized Weighted Sum of Label Counts: 0.4895833333333333\n",
      "Label Proportions: {'Neutral': 0.8541666666666666, 'Contradictory': 0.08333333333333333, 'Entailment': 0.0625}\n"
     ]
    }
   ],
   "execution_count": 62
  },
  {
   "cell_type": "code",
   "source": [
    "# Define the thresholds\n",
    "thresholds = {\n",
    "    'BAD': 0.33,\n",
    "    'GOOD': 0.66,\n",
    "    'GREAT': 1.0\n",
    "}\n",
    "\n",
    "# Determine the category based on the normalized weighted sum\n",
    "category = None\n",
    "for label, threshold in thresholds.items():\n",
    "    if normalized_weighted_sum <= threshold:\n",
    "        category = label\n",
    "        break\n",
    "\n",
    "# Print the category\n",
    "print(\"This presentation was a\", category, \"representation of this paper.\")\n"
   ],
   "metadata": {
    "id": "-p0GWz-uBhbU",
    "ExecuteTime": {
     "end_time": "2024-04-10T00:38:28.826097Z",
     "start_time": "2024-04-10T00:38:28.823430Z"
    }
   },
   "outputs": [
    {
     "name": "stdout",
     "output_type": "stream",
     "text": [
      "This presentation was a GOOD representation of this paper.\n"
     ]
    }
   ],
   "execution_count": 70
  }
 ],
 "metadata": {
  "kernelspec": {
   "display_name": "Python 3",
   "language": "python",
   "name": "python3"
  },
  "language_info": {
   "codemirror_mode": {
    "name": "ipython",
    "version": 2
   },
   "file_extension": ".py",
   "mimetype": "text/x-python",
   "name": "python",
   "nbconvert_exporter": "python",
   "pygments_lexer": "ipython2",
   "version": "2.7.6"
  },
  "colab": {
   "provenance": []
  }
 },
 "nbformat": 4,
 "nbformat_minor": 0
}
