{
 "cells": [
  {
   "cell_type": "code",
   "execution_count": 19,
   "metadata": {
    "collapsed": true
   },
   "outputs": [],
   "source": [
    "import utils\n",
    "import os\n",
    "import io\n",
    "from sklearn.metrics import accuracy_score, precision_score, recall_score, f1_score"
   ]
  },
  {
   "cell_type": "code",
   "execution_count": 27,
   "outputs": [
    {
     "name": "stdout",
     "output_type": "stream",
     "text": [
      "dict_keys([('data/paper_slides_data/raw_data/papers/1_paper.xml', 'data/paper_slides_data/raw_data/papers/2_paper.xml'), ('data/paper_slides_data/raw_data/papers/1_paper.xml', 'data/paper_slides_data/raw_data/papers/3_paper.xml'), ('data/paper_slides_data/raw_data/papers/2_paper.xml', 'data/paper_slides_data/raw_data/papers/3_paper.xml'), ('data/paper_slides_data/raw_data/papers/1_paper.xml', 'data/paper_slides_data/raw_data/papers/4_paper.xml'), ('data/paper_slides_data/raw_data/papers/2_paper.xml', 'data/paper_slides_data/raw_data/papers/4_paper.xml'), ('data/paper_slides_data/raw_data/papers/3_paper.xml', 'data/paper_slides_data/raw_data/papers/4_paper.xml'), ('data/paper_slides_data/raw_data/papers/1_paper.xml', 'data/paper_slides_data/raw_data/papers/5_paper.xml'), ('data/paper_slides_data/raw_data/papers/2_paper.xml', 'data/paper_slides_data/raw_data/papers/5_paper.xml'), ('data/paper_slides_data/raw_data/papers/3_paper.xml', 'data/paper_slides_data/raw_data/papers/5_paper.xml'), ('data/paper_slides_data/raw_data/papers/4_paper.xml', 'data/paper_slides_data/raw_data/papers/5_paper.xml'), ('data/paper_slides_data/raw_data/papers/1_paper.xml', 'data/paper_slides_data/raw_data/papers/6_paper.xml'), ('data/paper_slides_data/raw_data/papers/2_paper.xml', 'data/paper_slides_data/raw_data/papers/6_paper.xml'), ('data/paper_slides_data/raw_data/papers/3_paper.xml', 'data/paper_slides_data/raw_data/papers/6_paper.xml'), ('data/paper_slides_data/raw_data/papers/4_paper.xml', 'data/paper_slides_data/raw_data/papers/6_paper.xml'), ('data/paper_slides_data/raw_data/papers/5_paper.xml', 'data/paper_slides_data/raw_data/papers/6_paper.xml'), ('data/paper_slides_data/raw_data/papers/1_paper.xml', 'data/paper_slides_data/raw_data/papers/7_paper.xml'), ('data/paper_slides_data/raw_data/papers/2_paper.xml', 'data/paper_slides_data/raw_data/papers/7_paper.xml'), ('data/paper_slides_data/raw_data/papers/3_paper.xml', 'data/paper_slides_data/raw_data/papers/7_paper.xml'), ('data/paper_slides_data/raw_data/papers/4_paper.xml', 'data/paper_slides_data/raw_data/papers/7_paper.xml'), ('data/paper_slides_data/raw_data/papers/5_paper.xml', 'data/paper_slides_data/raw_data/papers/7_paper.xml'), ('data/paper_slides_data/raw_data/papers/6_paper.xml', 'data/paper_slides_data/raw_data/papers/7_paper.xml'), ('data/paper_slides_data/raw_data/papers/1_paper.xml', 'data/paper_slides_data/raw_data/papers/8_paper.xml'), ('data/paper_slides_data/raw_data/papers/2_paper.xml', 'data/paper_slides_data/raw_data/papers/8_paper.xml'), ('data/paper_slides_data/raw_data/papers/3_paper.xml', 'data/paper_slides_data/raw_data/papers/8_paper.xml'), ('data/paper_slides_data/raw_data/papers/4_paper.xml', 'data/paper_slides_data/raw_data/papers/8_paper.xml'), ('data/paper_slides_data/raw_data/papers/5_paper.xml', 'data/paper_slides_data/raw_data/papers/8_paper.xml'), ('data/paper_slides_data/raw_data/papers/6_paper.xml', 'data/paper_slides_data/raw_data/papers/8_paper.xml'), ('data/paper_slides_data/raw_data/papers/7_paper.xml', 'data/paper_slides_data/raw_data/papers/8_paper.xml'), ('data/paper_slides_data/raw_data/papers/1_paper.xml', 'data/paper_slides_data/raw_data/papers/9_paper.xml'), ('data/paper_slides_data/raw_data/papers/2_paper.xml', 'data/paper_slides_data/raw_data/papers/9_paper.xml'), ('data/paper_slides_data/raw_data/papers/3_paper.xml', 'data/paper_slides_data/raw_data/papers/9_paper.xml'), ('data/paper_slides_data/raw_data/papers/4_paper.xml', 'data/paper_slides_data/raw_data/papers/9_paper.xml'), ('data/paper_slides_data/raw_data/papers/5_paper.xml', 'data/paper_slides_data/raw_data/papers/9_paper.xml'), ('data/paper_slides_data/raw_data/papers/6_paper.xml', 'data/paper_slides_data/raw_data/papers/9_paper.xml'), ('data/paper_slides_data/raw_data/papers/7_paper.xml', 'data/paper_slides_data/raw_data/papers/9_paper.xml'), ('data/paper_slides_data/raw_data/papers/8_paper.xml', 'data/paper_slides_data/raw_data/papers/9_paper.xml'), ('data/paper_slides_data/raw_data/papers/1_paper.xml', 'data/paper_slides_data/raw_data/papers/10_paper.xml'), ('data/paper_slides_data/raw_data/papers/2_paper.xml', 'data/paper_slides_data/raw_data/papers/10_paper.xml'), ('data/paper_slides_data/raw_data/papers/3_paper.xml', 'data/paper_slides_data/raw_data/papers/10_paper.xml'), ('data/paper_slides_data/raw_data/papers/4_paper.xml', 'data/paper_slides_data/raw_data/papers/10_paper.xml'), ('data/paper_slides_data/raw_data/papers/5_paper.xml', 'data/paper_slides_data/raw_data/papers/10_paper.xml'), ('data/paper_slides_data/raw_data/papers/6_paper.xml', 'data/paper_slides_data/raw_data/papers/10_paper.xml'), ('data/paper_slides_data/raw_data/papers/7_paper.xml', 'data/paper_slides_data/raw_data/papers/10_paper.xml'), ('data/paper_slides_data/raw_data/papers/8_paper.xml', 'data/paper_slides_data/raw_data/papers/10_paper.xml'), ('data/paper_slides_data/raw_data/papers/9_paper.xml', 'data/paper_slides_data/raw_data/papers/10_paper.xml'), ('data/paper_slides_data/raw_data/papers/1_paper.xml', 'data/paper_slides_data/raw_data/papers/11_paper.xml'), ('data/paper_slides_data/raw_data/papers/2_paper.xml', 'data/paper_slides_data/raw_data/papers/11_paper.xml'), ('data/paper_slides_data/raw_data/papers/3_paper.xml', 'data/paper_slides_data/raw_data/papers/11_paper.xml'), ('data/paper_slides_data/raw_data/papers/4_paper.xml', 'data/paper_slides_data/raw_data/papers/11_paper.xml'), ('data/paper_slides_data/raw_data/papers/5_paper.xml', 'data/paper_slides_data/raw_data/papers/11_paper.xml'), ('data/paper_slides_data/raw_data/papers/6_paper.xml', 'data/paper_slides_data/raw_data/papers/11_paper.xml'), ('data/paper_slides_data/raw_data/papers/7_paper.xml', 'data/paper_slides_data/raw_data/papers/11_paper.xml'), ('data/paper_slides_data/raw_data/papers/8_paper.xml', 'data/paper_slides_data/raw_data/papers/11_paper.xml'), ('data/paper_slides_data/raw_data/papers/9_paper.xml', 'data/paper_slides_data/raw_data/papers/11_paper.xml'), ('data/paper_slides_data/raw_data/papers/10_paper.xml', 'data/paper_slides_data/raw_data/papers/11_paper.xml'), ('data/paper_slides_data/raw_data/papers/1_paper.xml', 'data/paper_slides_data/raw_data/papers/12_paper.xml'), ('data/paper_slides_data/raw_data/papers/2_paper.xml', 'data/paper_slides_data/raw_data/papers/12_paper.xml'), ('data/paper_slides_data/raw_data/papers/3_paper.xml', 'data/paper_slides_data/raw_data/papers/12_paper.xml'), ('data/paper_slides_data/raw_data/papers/4_paper.xml', 'data/paper_slides_data/raw_data/papers/12_paper.xml'), ('data/paper_slides_data/raw_data/papers/5_paper.xml', 'data/paper_slides_data/raw_data/papers/12_paper.xml'), ('data/paper_slides_data/raw_data/papers/6_paper.xml', 'data/paper_slides_data/raw_data/papers/12_paper.xml'), ('data/paper_slides_data/raw_data/papers/7_paper.xml', 'data/paper_slides_data/raw_data/papers/12_paper.xml'), ('data/paper_slides_data/raw_data/papers/8_paper.xml', 'data/paper_slides_data/raw_data/papers/12_paper.xml'), ('data/paper_slides_data/raw_data/papers/9_paper.xml', 'data/paper_slides_data/raw_data/papers/12_paper.xml'), ('data/paper_slides_data/raw_data/papers/10_paper.xml', 'data/paper_slides_data/raw_data/papers/12_paper.xml'), ('data/paper_slides_data/raw_data/papers/11_paper.xml', 'data/paper_slides_data/raw_data/papers/12_paper.xml'), ('data/paper_slides_data/raw_data/papers/1_paper.xml', 'data/paper_slides_data/raw_data/papers/13_paper.xml'), ('data/paper_slides_data/raw_data/papers/2_paper.xml', 'data/paper_slides_data/raw_data/papers/13_paper.xml'), ('data/paper_slides_data/raw_data/papers/3_paper.xml', 'data/paper_slides_data/raw_data/papers/13_paper.xml'), ('data/paper_slides_data/raw_data/papers/4_paper.xml', 'data/paper_slides_data/raw_data/papers/13_paper.xml'), ('data/paper_slides_data/raw_data/papers/5_paper.xml', 'data/paper_slides_data/raw_data/papers/13_paper.xml'), ('data/paper_slides_data/raw_data/papers/6_paper.xml', 'data/paper_slides_data/raw_data/papers/13_paper.xml'), ('data/paper_slides_data/raw_data/papers/7_paper.xml', 'data/paper_slides_data/raw_data/papers/13_paper.xml'), ('data/paper_slides_data/raw_data/papers/8_paper.xml', 'data/paper_slides_data/raw_data/papers/13_paper.xml'), ('data/paper_slides_data/raw_data/papers/9_paper.xml', 'data/paper_slides_data/raw_data/papers/13_paper.xml'), ('data/paper_slides_data/raw_data/papers/10_paper.xml', 'data/paper_slides_data/raw_data/papers/13_paper.xml'), ('data/paper_slides_data/raw_data/papers/11_paper.xml', 'data/paper_slides_data/raw_data/papers/13_paper.xml'), ('data/paper_slides_data/raw_data/papers/12_paper.xml', 'data/paper_slides_data/raw_data/papers/13_paper.xml'), ('data/paper_slides_data/raw_data/papers/1_paper.xml', 'data/paper_slides_data/raw_data/papers/14_paper.xml'), ('data/paper_slides_data/raw_data/papers/2_paper.xml', 'data/paper_slides_data/raw_data/papers/14_paper.xml'), ('data/paper_slides_data/raw_data/papers/3_paper.xml', 'data/paper_slides_data/raw_data/papers/14_paper.xml'), ('data/paper_slides_data/raw_data/papers/4_paper.xml', 'data/paper_slides_data/raw_data/papers/14_paper.xml'), ('data/paper_slides_data/raw_data/papers/5_paper.xml', 'data/paper_slides_data/raw_data/papers/14_paper.xml'), ('data/paper_slides_data/raw_data/papers/6_paper.xml', 'data/paper_slides_data/raw_data/papers/14_paper.xml'), ('data/paper_slides_data/raw_data/papers/7_paper.xml', 'data/paper_slides_data/raw_data/papers/14_paper.xml'), ('data/paper_slides_data/raw_data/papers/8_paper.xml', 'data/paper_slides_data/raw_data/papers/14_paper.xml'), ('data/paper_slides_data/raw_data/papers/9_paper.xml', 'data/paper_slides_data/raw_data/papers/14_paper.xml'), ('data/paper_slides_data/raw_data/papers/10_paper.xml', 'data/paper_slides_data/raw_data/papers/14_paper.xml'), ('data/paper_slides_data/raw_data/papers/11_paper.xml', 'data/paper_slides_data/raw_data/papers/14_paper.xml'), ('data/paper_slides_data/raw_data/papers/12_paper.xml', 'data/paper_slides_data/raw_data/papers/14_paper.xml'), ('data/paper_slides_data/raw_data/papers/13_paper.xml', 'data/paper_slides_data/raw_data/papers/14_paper.xml'), ('data/paper_slides_data/raw_data/papers/1_paper.xml', 'data/paper_slides_data/raw_data/papers/15_paper.xml'), ('data/paper_slides_data/raw_data/papers/2_paper.xml', 'data/paper_slides_data/raw_data/papers/15_paper.xml'), ('data/paper_slides_data/raw_data/papers/3_paper.xml', 'data/paper_slides_data/raw_data/papers/15_paper.xml'), ('data/paper_slides_data/raw_data/papers/4_paper.xml', 'data/paper_slides_data/raw_data/papers/15_paper.xml'), ('data/paper_slides_data/raw_data/papers/5_paper.xml', 'data/paper_slides_data/raw_data/papers/15_paper.xml'), ('data/paper_slides_data/raw_data/papers/6_paper.xml', 'data/paper_slides_data/raw_data/papers/15_paper.xml'), ('data/paper_slides_data/raw_data/papers/7_paper.xml', 'data/paper_slides_data/raw_data/papers/15_paper.xml'), ('data/paper_slides_data/raw_data/papers/8_paper.xml', 'data/paper_slides_data/raw_data/papers/15_paper.xml'), ('data/paper_slides_data/raw_data/papers/9_paper.xml', 'data/paper_slides_data/raw_data/papers/15_paper.xml'), ('data/paper_slides_data/raw_data/papers/10_paper.xml', 'data/paper_slides_data/raw_data/papers/15_paper.xml'), ('data/paper_slides_data/raw_data/papers/11_paper.xml', 'data/paper_slides_data/raw_data/papers/15_paper.xml'), ('data/paper_slides_data/raw_data/papers/12_paper.xml', 'data/paper_slides_data/raw_data/papers/15_paper.xml'), ('data/paper_slides_data/raw_data/papers/13_paper.xml', 'data/paper_slides_data/raw_data/papers/15_paper.xml'), ('data/paper_slides_data/raw_data/papers/14_paper.xml', 'data/paper_slides_data/raw_data/papers/15_paper.xml'), ('data/paper_slides_data/raw_data/papers/1_paper.xml', 'data/paper_slides_data/raw_data/papers/16_paper.xml'), ('data/paper_slides_data/raw_data/papers/2_paper.xml', 'data/paper_slides_data/raw_data/papers/16_paper.xml'), ('data/paper_slides_data/raw_data/papers/3_paper.xml', 'data/paper_slides_data/raw_data/papers/16_paper.xml'), ('data/paper_slides_data/raw_data/papers/4_paper.xml', 'data/paper_slides_data/raw_data/papers/16_paper.xml'), ('data/paper_slides_data/raw_data/papers/5_paper.xml', 'data/paper_slides_data/raw_data/papers/16_paper.xml'), ('data/paper_slides_data/raw_data/papers/6_paper.xml', 'data/paper_slides_data/raw_data/papers/16_paper.xml'), ('data/paper_slides_data/raw_data/papers/7_paper.xml', 'data/paper_slides_data/raw_data/papers/16_paper.xml'), ('data/paper_slides_data/raw_data/papers/8_paper.xml', 'data/paper_slides_data/raw_data/papers/16_paper.xml'), ('data/paper_slides_data/raw_data/papers/9_paper.xml', 'data/paper_slides_data/raw_data/papers/16_paper.xml'), ('data/paper_slides_data/raw_data/papers/10_paper.xml', 'data/paper_slides_data/raw_data/papers/16_paper.xml'), ('data/paper_slides_data/raw_data/papers/11_paper.xml', 'data/paper_slides_data/raw_data/papers/16_paper.xml'), ('data/paper_slides_data/raw_data/papers/12_paper.xml', 'data/paper_slides_data/raw_data/papers/16_paper.xml'), ('data/paper_slides_data/raw_data/papers/13_paper.xml', 'data/paper_slides_data/raw_data/papers/16_paper.xml'), ('data/paper_slides_data/raw_data/papers/14_paper.xml', 'data/paper_slides_data/raw_data/papers/16_paper.xml'), ('data/paper_slides_data/raw_data/papers/15_paper.xml', 'data/paper_slides_data/raw_data/papers/16_paper.xml'), ('data/paper_slides_data/raw_data/papers/1_paper.xml', 'data/paper_slides_data/raw_data/papers/17_paper.xml'), ('data/paper_slides_data/raw_data/papers/2_paper.xml', 'data/paper_slides_data/raw_data/papers/17_paper.xml'), ('data/paper_slides_data/raw_data/papers/3_paper.xml', 'data/paper_slides_data/raw_data/papers/17_paper.xml'), ('data/paper_slides_data/raw_data/papers/4_paper.xml', 'data/paper_slides_data/raw_data/papers/17_paper.xml'), ('data/paper_slides_data/raw_data/papers/5_paper.xml', 'data/paper_slides_data/raw_data/papers/17_paper.xml'), ('data/paper_slides_data/raw_data/papers/6_paper.xml', 'data/paper_slides_data/raw_data/papers/17_paper.xml'), ('data/paper_slides_data/raw_data/papers/7_paper.xml', 'data/paper_slides_data/raw_data/papers/17_paper.xml'), ('data/paper_slides_data/raw_data/papers/8_paper.xml', 'data/paper_slides_data/raw_data/papers/17_paper.xml'), ('data/paper_slides_data/raw_data/papers/9_paper.xml', 'data/paper_slides_data/raw_data/papers/17_paper.xml'), ('data/paper_slides_data/raw_data/papers/10_paper.xml', 'data/paper_slides_data/raw_data/papers/17_paper.xml'), ('data/paper_slides_data/raw_data/papers/11_paper.xml', 'data/paper_slides_data/raw_data/papers/17_paper.xml'), ('data/paper_slides_data/raw_data/papers/12_paper.xml', 'data/paper_slides_data/raw_data/papers/17_paper.xml'), ('data/paper_slides_data/raw_data/papers/13_paper.xml', 'data/paper_slides_data/raw_data/papers/17_paper.xml'), ('data/paper_slides_data/raw_data/papers/14_paper.xml', 'data/paper_slides_data/raw_data/papers/17_paper.xml'), ('data/paper_slides_data/raw_data/papers/15_paper.xml', 'data/paper_slides_data/raw_data/papers/17_paper.xml'), ('data/paper_slides_data/raw_data/papers/16_paper.xml', 'data/paper_slides_data/raw_data/papers/17_paper.xml'), ('data/paper_slides_data/raw_data/papers/1_paper.xml', 'data/paper_slides_data/raw_data/papers/18_paper.xml'), ('data/paper_slides_data/raw_data/papers/2_paper.xml', 'data/paper_slides_data/raw_data/papers/18_paper.xml'), ('data/paper_slides_data/raw_data/papers/3_paper.xml', 'data/paper_slides_data/raw_data/papers/18_paper.xml'), ('data/paper_slides_data/raw_data/papers/4_paper.xml', 'data/paper_slides_data/raw_data/papers/18_paper.xml'), ('data/paper_slides_data/raw_data/papers/5_paper.xml', 'data/paper_slides_data/raw_data/papers/18_paper.xml'), ('data/paper_slides_data/raw_data/papers/6_paper.xml', 'data/paper_slides_data/raw_data/papers/18_paper.xml'), ('data/paper_slides_data/raw_data/papers/7_paper.xml', 'data/paper_slides_data/raw_data/papers/18_paper.xml'), ('data/paper_slides_data/raw_data/papers/8_paper.xml', 'data/paper_slides_data/raw_data/papers/18_paper.xml'), ('data/paper_slides_data/raw_data/papers/9_paper.xml', 'data/paper_slides_data/raw_data/papers/18_paper.xml'), ('data/paper_slides_data/raw_data/papers/10_paper.xml', 'data/paper_slides_data/raw_data/papers/18_paper.xml'), ('data/paper_slides_data/raw_data/papers/11_paper.xml', 'data/paper_slides_data/raw_data/papers/18_paper.xml'), ('data/paper_slides_data/raw_data/papers/12_paper.xml', 'data/paper_slides_data/raw_data/papers/18_paper.xml'), ('data/paper_slides_data/raw_data/papers/13_paper.xml', 'data/paper_slides_data/raw_data/papers/18_paper.xml'), ('data/paper_slides_data/raw_data/papers/14_paper.xml', 'data/paper_slides_data/raw_data/papers/18_paper.xml'), ('data/paper_slides_data/raw_data/papers/15_paper.xml', 'data/paper_slides_data/raw_data/papers/18_paper.xml'), ('data/paper_slides_data/raw_data/papers/16_paper.xml', 'data/paper_slides_data/raw_data/papers/18_paper.xml'), ('data/paper_slides_data/raw_data/papers/17_paper.xml', 'data/paper_slides_data/raw_data/papers/18_paper.xml'), ('data/paper_slides_data/raw_data/papers/1_paper.xml', 'data/paper_slides_data/raw_data/papers/19_paper.xml'), ('data/paper_slides_data/raw_data/papers/2_paper.xml', 'data/paper_slides_data/raw_data/papers/19_paper.xml'), ('data/paper_slides_data/raw_data/papers/3_paper.xml', 'data/paper_slides_data/raw_data/papers/19_paper.xml'), ('data/paper_slides_data/raw_data/papers/4_paper.xml', 'data/paper_slides_data/raw_data/papers/19_paper.xml'), ('data/paper_slides_data/raw_data/papers/5_paper.xml', 'data/paper_slides_data/raw_data/papers/19_paper.xml'), ('data/paper_slides_data/raw_data/papers/6_paper.xml', 'data/paper_slides_data/raw_data/papers/19_paper.xml'), ('data/paper_slides_data/raw_data/papers/7_paper.xml', 'data/paper_slides_data/raw_data/papers/19_paper.xml'), ('data/paper_slides_data/raw_data/papers/8_paper.xml', 'data/paper_slides_data/raw_data/papers/19_paper.xml'), ('data/paper_slides_data/raw_data/papers/9_paper.xml', 'data/paper_slides_data/raw_data/papers/19_paper.xml'), ('data/paper_slides_data/raw_data/papers/10_paper.xml', 'data/paper_slides_data/raw_data/papers/19_paper.xml'), ('data/paper_slides_data/raw_data/papers/11_paper.xml', 'data/paper_slides_data/raw_data/papers/19_paper.xml'), ('data/paper_slides_data/raw_data/papers/12_paper.xml', 'data/paper_slides_data/raw_data/papers/19_paper.xml'), ('data/paper_slides_data/raw_data/papers/13_paper.xml', 'data/paper_slides_data/raw_data/papers/19_paper.xml'), ('data/paper_slides_data/raw_data/papers/14_paper.xml', 'data/paper_slides_data/raw_data/papers/19_paper.xml'), ('data/paper_slides_data/raw_data/papers/15_paper.xml', 'data/paper_slides_data/raw_data/papers/19_paper.xml'), ('data/paper_slides_data/raw_data/papers/16_paper.xml', 'data/paper_slides_data/raw_data/papers/19_paper.xml'), ('data/paper_slides_data/raw_data/papers/17_paper.xml', 'data/paper_slides_data/raw_data/papers/19_paper.xml'), ('data/paper_slides_data/raw_data/papers/18_paper.xml', 'data/paper_slides_data/raw_data/papers/19_paper.xml'), ('data/paper_slides_data/raw_data/papers/1_paper.xml', 'data/paper_slides_data/raw_data/papers/20_paper.xml'), ('data/paper_slides_data/raw_data/papers/2_paper.xml', 'data/paper_slides_data/raw_data/papers/20_paper.xml'), ('data/paper_slides_data/raw_data/papers/3_paper.xml', 'data/paper_slides_data/raw_data/papers/20_paper.xml'), ('data/paper_slides_data/raw_data/papers/4_paper.xml', 'data/paper_slides_data/raw_data/papers/20_paper.xml'), ('data/paper_slides_data/raw_data/papers/5_paper.xml', 'data/paper_slides_data/raw_data/papers/20_paper.xml'), ('data/paper_slides_data/raw_data/papers/6_paper.xml', 'data/paper_slides_data/raw_data/papers/20_paper.xml'), ('data/paper_slides_data/raw_data/papers/7_paper.xml', 'data/paper_slides_data/raw_data/papers/20_paper.xml'), ('data/paper_slides_data/raw_data/papers/8_paper.xml', 'data/paper_slides_data/raw_data/papers/20_paper.xml'), ('data/paper_slides_data/raw_data/papers/9_paper.xml', 'data/paper_slides_data/raw_data/papers/20_paper.xml'), ('data/paper_slides_data/raw_data/papers/10_paper.xml', 'data/paper_slides_data/raw_data/papers/20_paper.xml'), ('data/paper_slides_data/raw_data/papers/11_paper.xml', 'data/paper_slides_data/raw_data/papers/20_paper.xml'), ('data/paper_slides_data/raw_data/papers/12_paper.xml', 'data/paper_slides_data/raw_data/papers/20_paper.xml'), ('data/paper_slides_data/raw_data/papers/13_paper.xml', 'data/paper_slides_data/raw_data/papers/20_paper.xml'), ('data/paper_slides_data/raw_data/papers/14_paper.xml', 'data/paper_slides_data/raw_data/papers/20_paper.xml'), ('data/paper_slides_data/raw_data/papers/15_paper.xml', 'data/paper_slides_data/raw_data/papers/20_paper.xml'), ('data/paper_slides_data/raw_data/papers/16_paper.xml', 'data/paper_slides_data/raw_data/papers/20_paper.xml'), ('data/paper_slides_data/raw_data/papers/17_paper.xml', 'data/paper_slides_data/raw_data/papers/20_paper.xml'), ('data/paper_slides_data/raw_data/papers/18_paper.xml', 'data/paper_slides_data/raw_data/papers/20_paper.xml'), ('data/paper_slides_data/raw_data/papers/19_paper.xml', 'data/paper_slides_data/raw_data/papers/20_paper.xml')])\n"
     ]
    }
   ],
   "source": [
    "print(utils.papers_manually_matched.keys())"
   ],
   "metadata": {
    "collapsed": false
   }
  },
  {
   "cell_type": "code",
   "execution_count": 28,
   "outputs": [],
   "source": [
    "file_paths = []\n",
    "\n",
    "# Iterate over each pair of keys in the dictionary\n",
    "for presentation_file, paper_file in utils.papers_manually_matched.keys():\n",
    "    presentation_path = os.path.join(presentation_file)\n",
    "    paper_path = os.path.join(paper_file)\n",
    "\n",
    "    file_paths.append((presentation_path, paper_path))"
   ],
   "metadata": {
    "collapsed": false
   }
  },
  {
   "cell_type": "code",
   "execution_count": 29,
   "outputs": [
    {
     "name": "stdout",
     "output_type": "stream",
     "text": [
      "data/paper_slides_data/raw_data/papers/1_paper.xml\n"
     ]
    }
   ],
   "source": [
    "print(file_paths[0][0])"
   ],
   "metadata": {
    "collapsed": false
   }
  },
  {
   "cell_type": "code",
   "execution_count": 30,
   "outputs": [
    {
     "name": "stdout",
     "output_type": "stream",
     "text": [
      "data/paper_slides_data/raw_data/papers/1_paper.xml\n"
     ]
    }
   ],
   "source": [
    "print(file_paths[0][0])"
   ],
   "metadata": {
    "collapsed": false
   }
  },
  {
   "cell_type": "code",
   "execution_count": 31,
   "outputs": [
    {
     "ename": "AttributeError",
     "evalue": "'str' object has no attribute 'read'",
     "output_type": "error",
     "traceback": [
      "\u001B[0;31m---------------------------------------------------------------------------\u001B[0m",
      "\u001B[0;31mAttributeError\u001B[0m                            Traceback (most recent call last)",
      "Cell \u001B[0;32mIn[31], line 14\u001B[0m\n\u001B[1;32m      7\u001B[0m \u001B[38;5;66;03m# Iterate over each pair of files\u001B[39;00m\n\u001B[1;32m      8\u001B[0m \u001B[38;5;28;01mfor\u001B[39;00m presentation_file, paper_file \u001B[38;5;129;01min\u001B[39;00m file_paths:\n\u001B[1;32m      9\u001B[0m \n\u001B[1;32m     10\u001B[0m     \u001B[38;5;66;03m# paper_file_content = open(paper_file, \"rb\").read()\u001B[39;00m\n\u001B[1;32m     11\u001B[0m     \u001B[38;5;66;03m# presentation_file_content = open(presentation_file, \"rb\").read()\u001B[39;00m\n\u001B[1;32m     12\u001B[0m \n\u001B[1;32m     13\u001B[0m     \u001B[38;5;66;03m# Call the first prediction function and store the prediction\u001B[39;00m\n\u001B[0;32m---> 14\u001B[0m     predicted_label_1 \u001B[38;5;241m=\u001B[39m utils\u001B[38;5;241m.\u001B[39mpredict_LSTM_RNN(presentation_file, paper_file)\n\u001B[1;32m     15\u001B[0m     predicted_labels_1\u001B[38;5;241m.\u001B[39mappend(predicted_label_1)\n\u001B[1;32m     16\u001B[0m     \u001B[38;5;66;03m#\u001B[39;00m\n\u001B[1;32m     17\u001B[0m     \u001B[38;5;66;03m# # Call the second prediction function and store the prediction\u001B[39;00m\n",
      "File \u001B[0;32m~/Coding/Jupyter/NLP/final/utils.py:347\u001B[0m, in \u001B[0;36mpredict_LSTM_RNN\u001B[0;34m(paper_file, presentation_file)\u001B[0m\n\u001B[1;32m    346\u001B[0m \u001B[38;5;28;01mdef\u001B[39;00m \u001B[38;5;21mpredict_LSTM_RNN\u001B[39m(paper_file, presentation_file):\n\u001B[0;32m--> 347\u001B[0m     paper_data, presentation_data \u001B[38;5;241m=\u001B[39m combine_data(paper_file, presentation_file)\n\u001B[1;32m    349\u001B[0m     presentation_paper_pairs \u001B[38;5;241m=\u001B[39m []\n\u001B[1;32m    350\u001B[0m     presentation_flat \u001B[38;5;241m=\u001B[39m [sentence \u001B[38;5;28;01mfor\u001B[39;00m sublist \u001B[38;5;129;01min\u001B[39;00m presentation_data \u001B[38;5;28;01mfor\u001B[39;00m sentence \u001B[38;5;129;01min\u001B[39;00m sublist]\n",
      "File \u001B[0;32m~/Coding/Jupyter/NLP/final/utils.py:488\u001B[0m, in \u001B[0;36mcombine_data\u001B[0;34m(paper_file, presentation_file)\u001B[0m\n\u001B[1;32m    485\u001B[0m \u001B[38;5;28;01mdef\u001B[39;00m \u001B[38;5;21mcombine_data\u001B[39m(paper_file, presentation_file):\n\u001B[1;32m    486\u001B[0m     \u001B[38;5;66;03m# paper_file = paper_file.read()\u001B[39;00m\n\u001B[1;32m    487\u001B[0m     \u001B[38;5;66;03m# presentation_file = presentation_file.read()\u001B[39;00m\n\u001B[0;32m--> 488\u001B[0m     paper_data \u001B[38;5;241m=\u001B[39m process_file(paper_file, parse_paper_xml, preprocess_text)\n\u001B[1;32m    489\u001B[0m     presentation_data \u001B[38;5;241m=\u001B[39m process_file(presentation_file, parse_presentation_xml, preprocess_text)\n\u001B[1;32m    491\u001B[0m     \u001B[38;5;66;03m# combined_data = {\"paper\": paper_data, \"presentation\": presentation_data}\u001B[39;00m\n",
      "File \u001B[0;32m~/Coding/Jupyter/NLP/final/utils.py:479\u001B[0m, in \u001B[0;36mprocess_file\u001B[0;34m(file_path, parse_func, preprocess_func)\u001B[0m\n\u001B[1;32m    478\u001B[0m \u001B[38;5;28;01mdef\u001B[39;00m \u001B[38;5;21mprocess_file\u001B[39m(file_path, parse_func, preprocess_func):\n\u001B[0;32m--> 479\u001B[0m     file_content \u001B[38;5;241m=\u001B[39m file_path\u001B[38;5;241m.\u001B[39mread()\n\u001B[1;32m    480\u001B[0m     parsed_data \u001B[38;5;241m=\u001B[39m parse_func(file_content)\n\u001B[1;32m    481\u001B[0m     preprocessed_data \u001B[38;5;241m=\u001B[39m preprocess_func(parsed_data)\n",
      "\u001B[0;31mAttributeError\u001B[0m: 'str' object has no attribute 'read'"
     ]
    }
   ],
   "source": [
    "# Lists to store predicted labels for each prediction function\n",
    "predicted_labels_1 = []\n",
    "predicted_labels_2 = []\n",
    "# predicted_labels_3 = []\n",
    "ground_truth_labels = list(utils.papers_manually_matched.values())\n",
    "\n",
    "# Iterate over each pair of files\n",
    "for presentation_file, paper_file in file_paths:\n",
    "\n",
    "    # paper_file_content = open(paper_file, \"rb\").read()\n",
    "    # presentation_file_content = open(presentation_file, \"rb\").read()\n",
    "\n",
    "    # Call the first prediction function and store the prediction\n",
    "    predicted_label_1 = utils.predict_LSTM_RNN(presentation_file, paper_file)\n",
    "    predicted_labels_1.append(predicted_label_1)\n",
    "    #\n",
    "    # # Call the second prediction function and store the prediction\n",
    "    predicted_label_2 = utils.predict_log_reg(presentation_file, paper_file)\n",
    "    predicted_labels_2.append(predicted_label_2)\n",
    "\n",
    "    # Call the third prediction function and store the prediction\n",
    "    # predicted_label_3 = utils.predict_transformer(presentation_file, paper_file)\n",
    "    # predicted_labels_3.append(predicted_label_3)\n",
    "\n",
    "# Display the predicted labels for each prediction function\n",
    "print(\"Predicted labels using Prediction Function 1:\", predicted_labels_1)\n",
    "print(\"Predicted labels using Prediction Function 2:\", predicted_labels_2)\n",
    "# print(\"Predicted labels using Prediction Function 3:\", predicted_labels_3)\n",
    "print(\"Ground truth labels using human evaluation:\", ground_truth_labels)"
   ],
   "metadata": {
    "collapsed": false
   }
  },
  {
   "cell_type": "code",
   "execution_count": null,
   "outputs": [],
   "source": [
    "accuracy_1 = accuracy_score(ground_truth_labels, predicted_labels_1)\n",
    "precision_1 = precision_score(ground_truth_labels, predicted_labels_1)\n",
    "recall_1 = recall_score(ground_truth_labels, predicted_labels_1)\n",
    "f1_1 = f1_score(ground_truth_labels, predicted_labels_1)\n",
    "\n",
    "accuracy_2 = accuracy_score(ground_truth_labels, predicted_labels_2)\n",
    "precision_2 = precision_score(ground_truth_labels, predicted_labels_2)\n",
    "recall_2 = recall_score(ground_truth_labels, predicted_labels_2)\n",
    "f1_2 = f1_score(ground_truth_labels, predicted_labels_2)\n",
    "\n",
    "# accuracy_3 = accuracy_score(ground_truth_labels, predicted_labels_3)\n",
    "# precision_3 = precision_score(ground_truth_labels, predicted_labels_3)\n",
    "# recall_3 = recall_score(ground_truth_labels, predicted_labels_3)\n",
    "# f1_3 = f1_score(ground_truth_labels, predicted_labels_3)"
   ],
   "metadata": {
    "collapsed": false
   }
  },
  {
   "cell_type": "code",
   "execution_count": null,
   "outputs": [],
   "source": [
    "print(\"Metrics for Prediction Function 1:\")\n",
    "print(\"Accuracy:\", accuracy_1)\n",
    "print(\"Precision:\", precision_1)\n",
    "print(\"Recall:\", recall_1)\n",
    "print(\"F1-score:\", f1_1)\n",
    "\n",
    "print(\"\\nMetrics for Prediction Function 2:\")\n",
    "print(\"Accuracy:\", accuracy_2)\n",
    "print(\"Precision:\", precision_2)\n",
    "print(\"Recall:\", recall_2)\n",
    "print(\"F1-score:\", f1_2)\n",
    "\n",
    "# print(\"\\nMetrics for Prediction Function 3:\")\n",
    "# print(\"Accuracy:\", accuracy_3)\n",
    "# print(\"Precision:\", precision_3)\n",
    "# print(\"Recall:\", recall_3)\n",
    "# print(\"F1-score:\", f1_3)"
   ],
   "metadata": {
    "collapsed": false
   }
  }
 ],
 "metadata": {
  "kernelspec": {
   "display_name": "Python 3",
   "language": "python",
   "name": "python3"
  },
  "language_info": {
   "codemirror_mode": {
    "name": "ipython",
    "version": 2
   },
   "file_extension": ".py",
   "mimetype": "text/x-python",
   "name": "python",
   "nbconvert_exporter": "python",
   "pygments_lexer": "ipython2",
   "version": "2.7.6"
  }
 },
 "nbformat": 4,
 "nbformat_minor": 0
}
