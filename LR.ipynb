{
 "cells": [
  {
   "cell_type": "code",
   "source": [
    "!pip install datasets\n",
    "!pip install evaluate\n",
    "!pip install tokenizers\n",
    "!pip install transformers\n",
    "!pip install bs4\n",
    "!pip install lxml"
   ],
   "metadata": {
    "colab": {
     "base_uri": "https://localhost:8080/"
    },
    "id": "E5eWlFMrgojZ",
    "outputId": "3c4706a2-652c-4d64-9a0a-a94f8ed55712",
    "ExecuteTime": {
     "end_time": "2024-04-10T00:38:28.361549Z",
     "start_time": "2024-04-10T00:38:15.649587Z"
    }
   },
   "outputs": [
    {
     "name": "stdout",
     "output_type": "stream",
     "text": [
      "Requirement already satisfied: datasets in /Users/joshuasegal/anaconda3/lib/python3.11/site-packages (2.12.0)\r\n",
      "Requirement already satisfied: numpy>=1.17 in /Users/joshuasegal/anaconda3/lib/python3.11/site-packages (from datasets) (1.23.5)\r\n",
      "Requirement already satisfied: pyarrow>=8.0.0 in /Users/joshuasegal/anaconda3/lib/python3.11/site-packages (from datasets) (11.0.0)\r\n",
      "Requirement already satisfied: dill<0.3.7,>=0.3.0 in /Users/joshuasegal/anaconda3/lib/python3.11/site-packages (from datasets) (0.3.6)\r\n",
      "Requirement already satisfied: pandas in /Users/joshuasegal/anaconda3/lib/python3.11/site-packages (from datasets) (2.0.3)\r\n",
      "Requirement already satisfied: requests>=2.19.0 in /Users/joshuasegal/anaconda3/lib/python3.11/site-packages (from datasets) (2.31.0)\r\n",
      "Requirement already satisfied: tqdm>=4.62.1 in /Users/joshuasegal/anaconda3/lib/python3.11/site-packages (from datasets) (4.65.0)\r\n",
      "Requirement already satisfied: xxhash in /Users/joshuasegal/anaconda3/lib/python3.11/site-packages (from datasets) (2.0.2)\r\n",
      "Requirement already satisfied: multiprocess in /Users/joshuasegal/anaconda3/lib/python3.11/site-packages (from datasets) (0.70.14)\r\n",
      "Requirement already satisfied: fsspec[http]>=2021.11.1 in /Users/joshuasegal/anaconda3/lib/python3.11/site-packages (from datasets) (2023.4.0)\r\n",
      "Requirement already satisfied: aiohttp in /Users/joshuasegal/anaconda3/lib/python3.11/site-packages (from datasets) (3.8.5)\r\n",
      "Requirement already satisfied: huggingface-hub<1.0.0,>=0.11.0 in /Users/joshuasegal/anaconda3/lib/python3.11/site-packages (from datasets) (0.15.1)\r\n",
      "Requirement already satisfied: packaging in /Users/joshuasegal/anaconda3/lib/python3.11/site-packages (from datasets) (23.1)\r\n",
      "Requirement already satisfied: responses<0.19 in /Users/joshuasegal/anaconda3/lib/python3.11/site-packages (from datasets) (0.13.3)\r\n",
      "Requirement already satisfied: pyyaml>=5.1 in /Users/joshuasegal/anaconda3/lib/python3.11/site-packages (from datasets) (6.0)\r\n",
      "Requirement already satisfied: attrs>=17.3.0 in /Users/joshuasegal/anaconda3/lib/python3.11/site-packages (from aiohttp->datasets) (22.1.0)\r\n",
      "Requirement already satisfied: charset-normalizer<4.0,>=2.0 in /Users/joshuasegal/anaconda3/lib/python3.11/site-packages (from aiohttp->datasets) (2.0.4)\r\n",
      "Requirement already satisfied: multidict<7.0,>=4.5 in /Users/joshuasegal/anaconda3/lib/python3.11/site-packages (from aiohttp->datasets) (6.0.2)\r\n",
      "Requirement already satisfied: async-timeout<5.0,>=4.0.0a3 in /Users/joshuasegal/anaconda3/lib/python3.11/site-packages (from aiohttp->datasets) (4.0.2)\r\n",
      "Requirement already satisfied: yarl<2.0,>=1.0 in /Users/joshuasegal/anaconda3/lib/python3.11/site-packages (from aiohttp->datasets) (1.8.1)\r\n",
      "Requirement already satisfied: frozenlist>=1.1.1 in /Users/joshuasegal/anaconda3/lib/python3.11/site-packages (from aiohttp->datasets) (1.3.3)\r\n",
      "Requirement already satisfied: aiosignal>=1.1.2 in /Users/joshuasegal/anaconda3/lib/python3.11/site-packages (from aiohttp->datasets) (1.2.0)\r\n",
      "Requirement already satisfied: filelock in /Users/joshuasegal/anaconda3/lib/python3.11/site-packages (from huggingface-hub<1.0.0,>=0.11.0->datasets) (3.9.0)\r\n",
      "Requirement already satisfied: typing-extensions>=3.7.4.3 in /Users/joshuasegal/anaconda3/lib/python3.11/site-packages (from huggingface-hub<1.0.0,>=0.11.0->datasets) (4.7.1)\r\n",
      "Requirement already satisfied: idna<4,>=2.5 in /Users/joshuasegal/anaconda3/lib/python3.11/site-packages (from requests>=2.19.0->datasets) (3.4)\r\n",
      "Requirement already satisfied: urllib3<3,>=1.21.1 in /Users/joshuasegal/anaconda3/lib/python3.11/site-packages (from requests>=2.19.0->datasets) (1.26.16)\r\n",
      "Requirement already satisfied: certifi>=2017.4.17 in /Users/joshuasegal/anaconda3/lib/python3.11/site-packages (from requests>=2.19.0->datasets) (2024.2.2)\r\n",
      "Requirement already satisfied: six in /Users/joshuasegal/anaconda3/lib/python3.11/site-packages (from responses<0.19->datasets) (1.16.0)\r\n",
      "Requirement already satisfied: python-dateutil>=2.8.2 in /Users/joshuasegal/anaconda3/lib/python3.11/site-packages (from pandas->datasets) (2.8.2)\r\n",
      "Requirement already satisfied: pytz>=2020.1 in /Users/joshuasegal/anaconda3/lib/python3.11/site-packages (from pandas->datasets) (2023.3.post1)\r\n",
      "Requirement already satisfied: tzdata>=2022.1 in /Users/joshuasegal/anaconda3/lib/python3.11/site-packages (from pandas->datasets) (2023.3)\r\n",
      "Requirement already satisfied: evaluate in /Users/joshuasegal/anaconda3/lib/python3.11/site-packages (0.4.0)\r\n",
      "Requirement already satisfied: datasets>=2.0.0 in /Users/joshuasegal/anaconda3/lib/python3.11/site-packages (from evaluate) (2.12.0)\r\n",
      "Requirement already satisfied: numpy>=1.17 in /Users/joshuasegal/anaconda3/lib/python3.11/site-packages (from evaluate) (1.23.5)\r\n",
      "Requirement already satisfied: dill in /Users/joshuasegal/anaconda3/lib/python3.11/site-packages (from evaluate) (0.3.6)\r\n",
      "Requirement already satisfied: pandas in /Users/joshuasegal/anaconda3/lib/python3.11/site-packages (from evaluate) (2.0.3)\r\n",
      "Requirement already satisfied: requests>=2.19.0 in /Users/joshuasegal/anaconda3/lib/python3.11/site-packages (from evaluate) (2.31.0)\r\n",
      "Requirement already satisfied: tqdm>=4.62.1 in /Users/joshuasegal/anaconda3/lib/python3.11/site-packages (from evaluate) (4.65.0)\r\n",
      "Requirement already satisfied: xxhash in /Users/joshuasegal/anaconda3/lib/python3.11/site-packages (from evaluate) (2.0.2)\r\n",
      "Requirement already satisfied: multiprocess in /Users/joshuasegal/anaconda3/lib/python3.11/site-packages (from evaluate) (0.70.14)\r\n",
      "Requirement already satisfied: fsspec[http]>=2021.05.0 in /Users/joshuasegal/anaconda3/lib/python3.11/site-packages (from evaluate) (2023.4.0)\r\n",
      "Requirement already satisfied: huggingface-hub>=0.7.0 in /Users/joshuasegal/anaconda3/lib/python3.11/site-packages (from evaluate) (0.15.1)\r\n",
      "Requirement already satisfied: packaging in /Users/joshuasegal/anaconda3/lib/python3.11/site-packages (from evaluate) (23.1)\r\n",
      "Requirement already satisfied: responses<0.19 in /Users/joshuasegal/anaconda3/lib/python3.11/site-packages (from evaluate) (0.13.3)\r\n",
      "Requirement already satisfied: pyarrow>=8.0.0 in /Users/joshuasegal/anaconda3/lib/python3.11/site-packages (from datasets>=2.0.0->evaluate) (11.0.0)\r\n",
      "Requirement already satisfied: aiohttp in /Users/joshuasegal/anaconda3/lib/python3.11/site-packages (from datasets>=2.0.0->evaluate) (3.8.5)\r\n",
      "Requirement already satisfied: pyyaml>=5.1 in /Users/joshuasegal/anaconda3/lib/python3.11/site-packages (from datasets>=2.0.0->evaluate) (6.0)\r\n",
      "Requirement already satisfied: filelock in /Users/joshuasegal/anaconda3/lib/python3.11/site-packages (from huggingface-hub>=0.7.0->evaluate) (3.9.0)\r\n",
      "Requirement already satisfied: typing-extensions>=3.7.4.3 in /Users/joshuasegal/anaconda3/lib/python3.11/site-packages (from huggingface-hub>=0.7.0->evaluate) (4.7.1)\r\n",
      "Requirement already satisfied: charset-normalizer<4,>=2 in /Users/joshuasegal/anaconda3/lib/python3.11/site-packages (from requests>=2.19.0->evaluate) (2.0.4)\r\n",
      "Requirement already satisfied: idna<4,>=2.5 in /Users/joshuasegal/anaconda3/lib/python3.11/site-packages (from requests>=2.19.0->evaluate) (3.4)\r\n",
      "Requirement already satisfied: urllib3<3,>=1.21.1 in /Users/joshuasegal/anaconda3/lib/python3.11/site-packages (from requests>=2.19.0->evaluate) (1.26.16)\r\n",
      "Requirement already satisfied: certifi>=2017.4.17 in /Users/joshuasegal/anaconda3/lib/python3.11/site-packages (from requests>=2.19.0->evaluate) (2024.2.2)\r\n",
      "Requirement already satisfied: six in /Users/joshuasegal/anaconda3/lib/python3.11/site-packages (from responses<0.19->evaluate) (1.16.0)\r\n",
      "Requirement already satisfied: python-dateutil>=2.8.2 in /Users/joshuasegal/anaconda3/lib/python3.11/site-packages (from pandas->evaluate) (2.8.2)\r\n",
      "Requirement already satisfied: pytz>=2020.1 in /Users/joshuasegal/anaconda3/lib/python3.11/site-packages (from pandas->evaluate) (2023.3.post1)\r\n",
      "Requirement already satisfied: tzdata>=2022.1 in /Users/joshuasegal/anaconda3/lib/python3.11/site-packages (from pandas->evaluate) (2023.3)\r\n",
      "Requirement already satisfied: attrs>=17.3.0 in /Users/joshuasegal/anaconda3/lib/python3.11/site-packages (from aiohttp->datasets>=2.0.0->evaluate) (22.1.0)\r\n",
      "Requirement already satisfied: multidict<7.0,>=4.5 in /Users/joshuasegal/anaconda3/lib/python3.11/site-packages (from aiohttp->datasets>=2.0.0->evaluate) (6.0.2)\r\n",
      "Requirement already satisfied: async-timeout<5.0,>=4.0.0a3 in /Users/joshuasegal/anaconda3/lib/python3.11/site-packages (from aiohttp->datasets>=2.0.0->evaluate) (4.0.2)\r\n",
      "Requirement already satisfied: yarl<2.0,>=1.0 in /Users/joshuasegal/anaconda3/lib/python3.11/site-packages (from aiohttp->datasets>=2.0.0->evaluate) (1.8.1)\r\n",
      "Requirement already satisfied: frozenlist>=1.1.1 in /Users/joshuasegal/anaconda3/lib/python3.11/site-packages (from aiohttp->datasets>=2.0.0->evaluate) (1.3.3)\r\n",
      "Requirement already satisfied: aiosignal>=1.1.2 in /Users/joshuasegal/anaconda3/lib/python3.11/site-packages (from aiohttp->datasets>=2.0.0->evaluate) (1.2.0)\r\n",
      "Requirement already satisfied: tokenizers in /Users/joshuasegal/anaconda3/lib/python3.11/site-packages (0.13.2)\r\n",
      "Requirement already satisfied: transformers in /Users/joshuasegal/anaconda3/lib/python3.11/site-packages (4.32.1)\r\n",
      "Requirement already satisfied: filelock in /Users/joshuasegal/anaconda3/lib/python3.11/site-packages (from transformers) (3.9.0)\r\n",
      "Requirement already satisfied: huggingface-hub<1.0,>=0.15.1 in /Users/joshuasegal/anaconda3/lib/python3.11/site-packages (from transformers) (0.15.1)\r\n",
      "Requirement already satisfied: numpy>=1.17 in /Users/joshuasegal/anaconda3/lib/python3.11/site-packages (from transformers) (1.23.5)\r\n",
      "Requirement already satisfied: packaging>=20.0 in /Users/joshuasegal/anaconda3/lib/python3.11/site-packages (from transformers) (23.1)\r\n",
      "Requirement already satisfied: pyyaml>=5.1 in /Users/joshuasegal/anaconda3/lib/python3.11/site-packages (from transformers) (6.0)\r\n",
      "Requirement already satisfied: regex!=2019.12.17 in /Users/joshuasegal/anaconda3/lib/python3.11/site-packages (from transformers) (2022.7.9)\r\n",
      "Requirement already satisfied: requests in /Users/joshuasegal/anaconda3/lib/python3.11/site-packages (from transformers) (2.31.0)\r\n",
      "Requirement already satisfied: tokenizers!=0.11.3,<0.14,>=0.11.1 in /Users/joshuasegal/anaconda3/lib/python3.11/site-packages (from transformers) (0.13.2)\r\n",
      "Requirement already satisfied: safetensors>=0.3.1 in /Users/joshuasegal/anaconda3/lib/python3.11/site-packages (from transformers) (0.3.2)\r\n",
      "Requirement already satisfied: tqdm>=4.27 in /Users/joshuasegal/anaconda3/lib/python3.11/site-packages (from transformers) (4.65.0)\r\n",
      "Requirement already satisfied: fsspec in /Users/joshuasegal/anaconda3/lib/python3.11/site-packages (from huggingface-hub<1.0,>=0.15.1->transformers) (2023.4.0)\r\n",
      "Requirement already satisfied: typing-extensions>=3.7.4.3 in /Users/joshuasegal/anaconda3/lib/python3.11/site-packages (from huggingface-hub<1.0,>=0.15.1->transformers) (4.7.1)\r\n",
      "Requirement already satisfied: charset-normalizer<4,>=2 in /Users/joshuasegal/anaconda3/lib/python3.11/site-packages (from requests->transformers) (2.0.4)\r\n",
      "Requirement already satisfied: idna<4,>=2.5 in /Users/joshuasegal/anaconda3/lib/python3.11/site-packages (from requests->transformers) (3.4)\r\n",
      "Requirement already satisfied: urllib3<3,>=1.21.1 in /Users/joshuasegal/anaconda3/lib/python3.11/site-packages (from requests->transformers) (1.26.16)\r\n",
      "Requirement already satisfied: certifi>=2017.4.17 in /Users/joshuasegal/anaconda3/lib/python3.11/site-packages (from requests->transformers) (2024.2.2)\r\n",
      "Requirement already satisfied: bs4 in /Users/joshuasegal/anaconda3/lib/python3.11/site-packages (0.0.2)\r\n",
      "Requirement already satisfied: beautifulsoup4 in /Users/joshuasegal/anaconda3/lib/python3.11/site-packages (from bs4) (4.12.2)\r\n",
      "Requirement already satisfied: soupsieve>1.2 in /Users/joshuasegal/anaconda3/lib/python3.11/site-packages (from beautifulsoup4->bs4) (2.4)\r\n",
      "Requirement already satisfied: lxml in /Users/joshuasegal/anaconda3/lib/python3.11/site-packages (4.9.3)\r\n"
     ]
    }
   ],
   "execution_count": 1
  },
  {
   "cell_type": "code",
   "source": [
    "import utils as utils\n",
    "from gensim.models import Word2Vec\n",
    "from sklearn.model_selection import train_test_split\n",
    "from sklearn.linear_model import LogisticRegression\n",
    "from sklearn.feature_extraction.text import TfidfVectorizer\n",
    "from sklearn.metrics import accuracy_score\n",
    "from keras.preprocessing.text import Tokenizer\n",
    "import os\n",
    "from datasets import Dataset\n",
    "from transformers.keras_callbacks import KerasMetricCallback, PushToHubCallback\n",
    "import numpy as np\n",
    "import evaluate\n",
    "from transformers import create_optimizer, AutoTokenizer, TFAutoModelForSequenceClassification, DataCollatorWithPadding\n",
    "import nltk\n",
    "nltk.download('punkt')"
   ],
   "metadata": {
    "colab": {
     "base_uri": "https://localhost:8080/"
    },
    "id": "67eu0djHdb4N",
    "outputId": "fd234abb-2c3f-45c2-bfc0-14b5970b2495",
    "ExecuteTime": {
     "end_time": "2024-04-10T00:38:28.369154Z",
     "start_time": "2024-04-10T00:38:28.363098Z"
    }
   },
   "outputs": [
    {
     "name": "stderr",
     "output_type": "stream",
     "text": [
      "[nltk_data] Downloading package stopwords to\n",
      "[nltk_data]     /Users/joshuasegal/nltk_data...\n",
      "[nltk_data]   Package stopwords is already up-to-date!\n",
      "[nltk_data] Downloading package punkt to\n",
      "[nltk_data]     /Users/joshuasegal/nltk_data...\n",
      "[nltk_data]   Package punkt is already up-to-date!\n"
     ]
    },
    {
     "data": {
      "text/plain": "True"
     },
     "execution_count": 2,
     "metadata": {},
     "output_type": "execute_result"
    }
   ],
   "execution_count": 2
  },
  {
   "cell_type": "code",
   "source": [
    "# dataset_path = 'dataset'\n",
    "# papers_path = 'papers'\n",
    "# presentations_path = 'presentations'\n",
    "#\n",
    "# utils.move_xml_files(dataset_path, papers_path, presentations_path)"
   ],
   "metadata": {
    "id": "S2bstsijdb4O",
    "ExecuteTime": {
     "end_time": "2024-04-10T00:38:28.377348Z",
     "start_time": "2024-04-10T00:38:28.370316Z"
    }
   },
   "outputs": [],
   "execution_count": 3
  },
  {
   "cell_type": "code",
   "source": [
    "sample_xml_pres_path = \"sample_data/presentations/slide.clean_tika.xml\"\n",
    "sample_xml_pres = utils.read_file(sample_xml_pres_path)\n",
    "sample_xml_pres\n",
    "\n",
    "sample_xml_paper_path = \"sample_data/papers/Paper_BRM.tei.xml\"\n",
    "sample_xml_paper = utils.read_file(sample_xml_paper_path)\n",
    "sample_xml_paper"
   ],
   "metadata": {
    "colab": {
     "base_uri": "https://localhost:8080/"
    },
    "id": "vvKeerpSdb4P",
    "outputId": "c5566859-b849-49c0-a03f-53012d93c89c",
    "ExecuteTime": {
     "end_time": "2024-04-10T00:38:28.387989Z",
     "start_time": "2024-04-10T00:38:28.378404Z"
    }
   },
   "outputs": [
    {
     "data": {
      "text/plain": "'<?xml version=\"1.0\" encoding=\"UTF-8\"?>\\n<TEI xmlns=\"http://www.tei-c.org/ns/1.0\" \\nxmlns:xsi=\"http://www.w3.org/2001/XMLSchema-instance\" \\nxsi:schemaLocation=\"http://www.tei-c.org/ns/1.0 /Users/atharsefid/Desktop/grobid-0.5.3/grobid-home/schemas/xsd/Grobid.xsd\"\\n xmlns:xlink=\"http://www.w3.org/1999/xlink\">\\n\\t<teiHeader xml:lang=\"en\">\\n\\t\\t<encodingDesc>\\n\\t\\t\\t<appInfo>\\n\\t\\t\\t\\t<application version=\"0.5.3\" ident=\"GROBID\" when=\"2019-03-26T16:26+0000\">\\n\\t\\t\\t\\t\\t<ref target=\"https://github.com/kermitt2/grobid\">GROBID - A machine learning software for extracting information from scholarly documents</ref>\\n\\t\\t\\t\\t</application>\\n\\t\\t\\t</appInfo>\\n\\t\\t</encodingDesc>\\n\\t\\t<fileDesc>\\n\\t\\t\\t<titleStmt>\\n\\t\\t\\t\\t<title level=\"a\" type=\"main\">Best-Response Mechanisms</title>\\n\\t\\t\\t</titleStmt>\\n\\t\\t\\t<publicationStmt>\\n\\t\\t\\t\\t<publisher/>\\n\\t\\t\\t\\t<availability status=\"unknown\"><licence/></availability>\\n\\t\\t\\t</publicationStmt>\\n\\t\\t\\t<sourceDesc>\\n\\t\\t\\t\\t<biblStruct>\\n\\t\\t\\t\\t\\t<analytic>\\n\\t\\t\\t\\t\\t\\t<author>\\n\\t\\t\\t\\t\\t\\t\\t<persName xmlns=\"http://www.tei-c.org/ns/1.0\"><forename type=\"first\">Noam</forename><surname>Nisan</surname></persName>\\n\\t\\t\\t\\t\\t\\t\\t<affiliation key=\"aff0\">\\n\\t\\t\\t\\t\\t\\t\\t\\t<orgName type=\"department\">School of Eng. and Computer Science</orgName>\\n\\t\\t\\t\\t\\t\\t\\t\\t<orgName type=\"institution\">The Hebrew University of Jerusalem</orgName>\\n\\t\\t\\t\\t\\t\\t\\t</affiliation>\\n\\t\\t\\t\\t\\t\\t</author>\\n\\t\\t\\t\\t\\t\\t<author>\\n\\t\\t\\t\\t\\t\\t\\t<persName xmlns=\"http://www.tei-c.org/ns/1.0\"><forename type=\"first\">Michael</forename><surname>Schapira</surname></persName>\\n\\t\\t\\t\\t\\t\\t\\t<affiliation key=\"aff1\">\\n\\t\\t\\t\\t\\t\\t\\t\\t<orgName type=\"department\">Computer Science Dept</orgName>\\n\\t\\t\\t\\t\\t\\t\\t\\t<orgName type=\"institution\">Princeton University</orgName>\\n\\t\\t\\t\\t\\t\\t\\t</affiliation>\\n\\t\\t\\t\\t\\t\\t</author>\\n\\t\\t\\t\\t\\t\\t<author>\\n\\t\\t\\t\\t\\t\\t\\t<persName xmlns=\"http://www.tei-c.org/ns/1.0\"><forename type=\"first\">Gregory</forename><surname>Valiant</surname></persName>\\n\\t\\t\\t\\t\\t\\t\\t<email>gvaliant@eecs.berkeley.edu</email>\\n\\t\\t\\t\\t\\t\\t\\t<affiliation key=\"aff2\">\\n\\t\\t\\t\\t\\t\\t\\t\\t<orgName type=\"department\">Dept. of Computer Science</orgName>\\n\\t\\t\\t\\t\\t\\t\\t\\t<orgName type=\"institution\">UC Berkeley</orgName>\\n\\t\\t\\t\\t\\t\\t\\t</affiliation>\\n\\t\\t\\t\\t\\t\\t</author>\\n\\t\\t\\t\\t\\t\\t<author>\\n\\t\\t\\t\\t\\t\\t\\t<persName xmlns=\"http://www.tei-c.org/ns/1.0\"><forename type=\"first\">Aviv</forename><surname>Zohar</surname></persName>\\n\\t\\t\\t\\t\\t\\t\\t<email>avivz@microsoft.com</email>\\n\\t\\t\\t\\t\\t\\t\\t<affiliation key=\"aff3\">\\n\\t\\t\\t\\t\\t\\t\\t\\t<orgName type=\"institution\" key=\"instit1\">Microsoft Research</orgName>\\n\\t\\t\\t\\t\\t\\t\\t\\t<orgName type=\"institution\" key=\"instit2\">Silicon Valley</orgName>\\n\\t\\t\\t\\t\\t\\t\\t</affiliation>\\n\\t\\t\\t\\t\\t\\t</author>\\n\\t\\t\\t\\t\\t\\t<title level=\"a\" type=\"main\">Best-Response Mechanisms</title>\\n\\t\\t\\t\\t\\t</analytic>\\n\\t\\t\\t\\t\\t<monogr>\\n\\t\\t\\t\\t\\t\\t<imprint>\\n\\t\\t\\t\\t\\t\\t\\t<date/>\\n\\t\\t\\t\\t\\t\\t</imprint>\\n\\t\\t\\t\\t\\t</monogr>\\n\\t\\t\\t\\t</biblStruct>\\n\\t\\t\\t</sourceDesc>\\n\\t\\t</fileDesc>\\n\\t\\t<profileDesc>\\n\\t\\t\\t<textClass>\\n\\t\\t\\t\\t<keywords>\\n\\t\\t\\t\\t\\t<term>Best Response</term>\\n\\t\\t\\t\\t\\t<term>Mechanism Design</term>\\n\\t\\t\\t\\t\\t<term>Incentive Compatible Dynamics</term>\\n\\t\\t\\t\\t</keywords>\\n\\t\\t\\t</textClass>\\n\\t\\t\\t<abstract>\\n\\t\\t\\t\\t<p>Under many protocols-in computerized settings and in economics settings-participants repeatedly &quot;best respond&quot; to each others&apos; actions until the system &quot;converges&quot; to an equilibrium point. We ask when does such myopic &quot;local rationality&quot; imply &quot;global rationality&quot;, i.e., when is it best for a player, given that the others are repeatedly best-responding, to also repeatedly best-respond? We exhibit a class of games where this is indeed the case. We identify several environments of interest that fall within our class: models of the Border Gateway Protocol (BGP) [7], that handles routing on the Internet, and of the Transmission Control Protocol (TCP) [5], and also stable-roommates [3] and cost-sharing [9, 10], that have been extensively studied in economic theory.</p>\\n\\t\\t\\t</abstract>\\n\\t\\t</profileDesc>\\n\\t</teiHeader>\\n\\t<text xml:lang=\"en\">\\n\\t\\t<body>\\n<div xmlns=\"http://www.tei-c.org/ns/1.0\"><head n=\"1\">Introduction</head></div>\\n<div xmlns=\"http://www.tei-c.org/ns/1.0\"><head n=\"1.1\">Motivation: When is it Best to BestRespond?</head><p>The basic object of study in game theory and in economics is the equilibrium: a \"stable\" state from which none of the players wish to deviate. Equilibrium is a static concept that often abstracts away the question of how it is reached. Once we start looking at dynamics, or at algorithms for finding equilibria, we cannot escape questions of the form \"How is an equilibrium reached?\". While there can be different formalizations of this question, in most cases, a truly satisfactory answer would have each player performing only simple \"locally rational\" actions and yet, mysteriously, the system would reach a global equilibrium. The simplest example of such phenomena is repeated best-response dynamics: each player selects the best (locally optimal) response to what others are currently doing, and this process goes on \"for a while\" until it \"converges\" to what must be a (pure Nash) equilibrium. Convergence of repeated bestresponse is, unfortunately, not guaranteed in general, and is the subject of much research, as is the convergence of more sophisticated \"locallyrational\" dynamics, e.g., fictitious play or regret minimization.</p><p>Our focus in this paper is on a different question that has received little attention so far: \"Is such locally rational behavior really rational?\". Specifically, we consider games in which repeated best-response dynamics do converge to an equilibrium and study the incentive properties of this process: Is it rational for players to repeatedly bestrespond? Can a long-sighted player improve, in the long run, over this repeated myopic optimization?</p><p>These questions about incentives are best explored in the context of games with incomplete information. Switching our attention from games with complete information to games with uncoupled incomplete information, we see that repeated best-response exhibits another attractive trait: to best-respond each player need only know his own utility function (\"type\"), as his best response does not depend on other players\\' utility functions, but only on their actions. Thus, we can view bestresponse dynamics as a natural protocol for gradual and limited sharing of information in an effort to reach an equilibrium. Indeed, in many real-life contexts the interaction between decision makers with incomplete information takes the form of best-response dynamics (e.g., Internet routing <ref type=\"bibr\" target=\"#b6\">[7]</ref>). When regarding best-response dynamics from this perspective, it is an indirect mechanism in the private-information mechanism-design sense. We wish to understand when such a mechanism, that dictates that all players repeatedly best-respond, is incentive compatible.</p></div>\\n<div xmlns=\"http://www.tei-c.org/ns/1.0\"><head n=\"1.2\">The Setting</head><p>Let us begin by laying out our setting for studying and formalizing incentives for repeated bestresponse. In our framework, each player holds a private utility function, and all players\\' utility functions, when put together, determine a fullinformation base game with some commonlyknown strategy spaces. We desire that the outcome of the dynamics be an equilibrium of this base game.</p><p>Base game: We are given an n-player (one-shot) base game G, with players 1, . . . , n, in which each player i has strategy space S i , and S = S 1 × ... × S n . Each player i has a utility function u i such that (u 1 , . . . , u n ) ∈ U ⊆ U 1 × · · · × U n , where U i ⊆ ℜ |S| is player i\\'s utility space. Each player knows only his own utility function, i.e., we view u i itself as player i\\'s type.</p><p>Best-response mechanisms: We study a class of indirect mechanisms, that we term \"repeatedresponse mechanisms\": players take turns selecting strategies; at each (discrete) time step t, some player i t selects and announces strategy s t i ∈ S it . Observe that one course of action available to each player in a repeated-response mechanism is to always choose a best-response to the most recently announced strategies of the others, that is, repeated-best-response. We call a repeated-response mechanism in which the prescribed behavior for each player is to repeatedly best-respond a \"best-response mechanism\". To fully-specify a best-response mechanism we must specify (1) the starting state; (2) the order of player activations (which player is \"active\" when); and (3) for each player, a rule for breaking ties among multiple best responses. All of our results hold regardless of the initial state and of the order of players\\' activations (so long as it is \"long enough\"), and, in fact, even in more general settings. <ref type=\"bibr\" target=\"#b0\">1</ref> We discuss tie-breaking rules below.</p><p>Goal: Our general aim is to identify interesting classes of (base) games for which best-response mechanisms are incentive-compatible.</p><p>Intuitively, a best-response mechanism is incentivecompatible if, when all other players are repeatedly best-responding, then a player is incentivized to do the same. Defining incentive compatibility in our setting involves many intricacies. We opt to focus here on a very general notion of incentive compatibility that, we believe, captures essentially any variant that the reader may desire; in a companion paper <ref type=\"bibr\" target=\"#b10\">[11]</ref>, we present several more games (auctions) where only strictly weaker notions of incentive compatibility can be obtained. Our notion of incentive compatibility here captures the two following distinct but complementary points of view: a mechanism design perspective and a learning equilibrium <ref type=\"bibr\" target=\"#b0\">[1,</ref><ref type=\"bibr\" target=\"#b1\">2]</ref> perspective.</p><p>Mechanism design perspective (in a prior-free non-Bayesian setting): This point of view is natural when analyzing finite-time protocols in computerized and economic settings. We are given a game with incomplete information G, where each player\\'s utility function is private, and we wish to implement a pure Nash equilibrium (PNE) of G. We point out that this uncommon objectiveimplementing an equilibrium-proves to be a natural implementation goal in many contexts (see Section 3, where we show that desirable outcomes can be regarded as \"stable states\"). Best-response mechanisms are incentive compatible, from this perspective, if the desired outcomes are implemented in the ex-post Nash sense 2 . Importantly, from this point of view, no actual play happens during the process of best-response dynamics and players merely announce strategies as their communication with the mechanism; each player only cares about maximizing his benefit from the final outcome of the mechanism, that is expected to ter-1 Our results actually hold even for (1) asynchronous player activation orders in which multiple players can best-respond simultaneously or based on outdated information (as studied in <ref type=\"bibr\" target=\"#b11\">[12]</ref>); (2) adaptive player activation orders that can change based on the history of play; and also when (3) the mechanism terminates as soon as all players \"pass\", that is, each player repeats his last strategy. <ref type=\"bibr\" target=\"#b1\">2</ref> The Revelation Principle then implies that the direct revelation mechanism is truthful (in the ex-post-nash sense). minate after some finite predetermined number of time steps.</p><p>Learning equilibrium perspective: This point of view is natural when analyzing environments such as Internet protocols and global financial transactions, where players repeatedly interact with each other and there is no \"final turn\". Now, the players are actually involved in infinite repeated play of the incomplete-information game G and each player has a rule for selecting his next strategy based on the history of play. We are interested in the natural rule that dictates that a player simply always best-respond to others\\' most-recent strategies. In this context, each player wishes to maximize his long-term payoff, that we model to be the lim sup of his stage utilities in this infinitely-played game 3 . Best-response mechanisms are incentive compatible, from this perspective, if the \"best-response\" rules are themselves in equilibrium in this infinite game regardless of the realization of (u 1 , . . . , u n ). Using the terminology of <ref type=\"bibr\" target=\"#b0\">[1,</ref><ref type=\"bibr\" target=\"#b1\">2]</ref>, this means that best-response dynamics are in \"learning equilibrium\". We stress that this would not follow from the folk theorem since our players do not, in any way, punish other players for deviation. To the contrary, our incentive compatibility results establish that the natural best-response dynamics are in equilibrium without requiring players to be able to detect and penalize other players\\' deviations.</p><p>Tie-breaking rules.</p><p>When multiple bestresponses exist we must specify, for each player, a tie-breaking rule. Importantly, this tie-breaking rule must be \"uncoupled\", i.e., depend solely on the player\\'s private information (utility function) and not on information that is unavailable to him 4 . Our tie-breaking rules always have the following simple form: fix, for each player i, an a-priori full order ≺ i on S i (that can depend on u i ), and instruct player i to break ties between multiple best-responses according to ≺ i . While this might seem innocent enough, we do get significant milage from delicate choices of these tie-breaking rules, to the point that one may desire an intuitive justification for these choices. Roughly speaking, there are two main, conflicting, intuitions: in some cases we simply ask players to break ties so as to be \"nice\" to others; in other cases we break ties according to some \"iterated-trembling-hand\" logic.</p></div>\\n<div xmlns=\"http://www.tei-c.org/ns/1.0\"><head n=\"1.3\">Games with Incentive-Compatible BestResponse Mechanisms</head><p>Our main results are identifying a class of games for which best-response mechanisms are incentive compatible, and exhibiting several interesting games that fall within this class (and thus have incentive-compatible best-response mechanisms). While at first glance, it might seem that the existence of a unique PNE to which best-response dynamics are guaranteed to converge implies the incentive-compatibility of best-response mechanisms, this intuition is false. Observe that in this game, (B, D) is the unique PNE and every sequence of best responses converges to it. Yet, consider the scenario that the starting point is the strategy profile (A, C), and the column player repeatedly best-responds. Clearly, the row player\\'s local improvement from (A, C) to (B, C) will lead to the column player moving to <ref type=\"bibr\">(B, D)</ref>. Hence, the row player can do better by looking ahead, not moving from (A, C), and thus \"getting stuck\" at (A, C), that he strictly prefers to the unique pure Nash (B, D). Hence, repeated best-responding is not incentive compatible in this game which is strictly-dominance-solvable, is a potential game, and has a unique and Paretooptimal PNE.</p><p>What traits must a game have for best-response dynamics to be incentive compatible?</p><p>We now present an intuitive exposition of a class of games for which this is achieved, which we term \"Never-Best-Response-Solvable (NBRsolvable) games with clear outcomes\". In an NBRsolvable game, strategies are iteratively eliminated if a best-response never leads to them (this is slightly different from dominance-solvability and shall be defined in the following section). Intuitively, an NBR-solvable game has a clear outcome if when each player i considers the game after the other players have already eliminated strategies that can be eliminated regardless of what i does, he can already tell that he will not be able to do better than the outcome that is reached via repeated best-response.</p><p>Our main, and quite easy to prove, general theorem is the following. (We now state the theorem for the case that the strategy spaces are finite, though our result also holds for infinite strategy spaces.)</p><p>Theorem (informal): Let G be an NBR-solvable game with a clear outcome. Then, for every starting point and every (finite or infinite) order of player activations with at least T = Σ i |S i | − n \"rounds\" (a round is a sequence of consecutive time steps in which each player is \"active\" at least once) it holds that:</p><p>1. Repeated best-response dynamics converges to a pure Nash equilibrium s * of G. 2. Repeated best-response dynamics is incentive compatible. We prove that each of the four environments below can be formulated as a game that falls within our class of games, and that the desired outcome in each environment translates to a PNE in this formulation. Thus, the above result implies the existence of incentive-compatible best-response mechanisms that implement the desired outcome in all the contexts below.</p><p>• Stable-roommates. In this classic setting <ref type=\"bibr\" target=\"#b2\">[3]</ref>, students must be paired for the purpose of sharing dorm rooms, and each student has a private full order over possible roommates.</p><p>The objective is to find a \"stable matching\" where no two students prefer each other to their assigned roommates. We show that a natural mechanism, in which a student repeatedly proposes to his most preferred roommate among those that would not immediately reject him, and immediately rejects all proposers except for his most preferred proposer, is incentive compatible in well-studied environments (interns-hospitals, correlated markets).</p><p>• Cost-sharing. Cost-sharing arises in situations in which the cost of some public service (e.g., building a bridge) must be distributed between self-interested users that can benefit from this service to different extents. We present a distributed mechanism that achieves this goal in an incentive-compatible manner.</p><p>Our mechanism implements the outcome of the famous Moulin mechanism <ref type=\"bibr\" target=\"#b8\">[9,</ref><ref type=\"bibr\" target=\"#b9\">10]</ref> (this result can be extended to the more general class of \"acyclic mechanisms\" <ref type=\"bibr\" target=\"#b7\">[8]</ref>).</p><p>• Internet routing. The Border Gateway Protocol (BGP) establishes routes between the smaller networks that make up the Internet.</p><p>We abstract the results in <ref type=\"bibr\" target=\"#b6\">[7]</ref> and prove that BGP is incentive compatible in realistic environments.</p><p>• Congestion control. The Transmission Control Protocol (TCP) handles congestion on the Internet. Building upon <ref type=\"bibr\" target=\"#b4\">[5]</ref>, that models key aspects of TCP, we consider behavior that is somewhat similar to TCP: increase your attempted transmission rate until encountering congestion, and then decrease the transmission rate. We show that such behavior is in equilibrium. Our results above establish incentive compatibility of best-response mechanisms. We also consider the stronger \"collusion-proofness\" desideratum, that even a coalition of players not be able to deviate from repeated best-response and all strictly gain from doing so. We prove that in some of the above environments best-response mechanisms even achieve this stronger requirement.</p></div>\\n<div xmlns=\"http://www.tei-c.org/ns/1.0\"><head n=\"1.4\">Research Agenda</head><p>We view this work as a first step towards a more general research agenda. While convergence to equilibrium of \"locally-rational\" dynamics, e.g., repeated best-response, fictitious play and regret minimization, has been extensively studied, little attention has been given to the question of when such locally-rational dynamics are also \"globally rational\". Here, we tackle this question in the context of repeated best-response and the implementation of PNE. However, we believe that the examination of other dynamics (e.g., fictitious play, regret minimization) and other kinds of equilibria (e.g., mixed Nash equilibrium, correlated equilibrium) is an interesting direction for future research.</p><p>Positive and negative results along these lines can help shed new light on the incentive structure of existing protocols/mechanisms (see our results for BGP and TCP and the results in <ref type=\"bibr\" target=\"#b4\">[5,</ref><ref type=\"bibr\" target=\"#b6\">7]</ref>), and provide new insights into the design of new protocols/mechanisms.</p><p>Our results for repeated best-response dynamics establish sufficient conditions for repeated bestresponse to be incentive compatible. We still lack characterizations of conditions that imply incentive compatibility both for general games and for specific classes of games (dominance-solvable games, potential games, etc.). We have thus far considered a very strong notion of incentive compatibility. We believe that considering more restrictive notions (e.g., incentive compatibility in expectation) is of interest. Indeed, in a companion paper <ref type=\"bibr\" target=\"#b10\">[11]</ref> we present several such results for commerce environments.</p></div>\\n<div xmlns=\"http://www.tei-c.org/ns/1.0\"><head n=\"1.5\">Organization</head><p>In the next section we formalize our model and present our general theorem. In section 3 we present our results for the four specific environments listed above. We discuss collusionproofness in Section 4.</p></div>\\n<div xmlns=\"http://www.tei-c.org/ns/1.0\"><head n=\"2\">Incentive-Compatible</head><p>Best-Response Dynamics Definition 2.1 (tie-breaking rules) A tiebreaking rule (or tie-breaking order) for player i is a full order ≺ i on S i .</p><p>When faced with a choice between multiple best-responses, player i should choose the highest (under ≺ i ) best-response. We now present the following definitions for full-information games.</p><p>Definition 2.2 (never-best-response strategies)</p><formula xml:id=\"formula_0\">s i ∈ S i is a never-best-response (NBR) under tie-breaking order ≺ i on S i if for all s −i , there exists s ′ i so that u i (s i , s −i ) &lt; u i (s ′ i , s −i ) OR both u i (s i , s −i ) = u i (s ′ i , s −i ) and s i ≺ i s ′ i .</formula><p>Definition 2.3 (NBR-solvable games) A game G is never-best-response-solvable (NBR-solvable) under tie-breaking rules ≺ 1 , . . . , ≺ n if there exists a sequence of eliminations of NBR strategies (under these tie breaking rules) that results in a single strategy profile.</p><p>Observe that every weakly-dominance-solvable game has a tie-breaking order under which it is NBR-solvable and every strongly-dominancesolvable game is NBR-solvable for all tie-breaking orders. Observe also that in every game that is NBR-solvable under tie-breaking rules ≺ 1 , . . . , ≺ n the elimination of NBR strategies (under these tie-breaking rules) has a unique orderindependent outcome, that is a pure Nash equilibrium of the game. We call this outcome \"the unique PNE under tie-breaking\".</p></div>\\n<div xmlns=\"http://www.tei-c.org/ns/1.0\"><head>Definition 2.4 (shortest-elimination parameters)</head><p>Let G be an NBR-solvable game (under tiebreaking). Then, there exists a sequence of games G 0 , . . . , G r such that G = G 0 , in G r each player has only a single strategy, and ∀i ∈ {0, . . . , r −1}, G i+1 is obtained from G i via the removal of sets of NBR strategies (under tie-breaking). The shortest-elimination parameter e G for G is the length of the shortest such sequence of games for G.</p><p>Observe that if, in an NBR-solvable game G, each strategy space S i is finite, then e G ≤ Σ i |S i |− n. NBR solvability on its own is insufficient to guarantee incentive compatibility, and so we further restrict it.</p><p>Definition 2.5 (globally-optimal profiles) s ∈ S is globally optimal for i if ∀t ∈ S, u i (t) ≤ u i (s). Definition 2.6 (clear outcomes) Let G be an NBR-solvable game under tie breaking rules ≺ 1 , . . . , ≺ n . Let s * be the unique PNE under tiebreaking of G. We say that G has a clear outcome if for every player i there exists a (player-specific) order of elimination of NBR strategies (under the given tie-breaking rules) such that s * is globally optimal for i at the first step in the elimination sequence in which a strategy in S i is eliminated (that is, in the game obtained after the removal of all previously-eliminated strategies from G).</p><p>We say that an incomplete-information game G is NBR-solvable with a clear outcome (under tiebreaking rules) if every realization of (u 1 , . . . , u n ) induces a full-information game that is NBRsolvable with a clear outcome (under tie-breaking, when each player i uses the tie-breaking rule &lt; i for the realized u i ).</p><p>Consider a best-response mechanism M for a base game G. Let s t ∈ S be the players\\' strategies at time step t. We call u i (s t ) player i\\'s stage utility at time t. If M terminates after some finite number of time steps T &gt; 0 we say that player i\\'s total utility is Γ i = u i (s T ) (his stage utility at the last time step of M \\'s execution). If M does not terminate after finite time then i\\'s total utility is Γ i = lim sup t→∞ u i (s t ). M is incentive compatible if repeated best-response is a pure Nash equilibrium in this repeated game with overall utilities Γ 1 , . . . , Γ n for every realization of (u 1 , . . . , u n ). We say that M is collusion-proof if no coalition can deviate from repeated best-response and all strictly gain from doing so in this repeated game. We show that best-response mechanisms are incentive compatible for NBR-solvable games with clear outcomes.</p></div>\\n<div xmlns=\"http://www.tei-c.org/ns/1.0\"><head>Theorem 2.7 (incentive-compatible mechanisms)</head><p>Let G be NBR-solvable with a clear outcome s * ∈ S under tie-breaking rules ≺ 1 , . . . , ≺ n . Let M be a best-response mechanism for G that breaks ties as in ≺ 1 , . . . , ≺ n . Then, for every starting point and every (finite or infinite) order of player activations with at least T = e G \"rounds\", where a round is a sequence of consecutive time steps in which each player is \"active\" at least once,</p><p>1. M converges to s * . 2. M is incentive compatible. This holds even for (1) asynchronous player activations orders in which multiple players can bestrespond simultaneously or based on outdated information (as studied in <ref type=\"bibr\" target=\"#b11\">[12]</ref>); (2) adaptive player activations orders that can change based on the history of play; and also when (3) the mechanism terminates as soon as all players \"pass\", that is, each player repeats his last strategy.</p><p>Proof sketch: Let G be an NBR-solvable game with a clear outcome (under tie-breaking). Then, there exists a sequence of games G 0 , . . . , G r with length r = e G , such that G = G 0 , in G r each player has only a single strategy, and ∀i ∈ {0, . . . , r − 1}, G i+1 is obtained from G i via the removal of sets of NBR strategies (under tiebreaking).</p><p>Convergence: We first show that if all players repeatedly best-respond then convergence to a PNE is guaranteed within e G rounds. Consider the first round of a best-response mechanism, and consider some j ∈ [n] such that there exists s j ∈ S j that is NBR in G = G 0 . Observe that once j is activated for the first time, s j will never be selected thereafter. Thus, after the first round, no NBR strategy in G 0 will be played ever again and hence the game is effectively equivalent to G 1 . We can now use the same argument to show that after the second round the game is effectively equivalent to G 2 . Thus, we mimic the elimination sequence in each strategy until we end up at G r , whose unique strategy tuple s * is the unique PNE under tie-breaking of G.</p><p>Incentive compatibility: this property follows from the fact that when each player i considers the game after the other players have already eliminated dominated strategies that can be eliminated regardless of what i does, he can already tell that he will not be able to do better than the outcome that is reached via repeated best-response.</p><p>We give the precise argument (by contradiction). Let i be a player that deviates from repeated best-response and strictly gains from doing so. The fact that G is NBR-solvable with a clear outcome (under tie-breaking) implies that there exists a (player-specific) order of elimination of NBR strategies (under the given tie-breaking rules) such that s * is globally optimal for i at the first step in the elimination sequence in which a strategy in S i is eliminated (that is, in the game obtained after the removal of all previously-eliminated strategies from G). Consider this order of elimination; it induces some sequence of games G 0 , . . . , G l such that G = G 0 , in G l each player has only a single strategy, and ∀i ∈ {0, . . . , l − 1}, G i+1 is obtained from G i via the removal of sets of NBR strategies (under tie-breaking) as in the (i + 1)\\'th step in that order. Now, let t i be the index of the first game in the sequence in which i\\'s strategies are eliminated in that order. All players but i are repeatedly bestresponding and in the t i − 1 first steps of the elimination sequence no strategy in S i is eliminated. We can use the same arguments that we used to show convergence, to show that after t i − 1 rounds the game is effectively equivalent to G ti , regardless of the actions of player i. However, in that game, i can do no better than s * -a contradiction.</p></div>\\n<div xmlns=\"http://www.tei-c.org/ns/1.0\"><head n=\"3\">Four Best-Response Mechanisms</head><p>We present four examples of environments that can be formulated as games that are NBRsolvable with clear outcomes (sometimes under tie-breaking): stable-roommates games, costsharing games, BGP games and TCP games. This implies the existence of incentive-compatible bestresponse mechanisms for all these environments.</p></div>\\n<div xmlns=\"http://www.tei-c.org/ns/1.0\"><head n=\"3.1\">Stable-Roommates</head><p>This following classic setting has been extensively studied in economics, game theory and computer science. n students 1, . . . , n must be paired for the purpose of sharing dorm rooms. Each student has a private strict ranking of the others, and prefers being matched to not being matched. The goal is to find a stable matching, i.e., a matching where no two students prefer each other to their matched roommates. Unfortunately, a stable matching is not guaranteed to exist in general and, furthermore, even if a stable matching does exist (e.g., in bipartite graphs), existing algorithms for reaching it are not incentive compatible <ref type=\"bibr\" target=\"#b2\">[3]</ref>. We seek environments where a stable matching is guaranteed to exist and can be reached in an incentive compatible manner. We focus on two wellknown special cases of stable roommates:</p><p>• Intern-hospital matchings: The \"students\" are divided into two disjoint sets, called interns and hospitals, and all hospitals have the same ranking of interns (e.g., GPA-based).</p><p>• Correlated markets: The \"students\" are vertices in a complete graph in which every edge has a unique \"weight\". The \"heavier\" the edge connecting a student to another student the higher that student ranks the other student. We now show how the framework in Section 2 can be used to design natural incentive compatible mechanisms for stable-roommates. We first formulate this environment as a game and prove that this game is NBR-solvable with a clear outcome.</p><p>Stable-roommates games: The students are the players and each student i\\'s strategy space S i is the set of all students j ̸ = i. α i (j) denotes student j\\'s rank in student i\\'s ranking (the least desired roommate\\'s rank is 1). ∀s = (s 1 , . . . , s n ) ∈ S (that is, choices of roommates), u i (s) = α i (j) iff s i = j and k ̸ = i such that s k = j and α j (k) &gt; α j (i); otherwise, u i (s) = 0. 5 (Observe that players\\' utilities are correlated.)</p></div>\\n<div xmlns=\"http://www.tei-c.org/ns/1.0\"><head>Theorem 3.1 For every stable-roommates game G it holds that in both hospital-intern matchings and correlated markets</head><p>• G is NBR-solvable.</p><p>• G\\'s unique PNE is a stable matchings.</p><p>• e G ≤ n.</p><p>Proof sketch: We say that a stable-roommates game is cycle-free if there is no sequence of roomates r 1 , r 2 , . . . r k of length k &gt; 2 such that each student r i ranks student r i+1 higher than student r i−1 (where student indices are considered mod k to induce a cycle). Any matching game that is cycle-free has an elimination sequence that can be constructed as follows: At any stage in the elimination start with some arbitrary student r 1 (that has more than one strategy in the current subgame) and construct a sequence r 1 , r 2 , . . . of students in which r i+1 is the student r i prefers the most out of the students that still have more than one possible strategy remaining (other strategies were eliminated). The number of students is finite and so the sequence must repeat. Since the game is cycle free, the cycle must be of length 2. We have thus located 2 students that desire each other the most. We can eliminate for each of the two the strategies of proposing to any other student since they are guaranteed to gain the maximal utility by proposing to each other.</p><p>All that remains is to notice that both the hospital-intern game and the correlated markets game are cycle-free. In the case of hospitals and interns, the hospitals agree about the ranking of interns and so any cycle of players will have to include a hospital that is placed after a desired intern and before a less desired one. In the case of correlated markets, any cycle of nodes in the graph must include an edge with a lower weight that appears after an edge with a higher one and therefore the preferences do not induce a cycle in the matching graph in either case.</p><p>We observe that the following simple and computationally-efficient mechanism is a bestresponse mechanism for stable-roommate games, and so Theorem 2.7 implies that it implements a stable matching in an incentive-compatible manner.</p><p>Mechanism for Stable-Roommates:</p><p>• Go over the students in some cyclic (roundrobin) order and, at each time step, allow a single student to announce another student.</p><p>• We say that a student i makes a \"better offer\" to another student j at time t if (1) i announces j at time t; and (2) j prefers i to all students from whom he has \"offers\", that is, all students whose last announcement was j.</p><p>The mechanism prescribes that each student repeatedly check which students he can make a better offer to, and announce his most preferred student to whom he can make a better offer.</p><p>• The mechanism terminates after n 2 steps and outputs all student pairs (i, j) such that i\\'s last announcement was j and j\\'s last announcement was i.</p><formula xml:id=\"formula_1\">Theorem 3.2</formula><p>The mechanism is incentivecompatible in ex-post Nash and implements a stable matching in both intern-hospital matchings and correlated markets.</p></div>\\n<div xmlns=\"http://www.tei-c.org/ns/1.0\"><head n=\"3.2\">Cost-Sharing</head><p>Cost-sharing arises in situations in which the cost of some public service (e.g., building a bridge) must be distributed between self-interested users that can benefit from this service to different extents, and is modeled as follows. n users 1, . . . , n aim to share the cost of building some common infrastructure. Some cost-sharing rule specifies, for every subset of users S, and every user i ∈ S, i\\'s \"cost share\" c i (S) for building an infrastructure that only serves members of S. c i (S) is nonnegative, monotonically non-increasing in S, and also cross-monotonic, that is, ∀i ∈ S ⊆ T , c i (S) ≥ c i (T ). User i gets positive (private) value v i ∈ ℜ ≥0 if the infrastructure serves him and 0 otherwise. The goal is to split the cost of the infrastructure between a group of users so that each user\\'s payment is at least his cost-share, yet does not exceed his private value, that is, to find \"reasonable\" cost shares. Moulin <ref type=\"bibr\" target=\"#b8\">[9]</ref> exhibits a centralized mechanism that achieves this (see also <ref type=\"bibr\" target=\"#b9\">[10]</ref>).</p><p>We now use the framework in Section 2 to design simple and natural distributed incentivecompatible mechanisms that implement the same outcome as the Moulin mechanism. We present \"1 st -price cost-sharing games\" and specific tiebreaking rules.</p><p>1 st -price cost-sharing games: The users are the players and, for each user i, S i = ℜ ≥0 . Given a vector of users\\' bids (strategies) − → b = (b 1 , . . . , b n ), the \"serviced set\" for − → b is the maximum-cardinality subset of users S such that ∀j ∈ S, b j ≥ c j (S) (breaking ties between such sets lexicographically).</p><formula xml:id=\"formula_2\">∀ − → b = (b 1 , . . . , b n ), u i ( − → b ) = v i − b i if i is in the serviced set for − → b ; u i ( − → b ) = 0 otherwise.</formula><p>Tie-breaking rules: Prefer bids closer to v i , i.e.,</p><formula xml:id=\"formula_3\">∀s, t ∈ S i , if |s − v i | ≤ |t − v i | then t ≺ i s.</formula></div>\\n<div xmlns=\"http://www.tei-c.org/ns/1.0\"><head>Theorem 3.3 For every 1 st -price cost-sharing game G it holds that</head><p>• G is NBR-solvable under these tie-breaking rules.</p><p>• G\\'s unique PNE under these tie-breaking rules induces reasonable cost shares as in the outcome of the Moulin mechanism.</p><p>• e G ≤ n.</p><p>Proof sketch: Let us show an elimination sequence for every cost sharing game. First, notice that each player can only get a non-positive utility from a bid that is above his valuation. We therefore start by eliminating these bids for all players. Next, let R v be the set of serviced users for bids that are exactly the valuations of the players. Any player i / ∈ R v will not get serviced for any set of bids that are in the remaining subgame (costs only increase as players drop out and he does not win when they all pay the maximal amount). We can therefore eliminate all strategies below v i for any such player. For every player j ∈ R v , we can eliminate all bids below c j (R v ), as he will only get 0 utility with those bids, and non-negative utility with higher bids. Once these are eliminated, then in the remaining subgame R v will always be the serviced set of players and we can eliminate all bids above c j (R v ) as well.</p><p>Note that it is also possible to perform the eliminations using a different order. Specifically, for each player i we can let all other players eliminate bids above v, then determine a set of serviced agents R i for the case in which every agent j bids v j except for agent i that bids ∞. Then, eliminate all bids for non-serviced agents (except their valuation), and check if c i (R i ) is greater than v i . If it is, we can eliminate bids below c i (R i ) for agent i. Otherwise, agent i will not gain a positive utility from the service in any case and we can eliminate all his strategies except his valuation. We can then continue along the same lines as before and eliminate strategies for all other players. Either way, the elimination done by agent i leads to a subgame in which s * is the optimal outcome for him, and so the game has a clear outcome as required.</p><p>We observe that the following natural distributed mechanism is a best-response mechanism for 1 st -price cost-sharing games (under these tiebreaking rules), and so Theorem 2.7 implies that it implements the outcome of the Moulin mechanism in an incentive-compatible manner.</p></div>\\n<div xmlns=\"http://www.tei-c.org/ns/1.0\"><head>Mechanism for Cost-Sharing:</head><p>• Go over the users in some cyclic (roundrobin) order and, at each time step, allow a single user to submit a bid in ℜ ≥0 .</p><p>• The mechanism prescribes that each bidder i repeatedly bid as follows: submit the minimal bid b i ≤ v i such that i is in the serviced set for the most-recently submitted bids; in the event that no such bid exists submit the bid b i = v i .</p><p>• The mechanism terminates after n 2 time steps, outputs the serviced set S for the lastsubmitted bids and charges each bidder i ∈ S his last bid b i .</p><formula xml:id=\"formula_4\">Theorem 3.4</formula><p>The mechanism is incentive compatible and implements reasonable cost-shares.</p><p>This result can be extended to the class of acyclic mechanisms studied in <ref type=\"bibr\" target=\"#b7\">[8]</ref>).</p></div>\\n<div xmlns=\"http://www.tei-c.org/ns/1.0\"><head n=\"3.3\">Internet Routing</head><p>The Border Gateway Protocol (BGP) establishes routes between the smaller networks that make up the Internet. Griffin et al. <ref type=\"bibr\" target=\"#b5\">[6]</ref> put forth the following model for analyzing BGP dynamics. The network is an undirected graph G = (V, E) where the vertex set V consists of n source nodes and 1, . . . , n a unique destination node d. Each source node has a private strict ranking of all simple (loop-free) routes between itself and the destination node d. Under BGP, each source node repeatedly examines its neighboring nodes\\' most recent route-announcements, selects to forward traffic through the neighbor whose route it likes the most, and announces its newly chosen route to all neighbors via update messages. The network is asynchronous and so nodes can select routes simultaneously and based on outdated information (update messages between nodes can be arbitrarily delayed).</p><p>BGP\\'s convergence to a \"stable\" routing tree is the subject of extensive networking research. <ref type=\"bibr\">Levin et al. [7]</ref> observe that BGP can be regarded as best-response dynamics in a specific class of \"routing games\", and prove that BGP is incentivecompatible in networks for which the No Dispute Wheel <ref type=\"bibr\" target=\"#b5\">[6]</ref> condition holds.</p><p>Each pivot node u i would rather route clockwise through pivot node u i+1 than through the direct route Q i . No Dispute Wheel is a generalization of the Gao-Rexford <ref type=\"bibr\" target=\"#b3\">[4]</ref> conditions, that capture common Internet routing practices. A Dispute Wheel (see <ref type=\"figure\" target=\"#fig_1\">Figure 2)</ref> is a 3-tuple (U, R, Q), where U = (u 0 , u 1 , . . . , u k−1 ) is a sequence of k vertices in V , called the \"pivot nodes\" and R = (R 0 , R 1 , . . . , R k−1 ), Q = (Q 0 , Q 1 , . . . , Q k−1 ) are two sequences of k routes, such that (indices are considered modulo k):</p><p>• ∀i, Q i is a simple route from i to d.</p><p>• ∀i, R i is a simple route from u i to u i+1 .</p><p>• ∀i, u i ranks the route R i Q i+1 more highly than the route Q i . \"No Dispute Wheel\" is the condition that no Dispute Wheel exist in the network.</p></div>\\n<div xmlns=\"http://www.tei-c.org/ns/1.0\"><head>Theorem 3.5 [7] BGP is incentive-compatible in ex-post Nash in networks for which No Dispute Wheel holds.</head><p>We now show that the class of \"BGP games\" presented in <ref type=\"bibr\" target=\"#b6\">[7]</ref> falls within the category of NBRsolvable games with clear outcomes. Thus, the essence of the incentive compatibility result for BGP in <ref type=\"bibr\" target=\"#b6\">[7]</ref> follows from Theorem 2.7.</p><p>BGP games: The source nodes are the players and, for each source node i, S i is the set of i\\'s outgoing edges in E. Given a vector of source nodes\\' traffic forwarding decisions (strategies </p><formula xml:id=\"formula_5\">) − → f = (f 1 , . . . , f n ), u i ( − → f = (f 1 , . . . , f n )) is i\\'</formula></div>\\n<div xmlns=\"http://www.tei-c.org/ns/1.0\"><head>Theorem 3.6 For a BGP game G it holds that</head><p>• G is NBR-solvable.</p><p>• G\\'s unique PNE is a stable routing tree.</p><p>• e G ≤ n.</p><p>Proof sketch: Let us show an elimination order in the game. At every stage in the elimination, we locate a node that can guarantee its most preferred route (in the current subgame) and eliminate all other routing actions for it. To show that such a node always exists, we begin with an arbitrary node a 0 with at least 2 actions. Let R 0 be a 0 \\'s most preferred existing route to d (a route is said to exist if all nodes along it can route accordingly in the current subgame). Let a 1 be the vertex closest to d on R 0 , with two available actions in the current subgame, such that a 1 prefers some other route R 1 to the suffix of R 0 that leads from a 1 to d (if no such node exists a 0 can guarantee its most preferred route). Then we choose a 2 to be the vertex closest to d on R 1 such that a 2 \\'s most preferred route R 2 is preferred over the suffix of R 1 that leads from a 2 to d. Once again if there is no such a 2 we are done. We can continue to choose a 3 , a 4 , . . . in the same manner. Since there is a finite number of vertices, at some point some vertex will appear twice in this sequence (a 0 , a 1 , . . .). This would result in the formation of a Dispute Wheel (in which the a i s are the pivot nodes and the R i s are the routes) which we assumed is not contained in the graph. We will therefore always be able to find a node that can guarantee its most preferred route and continue with the elimination, until there are no more nodes with several possible actions.</p></div>\\n<div xmlns=\"http://www.tei-c.org/ns/1.0\"><head n=\"3.4\">Congestion Control</head><p>Congestion control is a crucial task in communication networks. Congestion is handled via the combination of transmission-rate-adjustment protocols at the sender-receiver level (e.g., TCP), and queueing management policies at the router level, that dictate how excess traffic is discarded (e.g., RED). TCP is notoriously not incentive compatible. <ref type=\"bibr\" target=\"#b4\">[5]</ref> analyzes incentives in the following TCPinspired environment. The network is an undirected graph G = (V, E) with a given a capacity function c that specifies the capacity c(e) for each edge e ∈ E. The network consists of n sourcetarget pairs of vertices (α i , β i ). Every such sourcetarget pair (α i , β i ) aims to send traffic along a fixed route R i in G. Each source α i can select transmission rates that lie in the interval <ref type=\"bibr\">[0, M i ]</ref>, where M i is α i \\'s private information, and wishes to maximize its achieved throughput. When an edge encounters congestion, that is, the sum of incoming flows traversing it exceeds its capacity, excess traffic must be discarded. <ref type=\"bibr\" target=\"#b4\">[5]</ref> considers two capacityallocation schemes:</p><p>• Strict-Priority-Queueing (SPQ). ∀e ∈ E there is an edge-specific order over source nodes. Capacity is shared as follows: the most highly ranked source whose route traverses the edge gets its entire flow sent along the edge (up to c(e)); unused capacity is allocated to the second most highly ranked source whose route traverses the edge in a similar fashion, etc.</p><p>• Weighted-Fair-Queueing (WFQ). ∀e ∈ E, each source node α i has weight w i (e) at e. Every source α i is then allocated capacity wi Σj wj c(e). Unused capacity is allocated in a recursive manner. The special case that ∀e ∈ E, ∀i ∈ [n], w i (e) = 1 is called \"fair queueing\" (FQ).</p><p>[5] considers a TCP-like protocol called Probing-Increase-Educate-Decrease (PIED) in which each source is instructed to gradually increase its transmission rate until encountering congestion and, at that point, decrease its transmission rate to its achieved throughput. <ref type=\"bibr\" target=\"#b4\">[5]</ref> analyzes PIED in settings in which all edges use SPQ or all edges use WFQ, and sources priorities/weights are identical on all edges. PIED is shown to be incentive compatible in both these environments (also under asynchronous timings of rate-transmission adjustments). It is interesting to notice that PIED can be considered a form of better-response in a setting in which the exact available capacity is unknown. We unify the two results above for an abstracted setting by formulating the environment in <ref type=\"bibr\" target=\"#b4\">[5]</ref> as a game and showing that this game is NBR-solvable with a clear outcome (under specific tie-breaking rules). Our main difference from <ref type=\"bibr\" target=\"#b4\">[5]</ref> is that we allow players more knowledge about the network, while <ref type=\"bibr\" target=\"#b4\">[5]</ref> uses the probing nature of PIED to learn the needed information (all that is needed is for players to be able to tell the amount of available bandwidth on their path). Thus, Theorem 2.7 implies a result that is similar in spirit to the two theorems in <ref type=\"bibr\" target=\"#b4\">[5]</ref>.</p><p>TCP games: The source nodes are the players and each source node i\\'s strategy space is S i = [0, M i ]. Given a vector of source nodes\\' transmission rates (strategies) − → r = (r 1 , . . . , r n ), u i ( − → r ) is α i \\'s achieved throughput in the unique trafficflow equilibrium point of the network for − → r ( <ref type=\"bibr\" target=\"#b4\">[5]</ref> shows that such a unique equilibrium point exists for the SPQ and WFQ settings with coordinated priorities/weights).</p><p>Tie-breaking rules: ∀s, t ∈ S i , s ≺ i t iff s &gt; t. • e G ≤ n.</p><p>For clarity of presentation we show only the proof for the case of Weighted-Fair-Queueing, with equal weights. The proof for non-equal weights and for Strict-Priority-Queueing follow similar lines. Proof sketch: Let us define for each edge e, the share of each flow as β e = c e /k e where k e is the number of flows that traverse the edge. We construct an elimination sequence for the game as follows: Let e * be the edge with the minimal β. Each flow on this edge is guaranteed β e * traffic through that edge, and at least that amount on all other edges. It is therefore possible to eliminate all actions of transmitting less than β e * for each player that goes through e * . Now, if all flows through e * claim their fair share, no flow can send more (no bandwidth is unclaimed). We can therefore eliminate all actions of transmitting above β e * for these flows. Now, we are left with a subgame with a smaller number of active players where some of the bandwidth on each edge is already used up. We can now repeat the elimination steps for the residual network graph with the remaining players.</p><p>Notice that for each bottleneck edge e * that is found along the process there are several orders of elimination (according to ordering among players). If player i eliminates actions below β e * last among players that go through e * , then he does so in a game in which the final profile is optimal for him, and so the game has a clear outcome.</p></div>\\n<div xmlns=\"http://www.tei-c.org/ns/1.0\"><head n=\"4\">Collusion-Proof Best-Response Mechanisms</head><p>In Section 3, we establish incentive compatibility results for four environments. We are able to strengthen our results for stable-roommates (Theorem 3.1), BGP games (Theorem 3.6), and TCP games where all edges use SPQ with coordinated priorities (see Theorem 3.9). We prove that, in all these settings, best-response mechanisms are actually also collusion-proof. We observe, though, that NBR-solvability with a clear outcome does not imply collusion-proofness of best-response mechanisms in general. To see this, consider the game depicted in <ref type=\"figure\" target=\"#fig_3\">Figure 3</ref> (which is simply the prisoner\\'s dilemma).</p><p>Observe that this game is indeed an NBRsolvable game with a clear outcome, yet both players prefer (C, C) to the unique equilibrium (D, D). Thus, the two players can jointly deviate from repeated best-response and both strictly gain from doing so.</p></div><figure xmlns=\"http://www.tei-c.org/ns/1.0\" xml:id=\"fig_0\"><head>Figure 1 :</head><label>1</label><figDesc>Figure 1: A game for which best-response mechanisms are not incentive compatible.</figDesc></figure>\\n<figure xmlns=\"http://www.tei-c.org/ns/1.0\" xml:id=\"fig_1\"><head>Figure 2 :</head><label>2</label><figDesc>Figure 2: A Dispute Wheel</figDesc></figure>\\n<figure xmlns=\"http://www.tei-c.org/ns/1.0\" xml:id=\"fig_2\"><head></head><label></label><figDesc>s rank for the simple route from i to d under − → f (the least desired route has rank 1) if such a route exists; u i ( − → f ) = 0 otherwise.</figDesc></figure>\\n<figure xmlns=\"http://www.tei-c.org/ns/1.0\" xml:id=\"fig_3\"><head>Figure 3 :</head><label>3</label><figDesc>Figure 3: An NBR-solvable game with a clear outcome for which best-response mechanisms are not collusion proof.</figDesc></figure>\\n\\n\\t\\t\\t<note place=\"foot\" n=\"3\"> In all our results, at equilibrium the lim sup is actually the limit, and thus choosing lim sup gives us the strongest and most robust results -the definition is in fact adversarial to our proofs, it potentially allows manipulators to gain utility by avoiding convergence. 4 We note that it is also permissible for the tie-breaking rules to depend on the players&apos; actions, though for our purposes this was not needed.</note>\\n\\n\\t\\t\\t<note place=\"foot\" n=\"5\"> We note that the more natural definition of utilities that only awards utility to players that are selected by the partner they themselves choose implies a game in which all matchings are stable, and is thus not useful to us.</note>\\n\\t\\t</body>\\n\\t\\t<back>\\n\\t\\t\\t<div type=\"references\">\\n\\n\\t\\t\\t\\t<listBibl>\\n\\n<biblStruct xml:id=\"b0\">\\n\\t<analytic>\\n\\t\\t<title level=\"a\" type=\"main\">Efficient learning equilibrium</title>\\n\\t\\t<author>\\n\\t\\t\\t<persName xmlns=\"http://www.tei-c.org/ns/1.0\"><forename type=\"first\">Ronen</forename><forename type=\"middle\">I</forename><surname>Brafman</surname></persName>\\n\\t\\t</author>\\n\\t\\t<author>\\n\\t\\t\\t<persName xmlns=\"http://www.tei-c.org/ns/1.0\"><forename type=\"first\">Moshe</forename><surname>Tennenholtz</surname></persName>\\n\\t\\t</author>\\n\\t</analytic>\\n\\t<monogr>\\n\\t\\t<title level=\"j\">Artif. Intell</title>\\n\\t\\t<imprint>\\n\\t\\t\\t<biblScope unit=\"volume\">159</biblScope>\\n\\t\\t\\t<biblScope unit=\"issue\">1-2</biblScope>\\n\\t\\t\\t<biblScope unit=\"page\" from=\"27\" to=\"47\" />\\n\\t\\t\\t<date type=\"published\" when=\"2004\" />\\n\\t\\t</imprint>\\n\\t</monogr>\\n</biblStruct>\\n\\n<biblStruct xml:id=\"b1\">\\n\\t<analytic>\\n\\t\\t<title level=\"a\" type=\"main\">Optimal efficient learning equilibrium: Imperfect monitoring in symmetric games</title>\\n\\t\\t<author>\\n\\t\\t\\t<persName xmlns=\"http://www.tei-c.org/ns/1.0\"><forename type=\"first\">Ronen</forename><forename type=\"middle\">I</forename><surname>Brafman</surname></persName>\\n\\t\\t</author>\\n\\t\\t<author>\\n\\t\\t\\t<persName xmlns=\"http://www.tei-c.org/ns/1.0\"><forename type=\"first\">Moshe</forename><surname>Tennenholtz</surname></persName>\\n\\t\\t</author>\\n\\t</analytic>\\n\\t<monogr>\\n\\t\\t<title level=\"m\">Proceedings of the National Conference on Artificial Intelligence (AAAI</title>\\n\\t\\t<meeting>the National Conference on Artificial Intelligence (AAAI</meeting>\\n\\t\\t<imprint>\\n\\t\\t\\t<publisher>Press</publisher>\\n\\t\\t\\t<date type=\"published\" when=\"2005\" />\\n\\t\\t\\t<biblScope unit=\"page\" from=\"726\" to=\"731\" />\\n\\t\\t</imprint>\\n\\t</monogr>\\n</biblStruct>\\n\\n<biblStruct xml:id=\"b2\">\\n\\t<analytic>\\n\\t\\t<title level=\"a\" type=\"main\">College admissions and stability of marriage</title>\\n\\t\\t<author>\\n\\t\\t\\t<persName xmlns=\"http://www.tei-c.org/ns/1.0\"><forename type=\"first\">D</forename><surname>Gale</surname></persName>\\n\\t\\t</author>\\n\\t\\t<author>\\n\\t\\t\\t<persName xmlns=\"http://www.tei-c.org/ns/1.0\"><forename type=\"first\">L</forename><forename type=\"middle\">S</forename><surname>Shapley</surname></persName>\\n\\t\\t</author>\\n\\t</analytic>\\n\\t<monogr>\\n\\t\\t<title level=\"j\">Amer. Math. Monthly</title>\\n\\t\\t<imprint>\\n\\t\\t\\t<biblScope unit=\"issue\">69</biblScope>\\n\\t\\t\\t<biblScope unit=\"page\" from=\"9\" to=\"15\" />\\n\\t\\t\\t<date type=\"published\" when=\"1962\" />\\n\\t\\t</imprint>\\n\\t</monogr>\\n</biblStruct>\\n\\n<biblStruct xml:id=\"b3\">\\n\\t<analytic>\\n\\t\\t<title level=\"a\" type=\"main\">Stable Internet routing without global coordination</title>\\n\\t\\t<author>\\n\\t\\t\\t<persName xmlns=\"http://www.tei-c.org/ns/1.0\"><forename type=\"first\">Lixin</forename><surname>Gao</surname></persName>\\n\\t\\t</author>\\n\\t\\t<author>\\n\\t\\t\\t<persName xmlns=\"http://www.tei-c.org/ns/1.0\"><forename type=\"first\">Jennifer</forename><surname>Rexford</surname></persName>\\n\\t\\t</author>\\n\\t</analytic>\\n\\t<monogr>\\n\\t\\t<title level=\"j\">IEEE/ACM Transactions on Networking</title>\\n\\t\\t<imprint>\\n\\t\\t\\t<biblScope unit=\"volume\">9</biblScope>\\n\\t\\t\\t<biblScope unit=\"issue\">6</biblScope>\\n\\t\\t\\t<biblScope unit=\"page\" from=\"681\" to=\"692\" />\\n\\t\\t\\t<date type=\"published\" when=\"2001\" />\\n\\t\\t</imprint>\\n\\t</monogr>\\n</biblStruct>\\n\\n<biblStruct xml:id=\"b4\">\\n\\t<analytic>\\n\\t\\t<title level=\"a\" type=\"main\">Aviv Zohar, and Scott Shenker. Incentive compatibility and dynamics of congestion control. SIGMET-RICS Perform</title>\\n\\t\\t<author>\\n\\t\\t\\t<persName xmlns=\"http://www.tei-c.org/ns/1.0\"><forename type=\"first\">P</forename><forename type=\"middle\">Brighten</forename><surname>Godfrey</surname></persName>\\n\\t\\t</author>\\n\\t\\t<author>\\n\\t\\t\\t<persName xmlns=\"http://www.tei-c.org/ns/1.0\"><forename type=\"first\">Michael</forename><surname>Schapira</surname></persName>\\n\\t\\t</author>\\n\\t</analytic>\\n\\t<monogr>\\n\\t\\t<title level=\"j\">Eval. Rev</title>\\n\\t\\t<imprint>\\n\\t\\t\\t<biblScope unit=\"volume\">38</biblScope>\\n\\t\\t\\t<biblScope unit=\"issue\">1</biblScope>\\n\\t\\t\\t<biblScope unit=\"page\" from=\"95\" to=\"106\" />\\n\\t\\t\\t<date type=\"published\" when=\"2010\" />\\n\\t\\t</imprint>\\n\\t</monogr>\\n</biblStruct>\\n\\n<biblStruct xml:id=\"b5\">\\n\\t<analytic>\\n\\t\\t<title level=\"a\" type=\"main\">The stable paths problem and interdomain routing</title>\\n\\t\\t<author>\\n\\t\\t\\t<persName xmlns=\"http://www.tei-c.org/ns/1.0\"><forename type=\"first\">Timothy</forename><forename type=\"middle\">G</forename><surname>Griffin</surname></persName>\\n\\t\\t</author>\\n\\t\\t<author>\\n\\t\\t\\t<persName xmlns=\"http://www.tei-c.org/ns/1.0\"><forename type=\"first\">F</forename><forename type=\"middle\">Bruce</forename><surname>Shepherd</surname></persName>\\n\\t\\t</author>\\n\\t\\t<author>\\n\\t\\t\\t<persName xmlns=\"http://www.tei-c.org/ns/1.0\"><forename type=\"first\">Gordon</forename><surname>Wilfong</surname></persName>\\n\\t\\t</author>\\n\\t</analytic>\\n\\t<monogr>\\n\\t\\t<title level=\"j\">IEEE/ACM Transactions on Networking</title>\\n\\t\\t<imprint>\\n\\t\\t\\t<biblScope unit=\"volume\">10</biblScope>\\n\\t\\t\\t<biblScope unit=\"issue\">2</biblScope>\\n\\t\\t\\t<biblScope unit=\"page\" from=\"232\" to=\"243\" />\\n\\t\\t\\t<date type=\"published\" when=\"2002-04\" />\\n\\t\\t</imprint>\\n\\t</monogr>\\n</biblStruct>\\n\\n<biblStruct xml:id=\"b6\">\\n\\t<analytic>\\n\\t\\t<title level=\"a\" type=\"main\">Interdomain routing and games</title>\\n\\t\\t<author>\\n\\t\\t\\t<persName xmlns=\"http://www.tei-c.org/ns/1.0\"><forename type=\"first\">Hagay</forename><surname>Levin</surname></persName>\\n\\t\\t</author>\\n\\t\\t<author>\\n\\t\\t\\t<persName xmlns=\"http://www.tei-c.org/ns/1.0\"><forename type=\"first\">Michael</forename><surname>Schapira</surname></persName>\\n\\t\\t</author>\\n\\t\\t<author>\\n\\t\\t\\t<persName xmlns=\"http://www.tei-c.org/ns/1.0\"><forename type=\"first\">Aviv</forename><surname>Zohar</surname></persName>\\n\\t\\t</author>\\n\\t</analytic>\\n\\t<monogr>\\n\\t\\t<title level=\"m\">STOC</title>\\n\\t\\t<imprint>\\n\\t\\t\\t<date type=\"published\" when=\"2008\" />\\n\\t\\t\\t<biblScope unit=\"page\" from=\"57\" to=\"66\" />\\n\\t\\t</imprint>\\n\\t</monogr>\\n</biblStruct>\\n\\n<biblStruct xml:id=\"b7\">\\n\\t<analytic>\\n\\t\\t<title level=\"a\" type=\"main\">Beyond moulin mechanisms</title>\\n\\t\\t<author>\\n\\t\\t\\t<persName xmlns=\"http://www.tei-c.org/ns/1.0\"><forename type=\"first\">Aranyak</forename><surname>Mehta</surname></persName>\\n\\t\\t</author>\\n\\t\\t<author>\\n\\t\\t\\t<persName xmlns=\"http://www.tei-c.org/ns/1.0\"><forename type=\"first\">Tim</forename><surname>Roughgarden</surname></persName>\\n\\t\\t</author>\\n\\t\\t<author>\\n\\t\\t\\t<persName xmlns=\"http://www.tei-c.org/ns/1.0\"><forename type=\"first\">Mukund</forename><surname>Sundararajan</surname></persName>\\n\\t\\t</author>\\n\\t</analytic>\\n\\t<monogr>\\n\\t\\t<title level=\"m\">EC &apos;07: Proceedings of the 8th ACM conference on Electronic commerce</title>\\n\\t\\t<meeting><address><addrLine>New York, NY, USA</addrLine></address></meeting>\\n\\t\\t<imprint>\\n\\t\\t\\t<publisher>ACM</publisher>\\n\\t\\t\\t<date type=\"published\" when=\"2007\" />\\n\\t\\t\\t<biblScope unit=\"page\" from=\"1\" to=\"10\" />\\n\\t\\t</imprint>\\n\\t</monogr>\\n</biblStruct>\\n\\n<biblStruct xml:id=\"b8\">\\n\\t<analytic>\\n\\t\\t<title level=\"a\" type=\"main\">Incremental cost sharing: Characterization by coalition strategy-proofness</title>\\n\\t\\t<author>\\n\\t\\t\\t<persName xmlns=\"http://www.tei-c.org/ns/1.0\"><forename type=\"first\">Herve</forename><surname>Moulin</surname></persName>\\n\\t\\t</author>\\n\\t</analytic>\\n\\t<monogr>\\n\\t\\t<title level=\"j\">Social Choice and Welfare</title>\\n\\t\\t<imprint>\\n\\t\\t\\t<biblScope unit=\"volume\">16</biblScope>\\n\\t\\t\\t<biblScope unit=\"issue\">2</biblScope>\\n\\t\\t\\t<biblScope unit=\"page\" from=\"279\" to=\"320\" />\\n\\t\\t\\t<date type=\"published\" when=\"1999\" />\\n\\t\\t</imprint>\\n\\t</monogr>\\n</biblStruct>\\n\\n<biblStruct xml:id=\"b9\">\\n\\t<analytic>\\n\\t\\t<title level=\"a\" type=\"main\">Strategyproof sharing of submodular costs: budget balance versus efficiency</title>\\n\\t\\t<author>\\n\\t\\t\\t<persName xmlns=\"http://www.tei-c.org/ns/1.0\"><forename type=\"first\">Herve</forename><surname>Moulin</surname></persName>\\n\\t\\t</author>\\n\\t\\t<author>\\n\\t\\t\\t<persName xmlns=\"http://www.tei-c.org/ns/1.0\"><forename type=\"first\">Scott</forename><surname>Shenker</surname></persName>\\n\\t\\t</author>\\n\\t</analytic>\\n\\t<monogr>\\n\\t\\t<title level=\"j\">Economic Theory</title>\\n\\t\\t<imprint>\\n\\t\\t\\t<biblScope unit=\"volume\">18</biblScope>\\n\\t\\t\\t<biblScope unit=\"issue\">3</biblScope>\\n\\t\\t\\t<biblScope unit=\"page\" from=\"511\" to=\"533\" />\\n\\t\\t\\t<date type=\"published\" when=\"2001\" />\\n\\t\\t</imprint>\\n\\t</monogr>\\n</biblStruct>\\n\\n<biblStruct xml:id=\"b10\">\\n\\t<monogr>\\n\\t\\t<title level=\"m\" type=\"main\">Best-response auctions. Working paper</title>\\n\\t\\t<author>\\n\\t\\t\\t<persName xmlns=\"http://www.tei-c.org/ns/1.0\"><forename type=\"first\">N</forename><surname>Nisan</surname></persName>\\n\\t\\t</author>\\n\\t\\t<author>\\n\\t\\t\\t<persName xmlns=\"http://www.tei-c.org/ns/1.0\"><forename type=\"first\">M</forename><surname>Schapira</surname></persName>\\n\\t\\t</author>\\n\\t\\t<author>\\n\\t\\t\\t<persName xmlns=\"http://www.tei-c.org/ns/1.0\"><forename type=\"first\">G</forename><surname>Valiant</surname></persName>\\n\\t\\t</author>\\n\\t\\t<author>\\n\\t\\t\\t<persName xmlns=\"http://www.tei-c.org/ns/1.0\"><forename type=\"first\">A</forename><surname>Zohar</surname></persName>\\n\\t\\t</author>\\n\\t\\t<imprint>\\n\\t\\t\\t<date type=\"published\" when=\"2010\" />\\n\\t\\t</imprint>\\n\\t</monogr>\\n</biblStruct>\\n\\n<biblStruct xml:id=\"b11\">\\n\\t<analytic>\\n\\t\\t<title level=\"a\" type=\"main\">Asynchronous best-reply dynamics</title>\\n\\t\\t<author>\\n\\t\\t\\t<persName xmlns=\"http://www.tei-c.org/ns/1.0\"><forename type=\"first\">Noam</forename><surname>Nisan</surname></persName>\\n\\t\\t</author>\\n\\t\\t<author>\\n\\t\\t\\t<persName xmlns=\"http://www.tei-c.org/ns/1.0\"><forename type=\"first\">Michael</forename><surname>Schapira</surname></persName>\\n\\t\\t</author>\\n\\t\\t<author>\\n\\t\\t\\t<persName xmlns=\"http://www.tei-c.org/ns/1.0\"><forename type=\"first\">Aviv</forename><surname>Zohar</surname></persName>\\n\\t\\t</author>\\n\\t</analytic>\\n\\t<monogr>\\n\\t\\t<title level=\"m\">Proceedings of WINE</title>\\n\\t\\t<meeting>WINE</meeting>\\n\\t\\t<imprint>\\n\\t\\t\\t<date type=\"published\" when=\"2008\" />\\n\\t\\t</imprint>\\n\\t</monogr>\\n</biblStruct>\\n\\n\\t\\t\\t\\t</listBibl>\\n\\t\\t\\t</div>\\n\\t\\t</back>\\n\\t</text>\\n</TEI>\\n'"
     },
     "execution_count": 4,
     "metadata": {},
     "output_type": "execute_result"
    }
   ],
   "execution_count": 4
  },
  {
   "cell_type": "code",
   "source": [
    "sample_pres_text = utils.parse_presentation_xml(sample_xml_pres)\n",
    "sample_pres_text[0]"
   ],
   "metadata": {
    "colab": {
     "base_uri": "https://localhost:8080/",
     "height": 333
    },
    "id": "0ANc_UhWdb4P",
    "outputId": "8c40584a-da10-4fdc-d5f5-0e7a2d55c4cc",
    "ExecuteTime": {
     "end_time": "2024-04-10T00:38:28.397030Z",
     "start_time": "2024-04-10T00:38:28.389096Z"
    }
   },
   "outputs": [
    {
     "data": {
      "text/plain": "'Noam Nisan, Michael Schapira, Gregory Valiant, and Aviv Zohar'"
     },
     "execution_count": 5,
     "metadata": {},
     "output_type": "execute_result"
    }
   ],
   "execution_count": 5
  },
  {
   "cell_type": "code",
   "source": [
    "sample_paper_text = utils.parse_paper_xml(sample_xml_paper)\n",
    "sample_paper_text[0]"
   ],
   "metadata": {
    "id": "A2NuAWphdb4P",
    "ExecuteTime": {
     "end_time": "2024-04-10T00:38:28.413436Z",
     "start_time": "2024-04-10T00:38:28.398220Z"
    }
   },
   "outputs": [
    {
     "data": {
      "text/plain": "'The basic object of study in game theory and in economics is the equilibrium: a \"stable\" state from which none of the players wish to deviate. Equilibrium is a static concept that often abstracts away the question of how it is reached. Once we start looking at dynamics, or at algorithms for finding equilibria, we cannot escape questions of the form \"How is an equilibrium reached?\". While there can be different formalizations of this question, in most cases, a truly satisfactory answer would have each player performing only simple \"locally rational\" actions and yet, mysteriously, the system would reach a global equilibrium. The simplest example of such phenomena is repeated best-response dynamics: each player selects the best (locally optimal) response to what others are currently doing, and this process goes on \"for a while\" until it \"converges\" to what must be a (pure Nash) equilibrium. Convergence of repeated bestresponse is, unfortunately, not guaranteed in general, and is the subject of much research, as is the convergence of more sophisticated \"locallyrational\" dynamics, e.g., fictitious play or regret minimization.Our focus in this paper is on a different question that has received little attention so far: \"Is such locally rational behavior really rational?\". Specifically, we consider games in which repeated best-response dynamics do converge to an equilibrium and study the incentive properties of this process: Is it rational for players to repeatedly bestrespond? Can a long-sighted player improve, in the long run, over this repeated myopic optimization?These questions about incentives are best explored in the context of games with incomplete information. Switching our attention from games with complete information to games with uncoupled incomplete information, we see that repeated best-response exhibits another attractive trait: to best-respond each player need only know his own utility function (\"type\"), as his best response does not depend on other players\\' utility functions, but only on their actions. Thus, we can view bestresponse dynamics as a natural protocol for gradual and limited sharing of information in an effort to reach an equilibrium. Indeed, in many real-life contexts the interaction between decision makers with incomplete information takes the form of best-response dynamics (e.g., Internet routing [7]). When regarding best-response dynamics from this perspective, it is an indirect mechanism in the private-information mechanism-design sense. We wish to understand when such a mechanism, that dictates that all players repeatedly best-respond, is incentive compatible.'"
     },
     "execution_count": 6,
     "metadata": {},
     "output_type": "execute_result"
    }
   ],
   "execution_count": 6
  },
  {
   "cell_type": "code",
   "source": [
    "sample_paper_title = utils.parse_title(sample_xml_paper)\n",
    "print(sample_paper_title)"
   ],
   "metadata": {
    "id": "q1RE2aBldb4P",
    "ExecuteTime": {
     "end_time": "2024-04-10T00:38:28.418156Z",
     "start_time": "2024-04-10T00:38:28.414456Z"
    }
   },
   "outputs": [
    {
     "name": "stdout",
     "output_type": "stream",
     "text": [
      "Best-Response Mechanisms\n"
     ]
    }
   ],
   "execution_count": 7
  },
  {
   "cell_type": "code",
   "source": [
    "sample_pres_preprocessed = utils.preprocess_text(sample_pres_text)"
   ],
   "metadata": {
    "id": "7S4Gkn9Sdb4P",
    "ExecuteTime": {
     "end_time": "2024-04-10T00:38:28.433630Z",
     "start_time": "2024-04-10T00:38:28.418668Z"
    }
   },
   "outputs": [],
   "execution_count": 8
  },
  {
   "cell_type": "code",
   "source": [
    "sample_paper_preprocessed = utils.preprocess_text(sample_paper_text)"
   ],
   "metadata": {
    "id": "IfPoEVgfdb4P",
    "ExecuteTime": {
     "end_time": "2024-04-10T00:38:28.485274Z",
     "start_time": "2024-04-10T00:38:28.434640Z"
    }
   },
   "outputs": [],
   "execution_count": 9
  },
  {
   "cell_type": "code",
   "source": [
    "print(sample_pres_preprocessed[0])\n",
    "print(sample_paper_preprocessed[0])"
   ],
   "metadata": {
    "id": "qnzkDNmEdb4P",
    "ExecuteTime": {
     "end_time": "2024-04-10T00:38:28.491659Z",
     "start_time": "2024-04-10T00:38:28.487341Z"
    }
   },
   "outputs": [
    {
     "name": "stdout",
     "output_type": "stream",
     "text": [
      "['noam', 'nisan', 'michael', 'schapira', 'gregori', 'valiant', 'aviv', 'zohar']\n",
      "['basic', 'object', 'studi', 'game', 'theori', 'econom', 'equilibrium', 'stabl', 'state', 'none', 'player', 'wish', 'deviat', 'equilibrium', 'static', 'concept', 'often', 'abstract', 'away', 'question', 'reach', 'start', 'look', 'dynam', 'algorithm', 'find', 'equilibria', 'escap', 'question', 'form', 'equilibrium', 'reach', 'differ', 'formal', 'question', 'case', 'truli', 'satisfactori', 'answer', 'would', 'player', 'perform', 'simpl', 'local', 'ration', 'action', 'yet', 'mysteri', 'system', 'would', 'reach', 'global', 'equilibrium', 'simplest', 'exampl', 'phenomena', 'repeat', 'bestrespons', 'dynam', 'player', 'select', 'best', 'local', 'optim', 'respons', 'other', 'current', 'process', 'goe', 'converg', 'must', 'pure', 'nash', 'equilibrium', 'converg', 'repeat', 'bestrespons', 'unfortun', 'guarante', 'gener', 'subject', 'much', 'research', 'converg', 'sophist', 'locallyr', 'dynam', 'eg', 'fictiti', 'play', 'regret', 'minimizationour', 'focu', 'paper', 'differ', 'question', 'receiv', 'littl', 'attent', 'far', 'local', 'ration', 'behavior', 'realli', 'ration', 'specif', 'consid', 'game', 'repeat', 'bestrespons', 'dynam', 'converg', 'equilibrium', 'studi', 'incent', 'properti', 'process', 'ration', 'player', 'repeatedli', 'bestrespond', 'longsight', 'player', 'improv', 'long', 'run', 'repeat', 'myopic', 'optimizationthes', 'question', 'incent', 'best', 'explor', 'context', 'game', 'incomplet', 'inform', 'switch', 'attent', 'game', 'complet', 'inform', 'game', 'uncoupl', 'incomplet', 'inform', 'see', 'repeat', 'bestrespons', 'exhibit', 'anoth', 'attract', 'trait', 'bestrespond', 'player', 'need', 'know', 'util', 'function', 'type', 'best', 'respons', 'depend', 'player', 'util', 'function', 'action', 'thu', 'view', 'bestrespons', 'dynam', 'natur', 'protocol', 'gradual', 'limit', 'share', 'inform', 'effort', 'reach', 'equilibrium', 'inde', 'mani', 'reallif', 'context', 'interact', 'decis', 'maker', 'incomplet', 'inform', 'take', 'form', 'bestrespons', 'dynam', 'eg', 'internet', 'rout', '7', 'regard', 'bestrespons', 'dynam', 'perspect', 'indirect', 'mechan', 'privateinform', 'mechanismdesign', 'sens', 'wish', 'understand', 'mechan', 'dictat', 'player', 'repeatedli', 'bestrespond', 'incent', 'compat']\n"
     ]
    }
   ],
   "execution_count": 10
  },
  {
   "cell_type": "code",
   "source": [
    "presentation_word_model = Word2Vec(sentences = sample_pres_preprocessed, vector_size = 50, window = 5, min_count = 1, workers = 3, sg = 1)\n",
    "paper_word_model = Word2Vec(sentences = sample_paper_preprocessed, vector_size = 50, window = 5, min_count = 1, workers = 3, sg = 1)"
   ],
   "metadata": {
    "id": "OLL6deywdb4P",
    "ExecuteTime": {
     "end_time": "2024-04-10T00:38:28.577052Z",
     "start_time": "2024-04-10T00:38:28.492788Z"
    }
   },
   "outputs": [],
   "execution_count": 11
  },
  {
   "cell_type": "code",
   "source": [
    "print(presentation_word_model)\n",
    "print(paper_word_model)"
   ],
   "metadata": {
    "id": "Ju1zL57idb4Q",
    "ExecuteTime": {
     "end_time": "2024-04-10T00:38:28.581334Z",
     "start_time": "2024-04-10T00:38:28.578127Z"
    }
   },
   "outputs": [
    {
     "name": "stdout",
     "output_type": "stream",
     "text": [
      "Word2Vec<vocab=187, vector_size=50, alpha=0.025>\n",
      "Word2Vec<vocab=829, vector_size=50, alpha=0.025>\n"
     ]
    }
   ],
   "execution_count": 12
  },
  {
   "cell_type": "code",
   "source": [
    "EMBEDDING_PRES_MODEL_FILE = \"pres_word_model.txt\"\n",
    "EMBEDDING_PAPER_MODEL_FILE = \"paper_word_model.txt\"\n",
    "\n",
    "presentation_word_model.wv.save_word2vec_format(EMBEDDING_PRES_MODEL_FILE, binary=False)\n",
    "paper_word_model.wv.save_word2vec_format(EMBEDDING_PAPER_MODEL_FILE, binary=False)"
   ],
   "metadata": {
    "id": "QtVBBA73db4Q",
    "ExecuteTime": {
     "end_time": "2024-04-10T00:38:28.610208Z",
     "start_time": "2024-04-10T00:38:28.582392Z"
    }
   },
   "outputs": [],
   "execution_count": 13
  },
  {
   "cell_type": "code",
   "source": [
    "presentation_folder = \"sample_data/presentations\"   #Original: \"dataset/presentations\"\n",
    "paper_folder = \"sample_data/papers\"                 #Original: \"dataset/papers\"\n",
    "\n",
    "papers_data = []\n",
    "presentations_data = []\n",
    "id2label = {}\n",
    "label2id = {}\n",
    "unknowns = 0\n",
    "\n",
    "# Loop through presentation XML files\n",
    "for presentation_file in os.listdir(presentation_folder):\n",
    "    file_path = os.path.join(presentation_folder, presentation_file)\n",
    "    if os.path.isfile(file_path):\n",
    "      file_content = utils.read_file(file_path)\n",
    "      if file_content:\n",
    "          # Parse presentation XML\n",
    "          presentation_data = utils.parse_presentation_xml(file_content)\n",
    "          # Preprocess presentation data\n",
    "          # preprocessed_presentation_data = utils.preprocess_text(presentation_data)\n",
    "          # presentations_data.append(preprocessed_presentation_data)\n",
    "          presentations_data.append(presentation_data)\n",
    "\n",
    "# Loop through paper XML files\n",
    "for idx, paper_file in enumerate(os.listdir(paper_folder)):\n",
    "    file_path = os.path.join(paper_folder, paper_file)\n",
    "    file_content = utils.read_file(file_path)\n",
    "    if file_content:\n",
    "        # Parse paper XML\n",
    "        paper_data = utils.parse_paper_xml(file_content)\n",
    "        # Preprocess paper data\n",
    "        # preprocessed_paper_data = utils.preprocess_text(paper_data)\n",
    "        title = utils.parse_title(file_content)\n",
    "        if title is not None:\n",
    "            # Check if title is already in label2id\n",
    "            if title not in label2id:\n",
    "                # If title is not in label2id, add it directly\n",
    "                id2label[idx] = title\n",
    "                label2id[title] = idx\n",
    "            else:\n",
    "                # If title is already in label2id, generate a unique title\n",
    "                unique_title = f\"{title}_{idx}\"\n",
    "                id2label[idx] = unique_title\n",
    "                label2id[unique_title] = idx\n",
    "            # Append paper data\n",
    "        else:\n",
    "            unknowns += 1  # Increment unknowns counter\n",
    "            unique_title = f\"unknown_{idx}\"\n",
    "            id2label[idx] = unique_title\n",
    "            label2id[unique_title] = idx\n",
    "        # papers_data.append(preprocessed_paper_data)\n",
    "        papers_data.append(paper_data)\n",
    "data = {\n",
    "    \"papers\": papers_data,\n",
    "    \"presentations\": presentations_data\n",
    "}\n",
    "# presentation_to_paper = utils.create_presentation_to_paper_mapping(presentation_folder, paper_folder)\n",
    "#\n",
    "# presentations_data = utils.process_presentation_folder(presentation_folder)\n",
    "# papers_data = utils.process_papers_folder(paper_folder)\n",
    "\n"
   ],
   "metadata": {
    "id": "j8AdV2bqdb4Q",
    "ExecuteTime": {
     "end_time": "2024-04-10T00:38:28.710189Z",
     "start_time": "2024-04-10T00:38:28.611339Z"
    }
   },
   "outputs": [],
   "execution_count": 14
  },
  {
   "cell_type": "code",
   "source": [
    "# print(presentations_data[0])\n",
    "# print(papers_data[3])\n",
    "# print(data)\n",
    "for idx in range(5):\n",
    "    paper = data[\"papers\"][idx][0] if idx < len(data[\"papers\"]) and data[\"papers\"][idx] else \"N/A\"\n",
    "    presentation = data[\"presentations\"][idx][0] if idx < len(data[\"presentations\"]) and data[\"presentations\"][idx] else \"N/A\"\n",
    "    print(f\"Pair {idx+1}:\")\n",
    "    print(\"Paper:\", paper)\n",
    "    print(\"Presentation:\", presentation)\n",
    "    print()"
   ],
   "metadata": {
    "id": "f6Ik2bemdb4Q",
    "ExecuteTime": {
     "end_time": "2024-04-10T00:38:28.715504Z",
     "start_time": "2024-04-10T00:38:28.711288Z"
    }
   },
   "outputs": [
    {
     "name": "stdout",
     "output_type": "stream",
     "text": [
      "Pair 1:\n",
      "Paper: The basic object of study in game theory and in economics is the equilibrium: a \"stable\" state from which none of the players wish to deviate. Equilibrium is a static concept that often abstracts away the question of how it is reached. Once we start looking at dynamics, or at algorithms for finding equilibria, we cannot escape questions of the form \"How is an equilibrium reached?\". While there can be different formalizations of this question, in most cases, a truly satisfactory answer would have each player performing only simple \"locally rational\" actions and yet, mysteriously, the system would reach a global equilibrium. The simplest example of such phenomena is repeated best-response dynamics: each player selects the best (locally optimal) response to what others are currently doing, and this process goes on \"for a while\" until it \"converges\" to what must be a (pure Nash) equilibrium. Convergence of repeated bestresponse is, unfortunately, not guaranteed in general, and is the subject of much research, as is the convergence of more sophisticated \"locallyrational\" dynamics, e.g., fictitious play or regret minimization.Our focus in this paper is on a different question that has received little attention so far: \"Is such locally rational behavior really rational?\". Specifically, we consider games in which repeated best-response dynamics do converge to an equilibrium and study the incentive properties of this process: Is it rational for players to repeatedly bestrespond? Can a long-sighted player improve, in the long run, over this repeated myopic optimization?These questions about incentives are best explored in the context of games with incomplete information. Switching our attention from games with complete information to games with uncoupled incomplete information, we see that repeated best-response exhibits another attractive trait: to best-respond each player need only know his own utility function (\"type\"), as his best response does not depend on other players' utility functions, but only on their actions. Thus, we can view bestresponse dynamics as a natural protocol for gradual and limited sharing of information in an effort to reach an equilibrium. Indeed, in many real-life contexts the interaction between decision makers with incomplete information takes the form of best-response dynamics (e.g., Internet routing [7]). When regarding best-response dynamics from this perspective, it is an indirect mechanism in the private-information mechanism-design sense. We wish to understand when such a mechanism, that dictates that all players repeatedly best-respond, is incentive compatible.\n",
      "Presentation: Noam Nisan, Michael Schapira, Gregory Valiant, and Aviv Zohar\n",
      "\n",
      "Pair 2:\n",
      "Paper: Problem. Schumacher convinced to win on Sunday. When this news headline is fed into modern tools for Named Entity Disambiguation (NED), virtually all of them would map the mention Schumacher onto the former Formula One champion Michael Schumacher, as the best-fitting entity from a Wikipedia-centric knowledge base (KB). However, knowing that Sunday refers to August 14, 1949, i.e., ignoring the surface form but exploiting normalized information, it becomes clear that the text actually refers to the German politician Kurt Schumacher. State-of-the-art NED methods (see surveys by Hachey et al. (2013), Ling et al. (2015), Shen et al. (2015)) tend to miss this because they are designed and trained for temporally focused input corpora such as current news, and do not cope well with longitudinal archives and other diachronic corpora that span decades. Standard NED benchmarks from CoNLL and TAC do not reflect this difficulty either. 1 The diaNED corpus and the temporal signatures of entities are publicly available: https://www.mpi-inf. mpg.de/yago-naga/dianed/. What is needed here is a better way of capturing temporal context, for both the mention Schumacher and each of the candidate entities. Figure 1 illustrates \"time profiles\" for sample entities with highly ambiguous names. Normalized temporal information from the input context, such as Sunday (1949-08-14), can provide additional cues for proper disambiguation. The problem addressed in this paper is how to model and capture temporal contexts and how to enhance NED with this novel asset. Contribution. Our approach to this problem is to compute temporal signatures for entities in the KB, and to use these as expressive features when comparing candidate entities against the context of an input mention. Temporal signatures are embeddings that reflect the importance of different years for entities. They are automatically constructed by extracting and normalizing temporal expressions in entity descriptions such as Wikipedia articles. Analogously, temporal signals are captured in the contexts of textual mentions and represented by embeddings.The time-aware NED method that we devise with these features can robustly cope with inputs from diachronic corpora. We propose a new evaluation benchmark, based on the New York Times Archive, spanning more than 20 years, and the history collection historynet.com, spanning several centuries. Our experiments demonstrate that timeaware NED substantially outperforms some of the best standard NED tools.\n",
      "Presentation: diaNED: Time-Aware Named Entity Disambiguation for Diachronic Corpora Prabal Agarwal1, Jannik Strotgen1,2, Luciano del Corro3, Johannes Hoffart3, Ger hard Weikum1 July 18, 2018\n",
      "\n",
      "Pair 3:\n",
      "Paper: Query auto-completion (QAC) is a feature used by search engines that provides a list of suggested queries for the user as they are typing. For instance, if the user types the prefix \"mete\" then the system might suggest \"meters\" or \"meteorite\" as completions. This feature can save the user time and reduce cognitive load (Cai et al., 2016).Most approaches to QAC are extensions of the Most Popular Completion (MPC) algorithm (Bar- Yossef and Kraus, 2011). MPC suggests completions based on the most popular queries in the training data that match the specified prefix. One way to improve MPC is to consider additional signals such as temporal information (Shokouhi and Radinsky, 2012;Whiting and Jose, 2014) or information gleaned from a users' past queries (Shok- ouhi, 2013). This paper deals with the latter of those two signals, i.e. personalization. Personalization relies on the fact that query likelihoods are drastically different among different people depending on their needs and interests.Recently, Park and Chiba (2017) suggested a significantly different approach to QAC. In their\n",
      "Presentation: Personalized Language Model for Query Auto-Completion Aaron Jaech and Mari Ostendorf University of Washington\n",
      "\n",
      "Pair 4:\n",
      "Paper: Language, and therefore data derived from language, changes over time (Ullmann, 1962). Word senses can shift over long periods of time (Wilkins, 1993;Wijaya and Yeniterzi, 2011;Hamilton et al., 2016), and written language can change rapidly in online platforms ( Eisenstein et al., 2014;Goel et al., 2016). However, little is known about how shifts in text over time affect the performance of language processing systems.This paper focuses on a standard text processing task, document classification, to provide insight into how classification performance varies with time. We consider both long-term variations in text over time and seasonal variations which change throughout a year but repeat across years. Our empirical study considers corpora containing formal text spanning decades as well as usergenerated content spanning only a few years.After describing the datasets and experiment design, this paper has two main sections, respectively addressing the following research questions:1. In what ways does document classification depend on the timestamps of the documents?2. Can document classifiers be adapted to perform better in time-varying corpora?To address question 1, we train and test on data from different time periods, to understand how performance varies with time. To address question 2, we apply a domain adaptation approach, treating time intervals as domains. We show that in most cases this approach can lead to improvements in classification performance, even on future time intervals.\n",
      "Presentation: Examining Temporality in Document Classification Xiaolei Huang Michael J. Paul University of Colorado Boulder\n",
      "\n",
      "Pair 5:\n",
      "Paper: Contextual, or 'data-to-text' natural language generation is one of the core tasks in natural language processing and has a considerable impact on various fields (Gatt and Krahmer, 2017). Within the field of recommender systems, a promising application is to estimate (or generate) personalized reviews that a user would write about a product, i.e., to discover their nuanced opinions about each of its individual aspects. A successful model could work (for instance) as (a) a highly-nuanced recommender system that tells users their likely reaction to a product in the form of text fragments; (b) a writing tool that helps users 'brainstorm' the review-writing process; or (c) a querying system that facilitates personalized natural language queries (i.e., to find items about which a user would be most likely to write a particular phrase). Some recent works have explored the review generation task and shown success in generating cohesive reviews ( Dong et al., 2017;Ni et al., 2017;Zang and Wan, 2017). Most of these works treat the user and item identity as input; we seek a system with more nuance and more precision by allowing users to 'guide' the model via short phrases, or auxiliary data such as item specifications. For example, a review writing assistant might allow users to write short phrases and expand these key points into a plausible review.Review text has been widely studied in traditional tasks such as aspect extraction (Mukherjee and Liu, 2012;He et al., 2017), extraction of sentiment lexicons ( Zhang et al., 2014), and aspectaware sentiment analysis ( Wang et al., 2016;McAuley et al., 2012). These works are related to review generation since they can provide prior knowledge to supervise the generative process. We are interested in exploring how such knowledge (e.g. extracted aspects) can be used in the review generation task.In this paper, we focus on designing a review generation model that is able to leverage both user and item information as well as auxiliary, textual input and aspect-aware knowledge. Specifically, we study the task of expanding short phrases into complete, coherent reviews that accurately reflect the opinions and knowledge learned from those phrases.These short phrases could include snippets provided by the user, or manifest aspects about the items themselves (e.g. brand words, technical specifications, etc.). We propose an encoderdecoder framework that takes into consideration three encoders (a sequence encoder, an attribute encoder, and an aspect encoder), and one decoder. The sequence encoder uses a gated recurrent unit   (GRU) network to encode text information; the attribute encoder learns a latent representation of user and item identity; finally, the aspect encoder finds an aspect-aware representation of users and items, which reflects user-aspect preferences and item-aspect relationships. The aspect-aware representation is helpful to discover what each user is likely to discuss about each item. Finally, the output of these encoders is passed to the sequence decoder with an attention fusion layer. The decoder attends on the encoded information and biases the model to generate words that are consistent with the input phrases and words belonging to the most relevant aspects.\n",
      "Presentation: Personalized Review Generation by Expanding Phrases and Attending on Aspect-Aware Representations Jianmo Ni and Julian McAuley UC San Diego July 2018\n",
      "\n"
     ]
    }
   ],
   "execution_count": 15
  },
  {
   "cell_type": "code",
   "source": [
    "labels = []\n",
    "for key, value in label2id.items():\n",
    "    labels.append(value)"
   ],
   "metadata": {
    "id": "8yKx3uvqdb4Q",
    "ExecuteTime": {
     "end_time": "2024-04-10T00:38:28.724703Z",
     "start_time": "2024-04-10T00:38:28.716041Z"
    }
   },
   "outputs": [],
   "execution_count": 16
  },
  {
   "cell_type": "code",
   "source": [
    "# print(label2id)\n",
    "# print(labels)\n",
    "print(len(presentations_data))\n",
    "print(len(papers_data))\n",
    "print(len(label2id))\n",
    "print(len(labels))\n",
    "print(unknowns)"
   ],
   "metadata": {
    "id": "QTuhu7Ordb4Q",
    "ExecuteTime": {
     "end_time": "2024-04-10T00:38:28.734423Z",
     "start_time": "2024-04-10T00:38:28.725344Z"
    }
   },
   "outputs": [
    {
     "name": "stdout",
     "output_type": "stream",
     "text": [
      "6\n",
      "6\n",
      "6\n",
      "6\n",
      "0\n"
     ]
    }
   ],
   "execution_count": 17
  },
  {
   "cell_type": "code",
   "source": [
    "## distilBERT tokenizer to preprocess\n",
    "tokenizer = AutoTokenizer.from_pretrained(\"distilbert/distilbert-base-uncased\")"
   ],
   "metadata": {
    "id": "BVLIYEZ7db4Q",
    "ExecuteTime": {
     "end_time": "2024-04-10T00:38:28.822426Z",
     "start_time": "2024-04-10T00:38:28.734952Z"
    }
   },
   "outputs": [],
   "execution_count": 18
  },
  {
   "cell_type": "code",
   "source": [],
   "metadata": {
    "id": "-p0GWz-uBhbU",
    "ExecuteTime": {
     "end_time": "2024-04-10T00:38:28.826097Z",
     "start_time": "2024-04-10T00:38:28.823430Z"
    }
   },
   "outputs": [],
   "execution_count": 18
  },
  {
   "cell_type": "code",
   "source": [
    "## split into train and test sets with labels\n",
    "#presentation_data = utils.stringify(data[\"presentations\"])\n",
    "#print(data[\"presentations\"])\n",
    "#print(presentation_data)\n",
    "#print(len(presentation_data))\n",
    "X_train, X_test, y_train, y_test = train_test_split(data[\"presentations\"], labels, test_size=0.2, train_size=0.8, random_state=42)\n",
    "\n",
    "train_text = []\n",
    "test_text = []\n",
    "train_label = []\n",
    "test_label = []\n",
    "max_length = 511\n",
    "\n",
    "for text, label in zip(X_train, y_train):\n",
    "    # Tokenize the text\n",
    "    tokenized_text = tokenizer(' '.join(text), truncation=True, max_length=max_length, return_overflowing_tokens=False)\n",
    "\n",
    "    # Convert the token IDs back to tokens\n",
    "    truncated_text = tokenizer.decode(tokenized_text[\"input_ids\"], skip_special_tokens=True)\n",
    "\n",
    "    # Append the truncated text to the list\n",
    "    train_text.append(truncated_text)\n",
    "    train_label.append(label)\n",
    "\n",
    "for text, label in zip(X_test, y_test):\n",
    "    # Tokenize the text\n",
    "    tokenized_text = tokenizer(' '.join(text), truncation=True, max_length=max_length, return_overflowing_tokens=False)\n",
    "\n",
    "    # Convert the token IDs back to tokens\n",
    "    truncated_text = tokenizer.decode(tokenized_text[\"input_ids\"], skip_special_tokens=True)\n",
    "\n",
    "    # Append the truncated text to the list\n",
    "    test_text.append(truncated_text)\n",
    "    test_label.append(label)\n",
    "    \n",
    "#print(train_text)\n",
    "\n",
    "#train_text = utils.stringify(train_data[\"text\"])\n",
    "#print(train_text[0])\n",
    "\n",
    "#test_text = utils.stringify(test_data[\"text\"])\n",
    "#print(test_text)\n",
    "#print(len(test_text))\n",
    "#print(len(test_label))\n",
    "\n",
    "train_dict = {\n",
    "    \"label\": train_label,\n",
    "    \"text\": train_text\n",
    "}\n",
    "\n",
    "test_dict = {\n",
    "    \"label\": test_label,\n",
    "    \"text\": test_text\n",
    "}\n",
    "\n",
    "train_data = Dataset.from_dict(train_dict)\n",
    "test_data = Dataset.from_dict(test_dict)\n",
    "\n",
    "print(test_data[1])\n",
    "print(train_data[1])\n"
   ],
   "metadata": {
    "id": "KCKFdzUjdb4R",
    "ExecuteTime": {
     "end_time": "2024-04-10T00:44:52.410766Z",
     "start_time": "2024-04-10T00:44:52.317927Z"
    }
   },
   "outputs": [
    {
     "name": "stdout",
     "output_type": "stream",
     "text": [
      "{'label': 1, 'text': 'dianed : time - aware named entity disambiguation for diachronic corpora prabal agarwal1, jannik strotgen1, 2, luciano del corro3, johannes hoffart3, ger hard weikum1 july 18, 2018 bush to stress domestic issues in speech. ( year 1989 ) george w. bush george h. w. bush bush to stress domestic issues in speech. ( year 1989 ) george w. bush george h. w. bush bush to stress domestic issues in speech. ( year 1989 ) george w. bush george h. w. bush bush to stress domestic issues in speech. ( year 1989 ) george w. bush george h. w. bush table of contents introduction problem description given : set of entity mentions m in a document. entities : entries in a knowledge base ( kb ). task : link each m, where m m, to its correct entry in kb, if available. predict as an ookbe, otherwise. named entity disambiguation in 1959, david pearson exhibited as part of the young contemporaries exhibition in london. ( en. wikipedia. org / wiki / dave pearson ( painter ) ) in 1981, with a small number of bnr colleagues, david pearson left to found orcatech inc. ( en. wikipedia. org / wiki / david pearson ( computer scientist ) ) david pearson raced for hoss ellington during the 1980 season. ( en. wikipedia. org / wiki / david pearson ( racing driver ) ) named entity disambiguation in 1959, david pearson exhibited as part of the young contemporaries exhibition in london. ( en. wikipedia. org / wiki / dave pearson ( painter ) ) in 1981, with a small number of bnr colleagues, david pearson left to found orcatech inc. ( en. wikipedia. org / wiki / david pearson ( computer scientist ) ) david pearson raced for hoss ellington during the 1980 season. ( en. wikipedia. org / wiki / david pearson ( racing driver ) ) context evolution popularity - based models mihalcea and csomai, 2007 [ 7 ] entity popularity and mention - entity prior probabilities. leverages anchor links structure. david pearson dave pearson ( painter ) 0. 1 david pearson david pearson ( computer scientist ) 0. 03 local models bunescu and pasca, 2006 [ 2 ] ; cucerzan, 2007 [ 3 ] ; milne and witten, 2008 [ 8 ] similarity with immediate'}\n",
      "{'label': 2, 'text': 'personalized language model for query auto - completion aaron jaech and mari ostendorf university of washington query auto - completion search engine suggests queries as the user types idea from park & chiba ( 2017 ) : use an lstm to generate completions memory savings over most popular completion handles previously unseen prefixes can we do better by adapting the lm to provide personalized suggestions? rnn language model adaptation learn an embedding, c, for each user and use it to adapt the predictions method # 1 : concatenate the user embedding with the input at each step * same as applying a constant linear shift to the bias vector ( in recurrent & output layers ) leaves most of the recurrent model parameters unchanged method # 2 : low - rank adaptation of recurrent weight matrix ( factorcell model ) concatenating the user embedding is the same as shifting the bias. \" =\\'= \"\\') *, \\', + =\\') *,\\'+ + user embedding word embedding adjust b and w! 0 * referred to here as concatcell ( mikolov & zweig, 2012 ) w0 + wa = c llll cr low - rank adaptationgeneric weightsadapted weights ( e + h ) x h ( e + h ) x h k x ( e + h ) x r r x h x k1 x k k x 1 factorcell model the adaptation matrix is formed from a product of the context embedding with left and right bases. the two bases tensors ( l and r ) hold k different rank r matrices, each the same size as w. context vectors give a weighted combination. learning user embeddings, recurrent layer weights and { l, r } tensor learned jointly need online learning to adapt to users that were not previously seen in joint training, learn a cold - start embedding for set of infrequent users during evaluation initialize each users embedding with learned cold - start vector make query suggestions after user selects a query, back - propagate and only update the user embedding data & experiments using aol 2006 query log data, 173k users and 12 million queries for training user embedding size = 32, lstm size = 600 evaluate on 500k queries with disjoint user population mean reciprocal rank ( mrr ) as a metric experimental results m ea n re ci pr oc al r an k performance for users'}\n"
     ]
    }
   ],
   "execution_count": 19
  },
  {
   "cell_type": "code",
   "source": [
    "## preprocessing function to apply tokenizer over whole dataset\n",
    "def preprocess_function(data):\n",
    "    return tokenizer(data[\"text\"],padding=\"max_length\", truncation=True)"
   ],
   "metadata": {
    "id": "FkGXWNA0db4R",
    "ExecuteTime": {
     "end_time": "2024-04-10T00:45:22.694318Z",
     "start_time": "2024-04-10T00:45:22.690561Z"
    }
   },
   "outputs": [],
   "execution_count": 20
  },
  {
   "cell_type": "code",
   "source": [
    "## batch to process multiple at once for faster compute\n",
    "#print(train_data)\n",
    "#print(test_data)\n",
    "\n",
    "#print(len(train_data[\"text\"][0]))\n",
    "#print(len(test_data[\"text\"][0]))\n",
    "#preprocessed_data = [preprocess_function(item) for item in train_data[\"text\"][0]]\n",
    "tokenized_train_data = train_data.map(preprocess_function, batched=True)\n",
    "print(tokenized_train_data)\n",
    "\n",
    "tokenized_test_data = test_data.map(preprocess_function, batched=True)\n",
    "print(tokenized_test_data)"
   ],
   "metadata": {
    "id": "q-ellueudb4R",
    "ExecuteTime": {
     "end_time": "2024-04-10T00:45:23.340845Z",
     "start_time": "2024-04-10T00:45:23.254685Z"
    }
   },
   "outputs": [
    {
     "name": "stdout",
     "output_type": "stream",
     "text": [
      "huggingface/tokenizers: The current process just got forked, after parallelism has already been used. Disabling parallelism to avoid deadlocks...\n",
      "To disable this warning, you can either:\n",
      "\t- Avoid using `tokenizers` before the fork if possible\n",
      "\t- Explicitly set the environment variable TOKENIZERS_PARALLELISM=(true | false)\n"
     ]
    },
    {
     "data": {
      "text/plain": "Map:   0%|          | 0/4 [00:00<?, ? examples/s]",
      "application/vnd.jupyter.widget-view+json": {
       "version_major": 2,
       "version_minor": 0,
       "model_id": "efadf9d6e384448e9d8c47e883fecf55"
      }
     },
     "metadata": {},
     "output_type": "display_data"
    },
    {
     "name": "stderr",
     "output_type": "stream",
     "text": [
      "Asking to pad to max_length but no maximum length is provided and the model has no predefined maximum length. Default to no padding.\n",
      "Asking to truncate to max_length but no maximum length is provided and the model has no predefined maximum length. Default to no truncation.\n"
     ]
    },
    {
     "name": "stdout",
     "output_type": "stream",
     "text": [
      "Dataset({\n",
      "    features: ['label', 'text', 'input_ids', 'attention_mask'],\n",
      "    num_rows: 4\n",
      "})\n"
     ]
    },
    {
     "data": {
      "text/plain": "Map:   0%|          | 0/2 [00:00<?, ? examples/s]",
      "application/vnd.jupyter.widget-view+json": {
       "version_major": 2,
       "version_minor": 0,
       "model_id": "18730d3cf6264d0999d4a5b2092ac83c"
      }
     },
     "metadata": {},
     "output_type": "display_data"
    },
    {
     "name": "stdout",
     "output_type": "stream",
     "text": [
      "Dataset({\n",
      "    features: ['label', 'text', 'input_ids', 'attention_mask'],\n",
      "    num_rows: 2\n",
      "})\n"
     ]
    }
   ],
   "execution_count": 21
  },
  {
   "cell_type": "code",
   "source": [
    "## padding dynamically\n",
    "data_collator = DataCollatorWithPadding(tokenizer=tokenizer, return_tensors=\"tf\")"
   ],
   "metadata": {
    "id": "xLLuOr9Bdb4R",
    "ExecuteTime": {
     "end_time": "2024-04-10T00:45:29.247558Z",
     "start_time": "2024-04-10T00:45:29.242153Z"
    }
   },
   "outputs": [],
   "execution_count": 22
  },
  {
   "cell_type": "code",
   "source": [
    "accuracy = evaluate.load(\"accuracy\")"
   ],
   "metadata": {
    "id": "3g4T_czqdb4R",
    "ExecuteTime": {
     "end_time": "2024-04-10T00:45:30.806854Z",
     "start_time": "2024-04-10T00:45:29.835933Z"
    }
   },
   "outputs": [],
   "execution_count": 23
  },
  {
   "cell_type": "code",
   "source": [
    "## metrics function that passes preds and labels to compute metrics\n",
    "def compute_metrics(eval_preds):\n",
    "    predictions, labels = eval_preds\n",
    "    predictions = np.argmax(predictions, axis=1)\n",
    "    return accuracy.compute(predictions=predictions, references=labels)"
   ],
   "metadata": {
    "id": "NB6U2954db4R",
    "ExecuteTime": {
     "end_time": "2024-04-10T00:45:32.945806Z",
     "start_time": "2024-04-10T00:45:32.942029Z"
    }
   },
   "outputs": [],
   "execution_count": 24
  },
  {
   "cell_type": "code",
   "source": [
    "batch_size = 4\n",
    "num_epochs = 5\n",
    "batches_per_epoch = len(train_data) // batch_size\n",
    "total_train_steps = int(batches_per_epoch * num_epochs)\n",
    "# try 3e-5\n",
    "optimizer, schedule = create_optimizer(init_lr=2e-5, num_warmup_steps=0, num_train_steps=total_train_steps)"
   ],
   "metadata": {
    "id": "Gxnyj9LLdb4R",
    "ExecuteTime": {
     "end_time": "2024-04-10T00:45:35.073673Z",
     "start_time": "2024-04-10T00:45:35.043072Z"
    }
   },
   "outputs": [
    {
     "name": "stderr",
     "output_type": "stream",
     "text": [
      "WARNING:absl:At this time, the v2.11+ optimizer `tf.keras.optimizers.Adam` runs slowly on M1/M2 Macs, please use the legacy Keras optimizer instead, located at `tf.keras.optimizers.legacy.Adam`.\n"
     ]
    }
   ],
   "execution_count": 25
  },
  {
   "cell_type": "code",
   "source": [
    "model = TFAutoModelForSequenceClassification.from_pretrained(\n",
    "    \"distilbert/distilbert-base-uncased\", num_labels=len(labels), id2label=id2label, label2id=label2id)\n"
   ],
   "metadata": {
    "id": "8aLtnJEGdb4R",
    "ExecuteTime": {
     "end_time": "2024-04-10T00:45:55.484735Z",
     "start_time": "2024-04-10T00:45:53.027977Z"
    }
   },
   "outputs": [
    {
     "name": "stderr",
     "output_type": "stream",
     "text": [
      "Some weights of the PyTorch model were not used when initializing the TF 2.0 model TFDistilBertForSequenceClassification: ['vocab_projector.bias', 'vocab_layer_norm.weight', 'vocab_transform.weight', 'vocab_transform.bias', 'vocab_layer_norm.bias']\n",
      "- This IS expected if you are initializing TFDistilBertForSequenceClassification from a PyTorch model trained on another task or with another architecture (e.g. initializing a TFBertForSequenceClassification model from a BertForPreTraining model).\n",
      "- This IS NOT expected if you are initializing TFDistilBertForSequenceClassification from a PyTorch model that you expect to be exactly identical (e.g. initializing a TFBertForSequenceClassification model from a BertForSequenceClassification model).\n",
      "Some weights or buffers of the TF 2.0 model TFDistilBertForSequenceClassification were not initialized from the PyTorch model and are newly initialized: ['pre_classifier.weight', 'pre_classifier.bias', 'classifier.weight', 'classifier.bias']\n",
      "You should probably TRAIN this model on a down-stream task to be able to use it for predictions and inference.\n"
     ]
    }
   ],
   "execution_count": 26
  },
  {
   "cell_type": "code",
   "source": [
    "print(train_data)\n",
    "#print(tokenized_train_data[\"label\"])\n",
    "#print(tokenized_train_data[\"text\"])\n",
    "#print(tokenized_train_data[\"input_ids\"])\n",
    "#print(tokenized_train_data[\"attention-mask\"])\n",
    "#print(train_data[\"attention-mask\"])\n",
    "tf_train_set = model.prepare_tf_dataset(\n",
    "    tokenized_train_data,\n",
    "    shuffle=True,\n",
    "    batch_size=1,\n",
    "    collate_fn=data_collator,\n",
    ")\n",
    "\n",
    "tf_test_set = model.prepare_tf_dataset(\n",
    "    tokenized_test_data,\n",
    "    shuffle=False,\n",
    "    batch_size=1,\n",
    "    collate_fn=data_collator,\n",
    ")\n",
    "#print(tf_train_set)"
   ],
   "metadata": {
    "id": "yzs4SvIfdb4R",
    "ExecuteTime": {
     "end_time": "2024-04-10T00:46:20.012694Z",
     "start_time": "2024-04-10T00:46:19.631685Z"
    }
   },
   "outputs": [
    {
     "name": "stderr",
     "output_type": "stream",
     "text": [
      "You're using a DistilBertTokenizerFast tokenizer. Please note that with a fast tokenizer, using the `__call__` method is faster than using a method to encode the text followed by a call to the `pad` method to get a padded encoding.\n"
     ]
    },
    {
     "name": "stdout",
     "output_type": "stream",
     "text": [
      "Dataset({\n",
      "    features: ['label', 'text'],\n",
      "    num_rows: 4\n",
      "})\n"
     ]
    }
   ],
   "execution_count": 27
  },
  {
   "cell_type": "code",
   "source": [
    "model.compile(optimizer='adam', loss='sparse_categorical_crossentropy', metrics=['accuracy'])"
   ],
   "metadata": {
    "id": "8ofKM1CHdb4R",
    "ExecuteTime": {
     "end_time": "2024-04-10T00:46:22.791168Z",
     "start_time": "2024-04-10T00:46:22.776988Z"
    }
   },
   "outputs": [],
   "execution_count": 39
  },
  {
   "cell_type": "code",
   "source": [
    "metric_callback = KerasMetricCallback(metric_fn=compute_metrics, eval_dataset=tf_test_set)"
   ],
   "metadata": {
    "id": "DaVIOc5tdb4R",
    "ExecuteTime": {
     "end_time": "2024-04-10T00:46:23.594154Z",
     "start_time": "2024-04-10T00:46:23.589137Z"
    }
   },
   "outputs": [],
   "execution_count": 40
  },
  {
   "cell_type": "code",
   "source": [
    "!pip install huggingface_hub\n",
    "import huggingface_hub\n",
    "#huggingface_hub.login()\n",
    "\n",
    "push_to_hub_callback = PushToHubCallback(\n",
    "    output_dir=\"CS4120final\",\n",
    "    tokenizer=tokenizer,\n",
    ")\n",
    "\n"
   ],
   "metadata": {
    "id": "JJrRMAcbdb4R",
    "ExecuteTime": {
     "end_time": "2024-04-10T00:46:29.327130Z",
     "start_time": "2024-04-10T00:46:25.300797Z"
    }
   },
   "outputs": [
    {
     "name": "stdout",
     "output_type": "stream",
     "text": [
      "huggingface/tokenizers: The current process just got forked, after parallelism has already been used. Disabling parallelism to avoid deadlocks...\n",
      "To disable this warning, you can either:\n",
      "\t- Avoid using `tokenizers` before the fork if possible\n",
      "\t- Explicitly set the environment variable TOKENIZERS_PARALLELISM=(true | false)\n",
      "Requirement already satisfied: huggingface_hub in /Users/joshuasegal/anaconda3/lib/python3.11/site-packages (0.15.1)\r\n",
      "Requirement already satisfied: filelock in /Users/joshuasegal/anaconda3/lib/python3.11/site-packages (from huggingface_hub) (3.9.0)\r\n",
      "Requirement already satisfied: fsspec in /Users/joshuasegal/anaconda3/lib/python3.11/site-packages (from huggingface_hub) (2023.4.0)\r\n",
      "Requirement already satisfied: requests in /Users/joshuasegal/anaconda3/lib/python3.11/site-packages (from huggingface_hub) (2.31.0)\r\n",
      "Requirement already satisfied: tqdm>=4.42.1 in /Users/joshuasegal/anaconda3/lib/python3.11/site-packages (from huggingface_hub) (4.65.0)\r\n",
      "Requirement already satisfied: pyyaml>=5.1 in /Users/joshuasegal/anaconda3/lib/python3.11/site-packages (from huggingface_hub) (6.0)\r\n",
      "Requirement already satisfied: typing-extensions>=3.7.4.3 in /Users/joshuasegal/anaconda3/lib/python3.11/site-packages (from huggingface_hub) (4.7.1)\r\n",
      "Requirement already satisfied: packaging>=20.9 in /Users/joshuasegal/anaconda3/lib/python3.11/site-packages (from huggingface_hub) (23.1)\r\n",
      "Requirement already satisfied: charset-normalizer<4,>=2 in /Users/joshuasegal/anaconda3/lib/python3.11/site-packages (from requests->huggingface_hub) (2.0.4)\r\n",
      "Requirement already satisfied: idna<4,>=2.5 in /Users/joshuasegal/anaconda3/lib/python3.11/site-packages (from requests->huggingface_hub) (3.4)\r\n",
      "Requirement already satisfied: urllib3<3,>=1.21.1 in /Users/joshuasegal/anaconda3/lib/python3.11/site-packages (from requests->huggingface_hub) (1.26.16)\r\n",
      "Requirement already satisfied: certifi>=2017.4.17 in /Users/joshuasegal/anaconda3/lib/python3.11/site-packages (from requests->huggingface_hub) (2024.2.2)\r\n"
     ]
    },
    {
     "name": "stderr",
     "output_type": "stream",
     "text": [
      "/Users/joshuasegal/Coding/Jupyter/NLP/final/CS4120final is already a clone of https://huggingface.co/Joshua-Segal/CS4120final. Make sure you pull the latest changes with `repo.git_pull()`.\n",
      "WARNING:huggingface_hub.repository:/Users/joshuasegal/Coding/Jupyter/NLP/final/CS4120final is already a clone of https://huggingface.co/Joshua-Segal/CS4120final. Make sure you pull the latest changes with `repo.git_pull()`.\n"
     ]
    },
    {
     "name": "stdout",
     "output_type": "stream",
     "text": [
      "huggingface/tokenizers: The current process just got forked, after parallelism has already been used. Disabling parallelism to avoid deadlocks...\n",
      "To disable this warning, you can either:\n",
      "\t- Avoid using `tokenizers` before the fork if possible\n",
      "\t- Explicitly set the environment variable TOKENIZERS_PARALLELISM=(true | false)\n",
      "huggingface/tokenizers: The current process just got forked, after parallelism has already been used. Disabling parallelism to avoid deadlocks...\n",
      "To disable this warning, you can either:\n",
      "\t- Avoid using `tokenizers` before the fork if possible\n",
      "\t- Explicitly set the environment variable TOKENIZERS_PARALLELISM=(true | false)\n",
      "huggingface/tokenizers: The current process just got forked, after parallelism has already been used. Disabling parallelism to avoid deadlocks...\n",
      "To disable this warning, you can either:\n",
      "\t- Avoid using `tokenizers` before the fork if possible\n",
      "\t- Explicitly set the environment variable TOKENIZERS_PARALLELISM=(true | false)\n",
      "huggingface/tokenizers: The current process just got forked, after parallelism has already been used. Disabling parallelism to avoid deadlocks...\n",
      "To disable this warning, you can either:\n",
      "\t- Avoid using `tokenizers` before the fork if possible\n",
      "\t- Explicitly set the environment variable TOKENIZERS_PARALLELISM=(true | false)\n",
      "huggingface/tokenizers: The current process just got forked, after parallelism has already been used. Disabling parallelism to avoid deadlocks...\n",
      "To disable this warning, you can either:\n",
      "\t- Avoid using `tokenizers` before the fork if possible\n",
      "\t- Explicitly set the environment variable TOKENIZERS_PARALLELISM=(true | false)\n",
      "huggingface/tokenizers: The current process just got forked, after parallelism has already been used. Disabling parallelism to avoid deadlocks...\n",
      "To disable this warning, you can either:\n",
      "\t- Avoid using `tokenizers` before the fork if possible\n",
      "\t- Explicitly set the environment variable TOKENIZERS_PARALLELISM=(true | false)\n",
      "huggingface/tokenizers: The current process just got forked, after parallelism has already been used. Disabling parallelism to avoid deadlocks...\n",
      "To disable this warning, you can either:\n",
      "\t- Avoid using `tokenizers` before the fork if possible\n",
      "\t- Explicitly set the environment variable TOKENIZERS_PARALLELISM=(true | false)\n",
      "huggingface/tokenizers: The current process just got forked, after parallelism has already been used. Disabling parallelism to avoid deadlocks...\n",
      "To disable this warning, you can either:\n",
      "\t- Avoid using `tokenizers` before the fork if possible\n",
      "\t- Explicitly set the environment variable TOKENIZERS_PARALLELISM=(true | false)\n",
      "huggingface/tokenizers: The current process just got forked, after parallelism has already been used. Disabling parallelism to avoid deadlocks...\n",
      "To disable this warning, you can either:\n",
      "\t- Avoid using `tokenizers` before the fork if possible\n",
      "\t- Explicitly set the environment variable TOKENIZERS_PARALLELISM=(true | false)\n",
      "huggingface/tokenizers: The current process just got forked, after parallelism has already been used. Disabling parallelism to avoid deadlocks...\n",
      "To disable this warning, you can either:\n",
      "\t- Avoid using `tokenizers` before the fork if possible\n",
      "\t- Explicitly set the environment variable TOKENIZERS_PARALLELISM=(true | false)\n",
      "huggingface/tokenizers: The current process just got forked, after parallelism has already been used. Disabling parallelism to avoid deadlocks...\n",
      "To disable this warning, you can either:\n",
      "\t- Avoid using `tokenizers` before the fork if possible\n",
      "\t- Explicitly set the environment variable TOKENIZERS_PARALLELISM=(true | false)\n"
     ]
    }
   ],
   "execution_count": 41
  },
  {
   "cell_type": "code",
   "source": [
    "callbacks = [metric_callback, push_to_hub_callback]"
   ],
   "metadata": {
    "id": "oeJ7SiOhdb4S",
    "ExecuteTime": {
     "end_time": "2024-04-10T00:46:35.083174Z",
     "start_time": "2024-04-10T00:46:35.079768Z"
    }
   },
   "outputs": [],
   "execution_count": 42
  },
  {
   "cell_type": "code",
   "source": [
    "print(len(tokenized_train_data[\"text\"][3]))"
   ],
   "metadata": {
    "id": "Qe6qMh68Do97",
    "ExecuteTime": {
     "end_time": "2024-04-10T00:46:36.534670Z",
     "start_time": "2024-04-10T00:46:36.529372Z"
    }
   },
   "outputs": [
    {
     "name": "stdout",
     "output_type": "stream",
     "text": [
      "2491\n"
     ]
    }
   ],
   "execution_count": 43
  },
  {
   "cell_type": "code",
   "source": [
    "print(tf_train_set)\n",
    "# model.fit(tf_train_set)\n",
    "model.fit(x=tf_train_set, validation_data=tf_test_set, epochs=3, callbacks=callbacks)"
   ],
   "metadata": {
    "id": "upHF-Ro5db4S",
    "ExecuteTime": {
     "end_time": "2024-04-10T00:46:53.579152Z",
     "start_time": "2024-04-10T00:46:42.375340Z"
    }
   },
   "outputs": [
    {
     "name": "stdout",
     "output_type": "stream",
     "text": [
      "<_PrefetchDataset element_spec=({'input_ids': TensorSpec(shape=(1, 511), dtype=tf.int64, name=None), 'attention_mask': TensorSpec(shape=(1, 511), dtype=tf.int64, name=None)}, TensorSpec(shape=(1,), dtype=tf.int64, name=None))>\n",
      "Epoch 1/3\n",
      "4/4 [==============================] - ETA: 0s - loss: 2.7974 - accuracy: 0.2500"
     ]
    },
    {
     "name": "stderr",
     "output_type": "stream",
     "text": [
      "2024-04-09 21:02:43.682898: I tensorflow/core/common_runtime/executor.cc:1197] [/device:CPU:0] (DEBUG INFO) Executor start aborting (this does not indicate an error and you can ignore this message): INVALID_ARGUMENT: You must feed a value for placeholder tensor 'Placeholder/_1' with dtype int64 and shape [1,511]\n",
      "\t [[{{node Placeholder/_1}}]]\n",
      "2024-04-09 21:02:44.193775: I tensorflow/core/common_runtime/executor.cc:1197] [/device:CPU:0] (DEBUG INFO) Executor start aborting (this does not indicate an error and you can ignore this message): INVALID_ARGUMENT: You must feed a value for placeholder tensor 'Placeholder/_1' with dtype int64 and shape [1,511]\n",
      "\t [[{{node Placeholder/_1}}]]\n"
     ]
    },
    {
     "name": "stdout",
     "output_type": "stream",
     "text": [
      "huggingface/tokenizers: The current process just got forked, after parallelism has already been used. Disabling parallelism to avoid deadlocks...\n",
      "To disable this warning, you can either:\n",
      "\t- Avoid using `tokenizers` before the fork if possible\n",
      "\t- Explicitly set the environment variable TOKENIZERS_PARALLELISM=(true | false)\n",
      "huggingface/tokenizers: The current process just got forked, after parallelism has already been used. Disabling parallelism to avoid deadlocks...\n",
      "To disable this warning, you can either:\n",
      "\t- Avoid using `tokenizers` before the fork if possible\n",
      "\t- Explicitly set the environment variable TOKENIZERS_PARALLELISM=(true | false)\n",
      "huggingface/tokenizers: The current process just got forked, after parallelism has already been used. Disabling parallelism to avoid deadlocks...\n",
      "To disable this warning, you can either:\n",
      "\t- Avoid using `tokenizers` before the fork if possible\n",
      "\t- Explicitly set the environment variable TOKENIZERS_PARALLELISM=(true | false)\n",
      "huggingface/tokenizers: The current process just got forked, after parallelism has already been used. Disabling parallelism to avoid deadlocks...\n",
      "To disable this warning, you can either:\n",
      "\t- Avoid using `tokenizers` before the fork if possible\n",
      "\t- Explicitly set the environment variable TOKENIZERS_PARALLELISM=(true | false)\n",
      "huggingface/tokenizers: The current process just got forked, after parallelism has already been used. Disabling parallelism to avoid deadlocks...\n",
      "To disable this warning, you can either:\n",
      "\t- Avoid using `tokenizers` before the fork if possible\n",
      "\t- Explicitly set the environment variable TOKENIZERS_PARALLELISM=(true | false)\n",
      "huggingface/tokenizers: The current process just got forked, after parallelism has already been used. Disabling parallelism to avoid deadlocks...\n",
      "To disable this warning, you can either:\n",
      "\t- Avoid using `tokenizers` before the fork if possible\n",
      "\t- Explicitly set the environment variable TOKENIZERS_PARALLELISM=(true | false)\n",
      "huggingface/tokenizers: The current process just got forked, after parallelism has already been used. Disabling parallelism to avoid deadlocks...\n",
      "To disable this warning, you can either:\n",
      "\t- Avoid using `tokenizers` before the fork if possible\n",
      "\t- Explicitly set the environment variable TOKENIZERS_PARALLELISM=(true | false)\n",
      "huggingface/tokenizers: The current process just got forked, after parallelism has already been used. Disabling parallelism to avoid deadlocks...\n",
      "To disable this warning, you can either:\n",
      "\t- Avoid using `tokenizers` before the fork if possible\n",
      "\t- Explicitly set the environment variable TOKENIZERS_PARALLELISM=(true | false)\n",
      "huggingface/tokenizers: The current process just got forked, after parallelism has already been used. Disabling parallelism to avoid deadlocks...\n",
      "To disable this warning, you can either:\n",
      "\t- Avoid using `tokenizers` before the fork if possible\n",
      "\t- Explicitly set the environment variable TOKENIZERS_PARALLELISM=(true | false)\n",
      "huggingface/tokenizers: The current process just got forked, after parallelism has already been used. Disabling parallelism to avoid deadlocks...\n",
      "To disable this warning, you can either:\n",
      "\t- Avoid using `tokenizers` before the fork if possible\n",
      "\t- Explicitly set the environment variable TOKENIZERS_PARALLELISM=(true | false)\n",
      "huggingface/tokenizers: The current process just got forked, after parallelism has already been used. Disabling parallelism to avoid deadlocks...\n",
      "To disable this warning, you can either:\n",
      "\t- Avoid using `tokenizers` before the fork if possible\n",
      "\t- Explicitly set the environment variable TOKENIZERS_PARALLELISM=(true | false)\n",
      "huggingface/tokenizers: The current process just got forked, after parallelism has already been used. Disabling parallelism to avoid deadlocks...\n",
      "To disable this warning, you can either:\n",
      "\t- Avoid using `tokenizers` before the fork if possible\n",
      "\t- Explicitly set the environment variable TOKENIZERS_PARALLELISM=(true | false)\n",
      "huggingface/tokenizers: The current process just got forked, after parallelism has already been used. Disabling parallelism to avoid deadlocks...\n",
      "To disable this warning, you can either:\n",
      "\t- Avoid using `tokenizers` before the fork if possible\n",
      "\t- Explicitly set the environment variable TOKENIZERS_PARALLELISM=(true | false)\n",
      "huggingface/tokenizers: The current process just got forked, after parallelism has already been used. Disabling parallelism to avoid deadlocks...\n",
      "To disable this warning, you can either:\n",
      "\t- Avoid using `tokenizers` before the fork if possible\n",
      "\t- Explicitly set the environment variable TOKENIZERS_PARALLELISM=(true | false)\n",
      "huggingface/tokenizers: The current process just got forked, after parallelism has already been used. Disabling parallelism to avoid deadlocks...\n",
      "To disable this warning, you can either:\n",
      "\t- Avoid using `tokenizers` before the fork if possible\n",
      "\t- Explicitly set the environment variable TOKENIZERS_PARALLELISM=(true | false)\n",
      "huggingface/tokenizers: The current process just got forked, after parallelism has already been used. Disabling parallelism to avoid deadlocks...\n",
      "To disable this warning, you can either:\n",
      "\t- Avoid using `tokenizers` before the fork if possible\n",
      "\t- Explicitly set the environment variable TOKENIZERS_PARALLELISM=(true | false)\n",
      "4/4 [==============================] - 12s 3s/step - loss: 2.7974 - accuracy: 0.0000e+00 - val_loss: 17.1887 - val_accuracy: 0.0000e+00\n",
      "Epoch 2/3\n",
      "4/4 [==============================] - ETA: 0s - loss: 8.6098 - accuracy: 0.2500"
     ]
    },
    {
     "name": "stderr",
     "output_type": "stream",
     "text": [
      "2024-04-09 21:02:52.656018: I tensorflow/core/common_runtime/executor.cc:1197] [/device:CPU:0] (DEBUG INFO) Executor start aborting (this does not indicate an error and you can ignore this message): INVALID_ARGUMENT: You must feed a value for placeholder tensor 'Placeholder/_1' with dtype int64 and shape [1,511]\n",
      "\t [[{{node Placeholder/_1}}]]\n",
      "2024-04-09 21:02:52.822227: I tensorflow/core/common_runtime/executor.cc:1197] [/device:CPU:0] (DEBUG INFO) Executor start aborting (this does not indicate an error and you can ignore this message): INVALID_ARGUMENT: You must feed a value for placeholder tensor 'Placeholder/_1' with dtype int64 and shape [1,511]\n",
      "\t [[{{node Placeholder/_1}}]]\n"
     ]
    },
    {
     "name": "stdout",
     "output_type": "stream",
     "text": [
      "4/4 [==============================] - 3s 826ms/step - loss: 8.6098 - accuracy: 0.0000e+00 - val_loss: 16.1961 - val_accuracy: 0.0000e+00\n",
      "Epoch 3/3\n",
      "4/4 [==============================] - ETA: 0s - loss: 12.0886 - accuracy: 0.2500    "
     ]
    },
    {
     "name": "stderr",
     "output_type": "stream",
     "text": [
      "2024-04-09 21:02:55.383137: I tensorflow/core/common_runtime/executor.cc:1197] [/device:CPU:0] (DEBUG INFO) Executor start aborting (this does not indicate an error and you can ignore this message): INVALID_ARGUMENT: You must feed a value for placeholder tensor 'Placeholder/_1' with dtype int64 and shape [1,511]\n",
      "\t [[{{node Placeholder/_1}}]]\n",
      "2024-04-09 21:02:55.552910: I tensorflow/core/common_runtime/executor.cc:1197] [/device:CPU:0] (DEBUG INFO) Executor start aborting (this does not indicate an error and you can ignore this message): INVALID_ARGUMENT: You must feed a value for placeholder tensor 'Placeholder/_1' with dtype int64 and shape [1,511]\n",
      "\t [[{{node Placeholder/_1}}]]\n"
     ]
    },
    {
     "name": "stdout",
     "output_type": "stream",
     "text": [
      "4/4 [==============================] - 3s 743ms/step - loss: 12.0886 - accuracy: 0.5000 - val_loss: 7.4423 - val_accuracy: 0.5000\n"
     ]
    },
    {
     "data": {
      "text/plain": "<keras.callbacks.History at 0x29e509350>"
     },
     "execution_count": 44,
     "metadata": {},
     "output_type": "execute_result"
    }
   ],
   "execution_count": 44
  },
  {
   "cell_type": "code",
   "source": [
    "# ## check if works\n",
    "#\n",
    "# word_tokenizer = Tokenizer()\n",
    "# word_tokenizer.fit_on_texts(presentations_data)\n",
    "# encoded = word_tokenizer.texts_to_sequences(presentations_data)\n",
    "#\n",
    "# char_tokenizer = Tokenizer()\n",
    "# char_tokenizer.fit_on_texts(papers_data)\n",
    "# encoded = char_tokenizer.texts_to_sequences(papers_data)"
   ],
   "metadata": {
    "id": "f_BF_zXydb4S"
   },
   "outputs": [],
   "execution_count": 34
  },
  {
   "cell_type": "code",
   "source": [],
   "metadata": {
    "id": "xxefv_YKdb4S"
   },
   "outputs": [],
   "execution_count": 34
  },
  {
   "cell_type": "code",
   "source": [
    "# ## correct implementation for LR ?\n",
    "#\n",
    "# word_map, index_map = utils.read_embeddings(\"spooky_embedding_word.txt\", word_tokenizer)\n",
    "# char_map, char_index_map = utils.read_embeddings(\"spooky_embedding_char.txt\", char_tokenizer)"
   ],
   "metadata": {
    "id": "MlU-XB1_db4S"
   },
   "outputs": [],
   "execution_count": 35
  },
  {
   "cell_type": "code",
   "source": [
    "# tfidf_vectorizer = TfidfVectorizer()\n",
    "# X = tfidf_vectorizer.fit_transform(presentations_data)\n",
    "#\n",
    "# y = list(range(len(presentations_data)))\n",
    "#\n",
    "# X_train, X_test, y_train, y_test = train_test_split(X, y, test_size=0.2, random_state=42)\n",
    "#\n",
    "# logreg_model = LogisticRegression(max_iter=1000)\n",
    "# logreg_model.fit(X_train, y_train)\n",
    "#\n",
    "# y_pred = logreg_model.predict(X_test)\n",
    "#\n",
    "# accuracy = accuracy_score(y_test, y_pred)\n",
    "# print(\"Accuracy:\", accuracy)"
   ],
   "metadata": {
    "id": "UzxHaeU9db4S"
   },
   "outputs": [],
   "execution_count": 36
  },
  {
   "cell_type": "code",
   "source": [
    "# # print(y_pred[0])\n",
    "# # print(y_test[0])\n",
    "# # print(presentations_data)\n",
    "# print(X_train)\n",
    "# print(X_test)\n",
    "# # print(len(y))"
   ],
   "metadata": {
    "id": "RfGGs18Zdb4S"
   },
   "outputs": [],
   "execution_count": 37
  }
 ],
 "metadata": {
  "kernelspec": {
   "display_name": "Python 3",
   "language": "python",
   "name": "python3"
  },
  "language_info": {
   "codemirror_mode": {
    "name": "ipython",
    "version": 2
   },
   "file_extension": ".py",
   "mimetype": "text/x-python",
   "name": "python",
   "nbconvert_exporter": "python",
   "pygments_lexer": "ipython2",
   "version": "2.7.6"
  },
  "colab": {
   "provenance": []
  }
 },
 "nbformat": 4,
 "nbformat_minor": 0
}
